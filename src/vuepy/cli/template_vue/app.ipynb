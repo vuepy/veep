{
 "cells": [
  {
   "cell_type": "code",
   "execution_count": null,
   "metadata": {
    "collapsed": true
   },
   "outputs": [],
   "source": [
    "import pathlib\n",
    "import ipywidgets as widgets\n",
    "\n",
    "from vuepy import create_app, import_sfc\n",
    "from ipywui import IPywidgets\n",
    "\n",
    "HERE = pathlib.Path().absolute().parent\n",
    "App = import_sfc(HERE / 'App.vue')\n",
    "\n",
    "app = create_app(App, debug=True).use(IPywidgets)\n",
    "app.mount(widgets.Output())\n",
    "# display(app.debug_log)"
   ]
  }
 ],
 "metadata": {
  "kernelspec": {
   "display_name": "Python 3",
   "language": "python",
   "name": "python3"
  },
  "language_info": {
   "codemirror_mode": {
    "name": "ipython",
    "version": 2
   },
   "file_extension": ".py",
   "mimetype": "text/x-python",
   "name": "python",
   "nbconvert_exporter": "python",
   "pygments_lexer": "ipython2",
   "version": "2.7.6"
  }
 },
 "nbformat": 4,
 "nbformat_minor": 0
}