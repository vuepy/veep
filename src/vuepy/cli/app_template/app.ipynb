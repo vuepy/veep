{
 "cells": [
  {
   "cell_type": "code",
   "execution_count": null,
   "metadata": {
    "collapsed": true
   },
   "outputs": [],
   "source": [
    "import os.path\n",
    "\n",
    "import os\n",
    "\n",
    "from IPython.display import display\n",
    "import ipywidgets as widgets\n",
    "from vuepy import Vue\n",
    "from vuepy import get_template_from_vue\n",
    "\n",
    "import app\n",
    "\n",
    "\n",
    "HERE = os.path.realpath('')\n",
    "\n",
    "vue = Vue({\n",
    "    'el': widgets.Output(),\n",
    "    'setup': app.setup,\n",
    "    'template': get_template_from_vue(os.path.join(HERE, 'app.vue')),\n",
    "})\n",
    "display(vue.options.el)\n",
    "display(vue.debug_log)"
   ]
  }
 ],
 "metadata": {
  "kernelspec": {
   "display_name": "Python 3",
   "language": "python",
   "name": "python3"
  },
  "language_info": {
   "codemirror_mode": {
    "name": "ipython",
    "version": 2
   },
   "file_extension": ".py",
   "mimetype": "text/x-python",
   "name": "python",
   "nbconvert_exporter": "python",
   "pygments_lexer": "ipython2",
   "version": "2.7.6"
  }
 },
 "nbformat": 4,
 "nbformat_minor": 0
}