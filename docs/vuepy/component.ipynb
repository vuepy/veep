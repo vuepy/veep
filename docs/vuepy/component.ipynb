{
 "cells": [
  {
   "cell_type": "code",
   "execution_count": 1,
   "metadata": {},
   "outputs": [
    {
     "name": "stdout",
     "output_type": "stream",
     "text": [
      "on before mount\n",
      "props.dynamic is background-color: green\n",
      "props.static is hello\n",
      "on Mounted\n"
     ]
    },
    {
     "data": {
      "application/vnd.jupyter.widget-view+json": {
       "model_id": "7f493aaf94e84fc18c38762ea0a5b882",
       "version_major": 2,
       "version_minor": 0
      },
      "text/plain": [
       "Document(children=(Dom(children=(MessageWidget(message_options={'message': '', 'type': 'info', 'show_close': F…"
      ]
     },
     "execution_count": 1,
     "metadata": {},
     "output_type": "execute_result"
    }
   ],
   "source": [
    "from pathlib import Path\n",
    "from ipywui import wui\n",
    "from vuepy import create_app, import_sfc\n",
    "\n",
    "App= import_sfc(Path().absolute().parent.parent / 'examples' / 'vuepy' / 'component' / 'Parent.vue')\n",
    "app = create_app(App)\n",
    "app.config.globalProperties.s1_user = 'user x'\n",
    "app.mount()"
   ]
  },
  {
   "cell_type": "code",
   "execution_count": 2,
   "metadata": {},
   "outputs": [
    {
     "data": {
      "application/vnd.jupyter.widget-view+json": {
       "model_id": "13e45d60a4994db685c830ff13131862",
       "version_major": 2,
       "version_minor": 0
      },
      "text/plain": [
       "Output(outputs=({'name': 'stdout', 'output_type': 'stream', 'text': '[INFO] api_create_app.py:render:118 - App…"
      ]
     },
     "execution_count": 2,
     "metadata": {},
     "output_type": "execute_result"
    }
   ],
   "source": [
    "from vuepy.utils import magic\n",
    "%vuepy_log "
   ]
  },
  {
   "cell_type": "code",
   "execution_count": 3,
   "metadata": {},
   "outputs": [
    {
     "ename": "ImportError",
     "evalue": "cannot import name 'VueOptions' from 'vuepy' (/Users/kuroro/proj/bb/url2io.com/open_sesame/nb_llm/pyvue/src/vuepy/__init__.py)",
     "output_type": "error",
     "traceback": [
      "\u001b[0;31m---------------------------------------------------------------------------\u001b[0m",
      "\u001b[0;31mImportError\u001b[0m                               Traceback (most recent call last)",
      "Cell \u001b[0;32mIn[3], line 1\u001b[0m\n\u001b[0;32m----> 1\u001b[0m \u001b[38;5;28;01mfrom\u001b[39;00m \u001b[38;5;21;01mvuepy\u001b[39;00m \u001b[38;5;28;01mimport\u001b[39;00m ref, VueOptions\n\u001b[1;32m      3\u001b[0m \u001b[38;5;28;01mdef\u001b[39;00m \u001b[38;5;21msetup\u001b[39m(\u001b[38;5;241m*\u001b[39margs):\n\u001b[1;32m      4\u001b[0m     count \u001b[38;5;241m=\u001b[39m ref(\u001b[38;5;241m0\u001b[39m)\n",
      "\u001b[0;31mImportError\u001b[0m: cannot import name 'VueOptions' from 'vuepy' (/Users/kuroro/proj/bb/url2io.com/open_sesame/nb_llm/pyvue/src/vuepy/__init__.py)"
     ]
    }
   ],
   "source": [
    "from vuepy import ref, VueOptions\n",
    "\n",
    "def setup(*args):\n",
    "    count = ref(0)\n",
    "\n",
    "    def inc():\n",
    "        count.value += 1\n",
    "        \n",
    "    return locals()\n",
    "\n",
    "Comp = VueOptions(**{\n",
    "    'setup': setup,\n",
    "    'template': '''\n",
    "      <Button @click=inc() label='click'></Button>\n",
    "      <p>You clicked me {{ count.value }} times.</p>\n",
    "    '''\n",
    "})\n",
    "\n",
    "from vuepy import create_app\n",
    "from ipywui import wui\n",
    "\n",
    "app = create_app(Comp)\n",
    "app.use(wui)\n",
    "app.mount()"
   ]
  }
 ],
 "metadata": {
  "kernelspec": {
   "display_name": "Python 3 (ipykernel)",
   "language": "python",
   "name": "python3"
  },
  "language_info": {
   "codemirror_mode": {
    "name": "ipython",
    "version": 3
   },
   "file_extension": ".py",
   "mimetype": "text/x-python",
   "name": "python",
   "nbconvert_exporter": "python",
   "pygments_lexer": "ipython3",
   "version": "3.10.12"
  },
  "widgets": {
   "application/vnd.jupyter.widget-state+json": {
    "state": {
     "01a5e8b338e24439a64426c0b714d1e5": {
      "model_module": "@jupyter-widgets/base",
      "model_module_version": "2.0.0",
      "model_name": "LayoutModel",
      "state": {}
     },
     "03910f63cebd4c57a15bcc6853707bfd": {
      "model_module": "@jupyter-widgets/controls",
      "model_module_version": "2.0.0",
      "model_name": "ButtonStyleModel",
      "state": {
       "font_family": null,
       "font_size": null,
       "font_style": null,
       "font_variant": null,
       "font_weight": null,
       "text_color": null,
       "text_decoration": null
      }
     },
     "03fc09a575bf4d589ce523a65550bcbf": {
      "model_module": "@jupyter-widgets/base",
      "model_module_version": "2.0.0",
      "model_name": "LayoutModel",
      "state": {}
     },
     "0c5030dda12c41fc8a915c0b853fcef3": {
      "model_module": "@jupyter-widgets/controls",
      "model_module_version": "2.0.0",
      "model_name": "HTMLModel",
      "state": {
       "layout": "IPY_MODEL_c24872ad5b244d419281c742410d3211",
       "style": "IPY_MODEL_f844dcb943ea4aa8b10a934d7a8bfdaa",
       "value": "\n                <p >\n                   it is `4`\n                </p>"
      }
     },
     "0fa685f993d1429ea90c2c4da38581d3": {
      "model_module": "@jupyter-widgets/controls",
      "model_module_version": "2.0.0",
      "model_name": "HTMLModel",
      "state": {
       "layout": "IPY_MODEL_21ceef3ac81c494bbeaf76ef0f647c0d",
       "style": "IPY_MODEL_e879b2a64db94b458b06eaa55a6f721c",
       "value": "\n                <div >\n                  \n                <p >\n                   it is `1`\n                </p> \n                <p >\n                   it is `2`\n                </p> \n                <p >\n                   it is `3`\n                </p>\n                </div>"
      }
     },
     "11fe84c2e93c4ad294246dd3cff5a04e": {
      "model_module": "@jupyter-widgets/controls",
      "model_module_version": "2.0.0",
      "model_name": "ButtonModel",
      "state": {
       "description": "btn static",
       "layout": "IPY_MODEL_3df86b32ed2f41fca4a014dffaafd0d7",
       "style": "IPY_MODEL_af43b0e6a81d4b3ebe8e3311cf298122",
       "tooltip": null
      }
     },
     "12de95a334e54295bd2c60b97f897640": {
      "model_module": "@jupyter-widgets/controls",
      "model_module_version": "2.0.0",
      "model_name": "HTMLModel",
      "state": {
       "layout": "IPY_MODEL_7ceb579d8d60417285cde6103bf179d6",
       "style": "IPY_MODEL_98bb7078f85e409b927ba230a7ad8448",
       "value": "\n                <span >\n                  just v-if\n                </span>"
      }
     },
     "13e45d60a4994db685c830ff13131862": {
      "model_module": "@jupyter-widgets/output",
      "model_module_version": "1.0.0",
      "model_name": "OutputModel",
      "state": {
       "layout": "IPY_MODEL_91c140e98fc4436993314eb2f885a012",
       "outputs": [
        {
         "name": "stdout",
         "output_type": "stream",
         "text": "[INFO] api_create_app.py:render:118 - App render end.\n"
        },
        {
         "name": "stdout",
         "output_type": "stream",
         "text": "[INFO] codegen.py:render:276 - 🔥 Rerender SFC<Child.vue> at 4407018544\n"
        },
        {
         "name": "stdout",
         "output_type": "stream",
         "text": "[INFO] codegen.py:render:276 - 🔥 Rerender SFC<Parent.vue> at 4406223504\n"
        },
        {
         "name": "stdout",
         "output_type": "stream",
         "text": "[INFO] api_create_app.py:render:108 - App render start.\n"
        }
       ]
      }
     },
     "155d2f7a1f854f86af01991d1966abe9": {
      "model_module": "@jupyter-widgets/base",
      "model_module_version": "2.0.0",
      "model_name": "LayoutModel",
      "state": {}
     },
     "15ab865724134e399627abdda1b2ea13": {
      "model_module": "@jupyter-widgets/base",
      "model_module_version": "2.0.0",
      "model_name": "LayoutModel",
      "state": {}
     },
     "163b6aa94b8d4449922e6d1a50489cdf": {
      "model_module": "@jupyter-widgets/controls",
      "model_module_version": "2.0.0",
      "model_name": "TextStyleModel",
      "state": {
       "description_width": "",
       "font_size": null,
       "text_color": null
      }
     },
     "1a82a11d238143b7b0ea9f8f9882cb20": {
      "model_module": "@jupyter-widgets/base",
      "model_module_version": "2.0.0",
      "model_name": "LayoutModel",
      "state": {}
     },
     "1fc6aaba83af4bb3b30e90ed4c44d3bd": {
      "model_module": "@jupyter-widgets/output",
      "model_module_version": "1.0.0",
      "model_name": "OutputModel",
      "state": {
       "layout": "IPY_MODEL_21e512fda72a4a44899d2f76017f54fb",
       "outputs": [
        {
         "data": {
          "application/vnd.jupyter.widget-view+json": {
           "model_id": "a021c415c49e4fa180ec652d7c8ac0b8",
           "version_major": 2,
           "version_minor": 0
          },
          "text/plain": "sfc_container(children=(VBox(children=(HTML(value='\\n                <span >\\n                  v-if\\n        …"
         },
         "metadata": {},
         "output_type": "display_data"
        }
       ]
      }
     },
     "21ceef3ac81c494bbeaf76ef0f647c0d": {
      "model_module": "@jupyter-widgets/base",
      "model_module_version": "2.0.0",
      "model_name": "LayoutModel",
      "state": {}
     },
     "21e512fda72a4a44899d2f76017f54fb": {
      "model_module": "@jupyter-widgets/base",
      "model_module_version": "2.0.0",
      "model_name": "LayoutModel",
      "state": {}
     },
     "23134b6669914b2983e78742e4fdfb1f": {
      "model_module": "@jupyter-widgets/controls",
      "model_module_version": "2.0.0",
      "model_name": "HTMLStyleModel",
      "state": {
       "description_width": "",
       "font_size": null,
       "text_color": null
      }
     },
     "28ca604aedee4c8990efcde2c27a7223": {
      "model_module": "@jupyter-widgets/base",
      "model_module_version": "2.0.0",
      "model_name": "LayoutModel",
      "state": {}
     },
     "332f2a4f0c9c4e56974ee64e43a6143c": {
      "model_module": "@jupyter-widgets/base",
      "model_module_version": "2.0.0",
      "model_name": "LayoutModel",
      "state": {}
     },
     "334b1bc496814e56a590e73a78ff602e": {
      "model_module": "@jupyter-widgets/base",
      "model_module_version": "2.0.0",
      "model_name": "LayoutModel",
      "state": {}
     },
     "33b6d779e110416bad13192aab60c35d": {
      "model_module": "@jupyter-widgets/base",
      "model_module_version": "2.0.0",
      "model_name": "LayoutModel",
      "state": {}
     },
     "343d031509264d28b6cf44b5930c7f86": {
      "model_module": "@jupyter-widgets/controls",
      "model_module_version": "2.0.0",
      "model_name": "HTMLStyleModel",
      "state": {
       "description_width": "",
       "font_size": null,
       "text_color": null
      }
     },
     "375dd760cccc42bbb02f4c6a7539b426": {
      "model_module": "@jupyter-widgets/base",
      "model_module_version": "2.0.0",
      "model_name": "LayoutModel",
      "state": {}
     },
     "39cc8181f262429486775af9384c500d": {
      "model_module": "@jupyter-widgets/controls",
      "model_module_version": "2.0.0",
      "model_name": "VBoxModel",
      "state": {
       "children": [
        "IPY_MODEL_6a93d0e0671341a386c2cb2210acd30d",
        "IPY_MODEL_a32a7949fc254113b6ecac3afdbca7cc"
       ],
       "layout": "IPY_MODEL_332f2a4f0c9c4e56974ee64e43a6143c"
      }
     },
     "3be06565e0754114afd46fa05f3bd1e0": {
      "model_module": "@jupyter-widgets/controls",
      "model_module_version": "2.0.0",
      "model_name": "HTMLModel",
      "state": {
       "layout": "IPY_MODEL_375dd760cccc42bbb02f4c6a7539b426",
       "style": "IPY_MODEL_590126ec7cb64db89999e4412e00182d",
       "value": "\n                <p >\n                   it is `5`\n                </p>"
      }
     },
     "3be687a3ea634134959f38ee733d4a66": {
      "model_module": "@jupyter-widgets/controls",
      "model_module_version": "2.0.0",
      "model_name": "HTMLStyleModel",
      "state": {
       "description_width": "",
       "font_size": null,
       "text_color": null
      }
     },
     "3df86b32ed2f41fca4a014dffaafd0d7": {
      "model_module": "@jupyter-widgets/base",
      "model_module_version": "2.0.0",
      "model_name": "LayoutModel",
      "state": {}
     },
     "3e63efe55b8f41aa90d960d70d48e217": {
      "model_module": "@jupyter-widgets/controls",
      "model_module_version": "2.0.0",
      "model_name": "HTMLStyleModel",
      "state": {
       "description_width": "",
       "font_size": null,
       "text_color": null
      }
     },
     "3f3c0d4c64394f9e9d0b1165b1ab6f33": {
      "model_module": "@jupyter-widgets/controls",
      "model_module_version": "2.0.0",
      "model_name": "HTMLModel",
      "state": {
       "layout": "IPY_MODEL_89abe32d389d45ad92e28d2abe1bb2d0",
       "style": "IPY_MODEL_343d031509264d28b6cf44b5930c7f86"
      }
     },
     "42637467f7384802891a0f308d3c28d5": {
      "model_module": "@jupyter-widgets/controls",
      "model_module_version": "2.0.0",
      "model_name": "HTMLStyleModel",
      "state": {
       "description_width": "",
       "font_size": null,
       "text_color": null
      }
     },
     "44441a6aa26e4cf4ae30e9555824d526": {
      "model_module": "@jupyter-widgets/controls",
      "model_module_version": "2.0.0",
      "model_name": "HTMLStyleModel",
      "state": {
       "description_width": "",
       "font_size": null,
       "text_color": null
      }
     },
     "44520056c8eb42b3bf07d21ee8ab3f86": {
      "model_module": "@jupyter-widgets/base",
      "model_module_version": "2.0.0",
      "model_name": "LayoutModel",
      "state": {}
     },
     "446860556f32472ab2cf0d334bc2542c": {
      "model_module": "@jupyter-widgets/controls",
      "model_module_version": "2.0.0",
      "model_name": "TextModel",
      "state": {
       "continuous_update": false,
       "layout": "IPY_MODEL_830b830aa90c4751bea6427751d32717",
       "placeholder": "app input",
       "style": "IPY_MODEL_895b5b7e1bb342b1b5969bd78e18deed",
       "value": "background-color: green"
      }
     },
     "447addbc4e8c45e28dd474afcfa35586": {
      "model_module": "@jupyter-widgets/controls",
      "model_module_version": "2.0.0",
      "model_name": "HTMLModel",
      "state": {
       "layout": "IPY_MODEL_28ca604aedee4c8990efcde2c27a7223",
       "style": "IPY_MODEL_c2d0f0a42b874e0eba2feada49ee8b87",
       "value": "\n                <div >\n                  \n                <p >\n                   it is `4`\n                </p> \n                <p >\n                   it is `5`\n                </p> \n                <p >\n                   it is `6`\n                </p>\n                </div>"
      }
     },
     "4a5061d11ce04f9097b66843e8817726": {
      "model_module": "@jupyter-widgets/controls",
      "model_module_version": "2.0.0",
      "model_name": "HTMLModel",
      "state": {
       "layout": "IPY_MODEL_e72a12f703d746199bef8adf3588a34d",
       "style": "IPY_MODEL_808d5e13352a4651a90463ab713bae66",
       "value": "\n                <pre >\n                  \n    v-model: background-color: green\n    text: `hello`\n    props dynamic: `background-color: green`\n    props static: `hello`\n  \n                </pre>"
      }
     },
     "4b78705076f3442fab8df47b395c85ce": {
      "model_module": "@jupyter-widgets/base",
      "model_module_version": "2.0.0",
      "model_name": "LayoutModel",
      "state": {}
     },
     "501408115807481fa8db7b70c6acea5f": {
      "model_module": "anywidget",
      "model_module_version": "0.9.3",
      "model_name": "AnyModel",
      "state": {
       "_anywidget_id": "ipywui.widgets.custom.message.MessageWidget",
       "_css": ".wui-message-root {\n    display: flex;\n    position: absolute;\n    left: 0;\n    right: 0;\n    top: 0;\n}\n\n.wui-message-container {\n    align-items: center;\n    display: flex;\n    flex-direction: column-reverse;\n    justify-content: center;\n    min-height: 100%;\n    outline: none;\n    width: 100%;\n\n    -webkit-tap-highlight-color: rgba(0,0,0,0);\n    bottom: 0;\n    left: 0;\n    right: 0;\n    top: 0;\n}\n\n.wui-message--success {\n    --wui-message-bg-color: #f0f9eb;\n    --wui-message-border-color: #e1f3d8;\n    --wui-message-text-color: #67c23a;\n}\n.wui-message--warning {\n    --wui-message-bg-color: #fdf6ec;\n    --wui-message-border-color: #faecd8;\n    --wui-message-text-color: #e6a23c;\n}\n.wui-message--info {\n    --wui-message-bg-color: #f4f4f5;\n    --wui-message-border-color: #e9e9eb;\n    --wui-message-text-color: #909399;\n}\n.wui-message--error {\n    --wui-message-bg-color: #fef0f0;\n    --wui-message-border-color: #fde2e2;\n    --wui-message-text-color: #f56c6c;\n}\n\n@keyframes msg-open {\n    0% {\n        opacity: 0;\n        -webkit-transform: translateY(-120%);\n        transform: translateY(-120%)\n    }\n    to {\n        -webkit-transform: translateY(0);\n        transform: translateY(0)\n    }\n}\n\n@keyframes msg-close {\n    0% {\n        opacity: 1;\n        -webkit-transform: scale(1);\n        transform: scale(1)\n    }\n    to {\n        opacity: 0;\n        -webkit-transform: scale(.9);\n        transform: scale(.9)\n    }\n}\n.wui-message[data-state=entered],.wui-message[data-state=entering] {\n    -webkit-animation: msg-open .24s cubic-bezier(.175,.885,.32,1.175) both;\n    animation: msg-open .24s cubic-bezier(.175,.885,.32,1.175) both\n}\n\n.wui-message[data-state=exiting] {\n    -webkit-animation: msg-close .12s cubic-bezier(.4,0,1,1) both;\n    animation: msg-close .12s cubic-bezier(.4,0,1,1) both\n}\n\n.wui-message {\n    width: -webkit-fit-content;\n    width: -moz-fit-content;\n    width: fit-content;\n    z-index: 2004;\n    max-width: calc(100% - 32px);\n    margin-top: 8px;\n    box-sizing: border-box;\n    /*border-radius: var(--wui-border-radius-base);*/\n    /*border-width: var(--wui-border-width);*/\n    /*border-style: var(--wui-border-style);*/\n    border-color: var(--wui-message-border-color);\n    /*left: 50%;*/\n    /*top: 20px;*/\n    /*transform: translateX(-50%);*/\n    background-color: var(--wui-message-bg-color);\n    /*transition: opacity var(--wui-transition-duration),transform .4s,top .4s;*/\n    /*padding: var(--wui-message-padding);*/\n    display: flex;\n    align-items: center;\n}\n\n/*.wui-message--success */\n.wui-message__content {\n    color: var(--wui-message-text-color);\n    font-size: 14px;\n    line-height: 18px;\n    margin: 10px 14px 10px 14px;\n    overflow-wrap: break-word;\n}\n\n.wui-message__closeBtn {\n    /*cursor: pointer;*/\n    font-style: normal;\n    /*color: gray;*/\n    padding-right: 14px;\n    /*font-size: 13px;*/\n    user-select: none;\n\n    background: transparent;\n    border: none;\n    color: gray;\n    cursor: pointer;\n    font-size: 13px;\n    font-weight: 400;\n    line-height: 1;\n    outline: none;\n    /*padding: 4px;*/\n    text-align: center;\n    transition: opacity .3s;\n    /*width: 100%;*/\n}",
       "_esm": "function closeMsg(msgDom) {\n  if (!msgDom) {\n    return;\n  }\n  msgDom.setAttribute('data-state', 'exiting');\n  msgDom.remove();\n}\n\nfunction createMsg(options) {\n  const {message, msg_id, type = 'info', show_close = false} = options;\n  const msgDom = document.createElement('div');\n  msgDom.className += ` wui-message--${type} wui-message`;\n  msgDom.setAttribute('data-state', 'entered');\n  msgDom.setAttribute('id', msg_id);\n  const msgContent = document.createElement('p');\n  msgContent.className += ` wui-message--${type} wui-message__content`;\n  msgContent.innerText = message;\n  msgDom.appendChild(msgContent);\n  if (show_close) {\n    const closeBtn = document.createElement('i');\n    closeBtn.className += 'wui-message__closeBtn';\n    closeBtn.innerText = 'x';\n    closeBtn.addEventListener('click', (ev) => {\n      closeMsg(msgDom);\n    })\n    msgDom.appendChild(closeBtn);\n  }\n  return msgDom;\n}\n\nexport async function render(view) {\n  let model = view.model;\n  const msgRoot = view.el;\n  msgRoot.className += ' wui-message-root'\n\n  const msgContainer = document.createElement('div');\n  msgContainer.className += ' wui-message-container';\n  msgRoot.appendChild(msgContainer)\n\n  model.on(\"change:message_options\", () => {\n    const options = model.get(\"message_options\");\n    const msg = createMsg(options);\n    msgContainer.appendChild(msg);\n    const {duration = 3000} = options;\n    if (duration > 0) {\n      setTimeout(() => {\n        closeMsg(msg)\n      }, duration);\n    }\n  })\n\n  model.on(\"change:close_msg_id\", () => {\n    const msg_id = model.get(\"close_msg_id\");\n    const msgDom = document.getElementById(msg_id);\n    closeMsg(msgDom);\n  })\n}\n",
       "_model_module": "anywidget",
       "_model_module_version": "0.9.3",
       "_model_name": "AnyModel",
       "_view_module": "anywidget",
       "_view_module_version": "0.9.3",
       "_view_name": "AnyView",
       "close_msg_id": "",
       "layout": "IPY_MODEL_6847d8b59f9740b7984639eae6c8d9ad",
       "message_options": {
        "duration": 3000,
        "message": "",
        "show_close": false,
        "type": "info"
       }
      }
     },
     "54b2f913d0c34e3d8270f10f68e10d69": {
      "model_module": "@jupyter-widgets/controls",
      "model_module_version": "2.0.0",
      "model_name": "HTMLModel",
      "state": {
       "layout": "IPY_MODEL_c3a0dfe657fa4c0ab7800abc5e3c981a",
       "style": "IPY_MODEL_63b745b91c014db59740e342846c539b",
       "value": "\n                <p >\n                   it is `2`\n                </p>"
      }
     },
     "5646d07fa31e498cbe1294a7d28fb3e6": {
      "model_module": "@jupyter-widgets/controls",
      "model_module_version": "2.0.0",
      "model_name": "ButtonStyleModel",
      "state": {
       "button_color": "green",
       "font_family": null,
       "font_size": null,
       "font_style": null,
       "font_variant": null,
       "font_weight": null,
       "text_color": null,
       "text_decoration": null
      }
     },
     "58449d2021b144ed898ef276b92f0cce": {
      "model_module": "anywidget",
      "model_module_version": "0.9.3",
      "model_name": "AnyModel",
      "state": {
       "_anywidget_id": "ipywui.widgets.custom.message.MessageWidget",
       "_css": ".wui-message-root {\n    display: flex;\n    position: absolute;\n    left: 0;\n    right: 0;\n    top: 0;\n}\n\n.wui-message-container {\n    align-items: center;\n    display: flex;\n    flex-direction: column-reverse;\n    justify-content: center;\n    min-height: 100%;\n    outline: none;\n    width: 100%;\n\n    -webkit-tap-highlight-color: rgba(0,0,0,0);\n    bottom: 0;\n    left: 0;\n    right: 0;\n    top: 0;\n}\n\n.wui-message--success {\n    --wui-message-bg-color: #f0f9eb;\n    --wui-message-border-color: #e1f3d8;\n    --wui-message-text-color: #67c23a;\n}\n.wui-message--warning {\n    --wui-message-bg-color: #fdf6ec;\n    --wui-message-border-color: #faecd8;\n    --wui-message-text-color: #e6a23c;\n}\n.wui-message--info {\n    --wui-message-bg-color: #f4f4f5;\n    --wui-message-border-color: #e9e9eb;\n    --wui-message-text-color: #909399;\n}\n.wui-message--error {\n    --wui-message-bg-color: #fef0f0;\n    --wui-message-border-color: #fde2e2;\n    --wui-message-text-color: #f56c6c;\n}\n\n@keyframes msg-open {\n    0% {\n        opacity: 0;\n        -webkit-transform: translateY(-120%);\n        transform: translateY(-120%)\n    }\n    to {\n        -webkit-transform: translateY(0);\n        transform: translateY(0)\n    }\n}\n\n@keyframes msg-close {\n    0% {\n        opacity: 1;\n        -webkit-transform: scale(1);\n        transform: scale(1)\n    }\n    to {\n        opacity: 0;\n        -webkit-transform: scale(.9);\n        transform: scale(.9)\n    }\n}\n.wui-message[data-state=entered],.wui-message[data-state=entering] {\n    -webkit-animation: msg-open .24s cubic-bezier(.175,.885,.32,1.175) both;\n    animation: msg-open .24s cubic-bezier(.175,.885,.32,1.175) both\n}\n\n.wui-message[data-state=exiting] {\n    -webkit-animation: msg-close .12s cubic-bezier(.4,0,1,1) both;\n    animation: msg-close .12s cubic-bezier(.4,0,1,1) both\n}\n\n.wui-message {\n    width: -webkit-fit-content;\n    width: -moz-fit-content;\n    width: fit-content;\n    z-index: 2004;\n    max-width: calc(100% - 32px);\n    margin-top: 8px;\n    box-sizing: border-box;\n    /*border-radius: var(--wui-border-radius-base);*/\n    /*border-width: var(--wui-border-width);*/\n    /*border-style: var(--wui-border-style);*/\n    border-color: var(--wui-message-border-color);\n    /*left: 50%;*/\n    /*top: 20px;*/\n    /*transform: translateX(-50%);*/\n    background-color: var(--wui-message-bg-color);\n    /*transition: opacity var(--wui-transition-duration),transform .4s,top .4s;*/\n    /*padding: var(--wui-message-padding);*/\n    display: flex;\n    align-items: center;\n}\n\n/*.wui-message--success */\n.wui-message__content {\n    color: var(--wui-message-text-color);\n    font-size: 14px;\n    line-height: 18px;\n    margin: 10px 14px 10px 14px;\n    overflow-wrap: break-word;\n}\n\n.wui-message__closeBtn {\n    /*cursor: pointer;*/\n    font-style: normal;\n    /*color: gray;*/\n    padding-right: 14px;\n    /*font-size: 13px;*/\n    user-select: none;\n\n    background: transparent;\n    border: none;\n    color: gray;\n    cursor: pointer;\n    font-size: 13px;\n    font-weight: 400;\n    line-height: 1;\n    outline: none;\n    /*padding: 4px;*/\n    text-align: center;\n    transition: opacity .3s;\n    /*width: 100%;*/\n}",
       "_esm": "function closeMsg(msgDom) {\n  if (!msgDom) {\n    return;\n  }\n  msgDom.setAttribute('data-state', 'exiting');\n  msgDom.remove();\n}\n\nfunction createMsg(options) {\n  const {message, msg_id, type = 'info', show_close = false} = options;\n  const msgDom = document.createElement('div');\n  msgDom.className += ` wui-message--${type} wui-message`;\n  msgDom.setAttribute('data-state', 'entered');\n  msgDom.setAttribute('id', msg_id);\n  const msgContent = document.createElement('p');\n  msgContent.className += ` wui-message--${type} wui-message__content`;\n  msgContent.innerText = message;\n  msgDom.appendChild(msgContent);\n  if (show_close) {\n    const closeBtn = document.createElement('i');\n    closeBtn.className += 'wui-message__closeBtn';\n    closeBtn.innerText = 'x';\n    closeBtn.addEventListener('click', (ev) => {\n      closeMsg(msgDom);\n    })\n    msgDom.appendChild(closeBtn);\n  }\n  return msgDom;\n}\n\nexport async function render(view) {\n  let model = view.model;\n  const msgRoot = view.el;\n  msgRoot.className += ' wui-message-root'\n\n  const msgContainer = document.createElement('div');\n  msgContainer.className += ' wui-message-container';\n  msgRoot.appendChild(msgContainer)\n\n  model.on(\"change:message_options\", () => {\n    const options = model.get(\"message_options\");\n    const msg = createMsg(options);\n    msgContainer.appendChild(msg);\n    const {duration = 3000} = options;\n    if (duration > 0) {\n      setTimeout(() => {\n        closeMsg(msg)\n      }, duration);\n    }\n  })\n\n  model.on(\"change:close_msg_id\", () => {\n    const msg_id = model.get(\"close_msg_id\");\n    const msgDom = document.getElementById(msg_id);\n    closeMsg(msgDom);\n  })\n}\n",
       "_model_module": "anywidget",
       "_model_module_version": "0.9.3",
       "_model_name": "AnyModel",
       "_view_module": "anywidget",
       "_view_module_version": "0.9.3",
       "_view_name": "AnyView",
       "close_msg_id": "",
       "layout": "IPY_MODEL_01a5e8b338e24439a64426c0b714d1e5",
       "message_options": {
        "duration": 3000,
        "message": "",
        "show_close": false,
        "type": "info"
       }
      }
     },
     "590126ec7cb64db89999e4412e00182d": {
      "model_module": "@jupyter-widgets/controls",
      "model_module_version": "2.0.0",
      "model_name": "HTMLStyleModel",
      "state": {
       "description_width": "",
       "font_size": null,
       "text_color": null
      }
     },
     "5b31a33c477047e8be7ca6f025b9f95f": {
      "model_module": "@jupyter-widgets/controls",
      "model_module_version": "2.0.0",
      "model_name": "HTMLModel",
      "state": {
       "layout": "IPY_MODEL_a94e37a506ce4d74802bf02f24cc65a5",
       "style": "IPY_MODEL_c2a19f4314aa471e9df1272df5df8688",
       "value": "\n                <span >\n                  v-if\n                </span>"
      }
     },
     "63b745b91c014db59740e342846c539b": {
      "model_module": "@jupyter-widgets/controls",
      "model_module_version": "2.0.0",
      "model_name": "HTMLStyleModel",
      "state": {
       "description_width": "",
       "font_size": null,
       "text_color": null
      }
     },
     "6847d8b59f9740b7984639eae6c8d9ad": {
      "model_module": "@jupyter-widgets/base",
      "model_module_version": "2.0.0",
      "model_name": "LayoutModel",
      "state": {}
     },
     "6a93d0e0671341a386c2cb2210acd30d": {
      "model_module": "@jupyter-widgets/controls",
      "model_module_version": "2.0.0",
      "model_name": "HTMLModel",
      "state": {
       "layout": "IPY_MODEL_15ab865724134e399627abdda1b2ea13",
       "style": "IPY_MODEL_a52e4e150f754b5bb6724e16b449d4f5",
       "value": "\n                <p style='background-color: green'>\n                  text p user x\n                </p>"
      }
     },
     "740c095c5d8546fb81179a2d15deb350": {
      "model_module": "@jupyter-widgets/base",
      "model_module_version": "2.0.0",
      "model_name": "LayoutModel",
      "state": {}
     },
     "7828b4127b834f80bb9df5340ed49b97": {
      "model_module": "@jupyter-widgets/controls",
      "model_module_version": "2.0.0",
      "model_name": "HTMLModel",
      "state": {
       "layout": "IPY_MODEL_8e3fae1fb8eb4cedb824bae6e1b64ecf",
       "style": "IPY_MODEL_96960d2f9c9640358d0b82e72877f35d",
       "value": "\n                <p >\n                   it is `6`\n                </p>"
      }
     },
     "798b755385a74d9c8210aec0d32ad670": {
      "model_module": "@jupyter-widgets/base",
      "model_module_version": "2.0.0",
      "model_name": "LayoutModel",
      "state": {}
     },
     "7ceb579d8d60417285cde6103bf179d6": {
      "model_module": "@jupyter-widgets/base",
      "model_module_version": "2.0.0",
      "model_name": "LayoutModel",
      "state": {}
     },
     "7e6fdc5f140741c08130852d99bcbde4": {
      "model_module": "@jupyter-widgets/base",
      "model_module_version": "2.0.0",
      "model_name": "LayoutModel",
      "state": {}
     },
     "7f493aaf94e84fc18c38762ea0a5b882": {
      "model_module": "@jupyter-widgets/controls",
      "model_module_version": "2.0.0",
      "model_name": "VBoxModel",
      "state": {
       "children": [
        "IPY_MODEL_b76e98fb9dd24290b667374828c2fbaf"
       ],
       "layout": "IPY_MODEL_33b6d779e110416bad13192aab60c35d"
      }
     },
     "808d5e13352a4651a90463ab713bae66": {
      "model_module": "@jupyter-widgets/controls",
      "model_module_version": "2.0.0",
      "model_name": "HTMLStyleModel",
      "state": {
       "description_width": "",
       "font_size": null,
       "text_color": null
      }
     },
     "8113556dc06745dea99ca67ca4d2b7b8": {
      "model_module": "@jupyter-widgets/controls",
      "model_module_version": "2.0.0",
      "model_name": "HTMLModel",
      "state": {
       "layout": "IPY_MODEL_03fc09a575bf4d589ce523a65550bcbf",
       "style": "IPY_MODEL_e77387cef08e4276b419667513886ab9",
       "value": "\n                <hr >\n                  \n                </hr>"
      }
     },
     "830b830aa90c4751bea6427751d32717": {
      "model_module": "@jupyter-widgets/base",
      "model_module_version": "2.0.0",
      "model_name": "LayoutModel",
      "state": {}
     },
     "843dd7aa09c9468aba52a5c7ebf38a0f": {
      "model_module": "@jupyter-widgets/base",
      "model_module_version": "2.0.0",
      "model_name": "LayoutModel",
      "state": {}
     },
     "86293d2994f44d6aa9db5413a2bbdfb5": {
      "model_module": "@jupyter-widgets/base",
      "model_module_version": "2.0.0",
      "model_name": "LayoutModel",
      "state": {}
     },
     "895b5b7e1bb342b1b5969bd78e18deed": {
      "model_module": "@jupyter-widgets/controls",
      "model_module_version": "2.0.0",
      "model_name": "TextStyleModel",
      "state": {
       "description_width": "",
       "font_size": null,
       "text_color": null
      }
     },
     "89abe32d389d45ad92e28d2abe1bb2d0": {
      "model_module": "@jupyter-widgets/base",
      "model_module_version": "2.0.0",
      "model_name": "LayoutModel",
      "state": {}
     },
     "8e3fae1fb8eb4cedb824bae6e1b64ecf": {
      "model_module": "@jupyter-widgets/base",
      "model_module_version": "2.0.0",
      "model_name": "LayoutModel",
      "state": {}
     },
     "8ffc8b91840b49028786a0bd8877d3a6": {
      "model_module": "@jupyter-widgets/controls",
      "model_module_version": "2.0.0",
      "model_name": "TextModel",
      "state": {
       "continuous_update": false,
       "layout": "IPY_MODEL_798b755385a74d9c8210aec0d32ad670",
       "placeholder": "compile input",
       "style": "IPY_MODEL_163b6aa94b8d4449922e6d1a50489cdf",
       "value": "background-color: green"
      }
     },
     "91c140e98fc4436993314eb2f885a012": {
      "model_module": "@jupyter-widgets/base",
      "model_module_version": "2.0.0",
      "model_name": "LayoutModel",
      "state": {}
     },
     "96960d2f9c9640358d0b82e72877f35d": {
      "model_module": "@jupyter-widgets/controls",
      "model_module_version": "2.0.0",
      "model_name": "HTMLStyleModel",
      "state": {
       "description_width": "",
       "font_size": null,
       "text_color": null
      }
     },
     "986bb4a729a2437399f598b163ad8b03": {
      "model_module": "@jupyter-widgets/base",
      "model_module_version": "2.0.0",
      "model_name": "LayoutModel",
      "state": {}
     },
     "98bb7078f85e409b927ba230a7ad8448": {
      "model_module": "@jupyter-widgets/controls",
      "model_module_version": "2.0.0",
      "model_name": "HTMLStyleModel",
      "state": {
       "description_width": "",
       "font_size": null,
       "text_color": null
      }
     },
     "990344129226415fb1a35b035e427f14": {
      "model_module": "@jupyter-widgets/base",
      "model_module_version": "2.0.0",
      "model_name": "LayoutModel",
      "state": {}
     },
     "9ad0301d78964261b703158cb4300c61": {
      "model_module": "@jupyter-widgets/controls",
      "model_module_version": "2.0.0",
      "model_name": "HTMLModel",
      "state": {
       "layout": "IPY_MODEL_843dd7aa09c9468aba52a5c7ebf38a0f",
       "style": "IPY_MODEL_42637467f7384802891a0f308d3c28d5"
      }
     },
     "9b17504496004bd6bf710e6c6c196c9e": {
      "model_module": "@jupyter-widgets/controls",
      "model_module_version": "2.0.0",
      "model_name": "HTMLModel",
      "state": {
       "layout": "IPY_MODEL_d8b95e7cda404ac9ba4b54db08da577e",
       "style": "IPY_MODEL_44441a6aa26e4cf4ae30e9555824d526",
       "value": "\n                <hr >\n                  \n                </hr>"
      }
     },
     "a021c415c49e4fa180ec652d7c8ac0b8": {
      "model_module": "@jupyter-widgets/controls",
      "model_module_version": "2.0.0",
      "model_name": "VBoxModel",
      "state": {
       "children": [
        "IPY_MODEL_e127161541404ba3bfa30e957343ee4b"
       ],
       "layout": "IPY_MODEL_334b1bc496814e56a590e73a78ff602e"
      }
     },
     "a23955c1d25b4d4db17313f2507292e7": {
      "model_module": "@jupyter-widgets/controls",
      "model_module_version": "2.0.0",
      "model_name": "HTMLModel",
      "state": {
       "layout": "IPY_MODEL_4b78705076f3442fab8df47b395c85ce",
       "style": "IPY_MODEL_3e63efe55b8f41aa90d960d70d48e217",
       "value": "\n                <hr >\n                  \n                </hr>"
      }
     },
     "a32a7949fc254113b6ecac3afdbca7cc": {
      "model_module": "@jupyter-widgets/controls",
      "model_module_version": "2.0.0",
      "model_name": "HTMLModel",
      "state": {
       "layout": "IPY_MODEL_e2fc4169f1054be69659f04bf6b488b0",
       "style": "IPY_MODEL_23134b6669914b2983e78742e4fdfb1f",
       "value": "\n    text text\n  "
      }
     },
     "a52e4e150f754b5bb6724e16b449d4f5": {
      "model_module": "@jupyter-widgets/controls",
      "model_module_version": "2.0.0",
      "model_name": "HTMLStyleModel",
      "state": {
       "description_width": "",
       "font_size": null,
       "text_color": null
      }
     },
     "a90d8a2630284f1d853aa259ae1f8961": {
      "model_module": "@jupyter-widgets/controls",
      "model_module_version": "2.0.0",
      "model_name": "ButtonModel",
      "state": {
       "description": "btn",
       "layout": "IPY_MODEL_ebc9e6b7f20d4c4fb9824b68dea50b7c",
       "style": "IPY_MODEL_5646d07fa31e498cbe1294a7d28fb3e6",
       "tooltip": null
      }
     },
     "a94e37a506ce4d74802bf02f24cc65a5": {
      "model_module": "@jupyter-widgets/base",
      "model_module_version": "2.0.0",
      "model_name": "LayoutModel",
      "state": {}
     },
     "af43b0e6a81d4b3ebe8e3311cf298122": {
      "model_module": "@jupyter-widgets/controls",
      "model_module_version": "2.0.0",
      "model_name": "ButtonStyleModel",
      "state": {
       "button_color": "lightblue",
       "font_family": null,
       "font_size": null,
       "font_style": null,
       "font_variant": null,
       "font_weight": null,
       "text_color": null,
       "text_decoration": null
      }
     },
     "b27e8ad0ee0b422796b5bf0fc22f0e20": {
      "model_module": "@jupyter-widgets/controls",
      "model_module_version": "2.0.0",
      "model_name": "ButtonModel",
      "state": {
       "button_style": "info",
       "description": "Child submit",
       "layout": "IPY_MODEL_986bb4a729a2437399f598b163ad8b03",
       "style": "IPY_MODEL_03910f63cebd4c57a15bcc6853707bfd",
       "tooltip": null
      }
     },
     "b76e98fb9dd24290b667374828c2fbaf": {
      "model_module": "@jupyter-widgets/controls",
      "model_module_version": "2.0.0",
      "model_name": "VBoxModel",
      "state": {
       "children": [
        "IPY_MODEL_58449d2021b144ed898ef276b92f0cce",
        "IPY_MODEL_1fc6aaba83af4bb3b30e90ed4c44d3bd"
       ],
       "layout": "IPY_MODEL_740c095c5d8546fb81179a2d15deb350"
      }
     },
     "be65091b246a4422be58d945623064f7": {
      "model_module": "@jupyter-widgets/controls",
      "model_module_version": "2.0.0",
      "model_name": "VBoxModel",
      "state": {
       "children": [
        "IPY_MODEL_c0b2eccd07534b6193b832bb8ca2f8a7"
       ],
       "layout": "IPY_MODEL_7e6fdc5f140741c08130852d99bcbde4"
      }
     },
     "c0b2eccd07534b6193b832bb8ca2f8a7": {
      "model_module": "@jupyter-widgets/controls",
      "model_module_version": "2.0.0",
      "model_name": "VBoxModel",
      "state": {
       "children": [
        "IPY_MODEL_b27e8ad0ee0b422796b5bf0fc22f0e20",
        "IPY_MODEL_8ffc8b91840b49028786a0bd8877d3a6",
        "IPY_MODEL_4a5061d11ce04f9097b66843e8817726"
       ],
       "layout": "IPY_MODEL_990344129226415fb1a35b035e427f14"
      }
     },
     "c24872ad5b244d419281c742410d3211": {
      "model_module": "@jupyter-widgets/base",
      "model_module_version": "2.0.0",
      "model_name": "LayoutModel",
      "state": {}
     },
     "c2a19f4314aa471e9df1272df5df8688": {
      "model_module": "@jupyter-widgets/controls",
      "model_module_version": "2.0.0",
      "model_name": "HTMLStyleModel",
      "state": {
       "description_width": "",
       "font_size": null,
       "text_color": null
      }
     },
     "c2d0f0a42b874e0eba2feada49ee8b87": {
      "model_module": "@jupyter-widgets/controls",
      "model_module_version": "2.0.0",
      "model_name": "HTMLStyleModel",
      "state": {
       "description_width": "",
       "font_size": null,
       "text_color": null
      }
     },
     "c3a0dfe657fa4c0ab7800abc5e3c981a": {
      "model_module": "@jupyter-widgets/base",
      "model_module_version": "2.0.0",
      "model_name": "LayoutModel",
      "state": {}
     },
     "cdfea8bc7efc4712945b41af00b12cb6": {
      "model_module": "@jupyter-widgets/controls",
      "model_module_version": "2.0.0",
      "model_name": "HTMLStyleModel",
      "state": {
       "description_width": "",
       "font_size": null,
       "text_color": null
      }
     },
     "d355d4291997425796b66be13dd255f1": {
      "model_module": "@jupyter-widgets/controls",
      "model_module_version": "2.0.0",
      "model_name": "HTMLStyleModel",
      "state": {
       "description_width": "",
       "font_size": null,
       "text_color": null
      }
     },
     "d8b95e7cda404ac9ba4b54db08da577e": {
      "model_module": "@jupyter-widgets/base",
      "model_module_version": "2.0.0",
      "model_name": "LayoutModel",
      "state": {}
     },
     "da06552379344e53a6f5462baf7e22e0": {
      "model_module": "@jupyter-widgets/controls",
      "model_module_version": "2.0.0",
      "model_name": "HTMLModel",
      "state": {
       "layout": "IPY_MODEL_44520056c8eb42b3bf07d21ee8ab3f86",
       "style": "IPY_MODEL_d355d4291997425796b66be13dd255f1",
       "value": "\n                <p >\n                   it is `1`\n                </p>"
      }
     },
     "e127161541404ba3bfa30e957343ee4b": {
      "model_module": "@jupyter-widgets/controls",
      "model_module_version": "2.0.0",
      "model_name": "VBoxModel",
      "state": {
       "children": [
        "IPY_MODEL_5b31a33c477047e8be7ca6f025b9f95f",
        "IPY_MODEL_3f3c0d4c64394f9e9d0b1165b1ab6f33",
        "IPY_MODEL_a23955c1d25b4d4db17313f2507292e7",
        "IPY_MODEL_9ad0301d78964261b703158cb4300c61",
        "IPY_MODEL_e7edb9f5f88f407da31edf1a5ce863a5",
        "IPY_MODEL_8113556dc06745dea99ca67ca4d2b7b8",
        "IPY_MODEL_12de95a334e54295bd2c60b97f897640",
        "IPY_MODEL_446860556f32472ab2cf0d334bc2542c",
        "IPY_MODEL_a90d8a2630284f1d853aa259ae1f8961",
        "IPY_MODEL_11fe84c2e93c4ad294246dd3cff5a04e",
        "IPY_MODEL_39cc8181f262429486775af9384c500d",
        "IPY_MODEL_9b17504496004bd6bf710e6c6c196c9e",
        "IPY_MODEL_be65091b246a4422be58d945623064f7",
        "IPY_MODEL_0fa685f993d1429ea90c2c4da38581d3",
        "IPY_MODEL_447addbc4e8c45e28dd474afcfa35586"
       ],
       "layout": "IPY_MODEL_155d2f7a1f854f86af01991d1966abe9"
      }
     },
     "e2fc4169f1054be69659f04bf6b488b0": {
      "model_module": "@jupyter-widgets/base",
      "model_module_version": "2.0.0",
      "model_name": "LayoutModel",
      "state": {}
     },
     "e72a12f703d746199bef8adf3588a34d": {
      "model_module": "@jupyter-widgets/base",
      "model_module_version": "2.0.0",
      "model_name": "LayoutModel",
      "state": {}
     },
     "e77387cef08e4276b419667513886ab9": {
      "model_module": "@jupyter-widgets/controls",
      "model_module_version": "2.0.0",
      "model_name": "HTMLStyleModel",
      "state": {
       "description_width": "",
       "font_size": null,
       "text_color": null
      }
     },
     "e7edb9f5f88f407da31edf1a5ce863a5": {
      "model_module": "@jupyter-widgets/controls",
      "model_module_version": "2.0.0",
      "model_name": "HTMLModel",
      "state": {
       "layout": "IPY_MODEL_86293d2994f44d6aa9db5413a2bbdfb5",
       "style": "IPY_MODEL_3be687a3ea634134959f38ee733d4a66",
       "value": "\n                <span >\n                  v-else-if\n                </span>"
      }
     },
     "e879b2a64db94b458b06eaa55a6f721c": {
      "model_module": "@jupyter-widgets/controls",
      "model_module_version": "2.0.0",
      "model_name": "HTMLStyleModel",
      "state": {
       "description_width": "",
       "font_size": null,
       "text_color": null
      }
     },
     "ebc9e6b7f20d4c4fb9824b68dea50b7c": {
      "model_module": "@jupyter-widgets/base",
      "model_module_version": "2.0.0",
      "model_name": "LayoutModel",
      "state": {}
     },
     "f01e90822bc34dd496a94a21bd95f9f0": {
      "model_module": "@jupyter-widgets/controls",
      "model_module_version": "2.0.0",
      "model_name": "ButtonStyleModel",
      "state": {
       "button_color": "green",
       "font_family": null,
       "font_size": null,
       "font_style": null,
       "font_variant": null,
       "font_weight": null,
       "text_color": null,
       "text_decoration": null
      }
     },
     "f844dcb943ea4aa8b10a934d7a8bfdaa": {
      "model_module": "@jupyter-widgets/controls",
      "model_module_version": "2.0.0",
      "model_name": "HTMLStyleModel",
      "state": {
       "description_width": "",
       "font_size": null,
       "text_color": null
      }
     },
     "f955064e4c5a4274842339daa104fd52": {
      "model_module": "@jupyter-widgets/controls",
      "model_module_version": "2.0.0",
      "model_name": "HTMLModel",
      "state": {
       "layout": "IPY_MODEL_1a82a11d238143b7b0ea9f8f9882cb20",
       "style": "IPY_MODEL_cdfea8bc7efc4712945b41af00b12cb6",
       "value": "\n                <p >\n                   it is `3`\n                </p>"
      }
     }
    },
    "version_major": 2,
    "version_minor": 0
   }
  }
 },
 "nbformat": 4,
 "nbformat_minor": 4
}
