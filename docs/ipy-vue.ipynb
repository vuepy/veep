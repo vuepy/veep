{
 "cells": [
  {
   "cell_type": "markdown",
   "metadata": {
    "collapsed": false,
    "jupyter": {
     "outputs_hidden": false
    },
    "pycharm": {
     "name": "#%% md\n"
    }
   },
   "source": [
    "==TODO==\n",
    "\n",
    "- [ ] 模板编译，两个控件关联同一个变量如何处理\n",
    "- [ ] vue.top_p时做到按需刷新界面，当前为重新绘制, [constraint-propagate](https://github.com/leilux/SICP-exercises/blob/master/book/p216-constraint-propagate(python%20version).py#L124)\n",
    "  - model和view连接到constraint\n",
    "  - （ui操作）控件值变化，observe通过constraint更新其他控件、vm.xxx。其他控件值更新也会触发observe，通过判断当前  constraint是否在notify状态决定是否要调用notify。\n",
    "  - vm.xxx改变，set()通过constraint更新其他控件，其他控件值更新也会触发observe，通过判断当前constraint是否在notify状态决定是否要调用notify。\n",
    "  - （ui操作）on_click、methods中函数等导致列表元素个数发生改变，on_click_handler中重新render界面"
   ]
  },
  {
   "cell_type": "code",
   "execution_count": 1,
   "metadata": {
    "collapsed": false,
    "jupyter": {
     "outputs_hidden": false
    },
    "pycharm": {
     "name": "#%%\n"
    }
   },
   "outputs": [],
   "source": [
    "import ast\n",
    "import enum\n",
    "import functools\n",
    "import re\n",
    "\n",
    "import ipywidgets as widgets\n",
    "from IPython.display import clear_output\n",
    "from IPython.display import display"
   ]
  },
  {
   "cell_type": "code",
   "execution_count": 2,
   "metadata": {
    "collapsed": false,
    "jupyter": {
     "outputs_hidden": false
    },
    "pycharm": {
     "name": "#%%\n"
    }
   },
   "outputs": [],
   "source": [
    "def log_debug(msg):\n",
    "    pass\n",
    "    # print(msg)"
   ]
  },
  {
   "cell_type": "code",
   "execution_count": 64,
   "metadata": {
    "collapsed": false,
    "jupyter": {
     "outputs_hidden": false
    },
    "pycharm": {
     "name": "#%%\n"
    }
   },
   "outputs": [
    {
     "data": {
      "application/vnd.jupyter.widget-view+json": {
       "model_id": "21eb4d17ca8f4bbfa1bb9869fdbb0676",
       "version_major": 2,
       "version_minor": 0
      },
      "text/plain": [
       "MarkdownViewer(value='<style>pre { line-height: 125%; }td.linenos .normal { color: inherit; background-color: …"
      ]
     },
     "metadata": {},
     "output_type": "display_data"
    }
   ],
   "source": [
    "import markdown\n",
    "css_style = !pygmentize -S default -f html -a .codehilite\n",
    "\n",
    "class MarkdownViewer(widgets.HTML):\n",
    "    def __init__(self, value):\n",
    "        extra = [\n",
    "            'markdown.extensions.extra',\n",
    "            'markdown.extensions.codehilite',\n",
    "            'markdown.extensions.tables',\n",
    "            # 'markdown.extensions.nl2br',\n",
    "        ]\n",
    "        html = markdown.markdown(value, extensions=extra)\n",
    "        super().__init__(f\"<style>{''.join(css_style)}</style>\" + html)\n",
    "        # super().__init__(html)\n",
    "md = (MarkdownViewer(value='''\n",
    "## h2\n",
    "```python\n",
    "def f():\n",
    "  pass\n",
    "```\n",
    "'''))\n",
    "display(md)"
   ]
  },
  {
   "cell_type": "code",
   "execution_count": 65,
   "metadata": {},
   "outputs": [
    {
     "data": {
      "text/plain": [
       "'<style>pre { line-height: 125%; }td.linenos .normal { color: inherit; background-color: transparent; padding-left: 5px; padding-right: 5px; }span.linenos { color: inherit; background-color: transparent; padding-left: 5px; padding-right: 5px; }td.linenos .special { color: #000000; background-color: #ffffc0; padding-left: 5px; padding-right: 5px; }span.linenos.special { color: #000000; background-color: #ffffc0; padding-left: 5px; padding-right: 5px; }.codehilite .hll { background-color: #ffffcc }.codehilite { background: #f8f8f8; }.codehilite .c { color: #3D7B7B; font-style: italic } /* Comment */.codehilite .err { border: 1px solid #FF0000 } /* Error */.codehilite .k { color: #008000; font-weight: bold } /* Keyword */.codehilite .o { color: #666666 } /* Operator */.codehilite .ch { color: #3D7B7B; font-style: italic } /* Comment.Hashbang */.codehilite .cm { color: #3D7B7B; font-style: italic } /* Comment.Multiline */.codehilite .cp { color: #9C6500 } /* Comment.Preproc */.codehilite .cpf { color: #3D7B7B; font-style: italic } /* Comment.PreprocFile */.codehilite .c1 { color: #3D7B7B; font-style: italic } /* Comment.Single */.codehilite .cs { color: #3D7B7B; font-style: italic } /* Comment.Special */.codehilite .gd { color: #A00000 } /* Generic.Deleted */.codehilite .ge { font-style: italic } /* Generic.Emph */.codehilite .ges { font-weight: bold; font-style: italic } /* Generic.EmphStrong */.codehilite .gr { color: #E40000 } /* Generic.Error */.codehilite .gh { color: #000080; font-weight: bold } /* Generic.Heading */.codehilite .gi { color: #008400 } /* Generic.Inserted */.codehilite .go { color: #717171 } /* Generic.Output */.codehilite .gp { color: #000080; font-weight: bold } /* Generic.Prompt */.codehilite .gs { font-weight: bold } /* Generic.Strong */.codehilite .gu { color: #800080; font-weight: bold } /* Generic.Subheading */.codehilite .gt { color: #0044DD } /* Generic.Traceback */.codehilite .kc { color: #008000; font-weight: bold } /* Keyword.Constant */.codehilite .kd { color: #008000; font-weight: bold } /* Keyword.Declaration */.codehilite .kn { color: #008000; font-weight: bold } /* Keyword.Namespace */.codehilite .kp { color: #008000 } /* Keyword.Pseudo */.codehilite .kr { color: #008000; font-weight: bold } /* Keyword.Reserved */.codehilite .kt { color: #B00040 } /* Keyword.Type */.codehilite .m { color: #666666 } /* Literal.Number */.codehilite .s { color: #BA2121 } /* Literal.String */.codehilite .na { color: #687822 } /* Name.Attribute */.codehilite .nb { color: #008000 } /* Name.Builtin */.codehilite .nc { color: #0000FF; font-weight: bold } /* Name.Class */.codehilite .no { color: #880000 } /* Name.Constant */.codehilite .nd { color: #AA22FF } /* Name.Decorator */.codehilite .ni { color: #717171; font-weight: bold } /* Name.Entity */.codehilite .ne { color: #CB3F38; font-weight: bold } /* Name.Exception */.codehilite .nf { color: #0000FF } /* Name.Function */.codehilite .nl { color: #767600 } /* Name.Label */.codehilite .nn { color: #0000FF; font-weight: bold } /* Name.Namespace */.codehilite .nt { color: #008000; font-weight: bold } /* Name.Tag */.codehilite .nv { color: #19177C } /* Name.Variable */.codehilite .ow { color: #AA22FF; font-weight: bold } /* Operator.Word */.codehilite .w { color: #bbbbbb } /* Text.Whitespace */.codehilite .mb { color: #666666 } /* Literal.Number.Bin */.codehilite .mf { color: #666666 } /* Literal.Number.Float */.codehilite .mh { color: #666666 } /* Literal.Number.Hex */.codehilite .mi { color: #666666 } /* Literal.Number.Integer */.codehilite .mo { color: #666666 } /* Literal.Number.Oct */.codehilite .sa { color: #BA2121 } /* Literal.String.Affix */.codehilite .sb { color: #BA2121 } /* Literal.String.Backtick */.codehilite .sc { color: #BA2121 } /* Literal.String.Char */.codehilite .dl { color: #BA2121 } /* Literal.String.Delimiter */.codehilite .sd { color: #BA2121; font-style: italic } /* Literal.String.Doc */.codehilite .s2 { color: #BA2121 } /* Literal.String.Double */.codehilite .se { color: #AA5D1F; font-weight: bold } /* Literal.String.Escape */.codehilite .sh { color: #BA2121 } /* Literal.String.Heredoc */.codehilite .si { color: #A45A77; font-weight: bold } /* Literal.String.Interpol */.codehilite .sx { color: #008000 } /* Literal.String.Other */.codehilite .sr { color: #A45A77 } /* Literal.String.Regex */.codehilite .s1 { color: #BA2121 } /* Literal.String.Single */.codehilite .ss { color: #19177C } /* Literal.String.Symbol */.codehilite .bp { color: #008000 } /* Name.Builtin.Pseudo */.codehilite .fm { color: #0000FF } /* Name.Function.Magic */.codehilite .vc { color: #19177C } /* Name.Variable.Class */.codehilite .vg { color: #19177C } /* Name.Variable.Global */.codehilite .vi { color: #19177C } /* Name.Variable.Instance */.codehilite .vm { color: #19177C } /* Name.Variable.Magic */.codehilite .il { color: #666666 } /* Literal.Number.Integer.Long */</style><h2>h2</h2>\\n<div class=\"codehilite\"><pre><span></span><code><span class=\"k\">def</span> <span class=\"nf\">f</span><span class=\"p\">():</span>\\n  <span class=\"k\">pass</span>\\n</code></pre></div>'"
      ]
     },
     "execution_count": 65,
     "metadata": {},
     "output_type": "execute_result"
    }
   ],
   "source": [
    "md.value"
   ]
  },
  {
   "cell_type": "markdown",
   "metadata": {
    "collapsed": false,
    "jp-MarkdownHeadingCollapsed": true,
    "jupyter": {
     "outputs_hidden": false
    },
    "pycharm": {
     "name": "#%% md\n"
    }
   },
   "source": [
    "# VueTemplate"
   ]
  },
  {
   "cell_type": "code",
   "execution_count": 15,
   "metadata": {
    "collapsed": false,
    "jupyter": {
     "outputs_hidden": false
    },
    "pycharm": {
     "name": "#%%\n"
    }
   },
   "outputs": [],
   "source": [
    "from html.parser import HTMLParser\n",
    "\n",
    "class Tag:\n",
    "    AppLayout = \"AppLayout\".lower()\n",
    "    Box = \"Box\".lower()\n",
    "    HBox = \"HBox\".lower()\n",
    "    FloatSlider = \"FloatSlider\".lower()\n",
    "    Dropdown = \"Dropdown\".lower()\n",
    "    Textarea = \"Textarea\".lower()\n",
    "    Button = 'Button'.lower()\n",
    "    MarkdownViewer = 'MarkdownViewer'.lower()\n",
    "    Template = 'template'\n",
    "\n",
    "    container_tags = (AppLayout, Box, HBox, Template)\n",
    "    leaf_tags = (FloatSlider, Dropdown, Textarea, Button, MarkdownViewer)\n",
    "\n",
    "    @classmethod\n",
    "    def is_container(cls, t):\n",
    "        return t in [i.lower() for i in cls.container_tags]\n",
    "\n",
    "    @classmethod\n",
    "    def is_leaf(cls, t):\n",
    "        return t in [i.lower() for i in cls.leaf_tags]\n",
    "\n",
    "    @classmethod\n",
    "    def get_widget(cls, t):\n",
    "        return getattr(widgets, getattr(cls, t))\n",
    "\n",
    "\n",
    "class VForStatement:\n",
    "    def __init__(self, target, iters, index=None):\n",
    "        self.i = index\n",
    "        self.target = target\n",
    "        self.iter = iters\n",
    "\n",
    "    @classmethod\n",
    "    def parse(cls, s):\n",
    "        i_target, iters = [i.strip() for i in s.split('in')]\n",
    "        i_target = [i.strip() for i in i_target.strip('()').split(',')]\n",
    "        if len(i_target) == 1:\n",
    "            i, target = None, i_target[0]\n",
    "        else:\n",
    "            i, target = i_target[0], i_target[1]\n",
    "\n",
    "        return cls(target.strip(), iters, i)\n",
    "\n",
    "class ForScope:\n",
    "    def __init__(self, i_val, for_stmt: VForStatement, vm: 'Vue'):\n",
    "        self.for_stmt = for_stmt\n",
    "        self.i = i_val\n",
    "        self.iter = get_attr(vm, for_stmt.iter)\n",
    "        log_debug(f\"get vm.{for_stmt.iter} {self.iter}\")\n",
    "        self.target = self.iter[self.i]\n",
    "\n",
    "\n",
    "class Directive:\n",
    "    v_for = 'v-for'\n",
    "    v_slot = 'v-slot:'\n",
    "    v_js_link = 'v-js-link'\n",
    "    v_model = 'v-model'\n",
    "    event_prefix = '@'\n",
    "    single_bound_prefix = ':'\n",
    "\n",
    "    @classmethod\n",
    "    def is_v_for(cls, attr, value):\n",
    "        if attr == cls.v_for:\n",
    "            pass\n",
    "\n",
    "    @classmethod\n",
    "    def is_v_slot(cls, attr, value):\n",
    "        if not attr.startswith(cls.v_slot):\n",
    "            return False, None\n",
    "        return True, attr.split(':')[1]\n",
    "\n",
    "    @classmethod\n",
    "    def is_v_js_link(cls, attr, value):\n",
    "        if attr == cls.v_js_link:\n",
    "            return True, None\n",
    "        return False, None\n",
    "\n",
    "    @classmethod\n",
    "    def is_v_model(cls, attr, value):\n",
    "        if attr == cls.v_model:\n",
    "            return True, value\n",
    "        return False, None\n",
    "\n",
    "    @classmethod\n",
    "    def is_event(cls, attr: str, func):\n",
    "        if not attr.startswith(cls.event_prefix):\n",
    "            return False, attr, None, None\n",
    "        event = attr.lstrip(cls.event_prefix)\n",
    "        match = re.match('(.*)\\((.*)\\)', func)\n",
    "        if not match:\n",
    "            return True, event, func, None\n",
    "\n",
    "        func = match[1]\n",
    "        args = [i.strip() for i in match[2].split(',')]\n",
    "        return True, event, func, args\n",
    "\n",
    "\n",
    "    @classmethod\n",
    "    def is_single_bound(cls, attr: str, value):\n",
    "        if attr.startswith(cls.single_bound_prefix):\n",
    "            return True, attr.lstrip(cls.single_bound_prefix)\n",
    "        return False, None\n",
    "\n",
    "\n",
    "class VueTemplate(HTMLParser):\n",
    "    \"\"\"\n",
    "    https://docs.python.org/zh-cn/3.10/library/ast.html#function-and-class-definitions\n",
    "    \"\"\"\n",
    "    def __init__(self, vm: 'Vue'):\n",
    "        super().__init__()\n",
    "        self.vm = vm\n",
    "        self.widgets = []\n",
    "        self.widgets_by_id = {}\n",
    "        self.parent_node_stack = []\n",
    "        self.v_for_stack = []\n",
    "\n",
    "    def _get_element_by_id(self, el_id):\n",
    "        return self.widgets_by_id.get(el_id)\n",
    "\n",
    "    @property\n",
    "    def is_in_for_stmt(self):\n",
    "        return bool(self.v_for_stack)\n",
    "\n",
    "    def _process_directive(self):\n",
    "        pass\n",
    "\n",
    "    def _gen_ast_node(self, tag, attrs, for_scope=None):\n",
    "        if Tag.is_container(tag):\n",
    "            node = self._container_tag_enter(tag, attrs, for_scope)\n",
    "        elif Tag.is_leaf(tag):\n",
    "            node = self._leaf_tag_enter(tag, attrs, for_scope)\n",
    "        else:\n",
    "            # TODO\n",
    "            # node = self._html_tag_enter(tag, attrs)\n",
    "            raise Exception(f\"tag '{tag}' not support.\")\n",
    "        return node\n",
    "\n",
    "    def _gen_widget(self, node, for_scope=None):\n",
    "        if Tag.is_container(node['tag']):\n",
    "            widget = self._container_tag_exit(node, for_scope)\n",
    "        else:\n",
    "            widget = self._leaf_tag_exit(node, for_scope)\n",
    "        return widget\n",
    "\n",
    "    def _widget_factory(self, widget_cls, attrs, scopes, v_model_widget='value'):\n",
    "        kwargs = {}\n",
    "        on_event = {}\n",
    "        v_model_vm = None\n",
    "        v_slot = None\n",
    "        for attr, value in attrs.items():\n",
    "            # :attr=value\n",
    "            ok, var = Directive.is_single_bound(attr, value)\n",
    "            if ok:\n",
    "                try:\n",
    "                    _value = ast.literal_eval(value)\n",
    "                    kwargs[var] = _value\n",
    "                    continue\n",
    "                except:\n",
    "                    pass\n",
    "                kwargs[var] = get_attr_from_scopes(scopes, value)\n",
    "                continue\n",
    "            # v-model\n",
    "            ok, model_vm = Directive.is_v_model(attr, value)\n",
    "            if ok:\n",
    "                v_model_vm = model_vm\n",
    "                # print(f'>> get v-model {widget_cls} {v_model_widget} ot {v_model_vm}')\n",
    "                kwargs[v_model_widget] = get_attr_from_scopes(scopes, v_model_vm)\n",
    "                continue\n",
    "            # @click\n",
    "            ok, event, func, args = Directive.is_event(attr, value)\n",
    "            if ok:\n",
    "                on_event[event] = (func, args)\n",
    "                continue\n",
    "            # TODO 去除不需要的参数\n",
    "            ok, slot = Directive.is_v_slot(attr, value)\n",
    "            if ok:\n",
    "                v_slot = slot\n",
    "                continue\n",
    "            kwargs[attr] = value\n",
    "\n",
    "        widget = widget_cls(**kwargs)\n",
    "        if v_slot:\n",
    "            widget.v_slot = v_slot\n",
    "\n",
    "        # process directive\n",
    "        def handle_value_change(_scopes, exp):\n",
    "            def warp(change):\n",
    "                ret = set_attr_to_scopes(_scopes, exp, change['new'])\n",
    "                # print(f'>>> change {exp} to {change[\"new\"]}, {ret}')\n",
    "            return warp\n",
    "\n",
    "        if v_model_vm:\n",
    "            # print(f\">> register observe {widget_cls} {v_model_widget} -> {v_model_vm}\")\n",
    "            widget.observe(handle_value_change(scopes, v_model_vm), names=f'{v_model_widget}')\n",
    "\n",
    "        for _event, (func_name, args_name) in on_event.items():\n",
    "            func = getattr(self.vm.methods, func_name)\n",
    "            if args_name:\n",
    "                args = []\n",
    "                for arg_name in args_name:\n",
    "                    if arg_name[0].isalpha() or arg_name[0] == '_':\n",
    "                        arg = get_attr_from_scopes(scopes, arg_name)\n",
    "                    else:\n",
    "                        arg = ast.literal_eval(arg_name)\n",
    "                    args.append(arg)\n",
    "                func = functools.partial(func, *args)\n",
    "            getattr(widget, f'on_{_event}')(func)\n",
    "\n",
    "        return widget\n",
    "\n",
    "    def _container_tag_enter(self, tag, attrs, for_scope=None):\n",
    "        ast_node = {\"tag\": tag, 'attrs': attrs, 'body': []}\n",
    "        return ast_node\n",
    "\n",
    "    def _container_tag_exit(self, node, for_scope=None):\n",
    "        tag = node['tag']\n",
    "        attrs = node['attrs']\n",
    "        widgets_map = {\n",
    "            Tag.AppLayout: widgets.AppLayout,\n",
    "            Tag.Box: widgets.Box,\n",
    "            Tag.HBox: widgets.HBox,\n",
    "            Tag.Template: widgets.VBox,\n",
    "        }\n",
    "\n",
    "        log_debug(f\"_container_tag_exit {node}\")\n",
    "        # cur_node = self.parent_node_stack.pop(-1)\n",
    "        if tag == Tag.AppLayout.lower():\n",
    "            kwargs = {}\n",
    "            for child in node['body']:\n",
    "                log_debug(f\"child {child}\")\n",
    "                kwargs[child.v_slot] = child\n",
    "            widget = widgets_map[tag](**kwargs)\n",
    "        elif tag == Tag.Box.lower() or tag == Tag.HBox.lower():\n",
    "            widget = widgets_map[tag](node['body'])\n",
    "        elif tag == Tag.Template.lower():\n",
    "            widget = widgets_map[tag](node['body'])\n",
    "        else:\n",
    "            raise Exception(f'error: container_tag_exit, {tag} not support.')\n",
    "\n",
    "        for attr, value in attrs.items():\n",
    "            ok, slot = Directive.is_v_slot(attr, value)\n",
    "            if ok:\n",
    "                widget.v_slot = slot\n",
    "                continue\n",
    "\n",
    "        return widget\n",
    "\n",
    "    def _leaf_tag_enter(self, tag, attrs, for_scope=None):\n",
    "        ast_node = {\"tag\": tag, 'attrs': attrs}\n",
    "        return ast_node\n",
    "\n",
    "    def _leaf_tag_exit(self, node, for_scope: ForScope = None):\n",
    "        tag = node['tag']\n",
    "        scopes = [self.vm]\n",
    "        if for_scope:\n",
    "            scopes.append(for_scope)\n",
    "\n",
    "        widgets_map = {\n",
    "            Tag.FloatSlider: widgets.FloatSlider,\n",
    "            Tag.Dropdown: widgets.Dropdown,\n",
    "            Tag.Button: widgets.Button,\n",
    "            Tag.Textarea: widgets.Textarea,\n",
    "            Tag.MarkdownViewer: MarkdownViewer,\n",
    "        }\n",
    "        v_model_widget = 'value'\n",
    "        if tag == Tag.Button:\n",
    "            v_model_widget = 'description'\n",
    "        \n",
    "        return self._widget_factory(widgets_map[tag], node['attrs'], scopes, v_model_widget)\n",
    "\n",
    "\n",
    "    def _html_tag_enter(self):\n",
    "        pass\n",
    "\n",
    "    def _html_tag_exit(self):\n",
    "        pass\n",
    "\n",
    "    def _for_stmt_enter(self, for_stmt: VForStatement, tag, attrs, is_body):\n",
    "        body = []\n",
    "        for i, target in enumerate(getattr(self.vm, for_stmt.iter)):\n",
    "            for_scope = (i, target)\n",
    "            body.append(self._gen_ast_node(tag, attrs, for_scope))\n",
    "\n",
    "        if is_body:\n",
    "            ast_node = {\n",
    "                \"tag\": 'v_for',\n",
    "                'v_for_body': for_stmt,\n",
    "                \"body\": body,\n",
    "            }\n",
    "        else:\n",
    "            ast_node = {\n",
    "                \"tag\": 'v_for',\n",
    "                'v_for': for_stmt,\n",
    "                \"body\": body,\n",
    "            }\n",
    "        return ast_node\n",
    "\n",
    "    def _for_stmt_exit(self, v_for_ast_node, is_body=False):\n",
    "        _widgets = []\n",
    "        # v_for_stmt = v_for_ast_node['v_for']\n",
    "        v_for_stmt = self.v_for_stack[-1]\n",
    "        _iter = getattr(self.vm, v_for_stmt.iter)\n",
    "        for i, target in enumerate(_iter):\n",
    "            # for_scope = (v_for_stmt.i, i, v_for_stmt.target, target, v_for_stmt.target)\n",
    "            for_scope = ForScope(i, v_for_stmt, self.vm)\n",
    "            node = v_for_ast_node['body'][i]\n",
    "            widget = self._gen_widget(node, for_scope)\n",
    "            _widgets.append(widget)\n",
    "\n",
    "        return _widgets\n",
    "\n",
    "    def handle_starttag(self, tag, attrs):\n",
    "        attrs = dict(attrs)\n",
    "        v_for_stmt = attrs.pop(Directive.v_for, None)\n",
    "        if v_for_stmt or self.v_for_stack:\n",
    "            is_header = bool(v_for_stmt)\n",
    "            if is_header:\n",
    "                v_for = VForStatement.parse(v_for_stmt)\n",
    "                self.v_for_stack.append(v_for)\n",
    "            v_for = self.v_for_stack[-1]\n",
    "            node = self._for_stmt_enter(v_for, tag, attrs, not is_header)\n",
    "        else:\n",
    "            node = self._gen_ast_node(tag, attrs)\n",
    "        self.parent_node_stack.append(node)\n",
    "\n",
    "    def handle_endtag(self, tag):\n",
    "        node = self.parent_node_stack.pop()\n",
    "        if self.is_in_for_stmt:\n",
    "            is_body = 'v_for' not in node\n",
    "            _widgets = self._for_stmt_exit(node, is_body)\n",
    "            if is_body:\n",
    "                for i, widget in enumerate(_widgets):\n",
    "                    self.parent_node_stack[-1]['body'][i]['body'].append(widget)\n",
    "            else:\n",
    "                self.parent_node_stack[-1]['body'].extend(_widgets)\n",
    "                self.v_for_stack.pop()\n",
    "        else:\n",
    "            widget = self._gen_widget(node)\n",
    "            if self.parent_node_stack:\n",
    "                self.parent_node_stack[-1]['body'].append(widget)\n",
    "            else:\n",
    "                self.widgets.append(widget)\n",
    "\n",
    "    def compile(self, html):\n",
    "        self.feed(html)\n",
    "        if len(self.widgets) == 1:\n",
    "            return self.widgets[0]\n",
    "        return widgets.VBox(self.widgets)\n",
    "        \n",
    "# vue_template = VueTemplate(vue)\n",
    "# app = vue_template.compile()\n",
    "# display(app)"
   ]
  },
  {
   "cell_type": "markdown",
   "metadata": {
    "collapsed": false,
    "jp-MarkdownHeadingCollapsed": true,
    "jupyter": {
     "outputs_hidden": false
    },
    "pycharm": {
     "name": "#%% md\n"
    }
   },
   "source": [
    "# Vue"
   ]
  },
  {
   "cell_type": "code",
   "execution_count": 16,
   "metadata": {
    "collapsed": false,
    "jupyter": {
     "outputs_hidden": false
    },
    "pycharm": {
     "name": "#%%\n"
    }
   },
   "outputs": [],
   "source": [
    "class Options:\n",
    "    def __init__(self, options):\n",
    "        self.el = options.get('el')\n",
    "        self.data = options.get('data')\n",
    "        self.methods = options.get('methods', {})\n",
    "        self.template = options.get('template')\n",
    "\n",
    "        self.before_create = options.get('before_create')\n",
    "        self.created = options.get('created')\n",
    "        self.before_mount = options.get('before_mount')\n",
    "        self.mounted = options.get('mounted')\n",
    "        self.before_update = options.get('before_update ')\n",
    "        self.updated = options.get('updated ')\n",
    "        self.render = options.get('render')\n",
    "\n",
    "\n",
    "class ReactiveField:\n",
    "    def __init__(self, field_name, data):\n",
    "        self.field_name = field_name\n",
    "        self._data = data\n",
    "\n",
    "    def __get__(self, instance, owner):\n",
    "        return self._data[self.field_name]\n",
    "\n",
    "    def __set__(self, instance: 'Vue', new_value):\n",
    "        self._data[self.field_name] = new_value\n",
    "\n",
    "        instance._call_if_callable(instance.options.before_update)\n",
    "        instance.render()\n",
    "        instance._call_if_callable(instance.options.updated)\n",
    "\n",
    "\n",
    "class Dict(dict):\n",
    "    pass\n",
    "\n",
    "def _get_attr(scope, exp, default=None):\n",
    "    attr_chain = exp.split('.')\n",
    "    data = scope\n",
    "    for attr in attr_chain:\n",
    "        # TODO 可以用自定义的Nil替代，区分值为None的情况\n",
    "        if isinstance(data, dict):\n",
    "            data = data.get(attr, default)\n",
    "        else:\n",
    "            data = getattr(data, attr, default)\n",
    "    return data\n",
    "\n",
    "def get_attr_from_for_scope(scope: 'ForScope', exp: str, default=None):\n",
    "    attr_split = exp.split('.', 1)\n",
    "    if len(attr_split) == 1:\n",
    "        attr_base, attrs = exp, ''\n",
    "    else:\n",
    "        attr_base, attrs = attr_split\n",
    "\n",
    "    if attr_base == scope.for_stmt.iter:\n",
    "        log_debug(f\"get_attr_from_for iter {exp}  {attrs} from {scope.iter}\")\n",
    "        data_base = scope.iter\n",
    "    elif attr_base == scope.for_stmt.target:\n",
    "        log_debug(f\"get_attr_from_for target {exp} {attrs} from {scope.target}\")\n",
    "        data_base = scope.target\n",
    "        \n",
    "    if attrs:\n",
    "        data = _get_attr(data_base, attrs, default) \n",
    "    else:\n",
    "        data = data_base\n",
    "    return data\n",
    "\n",
    "def get_attr(scope, exp, default=None):\n",
    "    if isinstance(scope, ForScope):\n",
    "        return get_attr_from_for_scope(scope, exp, default)\n",
    "    return _get_attr(scope, exp, default)\n",
    "\n",
    "\n",
    "def set_attr(scope, exp: str, value, reactive=False):\n",
    "    attrs = exp.rsplit('.', 1)\n",
    "    if len(attrs) == 1:\n",
    "        attr_set = attrs[0]\n",
    "        data = scope\n",
    "    else:\n",
    "        _attr_get, attr_set = attrs\n",
    "        data = get_attr(scope, _attr_get)\n",
    "        \n",
    "    if data is None:\n",
    "        return False\n",
    "\n",
    "    if reactive:\n",
    "        setattr(data, attr_set, value)\n",
    "    else:\n",
    "        if isinstance(data, Vue):\n",
    "            data._data[attr_set] = value\n",
    "        else:\n",
    "            data[attr_set] = value\n",
    "\n",
    "    return True\n",
    "\n",
    "def get_attr_from_scopes(scopes, exp):\n",
    "    for scope in scopes[::-1]:\n",
    "        data = get_attr(scope, exp)\n",
    "        if data is not None:\n",
    "            return data\n",
    "\n",
    "def set_attr_to_scopes(scopes, exp, value, reactive=False):\n",
    "    for scope in scopes[::-1]:\n",
    "        if set_attr(scope, exp, value, reactive):\n",
    "            return True\n",
    "    return False\n",
    "\n",
    "\n",
    "class Vue:\n",
    "    def __init__(self, options):\n",
    "        self.dom = None\n",
    "        self.options = Options(options)\n",
    "        self._call_if_callable(self.options.before_create)\n",
    "        self._data = self.options.data\n",
    "        self._call_if_callable(self.options.created)\n",
    "        self._proxy_data()\n",
    "        self.methods: Methods = self.options.methods(self)\n",
    "        self._proxy_methods()\n",
    "\n",
    "        self.mount(self.options.el)\n",
    "\n",
    "    def _call_if_callable(self, func):\n",
    "        if callable(func):\n",
    "            func(self)\n",
    "\n",
    "    # TODO 全部代理\n",
    "    def _proxy_data(self):\n",
    "        for key, value in self._data.items():\n",
    "            if isinstance(value, dict):\n",
    "                item = Dict(value)\n",
    "                setattr(self.__class__, key, ReactiveField(key, self._data))\n",
    "                for sub_key, sub_value in value.items():\n",
    "                    # sub_self = self._data[key]\n",
    "                    # setattr(sub_self.__class__, sub_key, ReactiveField(sub_key, self._data[key]))\n",
    "                    setattr(item.__class__, sub_key, ReactiveField(sub_key, item))\n",
    "                self._data[key] = item\n",
    "            elif isinstance(value, list) and isinstance(value[0], dict):\n",
    "                for i, item in enumerate(value):\n",
    "                    item = Dict(item)\n",
    "                    for sub_key, sub_value in item.items():\n",
    "                        setattr(item.__class__, sub_key, ReactiveField(sub_key, item))\n",
    "                    value[i] = item\n",
    "                # TODO 响应式的list\n",
    "                setattr(self.__class__, key, value)\n",
    "            else:\n",
    "                log_debug(f'set {self.__class__.__name__} {key}')\n",
    "                setattr(self.__class__, key, ReactiveField(key, self._data))\n",
    "                log_debug(f'get {self.__class__.__name__} {key} {getattr(self, key)}')\n",
    "\n",
    "    def _proxy_methods(self):\n",
    "        pass\n",
    "        # for func_name, func in self.options.methods.items():\n",
    "        #     # TODO 绑定self\n",
    "        #     # setattr(self, func_name, )\n",
    "        #     pass\n",
    "\n",
    "    def mount(self, el):\n",
    "        self._call_if_callable(self.options.before_mount)\n",
    "        self.render()\n",
    "        self._call_if_callable(self.options.mounted)\n",
    "\n",
    "    def _compile_template(self, template):\n",
    "        vue_template = VueTemplate(self)\n",
    "        return vue_template.compile(template)\n",
    "\n",
    "    def render(self):\n",
    "        # clear_output()\n",
    "        with self.options.el:\n",
    "            if callable(self.options.template):\n",
    "                self.dom = self.options.template(self)\n",
    "            else:\n",
    "                self.dom = self._compile_template(self.options.template)\n",
    "                \n",
    "            clear_output(True)\n",
    "            display(self.dom)"
   ]
  },
  {
   "cell_type": "markdown",
   "metadata": {
    "collapsed": false,
    "jupyter": {
     "outputs_hidden": false
    },
    "pycharm": {
     "name": "#%% md\n"
    }
   },
   "source": [
    "# template"
   ]
  },
  {
   "cell_type": "code",
   "execution_count": 1,
   "metadata": {
    "pycharm": {
     "name": "#%%\n"
    }
   },
   "outputs": [
    {
     "ename": "NameError",
     "evalue": "name 'widgets' is not defined",
     "output_type": "error",
     "traceback": [
      "\u001B[0;31m---------------------------------------------------------------------------\u001B[0m",
      "\u001B[0;31mNameError\u001B[0m                                 Traceback (most recent call last)",
      "Cell \u001B[0;32mIn[1], line 1\u001B[0m\n\u001B[0;32m----> 1\u001B[0m html_hr \u001B[38;5;241m=\u001B[39m \u001B[43mwidgets\u001B[49m\u001B[38;5;241m.\u001B[39mHTML(\u001B[38;5;124m'\u001B[39m\u001B[38;5;124m<hr>\u001B[39m\u001B[38;5;124m'\u001B[39m)\n\u001B[1;32m      2\u001B[0m html_br \u001B[38;5;241m=\u001B[39m widgets\u001B[38;5;241m.\u001B[39mHTML(\u001B[38;5;124m'\u001B[39m\u001B[38;5;124m<br>\u001B[39m\u001B[38;5;124m'\u001B[39m)\n\u001B[1;32m      4\u001B[0m \u001B[38;5;28;01mclass\u001B[39;00m \u001B[38;5;21;01mRole\u001B[39;00m(enum\u001B[38;5;241m.\u001B[39mEnum):\n",
      "\u001B[0;31mNameError\u001B[0m: name 'widgets' is not defined"
     ]
    }
   ],
   "source": [
    "html_hr = widgets.HTML('<hr>')\n",
    "html_br = widgets.HTML('<br>')\n",
    "\n",
    "class Role(enum.Enum):\n",
    "    user = 'USER'\n",
    "    bot = 'BOT'\n",
    "\n",
    "    def __invert__(self):\n",
    "        return Role.user if self == Role.bot else Role.bot\n",
    "\n",
    "\n",
    "def update_value(func):\n",
    "    def warp(change):\n",
    "        func(change['new'])\n",
    "    return warp\n",
    "\n",
    "\n",
    "def update_list_value(index):\n",
    "    def warp(func):\n",
    "        def _(change):\n",
    "            func(index, change['new'])\n",
    "        return _\n",
    "    return warp\n",
    "\n",
    "\n",
    "def template(vm: Vue):\n",
    "    # right sider bar\n",
    "    # ==============================\n",
    "    def _update_value(key):\n",
    "        @update_value\n",
    "        def update(value):\n",
    "            vm._data[key] = value\n",
    "        return update\n",
    "\n",
    "    model = widgets.Dropdown(options=vm.models, value=vm._data['model'], tooltip='aaaa', description='model')\n",
    "    model.observe(_update_value('model'), names='value')\n",
    "        \n",
    "    top_p = widgets.FloatSlider(value=vm._data['top_p'], min=0, max=1, step=0.01, description=\"top_p\",\n",
    "                                continuous_update=False, readout_format='.2f')\n",
    "    top_p.observe(_update_value('top_p'), names='value')\n",
    "\n",
    "    right_sidebar = widgets.VBox([\n",
    "        model,\n",
    "        top_p,\n",
    "    ])\n",
    "    # center\n",
    "    # ==============================\n",
    "    chat_exchange = []\n",
    "    for i, msg in enumerate(vm._data['msgs']):\n",
    "        @update_list_value(i)\n",
    "        def update_role_label(index, value):\n",
    "            vm._data['msgs'][index]['role'] = value\n",
    "\n",
    "        def handle_role_label_on_click(owner):\n",
    "            owner.description = (~Role(owner.description)).value\n",
    "\n",
    "        msg_role = widgets.Button(description=msg['role'])\n",
    "        msg_role.observe(update_role_label, names='description')\n",
    "        msg_role.on_click(handle_role_label_on_click)\n",
    "\n",
    "        def handle_del_msg_on_click(owner):\n",
    "            vm.msgs.pop(owner.v_for_index)\n",
    "            # TODO 实现自动更新\n",
    "            vm.render()\n",
    "        del_msg = widgets.Button(icon='minus-circle', button_style='danger')\n",
    "        del_msg.v_for_index = i\n",
    "        del_msg.on_click(handle_del_msg_on_click)\n",
    "\n",
    "        @update_list_value(i)\n",
    "        def update_msg_content(index, value):\n",
    "            vm._data['msgs'][index]['content'] = value\n",
    "\n",
    "        msg_content = widgets.Textarea(value=msg['content'])\n",
    "        msg_content.observe(update_msg_content, names='value')\n",
    "\n",
    "        msg_row = widgets.HBox([msg_role, msg_content, del_msg])\n",
    "        chat_exchange.append(msg_row)\n",
    "        chat_exchange.append(html_hr)\n",
    "\n",
    "    def handle_add_msg_on_click(e):\n",
    "        role = ~Role(vm.msgs[-1]['role']) if len(vm.msgs) else Role.user\n",
    "        msg = {'role': role.value, 'content': ''}\n",
    "        vm.msgs.append(msg)\n",
    "        # TODO 实现自动更新\n",
    "        vm.render()\n",
    "\n",
    "    add_msg = widgets.Button(description='add msg', icon='plus-circle')\n",
    "    add_msg.on_click(handle_add_msg_on_click)\n",
    "\n",
    "    def handle_submit_msg_on_click(e):\n",
    "        with vm.options.el:\n",
    "            print('submit ', vm._data)\n",
    "\n",
    "    submit_msg = widgets.Button(description='submit msg', button_style='success')\n",
    "    submit_msg.on_click(handle_submit_msg_on_click)\n",
    "\n",
    "\n",
    "    center = widgets.VBox([\n",
    "        widgets.VBox(chat_exchange),\n",
    "        add_msg,\n",
    "        html_br,\n",
    "        submit_msg,\n",
    "    ])\n",
    "    app = widgets.AppLayout(\n",
    "        header=None,\n",
    "        footer=None,\n",
    "        left_sidebar=None,\n",
    "        right_sidebar=right_sidebar,\n",
    "        center=center\n",
    "    )\n",
    "    return app"
   ]
  },
  {
   "cell_type": "code",
   "execution_count": 18,
   "metadata": {},
   "outputs": [],
   "source": [
    "# vue.msgs = vue.msgs + [{'role': 'USER', 'content': 'hello'}, {'role': 'USER', 'content': 'hello'}]"
   ]
  },
  {
   "cell_type": "markdown",
   "metadata": {
    "jp-MarkdownHeadingCollapsed": true
   },
   "source": [
    "# 开发用示例 v2"
   ]
  },
  {
   "cell_type": "markdown",
   "metadata": {
    "collapsed": false,
    "jupyter": {
     "outputs_hidden": false
    },
    "pycharm": {
     "name": "#%% md\n"
    }
   },
   "source": [
    "# 开发用示例 v3"
   ]
  },
  {
   "cell_type": "code",
   "execution_count": 5,
   "metadata": {},
   "outputs": [
    {
     "name": "stdout",
     "output_type": "stream",
     "text": [
      "The autoreload extension is already loaded. To reload it, use:\n",
      "  %reload_ext autoreload\n"
     ]
    }
   ],
   "source": [
    "%load_ext autoreload\n",
    "%autoreload 2\n",
    "%reload_ext autoreload"
   ]
  },
  {
   "cell_type": "code",
   "execution_count": 1,
   "metadata": {
    "editable": true,
    "slideshow": {
     "slide_type": ""
    },
    "tags": []
   },
   "outputs": [
    {
     "data": {
      "application/vnd.jupyter.widget-view+json": {
       "model_id": "7f3133aa1f6440f48d2f230b788e8949",
       "version_major": 2,
       "version_minor": 0
      },
      "text/plain": [
       "Output()"
      ]
     },
     "metadata": {},
     "output_type": "display_data"
    }
   ],
   "source": [
    "import pathlib\n",
    "import ipywidgets as widgets\n",
    "\n",
    "from vuepy import create_app, import_sfc\n",
    "from ipywui import IPywidgets\n",
    "\n",
    "source_root = pathlib.Path().absolute().parent\n",
    "App = import_sfc(source_root / 'examples' / 'vue_app'/ 'VueApp.vue')\n",
    "\n",
    "app = create_app(App, debug=True).use(IPywidgets)\n",
    "app.mount(widgets.Output())\n",
    "# display(app.debug_log)"
   ]
  },
  {
   "cell_type": "code",
   "execution_count": 1,
   "metadata": {},
   "outputs": [
    {
     "name": "stderr",
     "output_type": "stream",
     "text": [
      "/Users/kuroro/miniforge3/envs/textgen/lib/python3.10/site-packages/anywidget/_util.py:251: UserWarning: anywidget: Live-reloading feature is disabled. To enable, please install the 'watchfiles' package.\n",
      "  start_thread=_should_start_thread(path),\n"
     ]
    },
    {
     "data": {
      "application/vnd.jupyter.widget-view+json": {
       "model_id": "6f5fa9ae75f54cd2a5b7e0f1d8227c5d",
       "version_major": 2,
       "version_minor": 0
      },
      "text/plain": [
       "Clipboard(children=[Textarea(value=''), Button(description='copy', style=ButtonStyle())], copy='hello')"
      ]
     },
     "execution_count": 1,
     "metadata": {},
     "output_type": "execute_result"
    }
   ],
   "source": [
    "from pathlib import Path\n",
    "import sys\n",
    "import ipywidgets as widgets\n",
    "from ipywui.widgets import ClipboardWidget\n",
    "\n",
    "textarea = widgets.Textarea()\n",
    "copy_btn = widgets.Button(description='copy')\n",
    "clip = ClipboardWidget(tag='div', copy='hello', children=[textarea, copy_btn])\n",
    "widgets.jslink((textarea, 'value'), (clip, 'copy'))\n",
    "# clip.value = 'hello'\n",
    "clip"
   ]
  },
  {
   "cell_type": "code",
   "execution_count": 2,
   "metadata": {},
   "outputs": [],
   "source": [
    "# clip.value = '你好 hdsworrld '\n",
    "a = 1\n",
    "def handler(e):\n",
    "    global a\n",
    "    a = a+1\n",
    "    print(e, a)\n",
    "    \n",
    "clip.observe(handler, names=['value'])"
   ]
  },
  {
   "cell_type": "code",
   "execution_count": 3,
   "metadata": {},
   "outputs": [
    {
     "name": "stdout",
     "output_type": "stream",
     "text": [
      "1\n"
     ]
    }
   ],
   "source": [
    "# handler(1)\n",
    "print(a)"
   ]
  },
  {
   "cell_type": "code",
   "execution_count": 1,
   "metadata": {
    "pycharm": {
     "is_executing": true,
     "name": "#%%\n"
    }
   },
   "outputs": [
    {
     "data": {
      "application/vnd.jupyter.widget-view+json": {
       "model_id": "3dd4cd025d6b480ea1d767e917e3ec8e",
       "version_major": 2,
       "version_minor": 0
      },
      "text/plain": [
       "Output()"
      ]
     },
     "metadata": {},
     "output_type": "display_data"
    },
    {
     "data": {
      "application/vnd.jupyter.widget-view+json": {
       "model_id": "8e61ca6e7cf14a9d8f44bbefc7894659",
       "version_major": 2,
       "version_minor": 0
      },
      "text/plain": [
       "Output()"
      ]
     },
     "metadata": {},
     "output_type": "display_data"
    }
   ],
   "source": [
    "from pprint import pprint\n",
    "import enum\n",
    "from pyvue import *\n",
    "\n",
    "\n",
    "class Role(enum.Enum):\n",
    "    user = 'USER'\n",
    "    bot = 'BOT'\n",
    "    \n",
    "    def __invert__(self):\n",
    "        return Role.user if self == Role.bot else Role.bot\n",
    "\n",
    "\n",
    "class Methods:\n",
    "    def __init__(self, vm: 'Vue'):\n",
    "        self.vm = vm\n",
    "\n",
    "    def is_bot(self, val):\n",
    "        return val == Role.bot.value\n",
    "\n",
    "    def handle_change_role(self, owner):\n",
    "        print(owner)\n",
    "        owner.description = (~Role(owner.description)).value\n",
    "\n",
    "    def handle_add_msg(self, owner):\n",
    "        role = ~Role(self.vm.messages[-1]['role']) if len(self.vm.messages) else Role.user\n",
    "        msg = {'role': role.value, 'content': ''}\n",
    "        self.vm.messages.append(msg)\n",
    "        # TODO 实现自动更新\n",
    "        # self.vm.render()\n",
    "    \n",
    "    def handle_edit_msg(self, owner):\n",
    "        if owner.icon == 'edit':\n",
    "            state = 'eye'\n",
    "        else:\n",
    "            state = 'edit'\n",
    "        owner.icon = state\n",
    "\n",
    "    def handle_del_msg(self, i):\n",
    "        with self.vm.options.el:\n",
    "            msg = self.vm.messages.pop(i)\n",
    "            # self.vm.render()\n",
    "            print(f'del {i} {msg}')\n",
    "            \n",
    "    def handle_on_submit(self):\n",
    "        with self.vm.options.el:\n",
    "            clear_output()\n",
    "            display(self.vm.dom)\n",
    "            pprint(self.vm._data)\n",
    "\n",
    "\n",
    "attr_chain_list = [\n",
    "  ('op1', {\n",
    "    'name': 'l1',\n",
    "    'in': [1, 2, 4],\n",
    "  }),\n",
    "  ('op2', {\n",
    "    'name': 'l2',\n",
    "    'in': [5, 6, 7],\n",
    "  }),\n",
    "]\n",
    "\n",
    "data = {\n",
    "    'models': ['llama', 'llama2', 'llama2-chat'],\n",
    "    'model': 'llama',\n",
    "   \n",
    "    'attr_options': attr_chain_list,\n",
    "    'option': attr_chain_list[0][1],\n",
    " \n",
    "    'top_p': 1,\n",
    "    'messages': [\n",
    "        {'role': Role.user.value, 'content': 'hello bot'},\n",
    "        {'role': Role.bot.value, 'content': '## h2 \\nhello user'},\n",
    "        {'role': Role.user.value, 'content': 'world bot'},\n",
    "    ],\n",
    "    'on_edit': True,\n",
    "    # 'msgs': [ {'role': Role.user.value, 'content': 'hello bot'}, ],\n",
    "}\n",
    "# with open('ipywidgets_vue/app.vue') as f:\n",
    "#     vue_app = f.read()\n",
    "#     str_template = re.search('<template>(.*)</template>', vue_app, flags=re.S)[1]\n",
    "    \n",
    "vue = Vue({\n",
    "    'el': widgets.Output(),\n",
    "    'data': data,\n",
    "    'methods': Methods,\n",
    "    'template': get_template_from_vue('ipywidgets_vue/app.vue'),\n",
    "    # 'template': template,\n",
    "}, debug=True)\n",
    "display(vue.options.el)\n",
    "display(vue.debug_log)"
   ]
  },
  {
   "cell_type": "code",
   "execution_count": null,
   "metadata": {},
   "outputs": [],
   "source": []
  },
  {
   "cell_type": "code",
   "execution_count": 11,
   "metadata": {},
   "outputs": [
    {
     "data": {
      "text/plain": [
       "defaultdict(pyvue.Dep, {})"
      ]
     },
     "execution_count": 11,
     "metadata": {},
     "output_type": "execute_result"
    }
   ],
   "source": [
    "vue.messages[2]._deps"
   ]
  },
  {
   "cell_type": "code",
   "execution_count": 24,
   "metadata": {},
   "outputs": [],
   "source": [
    "import time\n",
    "for i in range(20):\n",
    "    time.sleep(0.05)\n",
    "    vue.messages[0]['content'] += 's'"
   ]
  },
  {
   "cell_type": "code",
   "execution_count": 17,
   "metadata": {},
   "outputs": [],
   "source": [
    "vue.messages = [{'role': 'USER', 'content': 'replace bot'}]"
   ]
  },
  {
   "cell_type": "code",
   "execution_count": 35,
   "metadata": {},
   "outputs": [],
   "source": [
    "vue.models = ['1', '2']"
   ]
  },
  {
   "cell_type": "code",
   "execution_count": 6,
   "metadata": {},
   "outputs": [
    {
     "data": {
      "application/vnd.jupyter.widget-view+json": {
       "model_id": "002062aa813a40a8bfa3092c62376bac",
       "version_major": 2,
       "version_minor": 0
      },
      "text/plain": [
       "AppLayout(children=(Button(button_style='danger', description='b1', layout=Layout(grid_area='right-sidebar', w…"
      ]
     },
     "execution_count": 6,
     "metadata": {},
     "output_type": "execute_result"
    }
   ],
   "source": [
    "b1 = widgets.Button(description='b1', button_style='danger',layout=widgets.Layout(width='100%'))\n",
    "b2 =  widgets.Button(description='b2', layout=widgets.Layout(width='100%'))\n",
    "app = widgets.AppLayout(right_sidebar=b1, center=b2, pane_widths=[0,3,1.5])\n",
    "app"
   ]
  },
  {
   "cell_type": "code",
   "execution_count": 8,
   "metadata": {},
   "outputs": [],
   "source": [
    "app.children = [b1]"
   ]
  },
  {
   "cell_type": "markdown",
   "metadata": {},
   "source": [
    "# 🚀 LLaMA2 dev GUI"
   ]
  },
  {
   "cell_type": "code",
   "execution_count": 1,
   "metadata": {},
   "outputs": [
    {
     "data": {
      "application/vnd.jupyter.widget-view+json": {
       "model_id": "e3751f603aa0489f935a59e54e619fd8",
       "version_major": 2,
       "version_minor": 0
      },
      "text/plain": [
       "Output()"
      ]
     },
     "metadata": {},
     "output_type": "display_data"
    }
   ],
   "source": [
    "import pathlib\n",
    "import ipywidgets as widgets\n",
    "\n",
    "from ipywui import IPywidgets\n",
    "from vuepy import create_app, import_sfc\n",
    "\n",
    "source_root = pathlib.Path().absolute().parent\n",
    "App = import_sfc(source_root / 'examples' / 'llamacpp_dev' / 'LlamacppDev.vue')\n",
    "\n",
    "app = create_app(App, debug=True).use(IPywidgets)\n",
    "app.mount(widgets.Output())"
   ]
  },
  {
   "cell_type": "code",
   "execution_count": 6,
   "metadata": {},
   "outputs": [],
   "source": []
  },
  {
   "cell_type": "markdown",
   "metadata": {},
   "source": [
    "# 🚀 Openai Playground Demo"
   ]
  },
  {
   "cell_type": "code",
   "execution_count": 3,
   "metadata": {},
   "outputs": [],
   "source": [
    "# todo"
   ]
  },
  {
   "cell_type": "code",
   "execution_count": 1,
   "metadata": {},
   "outputs": [
    {
     "name": "stdout",
     "output_type": "stream",
     "text": [
      "get[]\n",
      "get attr a\n",
      "set[]\n",
      "set attr a: 2\n",
      "get\n",
      "get attr a\n",
      "set\n",
      "get attr b\n",
      "print\n",
      "get attr _ipython_canary_method_should_not_exist_\n",
      "get attr _ipython_canary_method_should_not_exist_\n",
      "get attr a\n",
      "get attr b\n",
      "get attr _ipython_canary_method_should_not_exist_\n",
      "get attr _ipython_canary_method_should_not_exist_\n",
      "get attr _ipython_canary_method_should_not_exist_\n",
      "get attr _ipython_canary_method_should_not_exist_\n",
      "get attr _ipython_canary_method_should_not_exist_\n",
      "get attr _ipython_canary_method_should_not_exist_\n",
      "get attr _ipython_canary_method_should_not_exist_\n",
      "get attr _ipython_canary_method_should_not_exist_\n",
      "get attr _ipython_canary_method_should_not_exist_\n"
     ]
    },
    {
     "data": {
      "text/plain": [
       "{'a': 2, 'b': {'c': 1}}"
      ]
     },
     "execution_count": 1,
     "metadata": {},
     "output_type": "execute_result"
    }
   ],
   "source": [
    "class Dict(dict):\n",
    "    def __getitem__(self, attr):\n",
    "        print(f'get attr {attr}')\n",
    "        return super().__getitem__(attr)\n",
    "        \n",
    "    def __getattr__(self, attr):\n",
    "        return self.__getitem__(attr)\n",
    "        \n",
    "    def __setitem__(self, attr, value):\n",
    "        print(f'set attr {attr}: {value}')\n",
    "        super().__setitem__(attr, value)\n",
    "\n",
    "    def __setattr__(self, attr, value):\n",
    "        self.__setitem__(attr, value)\n",
    "\n",
    "d = {'a': 1, 'b': {'c': 2}}\n",
    "dd = Dict(d)\n",
    "print('get[]')\n",
    "dd['a']\n",
    "print('set[]')\n",
    "dd['a'] = 2\n",
    "print('get')\n",
    "dd.a\n",
    "print('set')\n",
    "dd.b['c'] = 1\n",
    "print('print')\n",
    "dd"
   ]
  },
  {
   "cell_type": "markdown",
   "metadata": {},
   "source": [
    "将一个ipywidgets转换为vue component，\n",
    "\n",
    "```python\n",
    "ai> 将以下组件的参数转换为vue component的props定义：widgets.IntProgress(\n",
    "    value=7,\n",
    "    min=0,\n",
    "    max=10,\n",
    "    description='Loading:',\n",
    "    bar_style='', # 'success', 'info', 'warning', 'danger' or ''\n",
    "    style={'bar_color': 'maroon'},\n",
    "    orientation='horizontal'\n",
    ")\n",
    "\n",
    "ai> 将https://ipywidgets.readthedocs.io/en/latest/examples/Widget%20List.html 中selection widgets的各个widgets的参数，转换为vue component的props定义，并标注出和这个widget最匹配的element-ui组件\n",
    "```"
   ]
  },
  {
   "cell_type": "code",
   "execution_count": null,
   "metadata": {},
   "outputs": [],
   "source": []
  }
 ],
 "metadata": {
  "kernelspec": {
   "display_name": "Python 3 (ipykernel)",
   "language": "python",
   "name": "python3"
  },
  "language_info": {
   "codemirror_mode": {
    "name": "ipython",
    "version": 3
   },
   "file_extension": ".py",
   "mimetype": "text/x-python",
   "name": "python",
   "nbconvert_exporter": "python",
   "pygments_lexer": "ipython3",
   "version": "3.10.12"
  }
 },
 "nbformat": 4,
 "nbformat_minor": 4
}