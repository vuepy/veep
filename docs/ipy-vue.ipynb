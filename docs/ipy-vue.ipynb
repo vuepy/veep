{
 "cells": [
  {
   "cell_type": "markdown",
   "metadata": {
    "collapsed": false,
    "jupyter": {
     "outputs_hidden": false
    },
    "pycharm": {
     "name": "#%% md\n"
    }
   },
   "source": [
    "==TODO==\n",
    "\n",
    "- [ ] 模板编译，两个控件关联同一个变量如何处理\n",
    "- [ ] vue.top_p时做到按需刷新界面，当前为重新绘制, [constraint-propagate](https://github.com/leilux/SICP-exercises/blob/master/book/p216-constraint-propagate(python%20version).py#L124)\n",
    "  - model和view连接到constraint\n",
    "  - （ui操作）控件值变化，observe通过constraint更新其他控件、vm.xxx。其他控件值更新也会触发observe，通过判断当前  constraint是否在notify状态决定是否要调用notify。\n",
    "  - vm.xxx改变，set()通过constraint更新其他控件，其他控件值更新也会触发observe，通过判断当前constraint是否在notify状态决定是否要调用notify。\n",
    "  - （ui操作）on_click、methods中函数等导致列表元素个数发生改变，on_click_handler中重新render界面"
   ]
  },
  {
   "cell_type": "raw",
   "metadata": {
    "collapsed": false,
    "jupyter": {
     "outputs_hidden": false
    },
    "pycharm": {
     "name": "#%%\n"
    }
   },
   "source": [
    "import ast\n",
    "import enum\n",
    "import functools\n",
    "import re\n",
    "\n",
    "import ipywidgets as widgets\n",
    "from IPython.display import clear_output\n",
    "from IPython.display import display"
   ]
  },
  {
   "cell_type": "markdown",
   "metadata": {
    "collapsed": false,
    "jp-MarkdownHeadingCollapsed": true,
    "jupyter": {
     "outputs_hidden": false
    },
    "pycharm": {
     "name": "#%% md\n"
    }
   },
   "source": [
    "# VueTemplate"
   ]
  },
  {
   "cell_type": "code",
   "execution_count": 15,
   "metadata": {
    "collapsed": false,
    "jupyter": {
     "outputs_hidden": false
    },
    "pycharm": {
     "name": "#%%\n"
    }
   },
   "outputs": [],
   "source": [
    "from html.parser import HTMLParser\n",
    "\n",
    "class Tag:\n",
    "    AppLayout = \"AppLayout\".lower()\n",
    "    Box = \"Box\".lower()\n",
    "    HBox = \"HBox\".lower()\n",
    "    FloatSlider = \"FloatSlider\".lower()\n",
    "    Dropdown = \"Dropdown\".lower()\n",
    "    Textarea = \"Textarea\".lower()\n",
    "    Button = 'Button'.lower()\n",
    "    MarkdownViewer = 'MarkdownViewer'.lower()\n",
    "    Template = 'template'\n",
    "\n",
    "    container_tags = (AppLayout, Box, HBox, Template)\n",
    "    leaf_tags = (FloatSlider, Dropdown, Textarea, Button, MarkdownViewer)\n",
    "\n",
    "    @classmethod\n",
    "    def is_container(cls, t):\n",
    "        return t in [i.lower() for i in cls.container_tags]\n",
    "\n",
    "    @classmethod\n",
    "    def is_leaf(cls, t):\n",
    "        return t in [i.lower() for i in cls.leaf_tags]\n",
    "\n",
    "    @classmethod\n",
    "    def get_widget(cls, t):\n",
    "        return getattr(widgets, getattr(cls, t))\n",
    "\n",
    "\n",
    "class VForStatement:\n",
    "    def __init__(self, target, iters, index=None):\n",
    "        self.i = index\n",
    "        self.target = target\n",
    "        self.iter = iters\n",
    "\n",
    "    @classmethod\n",
    "    def parse(cls, s):\n",
    "        i_target, iters = [i.strip() for i in s.split('in')]\n",
    "        i_target = [i.strip() for i in i_target.strip('()').split(',')]\n",
    "        if len(i_target) == 1:\n",
    "            i, target = None, i_target[0]\n",
    "        else:\n",
    "            i, target = i_target[0], i_target[1]\n",
    "\n",
    "        return cls(target.strip(), iters, i)\n",
    "\n",
    "class ForScope:\n",
    "    def __init__(self, i_val, for_stmt: VForStatement, vm: 'Vue'):\n",
    "        self.for_stmt = for_stmt\n",
    "        self.i = i_val\n",
    "        self.iter = get_attr(vm, for_stmt.iter)\n",
    "        log_debug(f\"get vm.{for_stmt.iter} {self.iter}\")\n",
    "        self.target = self.iter[self.i]\n",
    "\n",
    "\n",
    "class Directive:\n",
    "    v_for = 'v-for'\n",
    "    v_slot = 'v-slot:'\n",
    "    v_js_link = 'v-js-link'\n",
    "    v_model = 'v-model'\n",
    "    event_prefix = '@'\n",
    "    single_bound_prefix = ':'\n",
    "\n",
    "    @classmethod\n",
    "    def is_v_for(cls, attr, value):\n",
    "        if attr == cls.v_for:\n",
    "            pass\n",
    "\n",
    "    @classmethod\n",
    "    def is_v_slot(cls, attr, value):\n",
    "        if not attr.startswith(cls.v_slot):\n",
    "            return False, None\n",
    "        return True, attr.split(':')[1]\n",
    "\n",
    "    @classmethod\n",
    "    def is_v_js_link(cls, attr, value):\n",
    "        if attr == cls.v_js_link:\n",
    "            return True, None\n",
    "        return False, None\n",
    "\n",
    "    @classmethod\n",
    "    def is_v_model(cls, attr, value):\n",
    "        if attr == cls.v_model:\n",
    "            return True, value\n",
    "        return False, None\n",
    "\n",
    "    @classmethod\n",
    "    def is_event(cls, attr: str, func):\n",
    "        if not attr.startswith(cls.event_prefix):\n",
    "            return False, attr, None, None\n",
    "        event = attr.lstrip(cls.event_prefix)\n",
    "        match = re.match('(.*)\\((.*)\\)', func)\n",
    "        if not match:\n",
    "            return True, event, func, None\n",
    "\n",
    "        func = match[1]\n",
    "        args = [i.strip() for i in match[2].split(',')]\n",
    "        return True, event, func, args\n",
    "\n",
    "\n",
    "    @classmethod\n",
    "    def is_single_bound(cls, attr: str, value):\n",
    "        if attr.startswith(cls.single_bound_prefix):\n",
    "            return True, attr.lstrip(cls.single_bound_prefix)\n",
    "        return False, None\n",
    "\n",
    "\n",
    "class VueTemplate(HTMLParser):\n",
    "    \"\"\"\n",
    "    https://docs.python.org/zh-cn/3.10/library/ast.html#function-and-class-definitions\n",
    "    \"\"\"\n",
    "    def __init__(self, vm: 'Vue'):\n",
    "        super().__init__()\n",
    "        self.vm = vm\n",
    "        self.widgets = []\n",
    "        self.widgets_by_id = {}\n",
    "        self.parent_node_stack = []\n",
    "        self.v_for_stack = []\n",
    "\n",
    "    def _get_element_by_id(self, el_id):\n",
    "        return self.widgets_by_id.get(el_id)\n",
    "\n",
    "    @property\n",
    "    def is_in_for_stmt(self):\n",
    "        return bool(self.v_for_stack)\n",
    "\n",
    "    def _process_directive(self):\n",
    "        pass\n",
    "\n",
    "    def _gen_ast_node(self, tag, attrs, for_scope=None):\n",
    "        if Tag.is_container(tag):\n",
    "            node = self._container_tag_enter(tag, attrs, for_scope)\n",
    "        elif Tag.is_leaf(tag):\n",
    "            node = self._leaf_tag_enter(tag, attrs, for_scope)\n",
    "        else:\n",
    "            # TODO\n",
    "            # node = self._html_tag_enter(tag, attrs)\n",
    "            raise Exception(f\"tag '{tag}' not support.\")\n",
    "        return node\n",
    "\n",
    "    def _gen_widget(self, node, for_scope=None):\n",
    "        if Tag.is_container(node['tag']):\n",
    "            widget = self._container_tag_exit(node, for_scope)\n",
    "        else:\n",
    "            widget = self._leaf_tag_exit(node, for_scope)\n",
    "        return widget\n",
    "\n",
    "    def _widget_factory(self, widget_cls, attrs, scopes, v_model_widget='value'):\n",
    "        kwargs = {}\n",
    "        on_event = {}\n",
    "        v_model_vm = None\n",
    "        v_slot = None\n",
    "        for attr, value in attrs.items():\n",
    "            # :attr=value\n",
    "            ok, var = Directive.is_single_bound(attr, value)\n",
    "            if ok:\n",
    "                try:\n",
    "                    _value = ast.literal_eval(value)\n",
    "                    kwargs[var] = _value\n",
    "                    continue\n",
    "                except:\n",
    "                    pass\n",
    "                kwargs[var] = get_attr_from_scopes(scopes, value)\n",
    "                continue\n",
    "            # v-model\n",
    "            ok, model_vm = Directive.is_v_model(attr, value)\n",
    "            if ok:\n",
    "                v_model_vm = model_vm\n",
    "                # print(f'>> get v-model {widget_cls} {v_model_widget} ot {v_model_vm}')\n",
    "                kwargs[v_model_widget] = get_attr_from_scopes(scopes, v_model_vm)\n",
    "                continue\n",
    "            # @click\n",
    "            ok, event, func, args = Directive.is_event(attr, value)\n",
    "            if ok:\n",
    "                on_event[event] = (func, args)\n",
    "                continue\n",
    "            # TODO 去除不需要的参数\n",
    "            ok, slot = Directive.is_v_slot(attr, value)\n",
    "            if ok:\n",
    "                v_slot = slot\n",
    "                continue\n",
    "            kwargs[attr] = value\n",
    "\n",
    "        widget = widget_cls(**kwargs)\n",
    "        if v_slot:\n",
    "            widget.v_slot = v_slot\n",
    "\n",
    "        # process directive\n",
    "        def handle_value_change(_scopes, exp):\n",
    "            def warp(change):\n",
    "                ret = set_attr_to_scopes(_scopes, exp, change['new'])\n",
    "                # print(f'>>> change {exp} to {change[\"new\"]}, {ret}')\n",
    "            return warp\n",
    "\n",
    "        if v_model_vm:\n",
    "            # print(f\">> register observe {widget_cls} {v_model_widget} -> {v_model_vm}\")\n",
    "            widget.observe(handle_value_change(scopes, v_model_vm), names=f'{v_model_widget}')\n",
    "\n",
    "        for _event, (func_name, args_name) in on_event.items():\n",
    "            func = getattr(self.vm.methods, func_name)\n",
    "            if args_name:\n",
    "                args = []\n",
    "                for arg_name in args_name:\n",
    "                    if arg_name[0].isalpha() or arg_name[0] == '_':\n",
    "                        arg = get_attr_from_scopes(scopes, arg_name)\n",
    "                    else:\n",
    "                        arg = ast.literal_eval(arg_name)\n",
    "                    args.append(arg)\n",
    "                func = functools.partial(func, *args)\n",
    "            getattr(widget, f'on_{_event}')(func)\n",
    "\n",
    "        return widget\n",
    "\n",
    "    def _container_tag_enter(self, tag, attrs, for_scope=None):\n",
    "        ast_node = {\"tag\": tag, 'attrs': attrs, 'body': []}\n",
    "        return ast_node\n",
    "\n",
    "    def _container_tag_exit(self, node, for_scope=None):\n",
    "        tag = node['tag']\n",
    "        attrs = node['attrs']\n",
    "        widgets_map = {\n",
    "            Tag.AppLayout: widgets.AppLayout,\n",
    "            Tag.Box: widgets.Box,\n",
    "            Tag.HBox: widgets.HBox,\n",
    "            Tag.Template: widgets.VBox,\n",
    "        }\n",
    "\n",
    "        log_debug(f\"_container_tag_exit {node}\")\n",
    "        # cur_node = self.parent_node_stack.pop(-1)\n",
    "        if tag == Tag.AppLayout.lower():\n",
    "            kwargs = {}\n",
    "            for child in node['body']:\n",
    "                log_debug(f\"child {child}\")\n",
    "                kwargs[child.v_slot] = child\n",
    "            widget = widgets_map[tag](**kwargs)\n",
    "        elif tag == Tag.Box.lower() or tag == Tag.HBox.lower():\n",
    "            widget = widgets_map[tag](node['body'])\n",
    "        elif tag == Tag.Template.lower():\n",
    "            widget = widgets_map[tag](node['body'])\n",
    "        else:\n",
    "            raise Exception(f'error: container_tag_exit, {tag} not support.')\n",
    "\n",
    "        for attr, value in attrs.items():\n",
    "            ok, slot = Directive.is_v_slot(attr, value)\n",
    "            if ok:\n",
    "                widget.v_slot = slot\n",
    "                continue\n",
    "\n",
    "        return widget\n",
    "\n",
    "    def _leaf_tag_enter(self, tag, attrs, for_scope=None):\n",
    "        ast_node = {\"tag\": tag, 'attrs': attrs}\n",
    "        return ast_node\n",
    "\n",
    "    def _leaf_tag_exit(self, node, for_scope: ForScope = None):\n",
    "        tag = node['tag']\n",
    "        scopes = [self.vm]\n",
    "        if for_scope:\n",
    "            scopes.append(for_scope)\n",
    "\n",
    "        widgets_map = {\n",
    "            Tag.FloatSlider: widgets.FloatSlider,\n",
    "            Tag.Dropdown: widgets.Dropdown,\n",
    "            Tag.Button: widgets.Button,\n",
    "            Tag.Textarea: widgets.Textarea,\n",
    "            Tag.MarkdownViewer: MarkdownViewer,\n",
    "        }\n",
    "        v_model_widget = 'value'\n",
    "        if tag == Tag.Button:\n",
    "            v_model_widget = 'description'\n",
    "        \n",
    "        return self._widget_factory(widgets_map[tag], node['attrs'], scopes, v_model_widget)\n",
    "\n",
    "\n",
    "    def _html_tag_enter(self):\n",
    "        pass\n",
    "\n",
    "    def _html_tag_exit(self):\n",
    "        pass\n",
    "\n",
    "    def _for_stmt_enter(self, for_stmt: VForStatement, tag, attrs, is_body):\n",
    "        body = []\n",
    "        for i, target in enumerate(getattr(self.vm, for_stmt.iter)):\n",
    "            for_scope = (i, target)\n",
    "            body.append(self._gen_ast_node(tag, attrs, for_scope))\n",
    "\n",
    "        if is_body:\n",
    "            ast_node = {\n",
    "                \"tag\": 'v_for',\n",
    "                'v_for_body': for_stmt,\n",
    "                \"body\": body,\n",
    "            }\n",
    "        else:\n",
    "            ast_node = {\n",
    "                \"tag\": 'v_for',\n",
    "                'v_for': for_stmt,\n",
    "                \"body\": body,\n",
    "            }\n",
    "        return ast_node\n",
    "\n",
    "    def _for_stmt_exit(self, v_for_ast_node, is_body=False):\n",
    "        _widgets = []\n",
    "        # v_for_stmt = v_for_ast_node['v_for']\n",
    "        v_for_stmt = self.v_for_stack[-1]\n",
    "        _iter = getattr(self.vm, v_for_stmt.iter)\n",
    "        for i, target in enumerate(_iter):\n",
    "            # for_scope = (v_for_stmt.i, i, v_for_stmt.target, target, v_for_stmt.target)\n",
    "            for_scope = ForScope(i, v_for_stmt, self.vm)\n",
    "            node = v_for_ast_node['body'][i]\n",
    "            widget = self._gen_widget(node, for_scope)\n",
    "            _widgets.append(widget)\n",
    "\n",
    "        return _widgets\n",
    "\n",
    "    def handle_starttag(self, tag, attrs):\n",
    "        attrs = dict(attrs)\n",
    "        v_for_stmt = attrs.pop(Directive.v_for, None)\n",
    "        if v_for_stmt or self.v_for_stack:\n",
    "            is_header = bool(v_for_stmt)\n",
    "            if is_header:\n",
    "                v_for = VForStatement.parse(v_for_stmt)\n",
    "                self.v_for_stack.append(v_for)\n",
    "            v_for = self.v_for_stack[-1]\n",
    "            node = self._for_stmt_enter(v_for, tag, attrs, not is_header)\n",
    "        else:\n",
    "            node = self._gen_ast_node(tag, attrs)\n",
    "        self.parent_node_stack.append(node)\n",
    "\n",
    "    def handle_endtag(self, tag):\n",
    "        node = self.parent_node_stack.pop()\n",
    "        if self.is_in_for_stmt:\n",
    "            is_body = 'v_for' not in node\n",
    "            _widgets = self._for_stmt_exit(node, is_body)\n",
    "            if is_body:\n",
    "                for i, widget in enumerate(_widgets):\n",
    "                    self.parent_node_stack[-1]['body'][i]['body'].append(widget)\n",
    "            else:\n",
    "                self.parent_node_stack[-1]['body'].extend(_widgets)\n",
    "                self.v_for_stack.pop()\n",
    "        else:\n",
    "            widget = self._gen_widget(node)\n",
    "            if self.parent_node_stack:\n",
    "                self.parent_node_stack[-1]['body'].append(widget)\n",
    "            else:\n",
    "                self.widgets.append(widget)\n",
    "\n",
    "    def compile(self, html):\n",
    "        self.feed(html)\n",
    "        if len(self.widgets) == 1:\n",
    "            return self.widgets[0]\n",
    "        return widgets.VBox(self.widgets)\n",
    "        \n",
    "# vue_template = VueTemplate(vue)\n",
    "# app = vue_template.compile()\n",
    "# display(app)"
   ]
  },
  {
   "cell_type": "markdown",
   "metadata": {
    "collapsed": false,
    "jp-MarkdownHeadingCollapsed": true,
    "jupyter": {
     "outputs_hidden": false
    },
    "pycharm": {
     "name": "#%% md\n"
    }
   },
   "source": [
    "# Vue"
   ]
  },
  {
   "cell_type": "code",
   "execution_count": 16,
   "metadata": {
    "collapsed": false,
    "jupyter": {
     "outputs_hidden": false
    },
    "pycharm": {
     "name": "#%%\n"
    }
   },
   "outputs": [],
   "source": [
    "class Options:\n",
    "    def __init__(self, options):\n",
    "        self.el = options.get('el')\n",
    "        self.data = options.get('data')\n",
    "        self.methods = options.get('methods', {})\n",
    "        self.template = options.get('template')\n",
    "\n",
    "        self.before_create = options.get('before_create')\n",
    "        self.created = options.get('created')\n",
    "        self.before_mount = options.get('before_mount')\n",
    "        self.mounted = options.get('mounted')\n",
    "        self.before_update = options.get('before_update ')\n",
    "        self.updated = options.get('updated ')\n",
    "        self.render = options.get('render')\n",
    "\n",
    "\n",
    "class ReactiveField:\n",
    "    def __init__(self, field_name, data):\n",
    "        self.field_name = field_name\n",
    "        self._data = data\n",
    "\n",
    "    def __get__(self, instance, owner):\n",
    "        return self._data[self.field_name]\n",
    "\n",
    "    def __set__(self, instance: 'Vue', new_value):\n",
    "        self._data[self.field_name] = new_value\n",
    "\n",
    "        instance._call_if_callable(instance.options.before_update)\n",
    "        instance.render()\n",
    "        instance._call_if_callable(instance.options.updated)\n",
    "\n",
    "\n",
    "class Dict(dict):\n",
    "    pass\n",
    "\n",
    "def _get_attr(scope, exp, default=None):\n",
    "    attr_chain = exp.split('.')\n",
    "    data = scope\n",
    "    for attr in attr_chain:\n",
    "        # TODO 可以用自定义的Nil替代，区分值为None的情况\n",
    "        if isinstance(data, dict):\n",
    "            data = data.get(attr, default)\n",
    "        else:\n",
    "            data = getattr(data, attr, default)\n",
    "    return data\n",
    "\n",
    "def get_attr_from_for_scope(scope: 'ForScope', exp: str, default=None):\n",
    "    attr_split = exp.split('.', 1)\n",
    "    if len(attr_split) == 1:\n",
    "        attr_base, attrs = exp, ''\n",
    "    else:\n",
    "        attr_base, attrs = attr_split\n",
    "\n",
    "    if attr_base == scope.for_stmt.iter:\n",
    "        log_debug(f\"get_attr_from_for iter {exp}  {attrs} from {scope.iter}\")\n",
    "        data_base = scope.iter\n",
    "    elif attr_base == scope.for_stmt.target:\n",
    "        log_debug(f\"get_attr_from_for target {exp} {attrs} from {scope.target}\")\n",
    "        data_base = scope.target\n",
    "        \n",
    "    if attrs:\n",
    "        data = _get_attr(data_base, attrs, default) \n",
    "    else:\n",
    "        data = data_base\n",
    "    return data\n",
    "\n",
    "def get_attr(scope, exp, default=None):\n",
    "    if isinstance(scope, ForScope):\n",
    "        return get_attr_from_for_scope(scope, exp, default)\n",
    "    return _get_attr(scope, exp, default)\n",
    "\n",
    "\n",
    "def set_attr(scope, exp: str, value, reactive=False):\n",
    "    attrs = exp.rsplit('.', 1)\n",
    "    if len(attrs) == 1:\n",
    "        attr_set = attrs[0]\n",
    "        data = scope\n",
    "    else:\n",
    "        _attr_get, attr_set = attrs\n",
    "        data = get_attr(scope, _attr_get)\n",
    "        \n",
    "    if data is None:\n",
    "        return False\n",
    "\n",
    "    if reactive:\n",
    "        setattr(data, attr_set, value)\n",
    "    else:\n",
    "        if isinstance(data, Vue):\n",
    "            data._data[attr_set] = value\n",
    "        else:\n",
    "            data[attr_set] = value\n",
    "\n",
    "    return True\n",
    "\n",
    "def get_attr_from_scopes(scopes, exp):\n",
    "    for scope in scopes[::-1]:\n",
    "        data = get_attr(scope, exp)\n",
    "        if data is not None:\n",
    "            return data\n",
    "\n",
    "def set_attr_to_scopes(scopes, exp, value, reactive=False):\n",
    "    for scope in scopes[::-1]:\n",
    "        if set_attr(scope, exp, value, reactive):\n",
    "            return True\n",
    "    return False\n",
    "\n",
    "\n",
    "class Vue:\n",
    "    def __init__(self, options):\n",
    "        self.dom = None\n",
    "        self.options = Options(options)\n",
    "        self._call_if_callable(self.options.before_create)\n",
    "        self._data = self.options.data\n",
    "        self._call_if_callable(self.options.created)\n",
    "        self._proxy_data()\n",
    "        self.methods: Methods = self.options.methods(self)\n",
    "        self._proxy_methods()\n",
    "\n",
    "        self.mount(self.options.el)\n",
    "\n",
    "    def _call_if_callable(self, func):\n",
    "        if callable(func):\n",
    "            func(self)\n",
    "\n",
    "    # TODO 全部代理\n",
    "    def _proxy_data(self):\n",
    "        for key, value in self._data.items():\n",
    "            if isinstance(value, dict):\n",
    "                item = Dict(value)\n",
    "                setattr(self.__class__, key, ReactiveField(key, self._data))\n",
    "                for sub_key, sub_value in value.items():\n",
    "                    # sub_self = self._data[key]\n",
    "                    # setattr(sub_self.__class__, sub_key, ReactiveField(sub_key, self._data[key]))\n",
    "                    setattr(item.__class__, sub_key, ReactiveField(sub_key, item))\n",
    "                self._data[key] = item\n",
    "            elif isinstance(value, list) and isinstance(value[0], dict):\n",
    "                for i, item in enumerate(value):\n",
    "                    item = Dict(item)\n",
    "                    for sub_key, sub_value in item.items():\n",
    "                        setattr(item.__class__, sub_key, ReactiveField(sub_key, item))\n",
    "                    value[i] = item\n",
    "                # TODO 响应式的list\n",
    "                setattr(self.__class__, key, value)\n",
    "            else:\n",
    "                log_debug(f'set {self.__class__.__name__} {key}')\n",
    "                setattr(self.__class__, key, ReactiveField(key, self._data))\n",
    "                log_debug(f'get {self.__class__.__name__} {key} {getattr(self, key)}')\n",
    "\n",
    "    def _proxy_methods(self):\n",
    "        pass\n",
    "        # for func_name, func in self.options.methods.items():\n",
    "        #     # TODO 绑定self\n",
    "        #     # setattr(self, func_name, )\n",
    "        #     pass\n",
    "\n",
    "    def mount(self, el):\n",
    "        self._call_if_callable(self.options.before_mount)\n",
    "        self.render()\n",
    "        self._call_if_callable(self.options.mounted)\n",
    "\n",
    "    def _compile_template(self, template):\n",
    "        vue_template = VueTemplate(self)\n",
    "        return vue_template.compile(template)\n",
    "\n",
    "    def render(self):\n",
    "        # clear_output()\n",
    "        with self.options.el:\n",
    "            if callable(self.options.template):\n",
    "                self.dom = self.options.template(self)\n",
    "            else:\n",
    "                self.dom = self._compile_template(self.options.template)\n",
    "                \n",
    "            clear_output(True)\n",
    "            display(self.dom)"
   ]
  },
  {
   "cell_type": "markdown",
   "metadata": {
    "collapsed": false,
    "jupyter": {
     "outputs_hidden": false
    },
    "pycharm": {
     "name": "#%% md\n"
    }
   },
   "source": [
    "# template"
   ]
  },
  {
   "cell_type": "code",
   "execution_count": 1,
   "metadata": {
    "pycharm": {
     "name": "#%%\n"
    }
   },
   "outputs": [
    {
     "ename": "NameError",
     "evalue": "name 'widgets' is not defined",
     "output_type": "error",
     "traceback": [
      "\u001b[0;31m---------------------------------------------------------------------------\u001b[0m",
      "\u001b[0;31mNameError\u001b[0m                                 Traceback (most recent call last)",
      "Cell \u001b[0;32mIn[1], line 1\u001b[0m\n\u001b[0;32m----> 1\u001b[0m html_hr \u001b[38;5;241m=\u001b[39m \u001b[43mwidgets\u001b[49m\u001b[38;5;241m.\u001b[39mHTML(\u001b[38;5;124m'\u001b[39m\u001b[38;5;124m<hr>\u001b[39m\u001b[38;5;124m'\u001b[39m)\n\u001b[1;32m      2\u001b[0m html_br \u001b[38;5;241m=\u001b[39m widgets\u001b[38;5;241m.\u001b[39mHTML(\u001b[38;5;124m'\u001b[39m\u001b[38;5;124m<br>\u001b[39m\u001b[38;5;124m'\u001b[39m)\n\u001b[1;32m      4\u001b[0m \u001b[38;5;28;01mclass\u001b[39;00m \u001b[38;5;21;01mRole\u001b[39;00m(enum\u001b[38;5;241m.\u001b[39mEnum):\n",
      "\u001b[0;31mNameError\u001b[0m: name 'widgets' is not defined"
     ]
    }
   ],
   "source": [
    "html_hr = widgets.HTML('<hr>')\n",
    "html_br = widgets.HTML('<br>')\n",
    "\n",
    "class Role(enum.Enum):\n",
    "    user = 'USER'\n",
    "    bot = 'BOT'\n",
    "\n",
    "    def __invert__(self):\n",
    "        return Role.user if self == Role.bot else Role.bot\n",
    "\n",
    "\n",
    "def update_value(func):\n",
    "    def warp(change):\n",
    "        func(change['new'])\n",
    "    return warp\n",
    "\n",
    "\n",
    "def update_list_value(index):\n",
    "    def warp(func):\n",
    "        def _(change):\n",
    "            func(index, change['new'])\n",
    "        return _\n",
    "    return warp\n",
    "\n",
    "\n",
    "def template(vm: Vue):\n",
    "    # right sider bar\n",
    "    # ==============================\n",
    "    def _update_value(key):\n",
    "        @update_value\n",
    "        def update(value):\n",
    "            vm._data[key] = value\n",
    "        return update\n",
    "\n",
    "    model = widgets.Dropdown(options=vm.models, value=vm._data['model'], tooltip='aaaa', description='model')\n",
    "    model.observe(_update_value('model'), names='value')\n",
    "        \n",
    "    top_p = widgets.FloatSlider(value=vm._data['top_p'], min=0, max=1, step=0.01, description=\"top_p\",\n",
    "                                continuous_update=False, readout_format='.2f')\n",
    "    top_p.observe(_update_value('top_p'), names='value')\n",
    "\n",
    "    right_sidebar = widgets.VBox([\n",
    "        model,\n",
    "        top_p,\n",
    "    ])\n",
    "    # center\n",
    "    # ==============================\n",
    "    chat_exchange = []\n",
    "    for i, msg in enumerate(vm._data['msgs']):\n",
    "        @update_list_value(i)\n",
    "        def update_role_label(index, value):\n",
    "            vm._data['msgs'][index]['role'] = value\n",
    "\n",
    "        def handle_role_label_on_click(owner):\n",
    "            owner.description = (~Role(owner.description)).value\n",
    "\n",
    "        msg_role = widgets.Button(description=msg['role'])\n",
    "        msg_role.observe(update_role_label, names='description')\n",
    "        msg_role.on_click(handle_role_label_on_click)\n",
    "\n",
    "        def handle_del_msg_on_click(owner):\n",
    "            vm.msgs.pop(owner.v_for_index)\n",
    "            # TODO 实现自动更新\n",
    "            vm.render()\n",
    "        del_msg = widgets.Button(icon='minus-circle', button_style='danger')\n",
    "        del_msg.v_for_index = i\n",
    "        del_msg.on_click(handle_del_msg_on_click)\n",
    "\n",
    "        @update_list_value(i)\n",
    "        def update_msg_content(index, value):\n",
    "            vm._data['msgs'][index]['content'] = value\n",
    "\n",
    "        msg_content = widgets.Textarea(value=msg['content'])\n",
    "        msg_content.observe(update_msg_content, names='value')\n",
    "\n",
    "        msg_row = widgets.HBox([msg_role, msg_content, del_msg])\n",
    "        chat_exchange.append(msg_row)\n",
    "        chat_exchange.append(html_hr)\n",
    "\n",
    "    def handle_add_msg_on_click(e):\n",
    "        role = ~Role(vm.msgs[-1]['role']) if len(vm.msgs) else Role.user\n",
    "        msg = {'role': role.value, 'content': ''}\n",
    "        vm.msgs.append(msg)\n",
    "        # TODO 实现自动更新\n",
    "        vm.render()\n",
    "\n",
    "    add_msg = widgets.Button(description='add msg', icon='plus-circle')\n",
    "    add_msg.on_click(handle_add_msg_on_click)\n",
    "\n",
    "    def handle_submit_msg_on_click(e):\n",
    "        with vm.options.el:\n",
    "            print('submit ', vm._data)\n",
    "\n",
    "    submit_msg = widgets.Button(description='submit msg', button_style='success')\n",
    "    submit_msg.on_click(handle_submit_msg_on_click)\n",
    "\n",
    "\n",
    "    center = widgets.VBox([\n",
    "        widgets.VBox(chat_exchange),\n",
    "        add_msg,\n",
    "        html_br,\n",
    "        submit_msg,\n",
    "    ])\n",
    "    app = widgets.AppLayout(\n",
    "        header=None,\n",
    "        footer=None,\n",
    "        left_sidebar=None,\n",
    "        right_sidebar=right_sidebar,\n",
    "        center=center\n",
    "    )\n",
    "    return app"
   ]
  },
  {
   "cell_type": "code",
   "execution_count": 18,
   "metadata": {},
   "outputs": [],
   "source": [
    "# vue.msgs = vue.msgs + [{'role': 'USER', 'content': 'hello'}, {'role': 'USER', 'content': 'hello'}]"
   ]
  },
  {
   "cell_type": "markdown",
   "metadata": {
    "jp-MarkdownHeadingCollapsed": true
   },
   "source": [
    "# 开发用示例 v2"
   ]
  },
  {
   "cell_type": "markdown",
   "metadata": {
    "collapsed": false,
    "jupyter": {
     "outputs_hidden": false
    },
    "pycharm": {
     "name": "#%% md\n"
    }
   },
   "source": [
    "# 开发用示例 v3"
   ]
  },
  {
   "cell_type": "code",
   "execution_count": 5,
   "metadata": {},
   "outputs": [
    {
     "name": "stdout",
     "output_type": "stream",
     "text": [
      "The autoreload extension is already loaded. To reload it, use:\n",
      "  %reload_ext autoreload\n"
     ]
    }
   ],
   "source": [
    "%load_ext autoreload\n",
    "%autoreload 2\n",
    "%reload_ext autoreload"
   ]
  },
  {
   "cell_type": "code",
   "execution_count": 1,
   "metadata": {
    "editable": true,
    "slideshow": {
     "slide_type": ""
    },
    "tags": []
   },
   "outputs": [
    {
     "data": {
      "application/vnd.jupyter.widget-view+json": {
       "model_id": "3fec064440cc45be94c196dcd8d565c4",
       "version_major": 2,
       "version_minor": 0
      },
      "text/plain": [
       "Document(children=(Dom(children=(MessageWidget(message_options={'message': '', 'type': 'info', 'show_close': F…"
      ]
     },
     "execution_count": 1,
     "metadata": {},
     "output_type": "execute_result"
    }
   ],
   "source": [
    "from pathlib import Path\n",
    "import ipywidgets as widgets\n",
    "\n",
    "from vuepy import create_app, import_sfc\n",
    "from ipywui import wui\n",
    "\n",
    "App = import_sfc(Path().absolute().parent / 'examples' / 'vue_app'/ 'VueApp.vue')\n",
    "app = create_app(App, debug=True).use(wui)\n",
    "app.mount(widgets.Output())\n",
    "# display(app.debug_log)"
   ]
  },
  {
   "cell_type": "code",
   "execution_count": 3,
   "metadata": {},
   "outputs": [
    {
     "data": {
      "application/vnd.jupyter.widget-view+json": {
       "model_id": "a21e9a2ee01546d88bbc7b26ee8cfa36",
       "version_major": 2,
       "version_minor": 0
      },
      "text/plain": [
       "Output(outputs=({'name': 'stdout', 'output_type': 'stream', 'text': '2024-05-16 00:19:56,564  - [WARNING] vue.…"
      ]
     },
     "execution_count": 3,
     "metadata": {},
     "output_type": "execute_result"
    }
   ],
   "source": [
    "from vuepy.utils import magic\n",
    "%vuepy_log clear"
   ]
  },
  {
   "cell_type": "code",
   "execution_count": 12,
   "metadata": {},
   "outputs": [
    {
     "data": {
      "application/vnd.jupyter.widget-view+json": {
       "model_id": "93b9f4e0e6724a1596e9c1947e92f5c7",
       "version_major": 2,
       "version_minor": 0
      },
      "text/plain": [
       "VBox(children=(HBox(children=(HTML(value='<p>1</p>'), HTML(value='<p>2</p>'))), IntSlider(value=0)))"
      ]
     },
     "execution_count": 12,
     "metadata": {},
     "output_type": "execute_result"
    }
   ],
   "source": [
    "a_c = [widgets.HTML(\"<p>1</p>\"), widgets.HTML(\"<p>2</p>\")]\n",
    "a = widgets.HBox(a_c)\n",
    "widgets.VBox([a, widgets.IntSlider()])"
   ]
  },
  {
   "cell_type": "code",
   "execution_count": 16,
   "metadata": {},
   "outputs": [],
   "source": [
    "a.children = a_c"
   ]
  },
  {
   "cell_type": "code",
   "execution_count": 3,
   "metadata": {},
   "outputs": [
    {
     "name": "stdout",
     "output_type": "stream",
     "text": [
      "1\n"
     ]
    }
   ],
   "source": []
  },
  {
   "cell_type": "code",
   "execution_count": 1,
   "metadata": {
    "pycharm": {
     "is_executing": true,
     "name": "#%%\n"
    }
   },
   "outputs": [
    {
     "data": {
      "application/vnd.jupyter.widget-view+json": {
       "model_id": "3dd4cd025d6b480ea1d767e917e3ec8e",
       "version_major": 2,
       "version_minor": 0
      },
      "text/plain": [
       "Output()"
      ]
     },
     "metadata": {},
     "output_type": "display_data"
    },
    {
     "data": {
      "application/vnd.jupyter.widget-view+json": {
       "model_id": "8e61ca6e7cf14a9d8f44bbefc7894659",
       "version_major": 2,
       "version_minor": 0
      },
      "text/plain": [
       "Output()"
      ]
     },
     "metadata": {},
     "output_type": "display_data"
    }
   ],
   "source": [
    "from pprint import pprint\n",
    "import enum\n",
    "from pyvue import *\n",
    "\n",
    "\n",
    "class Role(enum.Enum):\n",
    "    user = 'USER'\n",
    "    bot = 'BOT'\n",
    "    \n",
    "    def __invert__(self):\n",
    "        return Role.user if self == Role.bot else Role.bot\n",
    "\n",
    "\n",
    "class Methods:\n",
    "    def __init__(self, vm: 'Vue'):\n",
    "        self.vm = vm\n",
    "\n",
    "    def is_bot(self, val):\n",
    "        return val == Role.bot.value\n",
    "\n",
    "    def handle_change_role(self, owner):\n",
    "        print(owner)\n",
    "        owner.description = (~Role(owner.description)).value\n",
    "\n",
    "    def handle_add_msg(self, owner):\n",
    "        role = ~Role(self.vm.messages[-1]['role']) if len(self.vm.messages) else Role.user\n",
    "        msg = {'role': role.value, 'content': ''}\n",
    "        self.vm.messages.append(msg)\n",
    "        # TODO 实现自动更新\n",
    "        # self.vm.render()\n",
    "    \n",
    "    def handle_edit_msg(self, owner):\n",
    "        if owner.icon == 'edit':\n",
    "            state = 'eye'\n",
    "        else:\n",
    "            state = 'edit'\n",
    "        owner.icon = state\n",
    "\n",
    "    def handle_del_msg(self, i):\n",
    "        with self.vm.options.el:\n",
    "            msg = self.vm.messages.pop(i)\n",
    "            # self.vm.render()\n",
    "            print(f'del {i} {msg}')\n",
    "            \n",
    "    def handle_on_submit(self):\n",
    "        with self.vm.options.el:\n",
    "            clear_output()\n",
    "            display(self.vm.dom)\n",
    "            pprint(self.vm._data)\n",
    "\n",
    "\n",
    "attr_chain_list = [\n",
    "  ('op1', {\n",
    "    'name': 'l1',\n",
    "    'in': [1, 2, 4],\n",
    "  }),\n",
    "  ('op2', {\n",
    "    'name': 'l2',\n",
    "    'in': [5, 6, 7],\n",
    "  }),\n",
    "]\n",
    "\n",
    "data = {\n",
    "    'models': ['llama', 'llama2', 'llama2-chat'],\n",
    "    'model': 'llama',\n",
    "   \n",
    "    'attr_options': attr_chain_list,\n",
    "    'option': attr_chain_list[0][1],\n",
    " \n",
    "    'top_p': 1,\n",
    "    'messages': [\n",
    "        {'role': Role.user.value, 'content': 'hello bot'},\n",
    "        {'role': Role.bot.value, 'content': '## h2 \\nhello user'},\n",
    "        {'role': Role.user.value, 'content': 'world bot'},\n",
    "    ],\n",
    "    'on_edit': True,\n",
    "    # 'msgs': [ {'role': Role.user.value, 'content': 'hello bot'}, ],\n",
    "}\n",
    "# with open('ipywidgets_vue/app.vue') as f:\n",
    "#     vue_app = f.read()\n",
    "#     str_template = re.search('<template>(.*)</template>', vue_app, flags=re.S)[1]\n",
    "    \n",
    "vue = Vue({\n",
    "    'el': widgets.Output(),\n",
    "    'data': data,\n",
    "    'methods': Methods,\n",
    "    'template': get_template_from_vue('ipywidgets_vue/app.vue'),\n",
    "    # 'template': template,\n",
    "}, debug=True)\n",
    "display(vue.options.el)\n",
    "display(vue.debug_log)"
   ]
  },
  {
   "cell_type": "code",
   "execution_count": null,
   "metadata": {},
   "outputs": [],
   "source": []
  },
  {
   "cell_type": "code",
   "execution_count": 11,
   "metadata": {},
   "outputs": [
    {
     "data": {
      "text/plain": [
       "defaultdict(pyvue.Dep, {})"
      ]
     },
     "execution_count": 11,
     "metadata": {},
     "output_type": "execute_result"
    }
   ],
   "source": [
    "vue.messages[2]._deps"
   ]
  },
  {
   "cell_type": "code",
   "execution_count": 24,
   "metadata": {},
   "outputs": [],
   "source": [
    "import time\n",
    "for i in range(20):\n",
    "    time.sleep(0.05)\n",
    "    vue.messages[0]['content'] += 's'"
   ]
  },
  {
   "cell_type": "code",
   "execution_count": 17,
   "metadata": {},
   "outputs": [],
   "source": [
    "vue.messages = [{'role': 'USER', 'content': 'replace bot'}]"
   ]
  },
  {
   "cell_type": "code",
   "execution_count": 35,
   "metadata": {},
   "outputs": [],
   "source": [
    "vue.models = ['1', '2']"
   ]
  },
  {
   "cell_type": "code",
   "execution_count": 6,
   "metadata": {},
   "outputs": [
    {
     "data": {
      "application/vnd.jupyter.widget-view+json": {
       "model_id": "002062aa813a40a8bfa3092c62376bac",
       "version_major": 2,
       "version_minor": 0
      },
      "text/plain": [
       "AppLayout(children=(Button(button_style='danger', description='b1', layout=Layout(grid_area='right-sidebar', w…"
      ]
     },
     "execution_count": 6,
     "metadata": {},
     "output_type": "execute_result"
    }
   ],
   "source": [
    "b1 = widgets.Button(description='b1', button_style='danger',layout=widgets.Layout(width='100%'))\n",
    "b2 =  widgets.Button(description='b2', layout=widgets.Layout(width='100%'))\n",
    "app = widgets.AppLayout(right_sidebar=b1, center=b2, pane_widths=[0,3,1.5])\n",
    "app"
   ]
  },
  {
   "cell_type": "code",
   "execution_count": 8,
   "metadata": {},
   "outputs": [],
   "source": [
    "app.children = [b1]"
   ]
  },
  {
   "cell_type": "markdown",
   "metadata": {},
   "source": [
    "# 🚀 LLaMA2 dev GUI"
   ]
  },
  {
   "cell_type": "code",
   "execution_count": 1,
   "metadata": {},
   "outputs": [
    {
     "data": {
      "application/vnd.jupyter.widget-view+json": {
       "model_id": "71816970c97e46259c58080fd192ac7e",
       "version_major": 2,
       "version_minor": 0
      },
      "text/plain": [
       "Document(children=(Dom(children=(MessageWidget(message_options={'message': '', 'type': 'info', 'show_close': F…"
      ]
     },
     "execution_count": 1,
     "metadata": {},
     "output_type": "execute_result"
    }
   ],
   "source": [
    "from pathlib import Path\n",
    "from ipywui import wui\n",
    "from vuepy import create_app, import_sfc\n",
    "\n",
    "App= import_sfc(Path().absolute().parent / 'examples' / 'llamacpp_dev' / 'LlamacppDev.vue')\n",
    "app = create_app(App).use(wui)\n",
    "app.mount()"
   ]
  },
  {
   "cell_type": "code",
   "execution_count": 2,
   "metadata": {},
   "outputs": [
    {
     "data": {
      "application/vnd.jupyter.widget-view+json": {
       "model_id": "cf73aa7a82594eba9d4e019e9799e998",
       "version_major": 2,
       "version_minor": 0
      },
      "text/plain": [
       "Output(outputs=({'name': 'stdout', 'output_type': 'stream', 'text': '2024-04-22 00:13:29,958  - [WARNING] vue.…"
      ]
     },
     "execution_count": 2,
     "metadata": {},
     "output_type": "execute_result"
    }
   ],
   "source": [
    "%vuepy_log"
   ]
  },
  {
   "cell_type": "code",
   "execution_count": 7,
   "metadata": {},
   "outputs": [
    {
     "data": {
      "text/plain": [
       "'ddd'"
      ]
     },
     "execution_count": 7,
     "metadata": {},
     "output_type": "execute_result"
    }
   ],
   "source": [
    "# app._components\n",
    "# app._data['comp'].value.p1 = 2\n",
    "# app._data['comp'].value.p1 = 1\n",
    "app._data['comp'].value.props.props['p1'].value"
   ]
  },
  {
   "cell_type": "code",
   "execution_count": 11,
   "metadata": {},
   "outputs": [],
   "source": [
    "class A:\n",
    "    pass\n",
    "\n",
    "def fget(self):\n",
    "    print('fget')\n",
    "\n",
    "def fset(self, val):\n",
    "    print('fset')\n",
    "\n",
    "a = A()\n",
    "setattr(a, 'p', property(fget=fget, fset=fset))\n",
    "a.p = 1"
   ]
  },
  {
   "cell_type": "markdown",
   "metadata": {},
   "source": [
    "# 🚀 Openai Playground Demo"
   ]
  },
  {
   "cell_type": "code",
   "execution_count": 3,
   "metadata": {},
   "outputs": [],
   "source": [
    "# todo"
   ]
  },
  {
   "cell_type": "code",
   "execution_count": 1,
   "metadata": {},
   "outputs": [
    {
     "name": "stdout",
     "output_type": "stream",
     "text": [
      "get[]\n",
      "get attr a\n",
      "set[]\n",
      "set attr a: 2\n",
      "get\n",
      "get attr a\n",
      "set\n",
      "get attr b\n",
      "print\n",
      "get attr _ipython_canary_method_should_not_exist_\n",
      "get attr _ipython_canary_method_should_not_exist_\n",
      "get attr a\n",
      "get attr b\n",
      "get attr _ipython_canary_method_should_not_exist_\n",
      "get attr _ipython_canary_method_should_not_exist_\n",
      "get attr _ipython_canary_method_should_not_exist_\n",
      "get attr _ipython_canary_method_should_not_exist_\n",
      "get attr _ipython_canary_method_should_not_exist_\n",
      "get attr _ipython_canary_method_should_not_exist_\n",
      "get attr _ipython_canary_method_should_not_exist_\n",
      "get attr _ipython_canary_method_should_not_exist_\n",
      "get attr _ipython_canary_method_should_not_exist_\n"
     ]
    },
    {
     "data": {
      "text/plain": [
       "{'a': 2, 'b': {'c': 1}}"
      ]
     },
     "execution_count": 1,
     "metadata": {},
     "output_type": "execute_result"
    }
   ],
   "source": [
    "class Dict(dict):\n",
    "    def __getitem__(self, attr):\n",
    "        print(f'get attr {attr}')\n",
    "        return super().__getitem__(attr)\n",
    "        \n",
    "    def __getattr__(self, attr):\n",
    "        return self.__getitem__(attr)\n",
    "        \n",
    "    def __setitem__(self, attr, value):\n",
    "        print(f'set attr {attr}: {value}')\n",
    "        super().__setitem__(attr, value)\n",
    "\n",
    "    def __setattr__(self, attr, value):\n",
    "        self.__setitem__(attr, value)\n",
    "\n",
    "d = {'a': 1, 'b': {'c': 2}}\n",
    "dd = Dict(d)\n",
    "print('get[]')\n",
    "dd['a']\n",
    "print('set[]')\n",
    "dd['a'] = 2\n",
    "print('get')\n",
    "dd.a\n",
    "print('set')\n",
    "dd.b['c'] = 1\n",
    "print('print')\n",
    "dd"
   ]
  },
  {
   "cell_type": "markdown",
   "metadata": {},
   "source": [
    "将一个ipywidgets转换为vue component，\n",
    "\n",
    "```python\n",
    "ai> 将以下组件的参数转换为vue component的props定义：widgets.IntProgress(\n",
    "    value=7,\n",
    "    min=0,\n",
    "    max=10,\n",
    "    description='Loading:',\n",
    "    bar_style='', # 'success', 'info', 'warning', 'danger' or ''\n",
    "    style={'bar_color': 'maroon'},\n",
    "    orientation='horizontal'\n",
    ")\n",
    "\n",
    "ai> 将https://ipywidgets.readthedocs.io/en/latest/examples/Widget%20List.html 中selection widgets的各个widgets的参数，转换为vue component的props定义，并标注出和这个widget最匹配的element-ui组件\n",
    "```"
   ]
  },
  {
   "cell_type": "markdown",
   "metadata": {},
   "source": [
    "## Clipboard"
   ]
  },
  {
   "cell_type": "code",
   "execution_count": 1,
   "metadata": {},
   "outputs": [
    {
     "data": {
      "application/vnd.jupyter.widget-view+json": {
       "model_id": "9457be40ae1a431db37a244d954560ae",
       "version_major": 2,
       "version_minor": 0
      },
      "text/plain": [
       "ClipboardWidget(children=[Textarea(value=''), Button(description='copy', style=ButtonStyle())], copy='hello')"
      ]
     },
     "execution_count": 1,
     "metadata": {},
     "output_type": "execute_result"
    }
   ],
   "source": [
    "from pathlib import Path\n",
    "import sys\n",
    "import ipywidgets as widgets\n",
    "from ipywui.widgets import ClipboardWidget\n",
    "\n",
    "textarea = widgets.Textarea()\n",
    "copy_btn = widgets.Button(description='copy')\n",
    "clip = ClipboardWidget(tag='div', copy='hello', children=[textarea, copy_btn])\n",
    "widgets.jslink((textarea, 'value'), (clip, 'copy'))\n",
    "# clip.value = 'hello'\n",
    "# clip.value = '你好 hdsworrld '\n",
    "a = 1\n",
    "def handler(e):\n",
    "    global a\n",
    "    a = a+1\n",
    "    print(e, a)\n",
    "    \n",
    "clip.on_copy(handler)\n",
    "clip"
   ]
  },
  {
   "cell_type": "code",
   "execution_count": 5,
   "metadata": {},
   "outputs": [
    {
     "data": {
      "text/plain": [
       "2"
      ]
     },
     "execution_count": 5,
     "metadata": {},
     "output_type": "execute_result"
    }
   ],
   "source": [
    "a"
   ]
  },
  {
   "cell_type": "markdown",
   "metadata": {},
   "source": [
    "## Dialog widget\n",
    "\n",
    "https://www.stefaanlippens.net/jupyter-notebook-dialog.html"
   ]
  },
  {
   "cell_type": "code",
   "execution_count": 3,
   "metadata": {},
   "outputs": [
    {
     "data": {
      "application/vnd.jupyter.widget-view+json": {
       "model_id": "dacb226981864a08af9691b3000ecc62",
       "version_major": 2,
       "version_minor": 0
      },
      "text/plain": [
       "VBox(children=(Button(description='show', style=ButtonStyle()), Checkbox(value=True, description='show'), IntS…"
      ]
     },
     "execution_count": 3,
     "metadata": {},
     "output_type": "execute_result"
    }
   ],
   "source": [
    "import ipywidgets as widgets\n",
    "from ipywui.widgets import DialogWidget\n",
    "\n",
    "ck = widgets.Checkbox(description='show', value=True)\n",
    "btn = widgets.Button(description='click')\n",
    "ok_btn = widgets.Button(description='ok')\n",
    "def handle_open(p):\n",
    "    print(f\"open: {p}\")\n",
    "def handle_close(p):\n",
    "    print(f\"close: {p}\")\n",
    "dialog = DialogWidget(title='test', body=[btn], footer=[ok_btn], value=False)\n",
    "dialog.on_close(handle_close)\n",
    "dialog.on_open(handle_open)\n",
    "show_btn = widgets.Button(description='show')\n",
    "def show(p):\n",
    "    dialog.value = True\n",
    "show_btn.on_click(show)\n",
    "\n",
    "# widgets.jslink((ck, 'value'), (dialog, 'value'))\n",
    "box = widgets.VBox([\n",
    "    show_btn,\n",
    "    ck,\n",
    "    widgets.IntSlider(),\n",
    "    widgets.IntSlider(),\n",
    "    widgets.IntSlider(),\n",
    "    dialog,\n",
    "])\n",
    "box\n",
    "# dialog"
   ]
  },
  {
   "cell_type": "code",
   "execution_count": 5,
   "metadata": {},
   "outputs": [
    {
     "data": {
      "text/plain": [
       "<bound method DialogWidget.on_open of DialogWidget(body=[Button(description='click', style=ButtonStyle())], event={'event': 'close'}, footer=[Button(description='ok', style=ButtonStyle())], title='test')>"
      ]
     },
     "execution_count": 5,
     "metadata": {},
     "output_type": "execute_result"
    }
   ],
   "source": [
    "dialog.on_open"
   ]
  },
  {
   "cell_type": "markdown",
   "metadata": {},
   "source": [
    "## Message widget"
   ]
  },
  {
   "cell_type": "code",
   "execution_count": 1,
   "metadata": {},
   "outputs": [
    {
     "data": {
      "application/vnd.jupyter.widget-view+json": {
       "model_id": "27ae8dcddf874a4b9625ddd320be2d96",
       "version_major": 2,
       "version_minor": 0
      },
      "text/plain": [
       "VBox(children=(MessageWidget(message_options={'message': '', 'type': 'info', 'show_close': False, 'duration': …"
      ]
     },
     "execution_count": 1,
     "metadata": {},
     "output_type": "execute_result"
    }
   ],
   "source": [
    "import ipywidgets as widgets\n",
    "from ipywui.widgets import Message\n",
    "\n",
    "btn = widgets.Button(description='click')\n",
    "msg = Message()\n",
    "def show(e):\n",
    "    msg.warning({'message': 'hello', 'duration': 0, 'show_close': True})\n",
    "btn.on_click(show)\n",
    "box = widgets.VBox([\n",
    "    msg.widget,\n",
    "    widgets.HBox([widgets.IntSlider(),widgets.IntSlider(),]),\n",
    "    widgets.IntSlider(),\n",
    "    widgets.IntSlider(),\n",
    "    widgets.IntSlider(),\n",
    "    btn,\n",
    "])\n",
    "box\n",
    "# dialog\n",
    "# 多个msg遮挡click\n",
    "# messagewidget有id标记的单例,根据vm标记"
   ]
  },
  {
   "cell_type": "code",
   "execution_count": 2,
   "metadata": {},
   "outputs": [],
   "source": [
    "# test singleton\n",
    "msg_item = msg.error({'message': 'he', 'duration': 0, 'show_close': True})\n",
    "msg_item = msg.success({'message': 'hello world success!'*10, 'duration': 0, 'show_close': True})"
   ]
  },
  {
   "cell_type": "code",
   "execution_count": 3,
   "metadata": {},
   "outputs": [],
   "source": [
    "msg_item.close()\n"
   ]
  },
  {
   "cell_type": "code",
   "execution_count": 2,
   "metadata": {},
   "outputs": [
    {
     "name": "stdout",
     "output_type": "stream",
     "text": [
      "hello\n"
     ]
    },
    {
     "data": {
      "application/vnd.jupyter.widget-view+json": {
       "model_id": "7a02582d3c4b46c69967670c139c3c70",
       "version_major": 2,
       "version_minor": 0
      },
      "text/plain": [
       "IntSlider(value=0)"
      ]
     },
     "execution_count": 2,
     "metadata": {},
     "output_type": "execute_result"
    }
   ],
   "source": [
    "import ipywidgets as widgets\n",
    "\n",
    "print('hello')\n",
    "widgets.IntSlider()"
   ]
  },
  {
   "cell_type": "code",
   "execution_count": 7,
   "metadata": {},
   "outputs": [
    {
     "data": {
      "application/vnd.jupyter.widget-view+json": {
       "model_id": "c0e0056383294f82997f374d7e177f61",
       "version_major": 2,
       "version_minor": 0
      },
      "text/plain": [
       "Document(children=(Dom(children=(MessageWidget(message_options={'message': '', 'type': 'info', 'show_close': F…"
      ]
     },
     "execution_count": 7,
     "metadata": {},
     "output_type": "execute_result"
    }
   ],
   "source": [
    "from vuepy import ref, create_app\n",
    "from ipywui import wui\n",
    "\n",
    "def setup(*args):\n",
    "    count = ref(0)\n",
    "    def counter():\n",
    "        count.value += 1\n",
    "    \n",
    "    return locals()\n",
    "\n",
    "create_app({\n",
    "    'template': '''\n",
    "    <Button :label=\"f'Count is: {count.value}'\" @click='counter()'>\n",
    "    </Button>\n",
    "    ''',\n",
    "    'setup': setup,\n",
    "}).use(wui).mount()"
   ]
  },
  {
   "cell_type": "code",
   "execution_count": 8,
   "metadata": {},
   "outputs": [
    {
     "data": {
      "application/vnd.jupyter.widget-view+json": {
       "model_id": "94986c48329f44e6921d75bd26fc81ee",
       "version_major": 2,
       "version_minor": 0
      },
      "text/plain": [
       "VBox()"
      ]
     },
     "execution_count": 8,
     "metadata": {},
     "output_type": "execute_result"
    }
   ],
   "source": [
    "v = widgets.VBox()\n",
    "v"
   ]
  }
 ],
 "metadata": {
  "kernelspec": {
   "display_name": "Python 3 (ipykernel)",
   "language": "python",
   "name": "python3"
  },
  "language_info": {
   "codemirror_mode": {
    "name": "ipython",
    "version": 3
   },
   "file_extension": ".py",
   "mimetype": "text/x-python",
   "name": "python",
   "nbconvert_exporter": "python",
   "pygments_lexer": "ipython3",
   "version": "3.10.12"
  },
  "widgets": {
   "application/vnd.jupyter.widget-state+json": {
    "state": {
     "014f929bed3a43a3a3e71d3bc2ef5b28": {
      "model_module": "@jupyter-widgets/controls",
      "model_module_version": "2.0.0",
      "model_name": "ButtonStyleModel",
      "state": {
       "font_family": null,
       "font_size": null,
       "font_style": null,
       "font_variant": null,
       "font_weight": null,
       "text_color": null,
       "text_decoration": null
      }
     },
     "08a3ec9af9ae4a3fab540f0954b9b123": {
      "model_module": "@jupyter-widgets/controls",
      "model_module_version": "2.0.0",
      "model_name": "VBoxModel",
      "state": {
       "children": [
        "IPY_MODEL_177491d18227450fb8a5469cbe9080cd",
        "IPY_MODEL_e4ab9fa9c00c4564adf375ee0b81ae9d",
        "IPY_MODEL_83ea3dc1f19b4897b2538591b52f013e"
       ],
       "layout": "IPY_MODEL_a7dc71385f1c4a49b0756c92b5651347"
      }
     },
     "092a43b1d2ac47a1a8c902688ec70584": {
      "model_module": "@jupyter-widgets/controls",
      "model_module_version": "2.0.0",
      "model_name": "ButtonModel",
      "state": {
       "button_style": "info",
       "description": "Compile",
       "layout": "IPY_MODEL_3c1309281b724c09a799bb75ce308eb4",
       "style": "IPY_MODEL_4c076ea95a534f569b49720921af1ec0",
       "tooltip": null
      }
     },
     "0d938ad10bcb407ea1e6d89d7f4c075e": {
      "model_module": "@jupyter-widgets/controls",
      "model_module_version": "2.0.0",
      "model_name": "IntTextModel",
      "state": {
       "description": "Max ctx size",
       "layout": "IPY_MODEL_c51ada3285b0429db6b72dd7abaa30c8",
       "step": 1,
       "style": "IPY_MODEL_c7f1355f3788447ab89fad3668eedce8",
       "value": 2048
      }
     },
     "13839e7e95994c7daa762e3e1d5b63e9": {
      "model_module": "@jupyter-widgets/controls",
      "model_module_version": "2.0.0",
      "model_name": "TextStyleModel",
      "state": {
       "description_width": "",
       "font_size": null,
       "text_color": null
      }
     },
     "150d81dce24b4826b0850d96593c0ef6": {
      "model_module": "@jupyter-widgets/base",
      "model_module_version": "2.0.0",
      "model_name": "LayoutModel",
      "state": {
       "width": "500px"
      }
     },
     "177491d18227450fb8a5469cbe9080cd": {
      "model_module": "@jupyter-widgets/controls",
      "model_module_version": "2.0.0",
      "model_name": "ButtonModel",
      "state": {
       "button_style": "info",
       "description": "Compile in sub component",
       "layout": "IPY_MODEL_a64674771a404512ae1a392445984006",
       "style": "IPY_MODEL_014f929bed3a43a3a3e71d3bc2ef5b28",
       "tooltip": null
      }
     },
     "1882b51c86944fcca5b1e2cf8a362caf": {
      "model_module": "@jupyter-widgets/base",
      "model_module_version": "2.0.0",
      "model_name": "LayoutModel",
      "state": {
       "width": "500px"
      }
     },
     "1e8761d04d3b4339b06e9da7df0d3ecf": {
      "model_module": "@jupyter-widgets/base",
      "model_module_version": "2.0.0",
      "model_name": "LayoutModel",
      "state": {
       "width": "300px"
      }
     },
     "257b621a7adf4a76aa2726c452758d39": {
      "model_module": "@jupyter-widgets/output",
      "model_module_version": "1.0.0",
      "model_name": "OutputModel",
      "state": {
       "layout": "IPY_MODEL_43639cafa9fd4a7aba44c1d8c87155b5",
       "outputs": [
        {
         "data": {
          "application/vnd.jupyter.widget-view+json": {
           "model_id": "b3bb4a04fff64063b9f02dcb4d58b72c",
           "version_major": 2,
           "version_minor": 0
          },
          "text/plain": "sfc_container(children=(AppLayout(children=(VBox(children=(Accordion(children=(VBox(children=(Button(button_st…"
         },
         "metadata": {},
         "output_type": "display_data"
        }
       ]
      }
     },
     "25fc64f169d64231aee922f3131a73dd": {
      "model_module": "@jupyter-widgets/controls",
      "model_module_version": "2.0.0",
      "model_name": "FloatSliderModel",
      "state": {
       "behavior": "drag-tap",
       "continuous_update": false,
       "description": "Top P",
       "layout": "IPY_MODEL_1e8761d04d3b4339b06e9da7df0d3ecf",
       "max": 1,
       "step": 0.01,
       "style": "IPY_MODEL_37ee6d7fcc15447784a5827bd028ae55",
       "tooltip": "",
       "value": 0.99
      }
     },
     "27ecd4c66bd64ec9baf6e200e9b053dd": {
      "model_module": "@jupyter-widgets/output",
      "model_module_version": "1.0.0",
      "model_name": "OutputModel",
      "state": {
       "layout": "IPY_MODEL_cbd77705ace24ac2ad02d7bcbdd094a7",
       "outputs": [
        {
         "name": "stdout",
         "output_type": "stream",
         "text": "[INFO] vue.py:render:2009 - App render end.\n"
        },
        {
         "name": "stdout",
         "output_type": "stream",
         "text": "[INFO] vue.py:render:2409 - 🔥 Rerender SFC<Compile.vue> at 4369986800\n"
        },
        {
         "name": "stdout",
         "output_type": "stream",
         "text": "[INFO] vue.py:render:2409 - 🔥 Rerender SFC<LlamacppDev.vue> at 4369976912\n"
        },
        {
         "name": "stdout",
         "output_type": "stream",
         "text": "[INFO] vue.py:render:1999 - App render start.\n"
        }
       ]
      }
     },
     "2d69c94f5c0e4a9cb44d3f8976261694": {
      "model_module": "@jupyter-widgets/controls",
      "model_module_version": "2.0.0",
      "model_name": "DropdownModel",
      "state": {
       "_options_labels": [
        "/Users/kuroro/CMC/models/codellama/instruct/7b/ggml-model-q4_0.gguf",
        "/Users/kuroro/CMC/models/codellama/instruct/7b/ggml-model-f16.gguf",
        "/Users/kuroro/CMC/models/codellama/instruct/7b/ggml-model-q6_k.gguf"
       ],
       "description": "Model",
       "index": null,
       "layout": "IPY_MODEL_aa2a622ef78344ba94818ad27e39c40c",
       "style": "IPY_MODEL_f5ec742040d54943b1ffb903e4d7c737"
      }
     },
     "324c8f57a7ea424d998a837f617131f4": {
      "model_module": "@jupyter-widgets/controls",
      "model_module_version": "2.0.0",
      "model_name": "DropdownModel",
      "state": {
       "_options_labels": [
        "q4_0",
        "q4_1",
        "q4_k",
        "q5_0",
        "q5_1",
        "q5_k",
        "q6_k",
        "q8_0"
       ],
       "description": "Quantize",
       "index": 0,
       "layout": "IPY_MODEL_79b23467857a41c59612a011976a8979",
       "style": "IPY_MODEL_dabcd70a659e47388d953a6e99d44941"
      }
     },
     "37ee6d7fcc15447784a5827bd028ae55": {
      "model_module": "@jupyter-widgets/controls",
      "model_module_version": "2.0.0",
      "model_name": "SliderStyleModel",
      "state": {
       "description_width": ""
      }
     },
     "3a7535229dea4585ac909de741e06459": {
      "model_module": "@jupyter-widgets/controls",
      "model_module_version": "2.0.0",
      "model_name": "TextStyleModel",
      "state": {
       "description_width": "",
       "font_size": null,
       "text_color": null
      }
     },
     "3b07285322ca48d790a5aa1bccac76fa": {
      "model_module": "@jupyter-widgets/base",
      "model_module_version": "2.0.0",
      "model_name": "LayoutModel",
      "state": {
       "border_bottom": "1px solid #cccccc",
       "border_left": "1px solid #cccccc",
       "border_right": "1px solid #cccccc",
       "border_top": "1px solid #cccccc",
       "grid_template_areas": "\"center center center\"\n\"center center center\"\n\"center center center\"",
       "grid_template_columns": "0fr 3fr 1.5fr",
       "grid_template_rows": "1fr 3fr 1fr",
       "padding": "10px"
      }
     },
     "3c1309281b724c09a799bb75ce308eb4": {
      "model_module": "@jupyter-widgets/base",
      "model_module_version": "2.0.0",
      "model_name": "LayoutModel",
      "state": {
       "width": "100px"
      }
     },
     "3eb7a1aababa4ffa93516341a8f554c8": {
      "model_module": "@jupyter-widgets/controls",
      "model_module_version": "2.0.0",
      "model_name": "HBoxModel",
      "state": {
       "children": [
        "IPY_MODEL_2d69c94f5c0e4a9cb44d3f8976261694",
        "IPY_MODEL_4102e049ab244707bbe027f97ab1c054"
       ],
       "layout": "IPY_MODEL_a45e3501ef994beba71fb9cbaac25df7"
      }
     },
     "4102e049ab244707bbe027f97ab1c054": {
      "model_module": "@jupyter-widgets/controls",
      "model_module_version": "2.0.0",
      "model_name": "ButtonModel",
      "state": {
       "button_style": "info",
       "icon": "refresh",
       "layout": "IPY_MODEL_54e09c010eb142f999a7361bf9b6450c",
       "style": "IPY_MODEL_797bd8a946514560b6abb90e13be7fc6",
       "tooltip": null
      }
     },
     "4272e3723bc545aab15177e106251ad5": {
      "model_module": "@jupyter-widgets/controls",
      "model_module_version": "2.0.0",
      "model_name": "HBoxModel",
      "state": {
       "children": [
        "IPY_MODEL_de858384d1c347bb8b83f8550f3d69f3",
        "IPY_MODEL_324c8f57a7ea424d998a837f617131f4"
       ],
       "layout": "IPY_MODEL_cc5ba9bce058442e94a3d9cfef61dd59"
      }
     },
     "43639cafa9fd4a7aba44c1d8c87155b5": {
      "model_module": "@jupyter-widgets/base",
      "model_module_version": "2.0.0",
      "model_name": "LayoutModel",
      "state": {}
     },
     "48dbea034d674b78b0980e3184073664": {
      "model_module": "@jupyter-widgets/controls",
      "model_module_version": "2.0.0",
      "model_name": "SliderStyleModel",
      "state": {
       "description_width": ""
      }
     },
     "4aed2a1286774f208171ad3d92c81255": {
      "model_module": "@jupyter-widgets/base",
      "model_module_version": "2.0.0",
      "model_name": "LayoutModel",
      "state": {
       "width": "400px"
      }
     },
     "4c076ea95a534f569b49720921af1ec0": {
      "model_module": "@jupyter-widgets/controls",
      "model_module_version": "2.0.0",
      "model_name": "ButtonStyleModel",
      "state": {
       "font_family": null,
       "font_size": null,
       "font_style": null,
       "font_variant": null,
       "font_weight": null,
       "text_color": null,
       "text_decoration": null
      }
     },
     "52d8265ef60d4f9fb4edada0750209b5": {
      "model_module": "@jupyter-widgets/controls",
      "model_module_version": "2.0.0",
      "model_name": "IntTextModel",
      "state": {
       "description": "Top K",
       "layout": "IPY_MODEL_d134b6fdfdd8401297d4f8852166909e",
       "step": 1,
       "style": "IPY_MODEL_fa5e14cb8aeb4536b4c1def2da038577",
       "value": 1000
      }
     },
     "54e09c010eb142f999a7361bf9b6450c": {
      "model_module": "@jupyter-widgets/base",
      "model_module_version": "2.0.0",
      "model_name": "LayoutModel",
      "state": {
       "width": "40px"
      }
     },
     "54e351d562954ae4b815ab94e7b67a6a": {
      "model_module": "@jupyter-widgets/base",
      "model_module_version": "2.0.0",
      "model_name": "LayoutModel",
      "state": {}
     },
     "5634a0f876d74925be25a079318eeafb": {
      "model_module": "@jupyter-widgets/base",
      "model_module_version": "2.0.0",
      "model_name": "LayoutModel",
      "state": {
       "width": "500px"
      }
     },
     "5bb562e7436940bfaaef7f910fddfd18": {
      "model_module": "@jupyter-widgets/base",
      "model_module_version": "2.0.0",
      "model_name": "LayoutModel",
      "state": {}
     },
     "5c5dc9637dde436f81c8116eb17efcd2": {
      "model_module": "@jupyter-widgets/controls",
      "model_module_version": "2.0.0",
      "model_name": "TextModel",
      "state": {
       "continuous_update": false,
       "description": "hf model",
       "layout": "IPY_MODEL_4aed2a1286774f208171ad3d92c81255",
       "style": "IPY_MODEL_3a7535229dea4585ac909de741e06459",
       "value": "/Users/kuroro/CMC/models/codellama/instruct/7b"
      }
     },
     "5c87911f67d8409698b12e05ff0e95a7": {
      "model_module": "@jupyter-widgets/base",
      "model_module_version": "2.0.0",
      "model_name": "LayoutModel",
      "state": {
       "width": "60px"
      }
     },
     "5d13ed46d80a49759bf58b338902d7d1": {
      "model_module": "@jupyter-widgets/base",
      "model_module_version": "2.0.0",
      "model_name": "LayoutModel",
      "state": {
       "width": "500px"
      }
     },
     "6739a70aee1541a185d1ce53531a70a4": {
      "model_module": "@jupyter-widgets/base",
      "model_module_version": "2.0.0",
      "model_name": "LayoutModel",
      "state": {
       "width": "300px"
      }
     },
     "68742edfe9504fc594f4ee5c581fce22": {
      "model_module": "@jupyter-widgets/controls",
      "model_module_version": "2.0.0",
      "model_name": "VBoxModel",
      "state": {
       "children": [
        "IPY_MODEL_9d1aaec545f64200a6c3ebcf2922a52c"
       ],
       "layout": "IPY_MODEL_f58b51e8413e4bf79623e13a6dc341be"
      }
     },
     "6894aca37b4e480ea9c1c28bdab0fe07": {
      "model_module": "@jupyter-widgets/controls",
      "model_module_version": "2.0.0",
      "model_name": "ButtonStyleModel",
      "state": {
       "font_family": null,
       "font_size": null,
       "font_style": null,
       "font_variant": null,
       "font_weight": null,
       "text_color": null,
       "text_decoration": null
      }
     },
     "68cc74ca9918425da6b8c8e9d9458420": {
      "model_module": "@jupyter-widgets/base",
      "model_module_version": "2.0.0",
      "model_name": "LayoutModel",
      "state": {
       "width": "100px"
      }
     },
     "691b78d912a94591a56cd793734b27df": {
      "model_module": "@jupyter-widgets/controls",
      "model_module_version": "2.0.0",
      "model_name": "HTMLStyleModel",
      "state": {
       "description_width": "",
       "font_size": null,
       "text_color": null
      }
     },
     "695ad8ed916b493792d5cfadeb81500f": {
      "model_module": "@jupyter-widgets/controls",
      "model_module_version": "2.0.0",
      "model_name": "GridBoxModel",
      "state": {
       "children": [
        "IPY_MODEL_68742edfe9504fc594f4ee5c581fce22"
       ],
       "layout": "IPY_MODEL_3b07285322ca48d790a5aa1bccac76fa"
      }
     },
     "71816970c97e46259c58080fd192ac7e": {
      "model_module": "@jupyter-widgets/controls",
      "model_module_version": "2.0.0",
      "model_name": "VBoxModel",
      "state": {
       "children": [
        "IPY_MODEL_86de034684e54bf2a52734faa025763c"
       ],
       "layout": "IPY_MODEL_c1b1e39744fd4e79922a268c7af2ff53"
      }
     },
     "7695eed74fad4457beace298e515b0a6": {
      "model_module": "@jupyter-widgets/controls",
      "model_module_version": "2.0.0",
      "model_name": "TextStyleModel",
      "state": {
       "description_width": "",
       "font_size": null,
       "text_color": null
      }
     },
     "76be4c9fdb93433d8b14881c4dd6cb13": {
      "model_module": "@jupyter-widgets/controls",
      "model_module_version": "2.0.0",
      "model_name": "FloatSliderModel",
      "state": {
       "behavior": "drag-tap",
       "continuous_update": false,
       "description": "Temperature",
       "layout": "IPY_MODEL_6739a70aee1541a185d1ce53531a70a4",
       "max": 1,
       "step": 0.01,
       "style": "IPY_MODEL_48dbea034d674b78b0980e3184073664",
       "value": 0.1
      }
     },
     "78436d816716430f9b8910a0f72e724e": {
      "model_module": "@jupyter-widgets/controls",
      "model_module_version": "2.0.0",
      "model_name": "TextModel",
      "state": {
       "continuous_update": false,
       "description": "Model out",
       "layout": "IPY_MODEL_150d81dce24b4826b0850d96593c0ef6",
       "style": "IPY_MODEL_7695eed74fad4457beace298e515b0a6"
      }
     },
     "7868b59ec5024c9687c9bfee405ff75d": {
      "model_module": "@jupyter-widgets/controls",
      "model_module_version": "2.0.0",
      "model_name": "VBoxModel",
      "state": {
       "children": [
        "IPY_MODEL_4272e3723bc545aab15177e106251ad5",
        "IPY_MODEL_78436d816716430f9b8910a0f72e724e",
        "IPY_MODEL_c3ddc3c035324fb596341e03306e03fe"
       ],
       "layout": "IPY_MODEL_ba1c47bebe9c46498bb023cbdf70aeac"
      }
     },
     "797bd8a946514560b6abb90e13be7fc6": {
      "model_module": "@jupyter-widgets/controls",
      "model_module_version": "2.0.0",
      "model_name": "ButtonStyleModel",
      "state": {
       "font_family": null,
       "font_size": null,
       "font_style": null,
       "font_variant": null,
       "font_weight": null,
       "text_color": null,
       "text_decoration": null
      }
     },
     "79b23467857a41c59612a011976a8979": {
      "model_module": "@jupyter-widgets/base",
      "model_module_version": "2.0.0",
      "model_name": "LayoutModel",
      "state": {
       "width": "200px"
      }
     },
     "7cdd27a84c554367aa4ba85ab9729066": {
      "model_module": "@jupyter-widgets/controls",
      "model_module_version": "2.0.0",
      "model_name": "TextareaModel",
      "state": {
       "continuous_update": false,
       "description": "1st_instruction",
       "layout": "IPY_MODEL_5d13ed46d80a49759bf58b338902d7d1",
       "style": "IPY_MODEL_a032aedbb55e4745b56ed01a83e682b6"
      }
     },
     "83ea3dc1f19b4897b2538591b52f013e": {
      "model_module": "@jupyter-widgets/controls",
      "model_module_version": "2.0.0",
      "model_name": "HTMLModel",
      "state": {
       "layout": "IPY_MODEL_54e351d562954ae4b815ab94e7b67a6a",
       "style": "IPY_MODEL_691b78d912a94591a56cd793734b27df",
       "value": "\n                <pre >\n                  \n    v-model: xxx\n    text: `hello`\n    props dynamic: `xxx`\n    props static: `hello`\n  \n                </pre>"
      }
     },
     "86de034684e54bf2a52734faa025763c": {
      "model_module": "@jupyter-widgets/controls",
      "model_module_version": "2.0.0",
      "model_name": "VBoxModel",
      "state": {
       "children": [
        "IPY_MODEL_879d57e5280b4658950853e65be41ff5",
        "IPY_MODEL_257b621a7adf4a76aa2726c452758d39"
       ],
       "layout": "IPY_MODEL_8cb6b68c2ca54fe1a72a119e56fe5b8d"
      }
     },
     "879d57e5280b4658950853e65be41ff5": {
      "model_module": "anywidget",
      "model_module_version": "0.9.3",
      "model_name": "AnyModel",
      "state": {
       "_anywidget_id": "ipywui.widgets.custom.message.MessageWidget",
       "_css": ".wui-message-root {\n    display: flex;\n    position: absolute;\n    left: 0;\n    right: 0;\n    top: 0;\n}\n\n.wui-message-container {\n    align-items: center;\n    display: flex;\n    flex-direction: column-reverse;\n    justify-content: center;\n    min-height: 100%;\n    outline: none;\n    width: 100%;\n\n    -webkit-tap-highlight-color: rgba(0,0,0,0);\n    bottom: 0;\n    left: 0;\n    right: 0;\n    top: 0;\n}\n\n.wui-message--success {\n    --wui-message-bg-color: #f0f9eb;\n    --wui-message-border-color: #e1f3d8;\n    --wui-message-text-color: #67c23a;\n}\n.wui-message--warning {\n    --wui-message-bg-color: #fdf6ec;\n    --wui-message-border-color: #faecd8;\n    --wui-message-text-color: #e6a23c;\n}\n.wui-message--info {\n    --wui-message-bg-color: #f4f4f5;\n    --wui-message-border-color: #e9e9eb;\n    --wui-message-text-color: #909399;\n}\n.wui-message--error {\n    --wui-message-bg-color: #fef0f0;\n    --wui-message-border-color: #fde2e2;\n    --wui-message-text-color: #f56c6c;\n}\n\n@keyframes msg-open {\n    0% {\n        opacity: 0;\n        -webkit-transform: translateY(-120%);\n        transform: translateY(-120%)\n    }\n    to {\n        -webkit-transform: translateY(0);\n        transform: translateY(0)\n    }\n}\n\n@keyframes msg-close {\n    0% {\n        opacity: 1;\n        -webkit-transform: scale(1);\n        transform: scale(1)\n    }\n    to {\n        opacity: 0;\n        -webkit-transform: scale(.9);\n        transform: scale(.9)\n    }\n}\n.wui-message[data-state=entered],.wui-message[data-state=entering] {\n    -webkit-animation: msg-open .24s cubic-bezier(.175,.885,.32,1.175) both;\n    animation: msg-open .24s cubic-bezier(.175,.885,.32,1.175) both\n}\n\n.wui-message[data-state=exiting] {\n    -webkit-animation: msg-close .12s cubic-bezier(.4,0,1,1) both;\n    animation: msg-close .12s cubic-bezier(.4,0,1,1) both\n}\n\n.wui-message {\n    width: -webkit-fit-content;\n    width: -moz-fit-content;\n    width: fit-content;\n    z-index: 2004;\n    max-width: calc(100% - 32px);\n    margin-top: 8px;\n    box-sizing: border-box;\n    /*border-radius: var(--wui-border-radius-base);*/\n    /*border-width: var(--wui-border-width);*/\n    /*border-style: var(--wui-border-style);*/\n    border-color: var(--wui-message-border-color);\n    /*left: 50%;*/\n    /*top: 20px;*/\n    /*transform: translateX(-50%);*/\n    background-color: var(--wui-message-bg-color);\n    /*transition: opacity var(--wui-transition-duration),transform .4s,top .4s;*/\n    /*padding: var(--wui-message-padding);*/\n    display: flex;\n    align-items: center;\n}\n\n/*.wui-message--success */\n.wui-message__content {\n    color: var(--wui-message-text-color);\n    font-size: 14px;\n    line-height: 18px;\n    margin: 10px 14px 10px 14px;\n    overflow-wrap: break-word;\n}\n\n.wui-message__closeBtn {\n    /*cursor: pointer;*/\n    font-style: normal;\n    /*color: gray;*/\n    padding-right: 14px;\n    /*font-size: 13px;*/\n    user-select: none;\n\n    background: transparent;\n    border: none;\n    color: gray;\n    cursor: pointer;\n    font-size: 13px;\n    font-weight: 400;\n    line-height: 1;\n    outline: none;\n    /*padding: 4px;*/\n    text-align: center;\n    transition: opacity .3s;\n    /*width: 100%;*/\n}",
       "_esm": "function closeMsg(msgDom) {\n  if (!msgDom) {\n    return;\n  }\n  msgDom.setAttribute('data-state', 'exiting');\n  msgDom.remove();\n}\n\nfunction createMsg(options) {\n  const {message, msg_id, type = 'info', show_close = false} = options;\n  const msgDom = document.createElement('div');\n  msgDom.className += ` wui-message--${type} wui-message`;\n  msgDom.setAttribute('data-state', 'entered');\n  msgDom.setAttribute('id', msg_id);\n  const msgContent = document.createElement('p');\n  msgContent.className += ` wui-message--${type} wui-message__content`;\n  msgContent.innerText = message;\n  msgDom.appendChild(msgContent);\n  if (show_close) {\n    const closeBtn = document.createElement('i');\n    closeBtn.className += 'wui-message__closeBtn';\n    closeBtn.innerText = 'x';\n    closeBtn.addEventListener('click', (ev) => {\n      closeMsg(msgDom);\n    })\n    msgDom.appendChild(closeBtn);\n  }\n  return msgDom;\n}\n\nexport async function render(view) {\n  let model = view.model;\n  const msgRoot = view.el;\n  msgRoot.className += ' wui-message-root'\n\n  const msgContainer = document.createElement('div');\n  msgContainer.className += ' wui-message-container';\n  msgRoot.appendChild(msgContainer)\n\n  model.on(\"change:message_options\", () => {\n    const options = model.get(\"message_options\");\n    const msg = createMsg(options);\n    msgContainer.appendChild(msg);\n    const {duration = 3000} = options;\n    if (duration > 0) {\n      setTimeout(() => {\n        closeMsg(msg)\n      }, duration);\n    }\n  })\n\n  model.on(\"change:close_msg_id\", () => {\n    const msg_id = model.get(\"close_msg_id\");\n    const msgDom = document.getElementById(msg_id);\n    closeMsg(msgDom);\n  })\n}\n",
       "_model_module": "anywidget",
       "_model_module_version": "0.9.3",
       "_model_name": "AnyModel",
       "_view_module": "anywidget",
       "_view_module_version": "0.9.3",
       "_view_name": "AnyView",
       "close_msg_id": "",
       "layout": "IPY_MODEL_5bb562e7436940bfaaef7f910fddfd18",
       "message_options": {
        "duration": 3000,
        "message": "",
        "show_close": false,
        "type": "info"
       }
      }
     },
     "8cb6b68c2ca54fe1a72a119e56fe5b8d": {
      "model_module": "@jupyter-widgets/base",
      "model_module_version": "2.0.0",
      "model_name": "LayoutModel",
      "state": {}
     },
     "8d145ebb4bd74b948370bc64a839cc36": {
      "model_module": "anywidget",
      "model_module_version": "0.9.3",
      "model_name": "AnyModel",
      "state": {
       "_anywidget_id": "ipywui.widgets.custom.message.MessageWidget",
       "_css": ".wui-message-root {\n    display: flex;\n    position: absolute;\n    left: 0;\n    right: 0;\n    top: 0;\n}\n\n.wui-message-container {\n    align-items: center;\n    display: flex;\n    flex-direction: column-reverse;\n    justify-content: center;\n    min-height: 100%;\n    outline: none;\n    width: 100%;\n\n    -webkit-tap-highlight-color: rgba(0,0,0,0);\n    bottom: 0;\n    left: 0;\n    right: 0;\n    top: 0;\n}\n\n.wui-message--success {\n    --wui-message-bg-color: #f0f9eb;\n    --wui-message-border-color: #e1f3d8;\n    --wui-message-text-color: #67c23a;\n}\n.wui-message--warning {\n    --wui-message-bg-color: #fdf6ec;\n    --wui-message-border-color: #faecd8;\n    --wui-message-text-color: #e6a23c;\n}\n.wui-message--info {\n    --wui-message-bg-color: #f4f4f5;\n    --wui-message-border-color: #e9e9eb;\n    --wui-message-text-color: #909399;\n}\n.wui-message--error {\n    --wui-message-bg-color: #fef0f0;\n    --wui-message-border-color: #fde2e2;\n    --wui-message-text-color: #f56c6c;\n}\n\n@keyframes msg-open {\n    0% {\n        opacity: 0;\n        -webkit-transform: translateY(-120%);\n        transform: translateY(-120%)\n    }\n    to {\n        -webkit-transform: translateY(0);\n        transform: translateY(0)\n    }\n}\n\n@keyframes msg-close {\n    0% {\n        opacity: 1;\n        -webkit-transform: scale(1);\n        transform: scale(1)\n    }\n    to {\n        opacity: 0;\n        -webkit-transform: scale(.9);\n        transform: scale(.9)\n    }\n}\n.wui-message[data-state=entered],.wui-message[data-state=entering] {\n    -webkit-animation: msg-open .24s cubic-bezier(.175,.885,.32,1.175) both;\n    animation: msg-open .24s cubic-bezier(.175,.885,.32,1.175) both\n}\n\n.wui-message[data-state=exiting] {\n    -webkit-animation: msg-close .12s cubic-bezier(.4,0,1,1) both;\n    animation: msg-close .12s cubic-bezier(.4,0,1,1) both\n}\n\n.wui-message {\n    width: -webkit-fit-content;\n    width: -moz-fit-content;\n    width: fit-content;\n    z-index: 2004;\n    max-width: calc(100% - 32px);\n    margin-top: 8px;\n    box-sizing: border-box;\n    /*border-radius: var(--wui-border-radius-base);*/\n    /*border-width: var(--wui-border-width);*/\n    /*border-style: var(--wui-border-style);*/\n    border-color: var(--wui-message-border-color);\n    /*left: 50%;*/\n    /*top: 20px;*/\n    /*transform: translateX(-50%);*/\n    background-color: var(--wui-message-bg-color);\n    /*transition: opacity var(--wui-transition-duration),transform .4s,top .4s;*/\n    /*padding: var(--wui-message-padding);*/\n    display: flex;\n    align-items: center;\n}\n\n/*.wui-message--success */\n.wui-message__content {\n    color: var(--wui-message-text-color);\n    font-size: 14px;\n    line-height: 18px;\n    margin: 10px 14px 10px 14px;\n    overflow-wrap: break-word;\n}\n\n.wui-message__closeBtn {\n    /*cursor: pointer;*/\n    font-style: normal;\n    /*color: gray;*/\n    padding-right: 14px;\n    /*font-size: 13px;*/\n    user-select: none;\n\n    background: transparent;\n    border: none;\n    color: gray;\n    cursor: pointer;\n    font-size: 13px;\n    font-weight: 400;\n    line-height: 1;\n    outline: none;\n    /*padding: 4px;*/\n    text-align: center;\n    transition: opacity .3s;\n    /*width: 100%;*/\n}",
       "_esm": "function closeMsg(msgDom) {\n  if (!msgDom) {\n    return;\n  }\n  msgDom.setAttribute('data-state', 'exiting');\n  msgDom.remove();\n}\n\nfunction createMsg(options) {\n  const {message, msg_id, type = 'info', show_close = false} = options;\n  const msgDom = document.createElement('div');\n  msgDom.className += ` wui-message--${type} wui-message`;\n  msgDom.setAttribute('data-state', 'entered');\n  msgDom.setAttribute('id', msg_id);\n  const msgContent = document.createElement('p');\n  msgContent.className += ` wui-message--${type} wui-message__content`;\n  msgContent.innerText = message;\n  msgDom.appendChild(msgContent);\n  if (show_close) {\n    const closeBtn = document.createElement('i');\n    closeBtn.className += 'wui-message__closeBtn';\n    closeBtn.innerText = 'x';\n    closeBtn.addEventListener('click', (ev) => {\n      closeMsg(msgDom);\n    })\n    msgDom.appendChild(closeBtn);\n  }\n  return msgDom;\n}\n\nexport async function render(view) {\n  let model = view.model;\n  const msgRoot = view.el;\n  msgRoot.className += ' wui-message-root'\n\n  const msgContainer = document.createElement('div');\n  msgContainer.className += ' wui-message-container';\n  msgRoot.appendChild(msgContainer)\n\n  model.on(\"change:message_options\", () => {\n    const options = model.get(\"message_options\");\n    const msg = createMsg(options);\n    msgContainer.appendChild(msg);\n    const {duration = 3000} = options;\n    if (duration > 0) {\n      setTimeout(() => {\n        closeMsg(msg)\n      }, duration);\n    }\n  })\n\n  model.on(\"change:close_msg_id\", () => {\n    const msg_id = model.get(\"close_msg_id\");\n    const msgDom = document.getElementById(msg_id);\n    closeMsg(msgDom);\n  })\n}\n",
       "_model_module": "anywidget",
       "_model_module_version": "0.9.3",
       "_model_name": "AnyModel",
       "_view_module": "anywidget",
       "_view_module_version": "0.9.3",
       "_view_name": "AnyView",
       "close_msg_id": "",
       "layout": "IPY_MODEL_bdbc442bfbea4af49004c59170c14376",
       "message_options": {
        "duration": 3000,
        "message": "",
        "show_close": false,
        "type": "info"
       }
      }
     },
     "927d85e78e7d427e8ef12d4ebc5e135e": {
      "model_module": "@jupyter-widgets/controls",
      "model_module_version": "2.0.0",
      "model_name": "DescriptionStyleModel",
      "state": {
       "description_width": ""
      }
     },
     "98fbfbb815054155a3c12af2e4d1e83c": {
      "model_module": "@jupyter-widgets/controls",
      "model_module_version": "2.0.0",
      "model_name": "VBoxModel",
      "state": {
       "children": [
        "IPY_MODEL_092a43b1d2ac47a1a8c902688ec70584",
        "IPY_MODEL_a923aa34750942e0b54f7d7c11bc6d35",
        "IPY_MODEL_ac08dda74a8e40cf9a53317fad324955"
       ],
       "layout": "IPY_MODEL_d225e4daf93541b59a4da169acfb2a24"
      }
     },
     "9d1aaec545f64200a6c3ebcf2922a52c": {
      "model_module": "@jupyter-widgets/controls",
      "model_module_version": "2.0.0",
      "model_name": "AccordionModel",
      "state": {
       "children": [
        "IPY_MODEL_98fbfbb815054155a3c12af2e4d1e83c",
        "IPY_MODEL_d1fd4e452ebd4b2aa68ff5010ecc1568",
        "IPY_MODEL_7868b59ec5024c9687c9bfee405ff75d",
        "IPY_MODEL_d60f3ede6055446e8a99950f51ba4832"
       ],
       "layout": "IPY_MODEL_a6009ede959245b2bd56580e5d28b2d7",
       "titles": [
        "编译llamacpp",
        "转换",
        "量化",
        "运行"
       ]
      }
     },
     "a032aedbb55e4745b56ed01a83e682b6": {
      "model_module": "@jupyter-widgets/controls",
      "model_module_version": "2.0.0",
      "model_name": "TextStyleModel",
      "state": {
       "description_width": "",
       "font_size": null,
       "text_color": null
      }
     },
     "a29cbbb0949a4822be913b10635abe86": {
      "model_module": "@jupyter-widgets/controls",
      "model_module_version": "2.0.0",
      "model_name": "ButtonStyleModel",
      "state": {
       "font_family": null,
       "font_size": null,
       "font_style": null,
       "font_variant": null,
       "font_weight": null,
       "text_color": null,
       "text_decoration": null
      }
     },
     "a45e3501ef994beba71fb9cbaac25df7": {
      "model_module": "@jupyter-widgets/base",
      "model_module_version": "2.0.0",
      "model_name": "LayoutModel",
      "state": {}
     },
     "a6009ede959245b2bd56580e5d28b2d7": {
      "model_module": "@jupyter-widgets/base",
      "model_module_version": "2.0.0",
      "model_name": "LayoutModel",
      "state": {}
     },
     "a64674771a404512ae1a392445984006": {
      "model_module": "@jupyter-widgets/base",
      "model_module_version": "2.0.0",
      "model_name": "LayoutModel",
      "state": {}
     },
     "a7dc71385f1c4a49b0756c92b5651347": {
      "model_module": "@jupyter-widgets/base",
      "model_module_version": "2.0.0",
      "model_name": "LayoutModel",
      "state": {}
     },
     "a923aa34750942e0b54f7d7c11bc6d35": {
      "model_module": "@jupyter-widgets/controls",
      "model_module_version": "2.0.0",
      "model_name": "VBoxModel",
      "state": {
       "children": [
        "IPY_MODEL_08a3ec9af9ae4a3fab540f0954b9b123"
       ],
       "layout": "IPY_MODEL_cb3cf49bda6b4491b2ff216eda7db393"
      }
     },
     "aa2a622ef78344ba94818ad27e39c40c": {
      "model_module": "@jupyter-widgets/base",
      "model_module_version": "2.0.0",
      "model_name": "LayoutModel",
      "state": {
       "width": "500px"
      }
     },
     "ac08dda74a8e40cf9a53317fad324955": {
      "model_module": "@jupyter-widgets/controls",
      "model_module_version": "2.0.0",
      "model_name": "TextModel",
      "state": {
       "continuous_update": false,
       "layout": "IPY_MODEL_b602fcf96ae74d37ad44c2dff5d11fac",
       "placeholder": "app input",
       "style": "IPY_MODEL_bbae8ffa142d44c98273086b47bd3a05",
       "value": "xxx"
      }
     },
     "adb0de1f6cdb462382ef2cdc46aaf025": {
      "model_module": "@jupyter-widgets/controls",
      "model_module_version": "2.0.0",
      "model_name": "ButtonModel",
      "state": {
       "button_style": "info",
       "description": "Run",
       "layout": "IPY_MODEL_5c87911f67d8409698b12e05ff0e95a7",
       "style": "IPY_MODEL_a29cbbb0949a4822be913b10635abe86",
       "tooltip": null
      }
     },
     "b311cd39aca649d68a4163664cb24cd5": {
      "model_module": "@jupyter-widgets/base",
      "model_module_version": "2.0.0",
      "model_name": "LayoutModel",
      "state": {}
     },
     "b3bb4a04fff64063b9f02dcb4d58b72c": {
      "model_module": "@jupyter-widgets/controls",
      "model_module_version": "2.0.0",
      "model_name": "VBoxModel",
      "state": {
       "children": [
        "IPY_MODEL_695ad8ed916b493792d5cfadeb81500f"
       ],
       "layout": "IPY_MODEL_b311cd39aca649d68a4163664cb24cd5"
      }
     },
     "b602fcf96ae74d37ad44c2dff5d11fac": {
      "model_module": "@jupyter-widgets/base",
      "model_module_version": "2.0.0",
      "model_name": "LayoutModel",
      "state": {}
     },
     "ba1c47bebe9c46498bb023cbdf70aeac": {
      "model_module": "@jupyter-widgets/base",
      "model_module_version": "2.0.0",
      "model_name": "LayoutModel",
      "state": {}
     },
     "bbae8ffa142d44c98273086b47bd3a05": {
      "model_module": "@jupyter-widgets/controls",
      "model_module_version": "2.0.0",
      "model_name": "TextStyleModel",
      "state": {
       "description_width": "",
       "font_size": null,
       "text_color": null
      }
     },
     "bdbc442bfbea4af49004c59170c14376": {
      "model_module": "@jupyter-widgets/base",
      "model_module_version": "2.0.0",
      "model_name": "LayoutModel",
      "state": {}
     },
     "c1b1e39744fd4e79922a268c7af2ff53": {
      "model_module": "@jupyter-widgets/base",
      "model_module_version": "2.0.0",
      "model_name": "LayoutModel",
      "state": {}
     },
     "c2f2e23c6774469a8db51cbe7e2febd9": {
      "model_module": "@jupyter-widgets/base",
      "model_module_version": "2.0.0",
      "model_name": "LayoutModel",
      "state": {
       "width": "300px"
      }
     },
     "c3ddc3c035324fb596341e03306e03fe": {
      "model_module": "@jupyter-widgets/controls",
      "model_module_version": "2.0.0",
      "model_name": "ButtonModel",
      "state": {
       "button_style": "info",
       "description": "Quantize",
       "layout": "IPY_MODEL_68cc74ca9918425da6b8c8e9d9458420",
       "style": "IPY_MODEL_6894aca37b4e480ea9c1c28bdab0fe07",
       "tooltip": null
      }
     },
     "c51ada3285b0429db6b72dd7abaa30c8": {
      "model_module": "@jupyter-widgets/base",
      "model_module_version": "2.0.0",
      "model_name": "LayoutModel",
      "state": {
       "width": "200px"
      }
     },
     "c7f1355f3788447ab89fad3668eedce8": {
      "model_module": "@jupyter-widgets/controls",
      "model_module_version": "2.0.0",
      "model_name": "DescriptionStyleModel",
      "state": {
       "description_width": ""
      }
     },
     "cb3cf49bda6b4491b2ff216eda7db393": {
      "model_module": "@jupyter-widgets/base",
      "model_module_version": "2.0.0",
      "model_name": "LayoutModel",
      "state": {}
     },
     "cbd77705ace24ac2ad02d7bcbdd094a7": {
      "model_module": "@jupyter-widgets/base",
      "model_module_version": "2.0.0",
      "model_name": "LayoutModel",
      "state": {}
     },
     "cc5ba9bce058442e94a3d9cfef61dd59": {
      "model_module": "@jupyter-widgets/base",
      "model_module_version": "2.0.0",
      "model_name": "LayoutModel",
      "state": {}
     },
     "d134b6fdfdd8401297d4f8852166909e": {
      "model_module": "@jupyter-widgets/base",
      "model_module_version": "2.0.0",
      "model_name": "LayoutModel",
      "state": {
       "width": "200px"
      }
     },
     "d1fd4e452ebd4b2aa68ff5010ecc1568": {
      "model_module": "@jupyter-widgets/controls",
      "model_module_version": "2.0.0",
      "model_name": "VBoxModel",
      "state": {
       "children": [
        "IPY_MODEL_5c5dc9637dde436f81c8116eb17efcd2",
        "IPY_MODEL_dff5247c5e6541cbae7f31d0d95fc397"
       ],
       "layout": "IPY_MODEL_f816fd9ca00d406abbe8e4c30dcee7d9"
      }
     },
     "d225e4daf93541b59a4da169acfb2a24": {
      "model_module": "@jupyter-widgets/base",
      "model_module_version": "2.0.0",
      "model_name": "LayoutModel",
      "state": {}
     },
     "d347f18886da4f889b69e334d72244a6": {
      "model_module": "@jupyter-widgets/controls",
      "model_module_version": "2.0.0",
      "model_name": "SliderStyleModel",
      "state": {
       "description_width": ""
      }
     },
     "d39818987680460d8edd7fd95dac3129": {
      "model_module": "@jupyter-widgets/controls",
      "model_module_version": "2.0.0",
      "model_name": "ButtonStyleModel",
      "state": {
       "font_family": null,
       "font_size": null,
       "font_style": null,
       "font_variant": null,
       "font_weight": null,
       "text_color": null,
       "text_decoration": null
      }
     },
     "d60f3ede6055446e8a99950f51ba4832": {
      "model_module": "@jupyter-widgets/controls",
      "model_module_version": "2.0.0",
      "model_name": "VBoxModel",
      "state": {
       "children": [
        "IPY_MODEL_3eb7a1aababa4ffa93516341a8f554c8",
        "IPY_MODEL_fc4d2c13a388466aa3a7163edb7801ff",
        "IPY_MODEL_7cdd27a84c554367aa4ba85ab9729066",
        "IPY_MODEL_0d938ad10bcb407ea1e6d89d7f4c075e",
        "IPY_MODEL_76be4c9fdb93433d8b14881c4dd6cb13",
        "IPY_MODEL_52d8265ef60d4f9fb4edada0750209b5",
        "IPY_MODEL_25fc64f169d64231aee922f3131a73dd",
        "IPY_MODEL_fda03c997cf44bd787b7f2506d04566e",
        "IPY_MODEL_adb0de1f6cdb462382ef2cdc46aaf025"
       ],
       "layout": "IPY_MODEL_ddc5e2fdc0994fca8abf72b5d070426c"
      }
     },
     "dabcd70a659e47388d953a6e99d44941": {
      "model_module": "@jupyter-widgets/controls",
      "model_module_version": "2.0.0",
      "model_name": "DescriptionStyleModel",
      "state": {
       "description_width": ""
      }
     },
     "dd33c6716417464b842a5014c3c3faee": {
      "model_module": "@jupyter-widgets/base",
      "model_module_version": "2.0.0",
      "model_name": "LayoutModel",
      "state": {}
     },
     "ddc5e2fdc0994fca8abf72b5d070426c": {
      "model_module": "@jupyter-widgets/base",
      "model_module_version": "2.0.0",
      "model_name": "LayoutModel",
      "state": {}
     },
     "de858384d1c347bb8b83f8550f3d69f3": {
      "model_module": "@jupyter-widgets/controls",
      "model_module_version": "2.0.0",
      "model_name": "DropdownModel",
      "state": {
       "_options_labels": [
        "/Users/kuroro/CMC/models/codellama/instruct/7b/ggml-model-q4_0.gguf",
        "/Users/kuroro/CMC/models/codellama/instruct/7b/ggml-model-f16.gguf",
        "/Users/kuroro/CMC/models/codellama/instruct/7b/ggml-model-q6_k.gguf"
       ],
       "description": "Org model",
       "index": null,
       "layout": "IPY_MODEL_5634a0f876d74925be25a079318eeafb",
       "style": "IPY_MODEL_927d85e78e7d427e8ef12d4ebc5e135e"
      }
     },
     "dff5247c5e6541cbae7f31d0d95fc397": {
      "model_module": "@jupyter-widgets/controls",
      "model_module_version": "2.0.0",
      "model_name": "ButtonModel",
      "state": {
       "button_style": "info",
       "description": "Convert",
       "layout": "IPY_MODEL_f585a27ee2be43cebcbc928591bf7180",
       "style": "IPY_MODEL_d39818987680460d8edd7fd95dac3129",
       "tooltip": null
      }
     },
     "e4ab9fa9c00c4564adf375ee0b81ae9d": {
      "model_module": "@jupyter-widgets/controls",
      "model_module_version": "2.0.0",
      "model_name": "TextModel",
      "state": {
       "continuous_update": false,
       "layout": "IPY_MODEL_dd33c6716417464b842a5014c3c3faee",
       "placeholder": "compile input",
       "style": "IPY_MODEL_13839e7e95994c7daa762e3e1d5b63e9",
       "value": "xxx"
      }
     },
     "f585a27ee2be43cebcbc928591bf7180": {
      "model_module": "@jupyter-widgets/base",
      "model_module_version": "2.0.0",
      "model_name": "LayoutModel",
      "state": {
       "width": "100px"
      }
     },
     "f58b51e8413e4bf79623e13a6dc341be": {
      "model_module": "@jupyter-widgets/base",
      "model_module_version": "2.0.0",
      "model_name": "LayoutModel",
      "state": {
       "grid_area": "center"
      }
     },
     "f5ec742040d54943b1ffb903e4d7c737": {
      "model_module": "@jupyter-widgets/controls",
      "model_module_version": "2.0.0",
      "model_name": "DescriptionStyleModel",
      "state": {
       "description_width": ""
      }
     },
     "f816fd9ca00d406abbe8e4c30dcee7d9": {
      "model_module": "@jupyter-widgets/base",
      "model_module_version": "2.0.0",
      "model_name": "LayoutModel",
      "state": {}
     },
     "fa5e14cb8aeb4536b4c1def2da038577": {
      "model_module": "@jupyter-widgets/controls",
      "model_module_version": "2.0.0",
      "model_name": "DescriptionStyleModel",
      "state": {
       "description_width": ""
      }
     },
     "fc4d2c13a388466aa3a7163edb7801ff": {
      "model_module": "@jupyter-widgets/controls",
      "model_module_version": "2.0.0",
      "model_name": "TextareaModel",
      "state": {
       "continuous_update": false,
       "description": "SYSTEM",
       "layout": "IPY_MODEL_1882b51c86944fcca5b1e2cf8a362caf",
       "style": "IPY_MODEL_fea9e281c4fa4891a7e1376db311e4ce",
       "value": "You are a helpful assistant. 你是一个乐于助人的助手。"
      }
     },
     "fda03c997cf44bd787b7f2506d04566e": {
      "model_module": "@jupyter-widgets/controls",
      "model_module_version": "2.0.0",
      "model_name": "FloatSliderModel",
      "state": {
       "behavior": "drag-tap",
       "continuous_update": false,
       "description": "Repeat penalty",
       "layout": "IPY_MODEL_c2f2e23c6774469a8db51cbe7e2febd9",
       "max": 2,
       "min": 1,
       "step": 0.1,
       "style": "IPY_MODEL_d347f18886da4f889b69e334d72244a6",
       "value": 2
      }
     },
     "fea9e281c4fa4891a7e1376db311e4ce": {
      "model_module": "@jupyter-widgets/controls",
      "model_module_version": "2.0.0",
      "model_name": "TextStyleModel",
      "state": {
       "description_width": "",
       "font_size": null,
       "text_color": null
      }
     }
    },
    "version_major": 2,
    "version_minor": 0
   }
  }
 },
 "nbformat": 4,
 "nbformat_minor": 4
}
