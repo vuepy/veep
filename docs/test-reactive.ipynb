{
 "cells": [
  {
   "cell_type": "code",
   "execution_count": 1,
   "id": "019830f1-5ca1-4e2a-ab85-08e1812ca72f",
   "metadata": {
    "jupyter": {
     "source_hidden": true
    }
   },
   "outputs": [
    {
     "data": {
      "application/vnd.jupyter.widget-view+json": {
       "model_id": "34afed2e131c4e25b66b28a374cc98c1",
       "version_major": 2,
       "version_minor": 0
      },
      "text/plain": [
       "Document(children=(Dom(children=(MessageWidget(message_options={'message': '', 'type': 'info', 'show_close': F…"
      ]
     },
     "execution_count": 1,
     "metadata": {},
     "output_type": "execute_result"
    }
   ],
   "source": [
    "from pathlib import Path\n",
    "import ipywidgets as widgets\n",
    "\n",
    "from vuepy import create_app, import_sfc\n",
    "from ipywui import wui\n",
    "\n",
    "App = import_sfc(Path().absolute().parent / 'examples' / 'vue_app'/ 'VueApp.vue')\n",
    "app = create_app(App, debug=True).use(wui)\n",
    "app.mount(widgets.Output())"
   ]
  },
  {
   "cell_type": "code",
   "execution_count": 2,
   "id": "e06fc4bf-1cf9-43cc-bd70-165daa4f454e",
   "metadata": {},
   "outputs": [
    {
     "data": {
      "application/vnd.jupyter.widget-view+json": {
       "model_id": "19694abc209b414897fbc3745db59176",
       "version_major": 2,
       "version_minor": 0
      },
      "text/plain": [
       "Output(outputs=({'name': 'stdout', 'output_type': 'stream', 'text': '2024-05-17 00:25:46,644  - [INFO] vue.py:…"
      ]
     },
     "execution_count": 2,
     "metadata": {},
     "output_type": "execute_result"
    }
   ],
   "source": [
    "from vuepy.utils import magic\n",
    "%vuepy_log clear"
   ]
  },
  {
   "cell_type": "code",
   "execution_count": null,
   "id": "021cb4af-a698-4103-9d1b-470524fc1188",
   "metadata": {},
   "outputs": [],
   "source": []
  }
 ],
 "metadata": {
  "kernelspec": {
   "display_name": "Python 3 (ipykernel)",
   "language": "python",
   "name": "python3"
  },
  "language_info": {
   "codemirror_mode": {
    "name": "ipython",
    "version": 3
   },
   "file_extension": ".py",
   "mimetype": "text/x-python",
   "name": "python",
   "nbconvert_exporter": "python",
   "pygments_lexer": "ipython3",
   "version": "3.10.12"
  },
  "widgets": {
   "application/vnd.jupyter.widget-state+json": {
    "state": {
     "0084f2b3f0224d6480fe1ef347dc7d2a": {
      "model_module": "@jupyter-widgets/base",
      "model_module_version": "2.0.0",
      "model_name": "LayoutModel",
      "state": {
       "width": "200px"
      }
     },
     "00d8ce8cf479414dab489f4d1212dbe5": {
      "model_module": "@jupyter-widgets/base",
      "model_module_version": "2.0.0",
      "model_name": "LayoutModel",
      "state": {}
     },
     "01c46e86ccae4415b8a4b39e5ce52478": {
      "model_module": "@jupyter-widgets/controls",
      "model_module_version": "2.0.0",
      "model_name": "HTMLModel",
      "state": {
       "layout": "IPY_MODEL_53f0593ecd5d4978b60dcd5d57113074",
       "style": "IPY_MODEL_61c81ca8edab495d8e96047e8bc9af72",
       "value": "<span >{'name': 'l2', 'in': [5, 6, 7]}</span>"
      }
     },
     "02878ff676304aeca9bbaed30de7c4ec": {
      "model_module": "@jupyter-widgets/base",
      "model_module_version": "2.0.0",
      "model_name": "LayoutModel",
      "state": {}
     },
     "02fd434ceaea4e0bb1db3a94cbec39f7": {
      "model_module": "@jupyter-widgets/controls",
      "model_module_version": "2.0.0",
      "model_name": "ButtonModel",
      "state": {
       "button_style": "success",
       "description": "Submit",
       "layout": "IPY_MODEL_5e9e49c2b9544630a6c9d650bf4f84ec",
       "style": "IPY_MODEL_3d7cf4ffd87e46a9ad834f36c58065aa",
       "tooltip": null
      }
     },
     "03bc99db564f4b118d6b7b24a97504c3": {
      "model_module": "@jupyter-widgets/base",
      "model_module_version": "2.0.0",
      "model_name": "LayoutModel",
      "state": {}
     },
     "03e9aff29fe94e3fba58d692f4875044": {
      "model_module": "@jupyter-widgets/controls",
      "model_module_version": "2.0.0",
      "model_name": "HTMLModel",
      "state": {
       "layout": "IPY_MODEL_571f34ee12b747de9c2cc65be951bafc",
       "style": "IPY_MODEL_055a7bffa4c545708ac3e4d0978f5b44"
      }
     },
     "03f12795d8594f5bafb58313b65514c6": {
      "model_module": "anywidget",
      "model_module_version": "0.9.3",
      "model_name": "AnyModel",
      "state": {
       "_anywidget_id": "ipywui.widgets.custom.dialog.DialogWidget",
       "_css": ".wui-modal-root {\n    position: absolute;\n    bottom: 0;\n    left: 0;\n    overflow: auto;\n    pointer-events: none;\n    right: 0;\n    top: 0;\n    z-index: 999;\n}\n.wui-modal-root[data-state=open] {\n    display: block;\n}\n.wui-modal-root[data-state=close] {\n    display: none;\n}\n\n.wui-modal-dialog-container {\n    align-items: center;\n    display: flex;\n    justify-content: center;\n    min-height: 100%;\n    outline: none;\n    pointer-events: auto;\n    width: 100%;\n\n    -webkit-tap-highlight-color: rgba(0,0,0,0);\n    background-color: rgba(0,0,0,.5);\n    bottom: 0;\n    left: 0;\n    /*opacity: 0;*/\n    right: 0;\n    top: 0;\n    transition: opacity .4s;\n    transition-timing-function: cubic-bezier(.2,.8,.4,1);\n}\n\n.wui-modal-dialog {\n    background: white;\n    border-radius: 5px;\n    /*color: var(--text-default);*/\n    margin: 20px 12px;\n    max-width: 100%;\n    width: 50%;\n    /*opacity: 0;*/\n    /*position: relative;*/\n    /*-webkit-transform: translateY(20px);*/\n    /*transform: translateY(20px);*/\n    transition: opacity .4s,-webkit-transform .4s;\n    transition: transform .4s,opacity .4s;\n    transition: transform .4s,opacity .4s,-webkit-transform .4s;\n    transition-timing-function: cubic-bezier(.2,.8,.4,1);\n    -webkit-user-select: text;\n    user-select: text;\n}\n\n.wui-modal-header {\n    font-size: 20px;\n    line-height: 28px;\n    margin: 10px 14px 6px 14px;\n}\n\n.wui-modal-body {\n    font-size: 14px;\n    margin: 6px 14px 14px 14px;\n}\n\n.wui-modal-footer {\n    align-items: center;\n    display: flex;\n    justify-content: flex-end;\n    margin: 22px 14px 14px;\n}\n",
       "_esm": "async function unpack_models(model_ids, manager) {\n  return Promise.all(\n    model_ids.map(id => manager.get_model(id.slice(\"IPY_MODEL_\".length)))\n  );\n}\n\n\nexport async function render(view) {\n  let model = view.model;\n\n  let shouldShowDialog = () => model.get('value');\n  const modalRoot = view.el;\n  const modalDialogContainer = document.createElement('div');\n  const modalDialog = document.createElement('div');\n  modalRoot.className += ' wui-modal-root';\n  modalRoot.setAttribute('data-state', shouldShowDialog() ? 'open' : 'close');\n  modalDialogContainer.className += ' wui-modal-dialog-container';\n  modalDialog.className += ' wui-modal-dialog';\n  const modalDialogWidth = model.get(\"width\", '50%');\n  if (modalDialogWidth) {\n    modalDialog.style.width = modalDialogWidth;\n  }\n  modalRoot.appendChild(modalDialogContainer);\n  modalDialogContainer.appendChild(modalDialog);\n\n  const modalTitle = document.createElement('div');\n  modalTitle.className += ' wui-modal-header';\n  modalTitle.innerText = model.get('title');\n  const modalBody = document.createElement('div');\n  modalBody.className += ' wui-modal-body';\n  const modalFooter = document.createElement('div');\n  modalFooter.className += ' wui-modal-footer';\n  modalDialog.appendChild(modalTitle);\n  modalDialog.appendChild(modalBody);\n  modalDialog.appendChild(modalFooter);\n\n  let model_ids = model.get(\"body\"); // [\"IPY_MODEL_<model_id>\", ...]\n  let body_models = await unpack_models(model_ids, model.widget_manager);\n  for (let model of body_models) {\n    let child_view = await model.widget_manager.create_view(model);\n    modalBody.appendChild(child_view.el);\n  }\n  model_ids = model.get(\"footer\"); // [\"IPY_MODEL_<model_id>\", ...]\n  let footer_models = await unpack_models(model_ids, model.widget_manager);\n  for (let model of footer_models) {\n    let child_view = await model.widget_manager.create_view(model);\n    modalFooter.appendChild(child_view.el);\n  }\n  const emit = (evt, payload) => {\n    model.set(\"event\", {\"event\": evt, \"payload\": payload});\n    model.save_changes();\n  }\n  const openDialog = () => {\n    modalRoot.setAttribute('data-state', 'open');\n    emit(\"open\");\n  }\n  const closeDialog = () => {\n    modalRoot.setAttribute('data-state', 'close');\n    emit(\"close\");\n  }\n  modalDialogContainer.addEventListener('click', () => {\n    console.info('click')\n    model.set(\"value\", false);\n    model.save_changes()\n  })\n  modalDialog.addEventListener('click', (ev) => {\n    ev.stopPropagation();\n  })\n  model.on(\"change:value\", () => {\n    console.info('change value')\n    shouldShowDialog() ? openDialog() : closeDialog();\n  })\n}\n",
       "_model_module": "anywidget",
       "_model_module_version": "0.9.3",
       "_model_name": "AnyModel",
       "_view_module": "anywidget",
       "_view_module_version": "0.9.3",
       "_view_name": "AnyView",
       "body": [],
       "event": {},
       "footer": [],
       "layout": "IPY_MODEL_29999171aef042a19ccf258149b7eec0",
       "title": "test",
       "value": false,
       "width": "50%"
      }
     },
     "055a7bffa4c545708ac3e4d0978f5b44": {
      "model_module": "@jupyter-widgets/controls",
      "model_module_version": "2.0.0",
      "model_name": "HTMLStyleModel",
      "state": {
       "description_width": "",
       "font_size": null,
       "text_color": null
      }
     },
     "0657f94641794df5857174603d44ab82": {
      "model_module": "@jupyter-widgets/base",
      "model_module_version": "2.0.0",
      "model_name": "LayoutModel",
      "state": {}
     },
     "075c471260de4a6f81cdffb78d5189f6": {
      "model_module": "@jupyter-widgets/base",
      "model_module_version": "2.0.0",
      "model_name": "LayoutModel",
      "state": {}
     },
     "075dd0a087bf4cdd887b6a5f3307693e": {
      "model_module": "@jupyter-widgets/controls",
      "model_module_version": "2.0.0",
      "model_name": "HTMLModel",
      "state": {
       "layout": "IPY_MODEL_78f62641fa074db499094e5f5d84be50",
       "style": "IPY_MODEL_2c91fb122db8400f943b8e7177400d09",
       "value": "<p style='background: #ffaa00'>\n         <span >model: llama, top_p: 1 USER</span> \n      </p>"
      }
     },
     "076d564777244dcdbc83e9545c0e1416": {
      "model_module": "@jupyter-widgets/base",
      "model_module_version": "2.0.0",
      "model_name": "LayoutModel",
      "state": {
       "width": "450px"
      }
     },
     "07b549c1ca584565bdd152bff201daf5": {
      "model_module": "@jupyter-widgets/controls",
      "model_module_version": "2.0.0",
      "model_name": "HTMLModel",
      "state": {
       "layout": "IPY_MODEL_701c0496bd5849c1853ea00afa6f786f",
       "style": "IPY_MODEL_64486f2d61304451a52ed6a0bc13eda5",
       "value": "<span >model: llama, top_p: 1 BOT</span>"
      }
     },
     "07cc91964efd49ed812c72b210c4ed63": {
      "model_module": "@jupyter-widgets/controls",
      "model_module_version": "2.0.0",
      "model_name": "ButtonStyleModel",
      "state": {
       "font_family": null,
       "font_size": null,
       "font_style": null,
       "font_variant": null,
       "font_weight": null,
       "text_color": null,
       "text_decoration": null
      }
     },
     "08167e1ab11d4af79ef5d7d81565bf4a": {
      "model_module": "@jupyter-widgets/base",
      "model_module_version": "2.0.0",
      "model_name": "LayoutModel",
      "state": {}
     },
     "08d1b5e4ade5410293aef5162ed555c5": {
      "model_module": "@jupyter-widgets/controls",
      "model_module_version": "2.0.0",
      "model_name": "VBoxModel",
      "state": {
       "children": [
        "IPY_MODEL_79f3c48936e94718a6834f4c0f056072",
        "IPY_MODEL_8b0db1319fd24768a481eb2c168a96b2",
        "IPY_MODEL_42b7c48b511a49e38ed210ed796b1dca",
        "IPY_MODEL_2989ae8e1a28494490254ab7c2356ed0",
        "IPY_MODEL_a71283e7511a4aeba28c4f100b7d1c8a",
        "IPY_MODEL_d17ca4c0ef5b45a1b074b2fe7baeb5b7",
        "IPY_MODEL_f27f482721bc49848e8802bdca0f489f",
        "IPY_MODEL_18204a8585f245d194821800848af135",
        "IPY_MODEL_9b50a9e158bc43538d20a01bed36f0f9",
        "IPY_MODEL_ae4a1585d2b0426da1fd255d33cdc011",
        "IPY_MODEL_97afcd95d8e64bcab70746af2b9cb5ad"
       ],
       "layout": "IPY_MODEL_79e23dca55c6457c96e0ad9672cb673f"
      }
     },
     "0925f4d55c9e4db88e6d7b57faeface4": {
      "model_module": "@jupyter-widgets/controls",
      "model_module_version": "2.0.0",
      "model_name": "ButtonModel",
      "state": {
       "button_style": "danger",
       "icon": "minus-circle",
       "layout": "IPY_MODEL_fe25953fb060404fbd1645fa0777868b",
       "style": "IPY_MODEL_6092c0c6979649e796385ebb01974a12",
       "tooltip": null
      }
     },
     "0b1d11bafc0f4ee193abf25e9adeadb4": {
      "model_module": "@jupyter-widgets/controls",
      "model_module_version": "2.0.0",
      "model_name": "DescriptionStyleModel",
      "state": {
       "description_width": ""
      }
     },
     "0b2a7906ee7b45b38c9b0eb54f5e0432": {
      "model_module": "@jupyter-widgets/base",
      "model_module_version": "2.0.0",
      "model_name": "LayoutModel",
      "state": {}
     },
     "0cb645587ee7492b82f30c1b8b60c8c9": {
      "model_module": "@jupyter-widgets/base",
      "model_module_version": "2.0.0",
      "model_name": "LayoutModel",
      "state": {
       "width": "60px"
      }
     },
     "0cceb9ff873f4ce0a9f9ed0916b0e474": {
      "model_module": "@jupyter-widgets/controls",
      "model_module_version": "2.0.0",
      "model_name": "ButtonModel",
      "state": {
       "button_style": "info",
       "description": "message",
       "layout": "IPY_MODEL_eb1af431bf0a47c691bf576345b8a381",
       "style": "IPY_MODEL_96f6cb1290b0401ab856434a0db97121",
       "tooltip": null
      }
     },
     "0edf2d5e2095453eb7e7d83e9e59990a": {
      "model_module": "@jupyter-widgets/base",
      "model_module_version": "2.0.0",
      "model_name": "LayoutModel",
      "state": {
       "width": "40px"
      }
     },
     "0f5400b334254466baa3f509916a1657": {
      "model_module": "@jupyter-widgets/controls",
      "model_module_version": "2.0.0",
      "model_name": "VBoxModel",
      "state": {
       "children": [
        "IPY_MODEL_5f0e6880b7604a07aa456bdd387c6240",
        "IPY_MODEL_44d85470583d45e3a4fc74aceda59a51"
       ],
       "layout": "IPY_MODEL_5e3ccd6ef39f48128c303fdc68f8b696"
      }
     },
     "0f645f98d7334db0af27edb41555497f": {
      "model_module": "@jupyter-widgets/controls",
      "model_module_version": "2.0.0",
      "model_name": "FloatSliderModel",
      "state": {
       "behavior": "drag-tap",
       "continuous_update": false,
       "description": "top_p",
       "layout": "IPY_MODEL_5d98547baa2e4e558d752fc41d5a303d",
       "max": 1,
       "orientation": "vertical",
       "step": 0.01,
       "style": "IPY_MODEL_53629c318c3f4571a0648f36d500485b",
       "value": 0.68
      }
     },
     "0f6ede39e2394289b8ad8529b2611ee5": {
      "model_module": "@jupyter-widgets/controls",
      "model_module_version": "2.0.0",
      "model_name": "HTMLStyleModel",
      "state": {
       "description_width": "",
       "font_size": null,
       "text_color": null
      }
     },
     "0f7407d602174f68a08d3145bde0724b": {
      "model_module": "@jupyter-widgets/controls",
      "model_module_version": "2.0.0",
      "model_name": "ButtonStyleModel",
      "state": {
       "font_family": null,
       "font_size": null,
       "font_style": null,
       "font_variant": null,
       "font_weight": null,
       "text_color": null,
       "text_decoration": null
      }
     },
     "0fc09bebf064486abb3a8c698509c75e": {
      "model_module": "@jupyter-widgets/controls",
      "model_module_version": "2.0.0",
      "model_name": "SliderStyleModel",
      "state": {
       "description_width": ""
      }
     },
     "1159235cf3084860b75748008d8fc9ad": {
      "model_module": "anywidget",
      "model_module_version": "0.9.3",
      "model_name": "AnyModel",
      "state": {
       "_anywidget_id": "ipywui.widgets.custom.dialog.DialogWidget",
       "_css": ".wui-modal-root {\n    position: absolute;\n    bottom: 0;\n    left: 0;\n    overflow: auto;\n    pointer-events: none;\n    right: 0;\n    top: 0;\n    z-index: 999;\n}\n.wui-modal-root[data-state=open] {\n    display: block;\n}\n.wui-modal-root[data-state=close] {\n    display: none;\n}\n\n.wui-modal-dialog-container {\n    align-items: center;\n    display: flex;\n    justify-content: center;\n    min-height: 100%;\n    outline: none;\n    pointer-events: auto;\n    width: 100%;\n\n    -webkit-tap-highlight-color: rgba(0,0,0,0);\n    background-color: rgba(0,0,0,.5);\n    bottom: 0;\n    left: 0;\n    /*opacity: 0;*/\n    right: 0;\n    top: 0;\n    transition: opacity .4s;\n    transition-timing-function: cubic-bezier(.2,.8,.4,1);\n}\n\n.wui-modal-dialog {\n    background: white;\n    border-radius: 5px;\n    /*color: var(--text-default);*/\n    margin: 20px 12px;\n    max-width: 100%;\n    width: 50%;\n    /*opacity: 0;*/\n    /*position: relative;*/\n    /*-webkit-transform: translateY(20px);*/\n    /*transform: translateY(20px);*/\n    transition: opacity .4s,-webkit-transform .4s;\n    transition: transform .4s,opacity .4s;\n    transition: transform .4s,opacity .4s,-webkit-transform .4s;\n    transition-timing-function: cubic-bezier(.2,.8,.4,1);\n    -webkit-user-select: text;\n    user-select: text;\n}\n\n.wui-modal-header {\n    font-size: 20px;\n    line-height: 28px;\n    margin: 10px 14px 6px 14px;\n}\n\n.wui-modal-body {\n    font-size: 14px;\n    margin: 6px 14px 14px 14px;\n}\n\n.wui-modal-footer {\n    align-items: center;\n    display: flex;\n    justify-content: flex-end;\n    margin: 22px 14px 14px;\n}\n",
       "_esm": "async function unpack_models(model_ids, manager) {\n  return Promise.all(\n    model_ids.map(id => manager.get_model(id.slice(\"IPY_MODEL_\".length)))\n  );\n}\n\n\nexport async function render(view) {\n  let model = view.model;\n\n  let shouldShowDialog = () => model.get('value');\n  const modalRoot = view.el;\n  const modalDialogContainer = document.createElement('div');\n  const modalDialog = document.createElement('div');\n  modalRoot.className += ' wui-modal-root';\n  modalRoot.setAttribute('data-state', shouldShowDialog() ? 'open' : 'close');\n  modalDialogContainer.className += ' wui-modal-dialog-container';\n  modalDialog.className += ' wui-modal-dialog';\n  const modalDialogWidth = model.get(\"width\", '50%');\n  if (modalDialogWidth) {\n    modalDialog.style.width = modalDialogWidth;\n  }\n  modalRoot.appendChild(modalDialogContainer);\n  modalDialogContainer.appendChild(modalDialog);\n\n  const modalTitle = document.createElement('div');\n  modalTitle.className += ' wui-modal-header';\n  modalTitle.innerText = model.get('title');\n  const modalBody = document.createElement('div');\n  modalBody.className += ' wui-modal-body';\n  const modalFooter = document.createElement('div');\n  modalFooter.className += ' wui-modal-footer';\n  modalDialog.appendChild(modalTitle);\n  modalDialog.appendChild(modalBody);\n  modalDialog.appendChild(modalFooter);\n\n  let model_ids = model.get(\"body\"); // [\"IPY_MODEL_<model_id>\", ...]\n  let body_models = await unpack_models(model_ids, model.widget_manager);\n  for (let model of body_models) {\n    let child_view = await model.widget_manager.create_view(model);\n    modalBody.appendChild(child_view.el);\n  }\n  model_ids = model.get(\"footer\"); // [\"IPY_MODEL_<model_id>\", ...]\n  let footer_models = await unpack_models(model_ids, model.widget_manager);\n  for (let model of footer_models) {\n    let child_view = await model.widget_manager.create_view(model);\n    modalFooter.appendChild(child_view.el);\n  }\n  const emit = (evt, payload) => {\n    model.set(\"event\", {\"event\": evt, \"payload\": payload});\n    model.save_changes();\n  }\n  const openDialog = () => {\n    modalRoot.setAttribute('data-state', 'open');\n    emit(\"open\");\n  }\n  const closeDialog = () => {\n    modalRoot.setAttribute('data-state', 'close');\n    emit(\"close\");\n  }\n  modalDialogContainer.addEventListener('click', () => {\n    console.info('click')\n    model.set(\"value\", false);\n    model.save_changes()\n  })\n  modalDialog.addEventListener('click', (ev) => {\n    ev.stopPropagation();\n  })\n  model.on(\"change:value\", () => {\n    console.info('change value')\n    shouldShowDialog() ? openDialog() : closeDialog();\n  })\n}\n",
       "_model_module": "anywidget",
       "_model_module_version": "0.9.3",
       "_model_name": "AnyModel",
       "_view_module": "anywidget",
       "_view_module_version": "0.9.3",
       "_view_name": "AnyView",
       "body": [],
       "event": {},
       "footer": [],
       "layout": "IPY_MODEL_fbe31f6f13b94371b8ee9b1cabdce682",
       "title": "test",
       "value": false,
       "width": "50%"
      }
     },
     "1272fbd0d10f4cd0b6edd6d9461436ce": {
      "model_module": "@jupyter-widgets/controls",
      "model_module_version": "2.0.0",
      "model_name": "VBoxModel",
      "state": {
       "children": [
        "IPY_MODEL_6ee1c548e2884b75bb730d584530f9a3",
        "IPY_MODEL_cf2fdccc0e9c4186bb9def3a4e47c69c"
       ],
       "layout": "IPY_MODEL_97126763e4894b74821fd38114f329b8"
      }
     },
     "1295dc4106e4499ebb0470d5b365b313": {
      "model_module": "@jupyter-widgets/base",
      "model_module_version": "2.0.0",
      "model_name": "LayoutModel",
      "state": {}
     },
     "1301c18a82bb45d3aca237bde90421cf": {
      "model_module": "@jupyter-widgets/controls",
      "model_module_version": "2.0.0",
      "model_name": "ButtonModel",
      "state": {
       "description": "BOT",
       "layout": "IPY_MODEL_ef2ca0de4df34e0b8b7d0ba3f89d7219",
       "style": "IPY_MODEL_d80aa354203144999490b356b654e71f",
       "tooltip": null
      }
     },
     "1340c81062d944e0814aea939da439ea": {
      "model_module": "@jupyter-widgets/controls",
      "model_module_version": "2.0.0",
      "model_name": "TextareaModel",
      "state": {
       "continuous_update": false,
       "layout": "IPY_MODEL_076d564777244dcdbc83e9545c0e1416",
       "style": "IPY_MODEL_b35dbe9d487c44d2b3ea59d987f7430f",
       "value": "world bot"
      }
     },
     "1377c4bcab254b7099299d120996501c": {
      "model_module": "@jupyter-widgets/controls",
      "model_module_version": "2.0.0",
      "model_name": "GridBoxModel",
      "state": {
       "children": [
        "IPY_MODEL_487430423d6f45b2b442b038e4d11305",
        "IPY_MODEL_6686119a6c544a5db40363c46e1d7c7f"
       ],
       "layout": "IPY_MODEL_8fb7031494c84c1c8c48e86969fad5f3"
      }
     },
     "13c821a848184ef5a05733290b64e58b": {
      "model_module": "@jupyter-widgets/base",
      "model_module_version": "2.0.0",
      "model_name": "LayoutModel",
      "state": {
       "grid_area": "right-sidebar"
      }
     },
     "15c307ef9d854aada0b356be45095f55": {
      "model_module": "@jupyter-widgets/controls",
      "model_module_version": "2.0.0",
      "model_name": "HBoxModel",
      "state": {
       "children": [
        "IPY_MODEL_17add83890b44326a33c7811aeec4953",
        "IPY_MODEL_01c46e86ccae4415b8a4b39e5ce52478"
       ],
       "layout": "IPY_MODEL_b4453c2b17134bbf82b31c59fac94b48"
      }
     },
     "15df650217b047cc822e9705c4a4b908": {
      "model_module": "@jupyter-widgets/base",
      "model_module_version": "2.0.0",
      "model_name": "LayoutModel",
      "state": {}
     },
     "161a299540e446448406f94dbb8a7183": {
      "model_module": "@jupyter-widgets/base",
      "model_module_version": "2.0.0",
      "model_name": "LayoutModel",
      "state": {}
     },
     "164abe1133204699b06426c97daa80c4": {
      "model_module": "@jupyter-widgets/base",
      "model_module_version": "2.0.0",
      "model_name": "LayoutModel",
      "state": {
       "width": "40px"
      }
     },
     "174408ea0f224136922a6479518c9881": {
      "model_module": "@jupyter-widgets/base",
      "model_module_version": "2.0.0",
      "model_name": "LayoutModel",
      "state": {
       "width": "40px"
      }
     },
     "17add83890b44326a33c7811aeec4953": {
      "model_module": "@jupyter-widgets/controls",
      "model_module_version": "2.0.0",
      "model_name": "DropdownModel",
      "state": {
       "_options_labels": [
        "op1",
        "op2"
       ],
       "description": "options",
       "index": 1,
       "layout": "IPY_MODEL_0084f2b3f0224d6480fe1ef347dc7d2a",
       "style": "IPY_MODEL_8e450f3f0659461687149534ff003edb"
      }
     },
     "17be448f180e497691a6c800b398a7ac": {
      "model_module": "@jupyter-widgets/controls",
      "model_module_version": "2.0.0",
      "model_name": "ButtonStyleModel",
      "state": {
       "font_family": null,
       "font_size": null,
       "font_style": null,
       "font_variant": null,
       "font_weight": null,
       "text_color": null,
       "text_decoration": null
      }
     },
     "18204a8585f245d194821800848af135": {
      "model_module": "@jupyter-widgets/controls",
      "model_module_version": "2.0.0",
      "model_name": "HBoxModel",
      "state": {
       "children": [
        "IPY_MODEL_42ba13d86f9e422fb2f000a8f346ff91",
        "IPY_MODEL_8c82564ba7e74163936f1877bd82932a",
        "IPY_MODEL_e7117236eea440389e1a28c112538eab",
        "IPY_MODEL_0cceb9ff873f4ce0a9f9ed0916b0e474",
        "IPY_MODEL_84396be7693447a08746d1fcd27e24db"
       ],
       "layout": "IPY_MODEL_9ff0a134066440d790aab5e1c24ba8fa"
      }
     },
     "18613d930864444899e3a076d74201d1": {
      "model_module": "@jupyter-widgets/base",
      "model_module_version": "2.0.0",
      "model_name": "LayoutModel",
      "state": {}
     },
     "19694abc209b414897fbc3745db59176": {
      "model_module": "@jupyter-widgets/output",
      "model_module_version": "1.0.0",
      "model_name": "OutputModel",
      "state": {
       "layout": "IPY_MODEL_2b979762dd954dafb8c77360c0b0b826",
       "outputs": [
        {
         "name": "stdout",
         "output_type": "stream",
         "text": "2024-05-17 00:25:54,420  - [WARNING] vue.py:component:1583 - component(p) not found in Component `SFC`.\n"
        },
        {
         "name": "stdout",
         "output_type": "stream",
         "text": "2024-05-17 00:25:54,420  - [WARNING] vue.py:component:1583 - component(p) not found in Component `SFC`.\n"
        },
        {
         "name": "stdout",
         "output_type": "stream",
         "text": "2024-05-17 00:25:54,419  - [WARNING] vue.py:component:1583 - component(p) not found in Component `SFC`.\n"
        },
        {
         "name": "stdout",
         "output_type": "stream",
         "text": "2024-05-17 00:25:54,418  - [INFO] vue.py:__handle_data_for_stmt_gen_html:1210 - gen html\n"
        },
        {
         "name": "stdout",
         "output_type": "stream",
         "text": "2024-05-17 00:25:54,418  - [INFO] vue.py:__handle_data_for_stmt_gen_html:1210 - gen html\n"
        },
        {
         "name": "stdout",
         "output_type": "stream",
         "text": "2024-05-17 00:25:54,418  - [INFO] vue.py:__handle_data_for_stmt_gen_html:1210 - gen html\n"
        },
        {
         "name": "stdout",
         "output_type": "stream",
         "text": "2024-05-17 00:25:54,418  - [INFO] vue.py:__handle_data_for_stmt_gen_html:1210 - gen html\n"
        },
        {
         "name": "stdout",
         "output_type": "stream",
         "text": "2024-05-17 00:25:54,417  - [INFO] vue.py:__handle_data_for_stmt_gen_html:1210 - gen html\n"
        },
        {
         "name": "stdout",
         "output_type": "stream",
         "text": "2024-05-17 00:25:54,417  - [INFO] vue.py:__handle_data_for_stmt_gen_html:1210 - gen html\n"
        },
        {
         "name": "stdout",
         "output_type": "stream",
         "text": "2024-05-17 00:25:54,416  - [WARNING] vue.py:component:1583 - component(span) not found in Component `SFC`.\n"
        },
        {
         "name": "stdout",
         "output_type": "stream",
         "text": "2024-05-17 00:25:54,415  - [WARNING] vue.py:component:1583 - component(span) not found in Component `SFC`.\n"
        },
        {
         "name": "stdout",
         "output_type": "stream",
         "text": "2024-05-17 00:25:54,414  - [WARNING] vue.py:component:1583 - component(span) not found in Component `SFC`.\n"
        },
        {
         "name": "stdout",
         "output_type": "stream",
         "text": "2024-05-17 00:25:54,414  - [INFO] vue.py:__handle_data_for_stmt_gen_html:1210 - gen html\n"
        },
        {
         "name": "stdout",
         "output_type": "stream",
         "text": "2024-05-17 00:25:54,413  - [INFO] vue.py:__handle_data_for_stmt_gen_html:1210 - gen html\n"
        },
        {
         "name": "stdout",
         "output_type": "stream",
         "text": "2024-05-17 00:25:54,413  - [INFO] vue.py:__handle_data_for_stmt_gen_html:1210 - gen html\n"
        },
        {
         "name": "stdout",
         "output_type": "stream",
         "text": "2024-05-17 00:25:54,413  - [INFO] vue.py:__handle_data_for_stmt_gen_html:1210 - gen html\n"
        },
        {
         "name": "stdout",
         "output_type": "stream",
         "text": "2024-05-17 00:25:54,412  - [INFO] vue.py:__handle_data_for_stmt_gen_html:1210 - gen html\n"
        },
        {
         "name": "stdout",
         "output_type": "stream",
         "text": "2024-05-17 00:25:54,412  - [INFO] vue.py:__handle_data_for_stmt_gen_html:1210 - gen html\n"
        },
        {
         "name": "stdout",
         "output_type": "stream",
         "text": "2024-05-17 00:25:54,411  - [WARNING] vue.py:component:1583 - component(span) not found in Component `SFC`.\n"
        },
        {
         "name": "stdout",
         "output_type": "stream",
         "text": "2024-05-17 00:25:54,411  - [WARNING] vue.py:component:1583 - component(span) not found in Component `SFC`.\n"
        },
        {
         "name": "stdout",
         "output_type": "stream",
         "text": "2024-05-17 00:25:54,411  - [WARNING] vue.py:component:1583 - component(span) not found in Component `SFC`.\n"
        },
        {
         "name": "stdout",
         "output_type": "stream",
         "text": "2024-05-17 00:25:54,411  - [INFO] vue.py:__handle_data_for_stmt_gen_html:1210 - gen html\n"
        },
        {
         "name": "stdout",
         "output_type": "stream",
         "text": "2024-05-17 00:25:54,410  - [INFO] vue.py:__handle_data_for_stmt_gen_html:1210 - gen html\n"
        },
        {
         "name": "stdout",
         "output_type": "stream",
         "text": "2024-05-17 00:25:54,410  - [INFO] vue.py:__handle_data_for_stmt_gen_html:1210 - gen html\n"
        },
        {
         "name": "stdout",
         "output_type": "stream",
         "text": "2024-05-17 00:25:54,410  - [INFO] vue.py:__handle_data_for_stmt_gen_html:1210 - gen html\n"
        },
        {
         "name": "stdout",
         "output_type": "stream",
         "text": "2024-05-17 00:25:54,410  - [INFO] vue.py:__handle_data_for_stmt_gen_html:1210 - gen html\n"
        },
        {
         "name": "stdout",
         "output_type": "stream",
         "text": "2024-05-17 00:25:54,409  - [INFO] vue.py:__handle_data_for_stmt_gen_html:1210 - gen html\n"
        },
        {
         "name": "stdout",
         "output_type": "stream",
         "text": "2024-05-17 00:25:54,409  - [WARNING] vue.py:component:1583 - component(p) not found in Component `SFC`.\n"
        },
        {
         "name": "stdout",
         "output_type": "stream",
         "text": "2024-05-17 00:25:54,408  - [WARNING] vue.py:component:1583 - component(p) not found in Component `SFC`.\n"
        },
        {
         "name": "stdout",
         "output_type": "stream",
         "text": "2024-05-17 00:25:54,408  - [WARNING] vue.py:component:1583 - component(p) not found in Component `SFC`.\n"
        },
        {
         "name": "stdout",
         "output_type": "stream",
         "text": "2024-05-17 00:25:54,403  - [WARNING] vue.py:component:1583 - component(p) not found in Component `SFC`.\n"
        },
        {
         "name": "stdout",
         "output_type": "stream",
         "text": "2024-05-17 00:25:54,403  - [WARNING] vue.py:component:1583 - component(p) not found in Component `SFC`.\n"
        },
        {
         "name": "stdout",
         "output_type": "stream",
         "text": "2024-05-17 00:25:54,402  - [WARNING] vue.py:component:1583 - component(p) not found in Component `SFC`.\n"
        },
        {
         "name": "stdout",
         "output_type": "stream",
         "text": "2024-05-17 00:25:54,402  - [WARNING] vue.py:component:1583 - component(p) not found in Component `SFC`.\n"
        },
        {
         "name": "stdout",
         "output_type": "stream",
         "text": "2024-05-17 00:25:54,401  - [WARNING] vue.py:component:1583 - component(hr) not found in Component `SFC`.\n"
        },
        {
         "name": "stdout",
         "output_type": "stream",
         "text": "2024-05-17 00:25:54,401  - [WARNING] vue.py:component:1583 - component(hr) not found in Component `SFC`.\n"
        },
        {
         "name": "stdout",
         "output_type": "stream",
         "text": "2024-05-17 00:25:54,376  - [WARNING] vue.py:component:1583 - component(span) not found in Component `SFC`.\n"
        },
        {
         "name": "stdout",
         "output_type": "stream",
         "text": "2024-05-17 00:25:54,375  - [WARNING] vue.py:component:1583 - component(span) not found in Component `SFC`.\n"
        },
        {
         "name": "stdout",
         "output_type": "stream",
         "text": "2024-05-17 00:25:54,363  - [INFO] vue.py:render:1843 - =============== SFC rerender\n"
        },
        {
         "name": "stdout",
         "output_type": "stream",
         "text": "2024-05-17 00:25:54,362  - [INFO] vue.py:rerender:1216 - rerender\n"
        },
        {
         "name": "stdout",
         "output_type": "stream",
         "text": "2024-05-17 00:25:54,361  - [INFO] vue.py:__handle_data_for_stmt_gen_html:1210 - gen html\n"
        },
        {
         "name": "stdout",
         "output_type": "stream",
         "text": "2024-05-17 00:25:49,581  - [WARNING] vue.py:component:1583 - component(p) not found in Component `SFC`.\n"
        },
        {
         "name": "stdout",
         "output_type": "stream",
         "text": "2024-05-17 00:25:49,580  - [WARNING] vue.py:component:1583 - component(p) not found in Component `SFC`.\n"
        },
        {
         "name": "stdout",
         "output_type": "stream",
         "text": "2024-05-17 00:25:49,579  - [WARNING] vue.py:component:1583 - component(p) not found in Component `SFC`.\n"
        },
        {
         "name": "stdout",
         "output_type": "stream",
         "text": "2024-05-17 00:25:49,579  - [INFO] vue.py:__handle_data_for_stmt_gen_html:1210 - gen html\n"
        },
        {
         "name": "stdout",
         "output_type": "stream",
         "text": "2024-05-17 00:25:49,579  - [INFO] vue.py:__handle_data_for_stmt_gen_html:1210 - gen html\n"
        },
        {
         "name": "stdout",
         "output_type": "stream",
         "text": "2024-05-17 00:25:49,578  - [INFO] vue.py:__handle_data_for_stmt_gen_html:1210 - gen html\n"
        },
        {
         "name": "stdout",
         "output_type": "stream",
         "text": "2024-05-17 00:25:49,578  - [INFO] vue.py:__handle_data_for_stmt_gen_html:1210 - gen html\n"
        },
        {
         "name": "stdout",
         "output_type": "stream",
         "text": "2024-05-17 00:25:49,578  - [INFO] vue.py:__handle_data_for_stmt_gen_html:1210 - gen html\n"
        },
        {
         "name": "stdout",
         "output_type": "stream",
         "text": "2024-05-17 00:25:49,578  - [INFO] vue.py:__handle_data_for_stmt_gen_html:1210 - gen html\n"
        },
        {
         "name": "stdout",
         "output_type": "stream",
         "text": "2024-05-17 00:25:49,577  - [WARNING] vue.py:component:1583 - component(span) not found in Component `SFC`.\n"
        },
        {
         "name": "stdout",
         "output_type": "stream",
         "text": "2024-05-17 00:25:49,576  - [WARNING] vue.py:component:1583 - component(span) not found in Component `SFC`.\n"
        },
        {
         "name": "stdout",
         "output_type": "stream",
         "text": "2024-05-17 00:25:49,575  - [WARNING] vue.py:component:1583 - component(span) not found in Component `SFC`.\n"
        },
        {
         "name": "stdout",
         "output_type": "stream",
         "text": "2024-05-17 00:25:49,574  - [INFO] vue.py:__handle_data_for_stmt_gen_html:1210 - gen html\n"
        },
        {
         "name": "stdout",
         "output_type": "stream",
         "text": "2024-05-17 00:25:49,574  - [INFO] vue.py:__handle_data_for_stmt_gen_html:1210 - gen html\n"
        },
        {
         "name": "stdout",
         "output_type": "stream",
         "text": "2024-05-17 00:25:49,574  - [INFO] vue.py:__handle_data_for_stmt_gen_html:1210 - gen html\n"
        },
        {
         "name": "stdout",
         "output_type": "stream",
         "text": "2024-05-17 00:25:49,574  - [INFO] vue.py:__handle_data_for_stmt_gen_html:1210 - gen html\n"
        },
        {
         "name": "stdout",
         "output_type": "stream",
         "text": "2024-05-17 00:25:49,573  - [INFO] vue.py:__handle_data_for_stmt_gen_html:1210 - gen html\n"
        },
        {
         "name": "stdout",
         "output_type": "stream",
         "text": "2024-05-17 00:25:49,573  - [INFO] vue.py:__handle_data_for_stmt_gen_html:1210 - gen html\n"
        },
        {
         "name": "stdout",
         "output_type": "stream",
         "text": "2024-05-17 00:25:49,573  - [WARNING] vue.py:component:1583 - component(span) not found in Component `SFC`.\n"
        },
        {
         "name": "stdout",
         "output_type": "stream",
         "text": "2024-05-17 00:25:49,573  - [WARNING] vue.py:component:1583 - component(span) not found in Component `SFC`.\n"
        },
        {
         "name": "stdout",
         "output_type": "stream",
         "text": "2024-05-17 00:25:49,572  - [WARNING] vue.py:component:1583 - component(span) not found in Component `SFC`.\n"
        },
        {
         "name": "stdout",
         "output_type": "stream",
         "text": "2024-05-17 00:25:49,572  - [INFO] vue.py:__handle_data_for_stmt_gen_html:1210 - gen html\n"
        },
        {
         "name": "stdout",
         "output_type": "stream",
         "text": "2024-05-17 00:25:49,572  - [INFO] vue.py:__handle_data_for_stmt_gen_html:1210 - gen html\n"
        },
        {
         "name": "stdout",
         "output_type": "stream",
         "text": "2024-05-17 00:25:49,571  - [INFO] vue.py:__handle_data_for_stmt_gen_html:1210 - gen html\n"
        },
        {
         "name": "stdout",
         "output_type": "stream",
         "text": "2024-05-17 00:25:49,571  - [INFO] vue.py:__handle_data_for_stmt_gen_html:1210 - gen html\n"
        },
        {
         "name": "stdout",
         "output_type": "stream",
         "text": "2024-05-17 00:25:49,570  - [INFO] vue.py:__handle_data_for_stmt_gen_html:1210 - gen html\n"
        },
        {
         "name": "stdout",
         "output_type": "stream",
         "text": "2024-05-17 00:25:49,570  - [INFO] vue.py:__handle_data_for_stmt_gen_html:1210 - gen html\n"
        },
        {
         "name": "stdout",
         "output_type": "stream",
         "text": "2024-05-17 00:25:49,570  - [WARNING] vue.py:component:1583 - component(p) not found in Component `SFC`.\n"
        },
        {
         "name": "stdout",
         "output_type": "stream",
         "text": "2024-05-17 00:25:49,570  - [WARNING] vue.py:component:1583 - component(p) not found in Component `SFC`.\n"
        },
        {
         "name": "stdout",
         "output_type": "stream",
         "text": "2024-05-17 00:25:49,570  - [WARNING] vue.py:component:1583 - component(p) not found in Component `SFC`.\n"
        },
        {
         "name": "stdout",
         "output_type": "stream",
         "text": "2024-05-17 00:25:49,565  - [WARNING] vue.py:component:1583 - component(p) not found in Component `SFC`.\n"
        },
        {
         "name": "stdout",
         "output_type": "stream",
         "text": "2024-05-17 00:25:49,565  - [WARNING] vue.py:component:1583 - component(p) not found in Component `SFC`.\n"
        },
        {
         "name": "stdout",
         "output_type": "stream",
         "text": "2024-05-17 00:25:49,564  - [WARNING] vue.py:component:1583 - component(p) not found in Component `SFC`.\n"
        },
        {
         "name": "stdout",
         "output_type": "stream",
         "text": "2024-05-17 00:25:49,564  - [WARNING] vue.py:component:1583 - component(p) not found in Component `SFC`.\n"
        },
        {
         "name": "stdout",
         "output_type": "stream",
         "text": "2024-05-17 00:25:49,563  - [WARNING] vue.py:component:1583 - component(hr) not found in Component `SFC`.\n"
        },
        {
         "name": "stdout",
         "output_type": "stream",
         "text": "2024-05-17 00:25:49,563  - [WARNING] vue.py:component:1583 - component(hr) not found in Component `SFC`.\n"
        },
        {
         "name": "stdout",
         "output_type": "stream",
         "text": "2024-05-17 00:25:49,542  - [WARNING] vue.py:component:1583 - component(span) not found in Component `SFC`.\n"
        },
        {
         "name": "stdout",
         "output_type": "stream",
         "text": "2024-05-17 00:25:49,540  - [WARNING] vue.py:component:1583 - component(span) not found in Component `SFC`.\n"
        },
        {
         "name": "stdout",
         "output_type": "stream",
         "text": "2024-05-17 00:25:49,521  - [INFO] vue.py:render:1843 - =============== SFC rerender\n"
        }
       ]
      }
     },
     "1a4d6ad63e2243be9a962e962214c7fd": {
      "model_module": "@jupyter-widgets/controls",
      "model_module_version": "2.0.0",
      "model_name": "ButtonModel",
      "state": {
       "button_style": "danger",
       "icon": "minus-circle",
       "layout": "IPY_MODEL_37e49347655d4db79ec2cd94b8a4cd12",
       "style": "IPY_MODEL_7b05084792964a279bb75286f55c1b8c",
       "tooltip": null
      }
     },
     "1b9f2cc2a69b4981a4a8458b7d25ce79": {
      "model_module": "@jupyter-widgets/controls",
      "model_module_version": "2.0.0",
      "model_name": "ButtonModel",
      "state": {
       "button_style": "info",
       "description": "message",
       "layout": "IPY_MODEL_18613d930864444899e3a076d74201d1",
       "style": "IPY_MODEL_4a9ca89f082d4cec8a95dbdeaab5d870",
       "tooltip": null
      }
     },
     "1baeb9f4e3a7462cba7bd6de036e544d": {
      "model_module": "@jupyter-widgets/base",
      "model_module_version": "2.0.0",
      "model_name": "LayoutModel",
      "state": {}
     },
     "1ccec9f3659a470892dfae013793204a": {
      "model_module": "@jupyter-widgets/base",
      "model_module_version": "2.0.0",
      "model_name": "LayoutModel",
      "state": {}
     },
     "1d7522845d5c44848d8dab822d742e08": {
      "model_module": "@jupyter-widgets/base",
      "model_module_version": "2.0.0",
      "model_name": "LayoutModel",
      "state": {
       "border_bottom": "1px solid #cccccc",
       "border_left": "1px solid #cccccc",
       "border_right": "1px solid #cccccc",
       "border_top": "1px solid #cccccc",
       "padding": "10px"
      }
     },
     "1e014816fcee41838c51dfc59c77464a": {
      "model_module": "@jupyter-widgets/controls",
      "model_module_version": "2.0.0",
      "model_name": "HTMLModel",
      "state": {
       "layout": "IPY_MODEL_1d7522845d5c44848d8dab822d742e08",
       "style": "IPY_MODEL_5823d9d020dc43a288ab1cb4881f04a9",
       "value": "<style>pre { line-height: 125%; }\ntd.linenos .normal { color: inherit; background-color: transparent; padding-left: 5px; padding-right: 5px; }\nspan.linenos { color: inherit; background-color: transparent; padding-left: 5px; padding-right: 5px; }\ntd.linenos .special { color: #000000; background-color: #ffffc0; padding-left: 5px; padding-right: 5px; }\nspan.linenos.special { color: #000000; background-color: #ffffc0; padding-left: 5px; padding-right: 5px; }\n.codehilite .hll { background-color: #ffffcc }\n.codehilite { background: #f8f8f8; }\n.codehilite .c { color: #3D7B7B; font-style: italic } /* Comment */\n.codehilite .err { border: 1px solid #FF0000 } /* Error */\n.codehilite .k { color: #008000; font-weight: bold } /* Keyword */\n.codehilite .o { color: #666666 } /* Operator */\n.codehilite .ch { color: #3D7B7B; font-style: italic } /* Comment.Hashbang */\n.codehilite .cm { color: #3D7B7B; font-style: italic } /* Comment.Multiline */\n.codehilite .cp { color: #9C6500 } /* Comment.Preproc */\n.codehilite .cpf { color: #3D7B7B; font-style: italic } /* Comment.PreprocFile */\n.codehilite .c1 { color: #3D7B7B; font-style: italic } /* Comment.Single */\n.codehilite .cs { color: #3D7B7B; font-style: italic } /* Comment.Special */\n.codehilite .gd { color: #A00000 } /* Generic.Deleted */\n.codehilite .ge { font-style: italic } /* Generic.Emph */\n.codehilite .ges { font-weight: bold; font-style: italic } /* Generic.EmphStrong */\n.codehilite .gr { color: #E40000 } /* Generic.Error */\n.codehilite .gh { color: #000080; font-weight: bold } /* Generic.Heading */\n.codehilite .gi { color: #008400 } /* Generic.Inserted */\n.codehilite .go { color: #717171 } /* Generic.Output */\n.codehilite .gp { color: #000080; font-weight: bold } /* Generic.Prompt */\n.codehilite .gs { font-weight: bold } /* Generic.Strong */\n.codehilite .gu { color: #800080; font-weight: bold } /* Generic.Subheading */\n.codehilite .gt { color: #0044DD } /* Generic.Traceback */\n.codehilite .kc { color: #008000; font-weight: bold } /* Keyword.Constant */\n.codehilite .kd { color: #008000; font-weight: bold } /* Keyword.Declaration */\n.codehilite .kn { color: #008000; font-weight: bold } /* Keyword.Namespace */\n.codehilite .kp { color: #008000 } /* Keyword.Pseudo */\n.codehilite .kr { color: #008000; font-weight: bold } /* Keyword.Reserved */\n.codehilite .kt { color: #B00040 } /* Keyword.Type */\n.codehilite .m { color: #666666 } /* Literal.Number */\n.codehilite .s { color: #BA2121 } /* Literal.String */\n.codehilite .na { color: #687822 } /* Name.Attribute */\n.codehilite .nb { color: #008000 } /* Name.Builtin */\n.codehilite .nc { color: #0000FF; font-weight: bold } /* Name.Class */\n.codehilite .no { color: #880000 } /* Name.Constant */\n.codehilite .nd { color: #AA22FF } /* Name.Decorator */\n.codehilite .ni { color: #717171; font-weight: bold } /* Name.Entity */\n.codehilite .ne { color: #CB3F38; font-weight: bold } /* Name.Exception */\n.codehilite .nf { color: #0000FF } /* Name.Function */\n.codehilite .nl { color: #767600 } /* Name.Label */\n.codehilite .nn { color: #0000FF; font-weight: bold } /* Name.Namespace */\n.codehilite .nt { color: #008000; font-weight: bold } /* Name.Tag */\n.codehilite .nv { color: #19177C } /* Name.Variable */\n.codehilite .ow { color: #AA22FF; font-weight: bold } /* Operator.Word */\n.codehilite .w { color: #bbbbbb } /* Text.Whitespace */\n.codehilite .mb { color: #666666 } /* Literal.Number.Bin */\n.codehilite .mf { color: #666666 } /* Literal.Number.Float */\n.codehilite .mh { color: #666666 } /* Literal.Number.Hex */\n.codehilite .mi { color: #666666 } /* Literal.Number.Integer */\n.codehilite .mo { color: #666666 } /* Literal.Number.Oct */\n.codehilite .sa { color: #BA2121 } /* Literal.String.Affix */\n.codehilite .sb { color: #BA2121 } /* Literal.String.Backtick */\n.codehilite .sc { color: #BA2121 } /* Literal.String.Char */\n.codehilite .dl { color: #BA2121 } /* Literal.String.Delimiter */\n.codehilite .sd { color: #BA2121; font-style: italic } /* Literal.String.Doc */\n.codehilite .s2 { color: #BA2121 } /* Literal.String.Double */\n.codehilite .se { color: #AA5D1F; font-weight: bold } /* Literal.String.Escape */\n.codehilite .sh { color: #BA2121 } /* Literal.String.Heredoc */\n.codehilite .si { color: #A45A77; font-weight: bold } /* Literal.String.Interpol */\n.codehilite .sx { color: #008000 } /* Literal.String.Other */\n.codehilite .sr { color: #A45A77 } /* Literal.String.Regex */\n.codehilite .s1 { color: #BA2121 } /* Literal.String.Single */\n.codehilite .ss { color: #19177C } /* Literal.String.Symbol */\n.codehilite .bp { color: #008000 } /* Name.Builtin.Pseudo */\n.codehilite .fm { color: #0000FF } /* Name.Function.Magic */\n.codehilite .vc { color: #19177C } /* Name.Variable.Class */\n.codehilite .vg { color: #19177C } /* Name.Variable.Global */\n.codehilite .vi { color: #19177C } /* Name.Variable.Instance */\n.codehilite .vm { color: #19177C } /* Name.Variable.Magic */\n.codehilite .il { color: #666666 } /* Literal.Number.Integer.Long */\n</style><h2>h2</h2>\n<p>hello user</p>"
      }
     },
     "1e0e7ff6a8564294bae64dcb5bd5ed3b": {
      "model_module": "@jupyter-widgets/controls",
      "model_module_version": "2.0.0",
      "model_name": "VBoxModel",
      "state": {
       "children": [
        "IPY_MODEL_30c11e840db8444b99b629dda99c8f34",
        "IPY_MODEL_897c9564eafc43cd90ca3d7a44b64635"
       ],
       "layout": "IPY_MODEL_d86c5bab60c14ab3a4c6916f30a9de3f"
      }
     },
     "1e316d753639407faa95cf8522674985": {
      "model_module": "@jupyter-widgets/base",
      "model_module_version": "2.0.0",
      "model_name": "LayoutModel",
      "state": {}
     },
     "1ec68cb1fc7c4627a672aa38c8d7b87e": {
      "model_module": "@jupyter-widgets/controls",
      "model_module_version": "2.0.0",
      "model_name": "ButtonModel",
      "state": {
       "button_style": "info",
       "description": "Add message",
       "icon": "plus-circle",
       "layout": "IPY_MODEL_08167e1ab11d4af79ef5d7d81565bf4a",
       "style": "IPY_MODEL_db038b7ba2be482b8c7d2824ad5d5356",
       "tooltip": null
      }
     },
     "1f748aa61ffa498e9f24edf9c3f5f1d6": {
      "model_module": "@jupyter-widgets/base",
      "model_module_version": "2.0.0",
      "model_name": "LayoutModel",
      "state": {}
     },
     "20700d7f1864422e90b93429215c92f5": {
      "model_module": "@jupyter-widgets/base",
      "model_module_version": "2.0.0",
      "model_name": "LayoutModel",
      "state": {
       "width": "200px"
      }
     },
     "23ff585c8ff04c8c873a5b88f0358ab2": {
      "model_module": "@jupyter-widgets/base",
      "model_module_version": "2.0.0",
      "model_name": "LayoutModel",
      "state": {}
     },
     "25e9501a8f4f445eb483d1ab119ab7db": {
      "model_module": "@jupyter-widgets/base",
      "model_module_version": "2.0.0",
      "model_name": "LayoutModel",
      "state": {}
     },
     "26e3a9af9b0f4fd1a23177d3a67f6901": {
      "model_module": "@jupyter-widgets/controls",
      "model_module_version": "2.0.0",
      "model_name": "ButtonModel",
      "state": {
       "button_style": "info",
       "description": "show/edit",
       "icon": "edit",
       "layout": "IPY_MODEL_8480b91d948b4047ab7aeec97b57b18b",
       "style": "IPY_MODEL_ffdd9dfef2f149dcbf90205e53ddb884",
       "tooltip": null
      }
     },
     "27d5be22a4954cd49e29dda881ae622a": {
      "model_module": "@jupyter-widgets/base",
      "model_module_version": "2.0.0",
      "model_name": "LayoutModel",
      "state": {}
     },
     "283112367fbf431daa8e140d43355784": {
      "model_module": "@jupyter-widgets/controls",
      "model_module_version": "2.0.0",
      "model_name": "TextStyleModel",
      "state": {
       "description_width": "",
       "font_size": null,
       "text_color": null
      }
     },
     "2909c3efaa6a4c8fbe612ac3906f055c": {
      "model_module": "@jupyter-widgets/controls",
      "model_module_version": "2.0.0",
      "model_name": "ButtonModel",
      "state": {
       "button_style": "danger",
       "icon": "minus-circle",
       "layout": "IPY_MODEL_31bdfe3fa11e44ea958131f518c7fc01",
       "style": "IPY_MODEL_4ff0a54aaa98468a8d76803a6b117f00",
       "tooltip": null
      }
     },
     "2989ae8e1a28494490254ab7c2356ed0": {
      "model_module": "@jupyter-widgets/controls",
      "model_module_version": "2.0.0",
      "model_name": "VBoxModel",
      "state": {
       "children": [
        "IPY_MODEL_c0e041ca422948e1a570dfd836ded066",
        "IPY_MODEL_03e9aff29fe94e3fba58d692f4875044"
       ],
       "layout": "IPY_MODEL_9718b8b883084c06802b309b4d35a7cf"
      }
     },
     "29999171aef042a19ccf258149b7eec0": {
      "model_module": "@jupyter-widgets/base",
      "model_module_version": "2.0.0",
      "model_name": "LayoutModel",
      "state": {}
     },
     "29aeaaeee4c949678207407906013d6a": {
      "model_module": "@jupyter-widgets/controls",
      "model_module_version": "2.0.0",
      "model_name": "ButtonModel",
      "state": {
       "button_style": "info",
       "icon": "edit",
       "layout": "IPY_MODEL_164abe1133204699b06426c97daa80c4",
       "style": "IPY_MODEL_39b558b935884336a9c48a51cd96c103",
       "tooltip": null
      }
     },
     "2b636f69ee6d40f8b4fd6f54534965db": {
      "model_module": "@jupyter-widgets/controls",
      "model_module_version": "2.0.0",
      "model_name": "HTMLModel",
      "state": {
       "layout": "IPY_MODEL_70aa3353b93347ff8c0642a953b1ce83",
       "style": "IPY_MODEL_ee6dd0009a0e47ada743b83a99ce525e"
      }
     },
     "2b979762dd954dafb8c77360c0b0b826": {
      "model_module": "@jupyter-widgets/base",
      "model_module_version": "2.0.0",
      "model_name": "LayoutModel",
      "state": {}
     },
     "2bdf7b42cf1146148f06aa22e4b478cd": {
      "model_module": "@jupyter-widgets/base",
      "model_module_version": "2.0.0",
      "model_name": "LayoutModel",
      "state": {}
     },
     "2c91fb122db8400f943b8e7177400d09": {
      "model_module": "@jupyter-widgets/controls",
      "model_module_version": "2.0.0",
      "model_name": "HTMLStyleModel",
      "state": {
       "description_width": "",
       "font_size": null,
       "text_color": null
      }
     },
     "2e154d7c326140309dad8eb9edd4ce6e": {
      "model_module": "@jupyter-widgets/base",
      "model_module_version": "2.0.0",
      "model_name": "LayoutModel",
      "state": {}
     },
     "30c11e840db8444b99b629dda99c8f34": {
      "model_module": "@jupyter-widgets/controls",
      "model_module_version": "2.0.0",
      "model_name": "HBoxModel",
      "state": {
       "children": [
        "IPY_MODEL_9ce35626298a4d8f9e81e4031c301ab3",
        "IPY_MODEL_1340c81062d944e0814aea939da439ea",
        "IPY_MODEL_5c924e8911a14e40b867bbb4c43e9973",
        "IPY_MODEL_64b4e48b06584727bae22ba28ef84126"
       ],
       "layout": "IPY_MODEL_b33d3d285a5746cbbd5f2c3429093b0e"
      }
     },
     "319dab85e74542a7856578f67fcd5503": {
      "model_module": "@jupyter-widgets/controls",
      "model_module_version": "2.0.0",
      "model_name": "ButtonStyleModel",
      "state": {
       "font_family": null,
       "font_size": null,
       "font_style": null,
       "font_variant": null,
       "font_weight": null,
       "text_color": null,
       "text_decoration": null
      }
     },
     "31bdfe3fa11e44ea958131f518c7fc01": {
      "model_module": "@jupyter-widgets/base",
      "model_module_version": "2.0.0",
      "model_name": "LayoutModel",
      "state": {
       "width": "40px"
      }
     },
     "31e1076bd57e407c86b48873b4a33e2c": {
      "model_module": "@jupyter-widgets/controls",
      "model_module_version": "2.0.0",
      "model_name": "ButtonModel",
      "state": {
       "description": "BOT",
       "layout": "IPY_MODEL_422afbdf77b447d5bf7c6b7e33e60e7a",
       "style": "IPY_MODEL_e3a157cd0d1a412594a2f58c2e39815d",
       "tooltip": null
      }
     },
     "32a301b16aaf40a5be24bc0edf7c0efa": {
      "model_module": "@jupyter-widgets/controls",
      "model_module_version": "2.0.0",
      "model_name": "ButtonStyleModel",
      "state": {
       "font_family": null,
       "font_size": null,
       "font_style": null,
       "font_variant": null,
       "font_weight": null,
       "text_color": null,
       "text_decoration": null
      }
     },
     "32e41f0d5eec4c4a83748769fc6c4e01": {
      "model_module": "@jupyter-widgets/controls",
      "model_module_version": "2.0.0",
      "model_name": "DropdownModel",
      "state": {
       "_options_labels": [
        "llama",
        "llama2",
        "llama2-chat"
       ],
       "description": "model",
       "index": 0,
       "layout": "IPY_MODEL_cb412024f4b246e09085cd0b072fe257",
       "style": "IPY_MODEL_0b1d11bafc0f4ee193abf25e9adeadb4"
      }
     },
     "342b31a33be749679f65c85b88de2a55": {
      "model_module": "@jupyter-widgets/controls",
      "model_module_version": "2.0.0",
      "model_name": "HTMLStyleModel",
      "state": {
       "description_width": "",
       "font_size": null,
       "text_color": null
      }
     },
     "34afed2e131c4e25b66b28a374cc98c1": {
      "model_module": "@jupyter-widgets/controls",
      "model_module_version": "2.0.0",
      "model_name": "VBoxModel",
      "state": {
       "children": [
        "IPY_MODEL_1272fbd0d10f4cd0b6edd6d9461436ce"
       ],
       "layout": "IPY_MODEL_02878ff676304aeca9bbaed30de7c4ec"
      }
     },
     "3502b63d66714690acd0744baa978b81": {
      "model_module": "@jupyter-widgets/base",
      "model_module_version": "2.0.0",
      "model_name": "LayoutModel",
      "state": {
       "width": "450px"
      }
     },
     "35818d2f52fc4f72b5254af2a1b5df41": {
      "model_module": "@jupyter-widgets/controls",
      "model_module_version": "2.0.0",
      "model_name": "ButtonModel",
      "state": {
       "button_style": "info",
       "description": "show/edit",
       "icon": "edit",
       "layout": "IPY_MODEL_5401fa1f866041bdbbb61ccdda3becb7",
       "style": "IPY_MODEL_d4de6e5c0599435b91e57c6c6676a832",
       "tooltip": null
      }
     },
     "361a3d54cb014467bc440b36c38c3053": {
      "model_module": "@jupyter-widgets/base",
      "model_module_version": "2.0.0",
      "model_name": "LayoutModel",
      "state": {
       "width": "40px"
      }
     },
     "37157b923a174816b3a7cfe82516a2a6": {
      "model_module": "@jupyter-widgets/controls",
      "model_module_version": "2.0.0",
      "model_name": "VBoxModel",
      "state": {
       "children": [
        "IPY_MODEL_48b25f36799c4f3a8509d936687a4b8a",
        "IPY_MODEL_2b636f69ee6d40f8b4fd6f54534965db"
       ],
       "layout": "IPY_MODEL_161a299540e446448406f94dbb8a7183"
      }
     },
     "37e49347655d4db79ec2cd94b8a4cd12": {
      "model_module": "@jupyter-widgets/base",
      "model_module_version": "2.0.0",
      "model_name": "LayoutModel",
      "state": {
       "width": "40px"
      }
     },
     "39b558b935884336a9c48a51cd96c103": {
      "model_module": "@jupyter-widgets/controls",
      "model_module_version": "2.0.0",
      "model_name": "ButtonStyleModel",
      "state": {
       "font_family": null,
       "font_size": null,
       "font_style": null,
       "font_variant": null,
       "font_weight": null,
       "text_color": null,
       "text_decoration": null
      }
     },
     "39ea225180b5476bad4543739d7ad864": {
      "model_module": "@jupyter-widgets/controls",
      "model_module_version": "2.0.0",
      "model_name": "ButtonModel",
      "state": {
       "button_style": "success",
       "description": "Submit",
       "layout": "IPY_MODEL_15df650217b047cc822e9705c4a4b908",
       "style": "IPY_MODEL_3ff854682d57405c97c7363aded565fd",
       "tooltip": null
      }
     },
     "3c234186a11f469e9910f26078dad28c": {
      "model_module": "@jupyter-widgets/base",
      "model_module_version": "2.0.0",
      "model_name": "LayoutModel",
      "state": {}
     },
     "3d49a6b94a9043838c3179676b4417f6": {
      "model_module": "@jupyter-widgets/controls",
      "model_module_version": "2.0.0",
      "model_name": "HTMLStyleModel",
      "state": {
       "description_width": "",
       "font_size": null,
       "text_color": null
      }
     },
     "3d7cf4ffd87e46a9ad834f36c58065aa": {
      "model_module": "@jupyter-widgets/controls",
      "model_module_version": "2.0.0",
      "model_name": "ButtonStyleModel",
      "state": {
       "font_family": null,
       "font_size": null,
       "font_style": null,
       "font_variant": null,
       "font_weight": null,
       "text_color": null,
       "text_decoration": null
      }
     },
     "3d911f592eb54a009a7cfde2e7adc71d": {
      "model_module": "@jupyter-widgets/controls",
      "model_module_version": "2.0.0",
      "model_name": "VBoxModel",
      "state": {
       "children": [
        "IPY_MODEL_32e41f0d5eec4c4a83748769fc6c4e01",
        "IPY_MODEL_9bb0ccd09f8d4c408546aa5658dbba74"
       ],
       "layout": "IPY_MODEL_13c821a848184ef5a05733290b64e58b"
      }
     },
     "3f3457fd846b4bd4b64f97ee35c63de9": {
      "model_module": "@jupyter-widgets/controls",
      "model_module_version": "2.0.0",
      "model_name": "HBoxModel",
      "state": {
       "children": [
        "IPY_MODEL_1301c18a82bb45d3aca237bde90421cf",
        "IPY_MODEL_54392c3d09b4417d9fa889a39788d9d0",
        "IPY_MODEL_b376fce1d27d4aa8a4462ddafbd89295",
        "IPY_MODEL_2909c3efaa6a4c8fbe612ac3906f055c"
       ],
       "layout": "IPY_MODEL_e7144c5e42954e75b00490669191437c"
      }
     },
     "3f82453a8d164cda8d741e53630191cc": {
      "model_module": "@jupyter-widgets/base",
      "model_module_version": "2.0.0",
      "model_name": "LayoutModel",
      "state": {}
     },
     "3ff854682d57405c97c7363aded565fd": {
      "model_module": "@jupyter-widgets/controls",
      "model_module_version": "2.0.0",
      "model_name": "ButtonStyleModel",
      "state": {
       "font_family": null,
       "font_size": null,
       "font_style": null,
       "font_variant": null,
       "font_weight": null,
       "text_color": null,
       "text_decoration": null
      }
     },
     "406e5a6e0bde465582f8907a96ab4342": {
      "model_module": "@jupyter-widgets/controls",
      "model_module_version": "2.0.0",
      "model_name": "TextareaModel",
      "state": {
       "continuous_update": false,
       "layout": "IPY_MODEL_a8e2b21c885b4d748f35992faf6f408c",
       "style": "IPY_MODEL_d369bdbd2e544128a59582edb516265d",
       "value": "world bot"
      }
     },
     "41ba113e8a5b4707a67d2bc58b553fcd": {
      "model_module": "@jupyter-widgets/base",
      "model_module_version": "2.0.0",
      "model_name": "LayoutModel",
      "state": {}
     },
     "422afbdf77b447d5bf7c6b7e33e60e7a": {
      "model_module": "@jupyter-widgets/base",
      "model_module_version": "2.0.0",
      "model_name": "LayoutModel",
      "state": {
       "width": "60px"
      }
     },
     "42b7c48b511a49e38ed210ed796b1dca": {
      "model_module": "@jupyter-widgets/controls",
      "model_module_version": "2.0.0",
      "model_name": "VBoxModel",
      "state": {
       "children": [
        "IPY_MODEL_3f3457fd846b4bd4b64f97ee35c63de9",
        "IPY_MODEL_1e014816fcee41838c51dfc59c77464a"
       ],
       "layout": "IPY_MODEL_e07b939be906491aa394cf582893d742"
      }
     },
     "42ba13d86f9e422fb2f000a8f346ff91": {
      "model_module": "@jupyter-widgets/controls",
      "model_module_version": "2.0.0",
      "model_name": "ButtonModel",
      "state": {
       "button_style": "info",
       "description": "Add message",
       "icon": "plus-circle",
       "layout": "IPY_MODEL_9917da998612475ea8b1fafbc5080f0f",
       "style": "IPY_MODEL_6b573a9fd25a4612946c3aef19b57585",
       "tooltip": null
      }
     },
     "43a543c216ac4aa7a9a39b8ec3c5d038": {
      "model_module": "@jupyter-widgets/controls",
      "model_module_version": "2.0.0",
      "model_name": "ButtonModel",
      "state": {
       "description": "BOT",
       "layout": "IPY_MODEL_56e8329747e7469cb79a02520dfbdd33",
       "style": "IPY_MODEL_17be448f180e497691a6c800b398a7ac",
       "tooltip": null
      }
     },
     "4473bee1a21c42838295de93b0e72ce2": {
      "model_module": "@jupyter-widgets/controls",
      "model_module_version": "2.0.0",
      "model_name": "DescriptionStyleModel",
      "state": {
       "description_width": ""
      }
     },
     "44b1dc0333904ab6ad5f6134c5647568": {
      "model_module": "@jupyter-widgets/controls",
      "model_module_version": "2.0.0",
      "model_name": "HTMLModel",
      "state": {
       "layout": "IPY_MODEL_9ca3a17939c547d0b30cb3bca1468c01",
       "style": "IPY_MODEL_ce16a0ce94fb4eceb6caa3595408af78",
       "value": "<span >{'name': 'l1', 'in': [1, 2, 4]}</span>"
      }
     },
     "44d85470583d45e3a4fc74aceda59a51": {
      "model_module": "@jupyter-widgets/controls",
      "model_module_version": "2.0.0",
      "model_name": "HTMLModel",
      "state": {
       "layout": "IPY_MODEL_b3cba41b2e184a3baa022e348a5110cb",
       "style": "IPY_MODEL_80e3ade8477c41fdaddd35226c4d73f5",
       "value": "<style>pre { line-height: 125%; }\ntd.linenos .normal { color: inherit; background-color: transparent; padding-left: 5px; padding-right: 5px; }\nspan.linenos { color: inherit; background-color: transparent; padding-left: 5px; padding-right: 5px; }\ntd.linenos .special { color: #000000; background-color: #ffffc0; padding-left: 5px; padding-right: 5px; }\nspan.linenos.special { color: #000000; background-color: #ffffc0; padding-left: 5px; padding-right: 5px; }\n.codehilite .hll { background-color: #ffffcc }\n.codehilite { background: #f8f8f8; }\n.codehilite .c { color: #3D7B7B; font-style: italic } /* Comment */\n.codehilite .err { border: 1px solid #FF0000 } /* Error */\n.codehilite .k { color: #008000; font-weight: bold } /* Keyword */\n.codehilite .o { color: #666666 } /* Operator */\n.codehilite .ch { color: #3D7B7B; font-style: italic } /* Comment.Hashbang */\n.codehilite .cm { color: #3D7B7B; font-style: italic } /* Comment.Multiline */\n.codehilite .cp { color: #9C6500 } /* Comment.Preproc */\n.codehilite .cpf { color: #3D7B7B; font-style: italic } /* Comment.PreprocFile */\n.codehilite .c1 { color: #3D7B7B; font-style: italic } /* Comment.Single */\n.codehilite .cs { color: #3D7B7B; font-style: italic } /* Comment.Special */\n.codehilite .gd { color: #A00000 } /* Generic.Deleted */\n.codehilite .ge { font-style: italic } /* Generic.Emph */\n.codehilite .ges { font-weight: bold; font-style: italic } /* Generic.EmphStrong */\n.codehilite .gr { color: #E40000 } /* Generic.Error */\n.codehilite .gh { color: #000080; font-weight: bold } /* Generic.Heading */\n.codehilite .gi { color: #008400 } /* Generic.Inserted */\n.codehilite .go { color: #717171 } /* Generic.Output */\n.codehilite .gp { color: #000080; font-weight: bold } /* Generic.Prompt */\n.codehilite .gs { font-weight: bold } /* Generic.Strong */\n.codehilite .gu { color: #800080; font-weight: bold } /* Generic.Subheading */\n.codehilite .gt { color: #0044DD } /* Generic.Traceback */\n.codehilite .kc { color: #008000; font-weight: bold } /* Keyword.Constant */\n.codehilite .kd { color: #008000; font-weight: bold } /* Keyword.Declaration */\n.codehilite .kn { color: #008000; font-weight: bold } /* Keyword.Namespace */\n.codehilite .kp { color: #008000 } /* Keyword.Pseudo */\n.codehilite .kr { color: #008000; font-weight: bold } /* Keyword.Reserved */\n.codehilite .kt { color: #B00040 } /* Keyword.Type */\n.codehilite .m { color: #666666 } /* Literal.Number */\n.codehilite .s { color: #BA2121 } /* Literal.String */\n.codehilite .na { color: #687822 } /* Name.Attribute */\n.codehilite .nb { color: #008000 } /* Name.Builtin */\n.codehilite .nc { color: #0000FF; font-weight: bold } /* Name.Class */\n.codehilite .no { color: #880000 } /* Name.Constant */\n.codehilite .nd { color: #AA22FF } /* Name.Decorator */\n.codehilite .ni { color: #717171; font-weight: bold } /* Name.Entity */\n.codehilite .ne { color: #CB3F38; font-weight: bold } /* Name.Exception */\n.codehilite .nf { color: #0000FF } /* Name.Function */\n.codehilite .nl { color: #767600 } /* Name.Label */\n.codehilite .nn { color: #0000FF; font-weight: bold } /* Name.Namespace */\n.codehilite .nt { color: #008000; font-weight: bold } /* Name.Tag */\n.codehilite .nv { color: #19177C } /* Name.Variable */\n.codehilite .ow { color: #AA22FF; font-weight: bold } /* Operator.Word */\n.codehilite .w { color: #bbbbbb } /* Text.Whitespace */\n.codehilite .mb { color: #666666 } /* Literal.Number.Bin */\n.codehilite .mf { color: #666666 } /* Literal.Number.Float */\n.codehilite .mh { color: #666666 } /* Literal.Number.Hex */\n.codehilite .mi { color: #666666 } /* Literal.Number.Integer */\n.codehilite .mo { color: #666666 } /* Literal.Number.Oct */\n.codehilite .sa { color: #BA2121 } /* Literal.String.Affix */\n.codehilite .sb { color: #BA2121 } /* Literal.String.Backtick */\n.codehilite .sc { color: #BA2121 } /* Literal.String.Char */\n.codehilite .dl { color: #BA2121 } /* Literal.String.Delimiter */\n.codehilite .sd { color: #BA2121; font-style: italic } /* Literal.String.Doc */\n.codehilite .s2 { color: #BA2121 } /* Literal.String.Double */\n.codehilite .se { color: #AA5D1F; font-weight: bold } /* Literal.String.Escape */\n.codehilite .sh { color: #BA2121 } /* Literal.String.Heredoc */\n.codehilite .si { color: #A45A77; font-weight: bold } /* Literal.String.Interpol */\n.codehilite .sx { color: #008000 } /* Literal.String.Other */\n.codehilite .sr { color: #A45A77 } /* Literal.String.Regex */\n.codehilite .s1 { color: #BA2121 } /* Literal.String.Single */\n.codehilite .ss { color: #19177C } /* Literal.String.Symbol */\n.codehilite .bp { color: #008000 } /* Name.Builtin.Pseudo */\n.codehilite .fm { color: #0000FF } /* Name.Function.Magic */\n.codehilite .vc { color: #19177C } /* Name.Variable.Class */\n.codehilite .vg { color: #19177C } /* Name.Variable.Global */\n.codehilite .vi { color: #19177C } /* Name.Variable.Instance */\n.codehilite .vm { color: #19177C } /* Name.Variable.Magic */\n.codehilite .il { color: #666666 } /* Literal.Number.Integer.Long */\n</style><h2>h2</h2>\n<p>hello user</p>"
      }
     },
     "453e8193cb17446abd82cd17c6548f1d": {
      "model_module": "@jupyter-widgets/base",
      "model_module_version": "2.0.0",
      "model_name": "LayoutModel",
      "state": {
       "width": "40px"
      }
     },
     "45f38a1ea4124ad187667c58e77c548d": {
      "model_module": "@jupyter-widgets/base",
      "model_module_version": "2.0.0",
      "model_name": "LayoutModel",
      "state": {}
     },
     "46c4f00cbb0d402597043c9958e8349e": {
      "model_module": "@jupyter-widgets/controls",
      "model_module_version": "2.0.0",
      "model_name": "TextareaModel",
      "state": {
       "continuous_update": false,
       "layout": "IPY_MODEL_5b3b4d46a14a41ed8b54d8553a8cee79",
       "style": "IPY_MODEL_4b4da8bb648a4d498e048451c22375b4",
       "value": "## h2 \nhello user"
      }
     },
     "478ee294a82d4d44989df25cf801abb3": {
      "model_module": "@jupyter-widgets/controls",
      "model_module_version": "2.0.0",
      "model_name": "ButtonStyleModel",
      "state": {
       "font_family": null,
       "font_size": null,
       "font_style": null,
       "font_variant": null,
       "font_weight": null,
       "text_color": null,
       "text_decoration": null
      }
     },
     "487430423d6f45b2b442b038e4d11305": {
      "model_module": "@jupyter-widgets/controls",
      "model_module_version": "2.0.0",
      "model_name": "VBoxModel",
      "state": {
       "children": [
        "IPY_MODEL_aaeb682c5fd14b63b4f6c852f2e1c6b3",
        "IPY_MODEL_a176cbb0fad645ff96c992dbac54e333"
       ],
       "layout": "IPY_MODEL_4a80ae5efc9345cfaea8dc010cfa39ec"
      }
     },
     "48b25f36799c4f3a8509d936687a4b8a": {
      "model_module": "@jupyter-widgets/controls",
      "model_module_version": "2.0.0",
      "model_name": "HBoxModel",
      "state": {
       "children": [
        "IPY_MODEL_a62448d12c164e169ca87bcd9f395209",
        "IPY_MODEL_5acec1646f214f578cda64c2cf2274fd",
        "IPY_MODEL_8a3714fd490643e99c50d79f70faaff0",
        "IPY_MODEL_8aa630ca50b3403ca7823735c2600bd7"
       ],
       "layout": "IPY_MODEL_6227ef3c9167401689518b63b3d32b37"
      }
     },
     "4a73be32b1704cc7b1e9b5bedbd0e663": {
      "model_module": "@jupyter-widgets/base",
      "model_module_version": "2.0.0",
      "model_name": "LayoutModel",
      "state": {
       "width": "450px"
      }
     },
     "4a80ae5efc9345cfaea8dc010cfa39ec": {
      "model_module": "@jupyter-widgets/base",
      "model_module_version": "2.0.0",
      "model_name": "LayoutModel",
      "state": {
       "grid_area": "right-sidebar"
      }
     },
     "4a9ca89f082d4cec8a95dbdeaab5d870": {
      "model_module": "@jupyter-widgets/controls",
      "model_module_version": "2.0.0",
      "model_name": "ButtonStyleModel",
      "state": {
       "font_family": null,
       "font_size": null,
       "font_style": null,
       "font_variant": null,
       "font_weight": null,
       "text_color": null,
       "text_decoration": null
      }
     },
     "4b11753001604785aa3f8f282abdfe14": {
      "model_module": "@jupyter-widgets/base",
      "model_module_version": "2.0.0",
      "model_name": "LayoutModel",
      "state": {}
     },
     "4b4da8bb648a4d498e048451c22375b4": {
      "model_module": "@jupyter-widgets/controls",
      "model_module_version": "2.0.0",
      "model_name": "TextStyleModel",
      "state": {
       "description_width": "",
       "font_size": null,
       "text_color": null
      }
     },
     "4b7580aaaea64ba28d5139010299ddf8": {
      "model_module": "@jupyter-widgets/controls",
      "model_module_version": "2.0.0",
      "model_name": "HTMLStyleModel",
      "state": {
       "description_width": "",
       "font_size": null,
       "text_color": null
      }
     },
     "4b95cd2acc8946b89edf891c749c2f8c": {
      "model_module": "@jupyter-widgets/controls",
      "model_module_version": "2.0.0",
      "model_name": "DescriptionStyleModel",
      "state": {
       "description_width": ""
      }
     },
     "4c81f0a418dd406c970506ea65147b8c": {
      "model_module": "@jupyter-widgets/base",
      "model_module_version": "2.0.0",
      "model_name": "LayoutModel",
      "state": {}
     },
     "4cd614d6901648a4a09c1647d4011844": {
      "model_module": "@jupyter-widgets/controls",
      "model_module_version": "2.0.0",
      "model_name": "HTMLStyleModel",
      "state": {
       "description_width": "",
       "font_size": null,
       "text_color": null
      }
     },
     "4cf064ff3bdc4f9493a959b9a2751245": {
      "model_module": "@jupyter-widgets/controls",
      "model_module_version": "2.0.0",
      "model_name": "ButtonStyleModel",
      "state": {
       "font_family": null,
       "font_size": null,
       "font_style": null,
       "font_variant": null,
       "font_weight": null,
       "text_color": null,
       "text_decoration": null
      }
     },
     "4f7166a8652b4c69abfdda64aa626bd5": {
      "model_module": "@jupyter-widgets/controls",
      "model_module_version": "2.0.0",
      "model_name": "HTMLModel",
      "state": {
       "layout": "IPY_MODEL_84ffb8fac3464002b7d35f014e3885f7",
       "style": "IPY_MODEL_524732fa457942819b03632c0a489b2b",
       "value": "<p v-if='True'>v-if=True for html</p>"
      }
     },
     "4faedd29f4f34b77b96b1dd84f977e2e": {
      "model_module": "@jupyter-widgets/base",
      "model_module_version": "2.0.0",
      "model_name": "LayoutModel",
      "state": {}
     },
     "4fb3c8700ee24294a21ae32526427a36": {
      "model_module": "@jupyter-widgets/controls",
      "model_module_version": "2.0.0",
      "model_name": "HTMLStyleModel",
      "state": {
       "description_width": "",
       "font_size": null,
       "text_color": null
      }
     },
     "4ff0a54aaa98468a8d76803a6b117f00": {
      "model_module": "@jupyter-widgets/controls",
      "model_module_version": "2.0.0",
      "model_name": "ButtonStyleModel",
      "state": {
       "font_family": null,
       "font_size": null,
       "font_style": null,
       "font_variant": null,
       "font_weight": null,
       "text_color": null,
       "text_decoration": null
      }
     },
     "524732fa457942819b03632c0a489b2b": {
      "model_module": "@jupyter-widgets/controls",
      "model_module_version": "2.0.0",
      "model_name": "HTMLStyleModel",
      "state": {
       "description_width": "",
       "font_size": null,
       "text_color": null
      }
     },
     "526eb81e508a46a7ab0c381b283ef291": {
      "model_module": "@jupyter-widgets/controls",
      "model_module_version": "2.0.0",
      "model_name": "ButtonStyleModel",
      "state": {
       "font_family": null,
       "font_size": null,
       "font_style": null,
       "font_variant": null,
       "font_weight": null,
       "text_color": null,
       "text_decoration": null
      }
     },
     "5317f61e8031494dbfd2cde26dcacb74": {
      "model_module": "@jupyter-widgets/controls",
      "model_module_version": "2.0.0",
      "model_name": "HTMLModel",
      "state": {
       "layout": "IPY_MODEL_23ff585c8ff04c8c873a5b88f0358ab2",
       "style": "IPY_MODEL_342b31a33be749679f65c85b88de2a55"
      }
     },
     "53629c318c3f4571a0648f36d500485b": {
      "model_module": "@jupyter-widgets/controls",
      "model_module_version": "2.0.0",
      "model_name": "SliderStyleModel",
      "state": {
       "description_width": ""
      }
     },
     "53909e13259b4c668d3f0321c389d113": {
      "model_module": "@jupyter-widgets/controls",
      "model_module_version": "2.0.0",
      "model_name": "HTMLModel",
      "state": {
       "layout": "IPY_MODEL_1f748aa61ffa498e9f24edf9c3f5f1d6",
       "style": "IPY_MODEL_8bb9903cc308490693997f344813d60e",
       "value": "<span >model: llama, top_p: 1 USER</span>"
      }
     },
     "53c87d3b1fb24764a9e58993525f0446": {
      "model_module": "@jupyter-widgets/base",
      "model_module_version": "2.0.0",
      "model_name": "LayoutModel",
      "state": {}
     },
     "53f0593ecd5d4978b60dcd5d57113074": {
      "model_module": "@jupyter-widgets/base",
      "model_module_version": "2.0.0",
      "model_name": "LayoutModel",
      "state": {}
     },
     "5401fa1f866041bdbbb61ccdda3becb7": {
      "model_module": "@jupyter-widgets/base",
      "model_module_version": "2.0.0",
      "model_name": "LayoutModel",
      "state": {}
     },
     "5421b1b6ed284a83b320b9eeb02e8a8c": {
      "model_module": "@jupyter-widgets/controls",
      "model_module_version": "2.0.0",
      "model_name": "HTMLStyleModel",
      "state": {
       "description_width": "",
       "font_size": null,
       "text_color": null
      }
     },
     "54392c3d09b4417d9fa889a39788d9d0": {
      "model_module": "@jupyter-widgets/controls",
      "model_module_version": "2.0.0",
      "model_name": "TextareaModel",
      "state": {
       "continuous_update": false,
       "layout": "IPY_MODEL_bb6634e8dd3e46098f08a670deeba674",
       "style": "IPY_MODEL_c14aae4727ac4f6d9c9056bd2519dcc9",
       "value": "## h2 \nhello user"
      }
     },
     "54cf9dae92de462fbbfc55c302c08e68": {
      "model_module": "@jupyter-widgets/base",
      "model_module_version": "2.0.0",
      "model_name": "LayoutModel",
      "state": {}
     },
     "54faf988d5d548cf8eb7d2e1ee33905c": {
      "model_module": "@jupyter-widgets/base",
      "model_module_version": "2.0.0",
      "model_name": "LayoutModel",
      "state": {}
     },
     "553593b1423a4a7d9c81da52cf203234": {
      "model_module": "@jupyter-widgets/controls",
      "model_module_version": "2.0.0",
      "model_name": "ButtonModel",
      "state": {
       "button_style": "info",
       "icon": "edit",
       "layout": "IPY_MODEL_f89f1562a0a7423c8c2c1604b099b61f",
       "style": "IPY_MODEL_c0299892f807485f89606a2093e5aed0",
       "tooltip": null
      }
     },
     "5672baa8f6004056bf8098a62f9e50ba": {
      "model_module": "@jupyter-widgets/base",
      "model_module_version": "2.0.0",
      "model_name": "LayoutModel",
      "state": {
       "width": "40px"
      }
     },
     "56e8329747e7469cb79a02520dfbdd33": {
      "model_module": "@jupyter-widgets/base",
      "model_module_version": "2.0.0",
      "model_name": "LayoutModel",
      "state": {
       "width": "60px"
      }
     },
     "571f34ee12b747de9c2cc65be951bafc": {
      "model_module": "@jupyter-widgets/base",
      "model_module_version": "2.0.0",
      "model_name": "LayoutModel",
      "state": {}
     },
     "57d2545407a04dd59a51555506342625": {
      "model_module": "@jupyter-widgets/controls",
      "model_module_version": "2.0.0",
      "model_name": "HTMLModel",
      "state": {
       "layout": "IPY_MODEL_e48e5e040d8142358e4fd068f953ff64",
       "style": "IPY_MODEL_e3e84b2d6da04bb1b233f6a027441702",
       "value": "<p style='background: #ffaa00'>\n         <span >model: llama, top_p: 1 USER</span> \n      </p>"
      }
     },
     "5823d9d020dc43a288ab1cb4881f04a9": {
      "model_module": "@jupyter-widgets/controls",
      "model_module_version": "2.0.0",
      "model_name": "HTMLStyleModel",
      "state": {
       "description_width": "",
       "font_size": null,
       "text_color": null
      }
     },
     "59252d15b7c54c6983f329b34fc6f6ad": {
      "model_module": "@jupyter-widgets/controls",
      "model_module_version": "2.0.0",
      "model_name": "HTMLStyleModel",
      "state": {
       "description_width": "",
       "font_size": null,
       "text_color": null
      }
     },
     "597ec59cbc544bce9b3cc1b7c4f08a7a": {
      "model_module": "@jupyter-widgets/controls",
      "model_module_version": "2.0.0",
      "model_name": "ButtonModel",
      "state": {
       "button_style": "danger",
       "icon": "minus-circle",
       "layout": "IPY_MODEL_361a3d54cb014467bc440b36c38c3053",
       "style": "IPY_MODEL_07cc91964efd49ed812c72b210c4ed63",
       "tooltip": null
      }
     },
     "5986ca9a952245c7a90a832285f43d09": {
      "model_module": "@jupyter-widgets/controls",
      "model_module_version": "2.0.0",
      "model_name": "VBoxModel",
      "state": {
       "children": [
        "IPY_MODEL_5b424a970f6c4940aff421b3bddc2784",
        "IPY_MODEL_5e9acbe5275e47ff9a569921783afe55",
        "IPY_MODEL_0f5400b334254466baa3f509916a1657",
        "IPY_MODEL_37157b923a174816b3a7cfe82516a2a6",
        "IPY_MODEL_bcfd7c0072bf4b8bace9b5dc17291168",
        "IPY_MODEL_92b63720f93d40ff90f1eac21aaee331",
        "IPY_MODEL_ed9da143b83e493983007e546fad6af3",
        "IPY_MODEL_690eb015382740728d6a7bd703651ce1",
        "IPY_MODEL_57d2545407a04dd59a51555506342625",
        "IPY_MODEL_9dc1580a0a0648448a55597ac6056759",
        "IPY_MODEL_075dd0a087bf4cdd887b6a5f3307693e"
       ],
       "layout": "IPY_MODEL_bcb46601f6994df38537d256969e2a81"
      }
     },
     "5acec1646f214f578cda64c2cf2274fd": {
      "model_module": "@jupyter-widgets/controls",
      "model_module_version": "2.0.0",
      "model_name": "TextareaModel",
      "state": {
       "continuous_update": false,
       "layout": "IPY_MODEL_4a73be32b1704cc7b1e9b5bedbd0e663",
       "style": "IPY_MODEL_689221af5b6749b9ba1144b5767f89b7",
       "value": "world bot"
      }
     },
     "5b3b4d46a14a41ed8b54d8553a8cee79": {
      "model_module": "@jupyter-widgets/base",
      "model_module_version": "2.0.0",
      "model_name": "LayoutModel",
      "state": {
       "width": "450px"
      }
     },
     "5b424a970f6c4940aff421b3bddc2784": {
      "model_module": "@jupyter-widgets/controls",
      "model_module_version": "2.0.0",
      "model_name": "HBoxModel",
      "state": {
       "children": [
        "IPY_MODEL_7761315bbd09490291f1def76744c749",
        "IPY_MODEL_44b1dc0333904ab6ad5f6134c5647568"
       ],
       "layout": "IPY_MODEL_e8d487d567474033a1540e67057562c6"
      }
     },
     "5c1bb718cf7a4a609ba0e1c19f103cfc": {
      "model_module": "@jupyter-widgets/base",
      "model_module_version": "2.0.0",
      "model_name": "LayoutModel",
      "state": {
       "border_bottom": "1px solid #cccccc",
       "border_left": "1px solid #cccccc",
       "border_right": "1px solid #cccccc",
       "border_top": "1px solid #cccccc",
       "padding": "10px"
      }
     },
     "5c83c4ed1a2a4514811136d056a91d8f": {
      "model_module": "@jupyter-widgets/base",
      "model_module_version": "2.0.0",
      "model_name": "LayoutModel",
      "state": {
       "width": "450px"
      }
     },
     "5c924e8911a14e40b867bbb4c43e9973": {
      "model_module": "@jupyter-widgets/controls",
      "model_module_version": "2.0.0",
      "model_name": "ButtonModel",
      "state": {
       "button_style": "info",
       "icon": "edit",
       "layout": "IPY_MODEL_0edf2d5e2095453eb7e7d83e9e59990a",
       "style": "IPY_MODEL_e0d286a9782843e3adfe051e9889b18b",
       "tooltip": null
      }
     },
     "5d98547baa2e4e558d752fc41d5a303d": {
      "model_module": "@jupyter-widgets/base",
      "model_module_version": "2.0.0",
      "model_name": "LayoutModel",
      "state": {}
     },
     "5ddd3472795e43769609b481b547ca2b": {
      "model_module": "@jupyter-widgets/controls",
      "model_module_version": "2.0.0",
      "model_name": "HTMLStyleModel",
      "state": {
       "description_width": "",
       "font_size": null,
       "text_color": null
      }
     },
     "5e02a55853704fd69a76a3beb9ba123b": {
      "model_module": "@jupyter-widgets/controls",
      "model_module_version": "2.0.0",
      "model_name": "HTMLModel",
      "state": {
       "layout": "IPY_MODEL_d794941e36cb4e67a0bf19e966be106b",
       "style": "IPY_MODEL_97887ed329c24c91a18c4300bd89efe5",
       "value": "<p style='background: #ffaa00'>\n         <span >model: llama, top_p: 1 USER</span> \n      </p>"
      }
     },
     "5e3ccd6ef39f48128c303fdc68f8b696": {
      "model_module": "@jupyter-widgets/base",
      "model_module_version": "2.0.0",
      "model_name": "LayoutModel",
      "state": {}
     },
     "5e7752e11b014476b97df628c4722b21": {
      "model_module": "@jupyter-widgets/controls",
      "model_module_version": "2.0.0",
      "model_name": "DescriptionStyleModel",
      "state": {
       "description_width": ""
      }
     },
     "5e9acbe5275e47ff9a569921783afe55": {
      "model_module": "@jupyter-widgets/controls",
      "model_module_version": "2.0.0",
      "model_name": "VBoxModel",
      "state": {
       "children": [
        "IPY_MODEL_dcffecd1e9384277b8bbb554020a0a68",
        "IPY_MODEL_81ae574dc2e5443d934b5a9f4a8b299b"
       ],
       "layout": "IPY_MODEL_ba4a6017926245998a31b48233fd8640"
      }
     },
     "5e9e49c2b9544630a6c9d650bf4f84ec": {
      "model_module": "@jupyter-widgets/base",
      "model_module_version": "2.0.0",
      "model_name": "LayoutModel",
      "state": {}
     },
     "5eb862adaef74409b9024a69661fffdc": {
      "model_module": "@jupyter-widgets/controls",
      "model_module_version": "2.0.0",
      "model_name": "VBoxModel",
      "state": {
       "children": [
        "IPY_MODEL_c76f49992d9f47c98ac1cb31b9e47c26",
        "IPY_MODEL_5317f61e8031494dbfd2cde26dcacb74"
       ],
       "layout": "IPY_MODEL_b61ae0f1147a4d7e9417bc0b0dde4f4f"
      }
     },
     "5f0e6880b7604a07aa456bdd387c6240": {
      "model_module": "@jupyter-widgets/controls",
      "model_module_version": "2.0.0",
      "model_name": "HBoxModel",
      "state": {
       "children": [
        "IPY_MODEL_43a543c216ac4aa7a9a39b8ec3c5d038",
        "IPY_MODEL_798731ee8e2b42b988c6d8ecc2391226",
        "IPY_MODEL_553593b1423a4a7d9c81da52cf203234",
        "IPY_MODEL_a405b75fc52e47bfbfd2f2181ac0d811"
       ],
       "layout": "IPY_MODEL_1baeb9f4e3a7462cba7bd6de036e544d"
      }
     },
     "5f816341d9a44c19b6fae248990c9b42": {
      "model_module": "@jupyter-widgets/controls",
      "model_module_version": "2.0.0",
      "model_name": "HTMLModel",
      "state": {
       "layout": "IPY_MODEL_7c61872b76f9402b89e83de751cb3428",
       "style": "IPY_MODEL_3d49a6b94a9043838c3179676b4417f6",
       "value": "<p style='background: #ffaa00'>\n         <span >model: llama, top_p: 1 BOT</span> \n      </p>"
      }
     },
     "6092c0c6979649e796385ebb01974a12": {
      "model_module": "@jupyter-widgets/controls",
      "model_module_version": "2.0.0",
      "model_name": "ButtonStyleModel",
      "state": {
       "font_family": null,
       "font_size": null,
       "font_style": null,
       "font_variant": null,
       "font_weight": null,
       "text_color": null,
       "text_decoration": null
      }
     },
     "609762f0d48d403bb5c4b4857e43bfa0": {
      "model_module": "@jupyter-widgets/base",
      "model_module_version": "2.0.0",
      "model_name": "LayoutModel",
      "state": {}
     },
     "61c81ca8edab495d8e96047e8bc9af72": {
      "model_module": "@jupyter-widgets/controls",
      "model_module_version": "2.0.0",
      "model_name": "HTMLStyleModel",
      "state": {
       "description_width": "",
       "font_size": null,
       "text_color": null
      }
     },
     "6227ef3c9167401689518b63b3d32b37": {
      "model_module": "@jupyter-widgets/base",
      "model_module_version": "2.0.0",
      "model_name": "LayoutModel",
      "state": {}
     },
     "62aa136be25b4899aed3f9867245e81d": {
      "model_module": "@jupyter-widgets/base",
      "model_module_version": "2.0.0",
      "model_name": "LayoutModel",
      "state": {
       "grid_area": "right-sidebar"
      }
     },
     "638a4a43a9744bacb4a01f7b9de7ad9f": {
      "model_module": "@jupyter-widgets/controls",
      "model_module_version": "2.0.0",
      "model_name": "HTMLModel",
      "state": {
       "layout": "IPY_MODEL_b55f017f662d4befa3e872c1fd9404a4",
       "style": "IPY_MODEL_0f6ede39e2394289b8ad8529b2611ee5",
       "value": "<span >model: llama, top_p: 1 USER</span>"
      }
     },
     "63d1b9ed2b104ad3bc9887c9f4992687": {
      "model_module": "@jupyter-widgets/base",
      "model_module_version": "2.0.0",
      "model_name": "LayoutModel",
      "state": {}
     },
     "63d2c039f96f4feda350131a735e1737": {
      "model_module": "@jupyter-widgets/controls",
      "model_module_version": "2.0.0",
      "model_name": "TextareaModel",
      "state": {
       "continuous_update": false,
       "layout": "IPY_MODEL_3502b63d66714690acd0744baa978b81",
       "style": "IPY_MODEL_d4853bd02e9a40f6a3e9a1a702454a8e",
       "value": "hello bot"
      }
     },
     "64486f2d61304451a52ed6a0bc13eda5": {
      "model_module": "@jupyter-widgets/controls",
      "model_module_version": "2.0.0",
      "model_name": "HTMLStyleModel",
      "state": {
       "description_width": "",
       "font_size": null,
       "text_color": null
      }
     },
     "64b4e48b06584727bae22ba28ef84126": {
      "model_module": "@jupyter-widgets/controls",
      "model_module_version": "2.0.0",
      "model_name": "ButtonModel",
      "state": {
       "button_style": "danger",
       "icon": "minus-circle",
       "layout": "IPY_MODEL_999a69d0b0844cde93e416eec82abe28",
       "style": "IPY_MODEL_319dab85e74542a7856578f67fcd5503",
       "tooltip": null
      }
     },
     "6686119a6c544a5db40363c46e1d7c7f": {
      "model_module": "@jupyter-widgets/controls",
      "model_module_version": "2.0.0",
      "model_name": "VBoxModel",
      "state": {
       "children": [
        "IPY_MODEL_15c307ef9d854aada0b356be45095f55",
        "IPY_MODEL_5eb862adaef74409b9024a69661fffdc",
        "IPY_MODEL_b8445b5aad114b28bd199d418a8c7fe0",
        "IPY_MODEL_1e0e7ff6a8564294bae64dcb5bd5ed3b",
        "IPY_MODEL_f1dce3269b7b40e8a8f8ed70913ee202",
        "IPY_MODEL_b047463bc7234eadb4e36db0649b8583",
        "IPY_MODEL_4f7166a8652b4c69abfdda64aa626bd5",
        "IPY_MODEL_cb1f58d5d9dc4d26ab41858cb2398a48",
        "IPY_MODEL_5e02a55853704fd69a76a3beb9ba123b",
        "IPY_MODEL_5f816341d9a44c19b6fae248990c9b42",
        "IPY_MODEL_e1e30ea1d7a640d59a881373a7963ae4"
       ],
       "layout": "IPY_MODEL_f4ea3644e02849ed84756dfdd8d8a373"
      }
     },
     "672c4418df084e44a9bc7b28783015c3": {
      "model_module": "anywidget",
      "model_module_version": "0.9.3",
      "model_name": "AnyModel",
      "state": {
       "_anywidget_id": "ipywui.widgets.custom.dialog.DialogWidget",
       "_css": ".wui-modal-root {\n    position: absolute;\n    bottom: 0;\n    left: 0;\n    overflow: auto;\n    pointer-events: none;\n    right: 0;\n    top: 0;\n    z-index: 999;\n}\n.wui-modal-root[data-state=open] {\n    display: block;\n}\n.wui-modal-root[data-state=close] {\n    display: none;\n}\n\n.wui-modal-dialog-container {\n    align-items: center;\n    display: flex;\n    justify-content: center;\n    min-height: 100%;\n    outline: none;\n    pointer-events: auto;\n    width: 100%;\n\n    -webkit-tap-highlight-color: rgba(0,0,0,0);\n    background-color: rgba(0,0,0,.5);\n    bottom: 0;\n    left: 0;\n    /*opacity: 0;*/\n    right: 0;\n    top: 0;\n    transition: opacity .4s;\n    transition-timing-function: cubic-bezier(.2,.8,.4,1);\n}\n\n.wui-modal-dialog {\n    background: white;\n    border-radius: 5px;\n    /*color: var(--text-default);*/\n    margin: 20px 12px;\n    max-width: 100%;\n    width: 50%;\n    /*opacity: 0;*/\n    /*position: relative;*/\n    /*-webkit-transform: translateY(20px);*/\n    /*transform: translateY(20px);*/\n    transition: opacity .4s,-webkit-transform .4s;\n    transition: transform .4s,opacity .4s;\n    transition: transform .4s,opacity .4s,-webkit-transform .4s;\n    transition-timing-function: cubic-bezier(.2,.8,.4,1);\n    -webkit-user-select: text;\n    user-select: text;\n}\n\n.wui-modal-header {\n    font-size: 20px;\n    line-height: 28px;\n    margin: 10px 14px 6px 14px;\n}\n\n.wui-modal-body {\n    font-size: 14px;\n    margin: 6px 14px 14px 14px;\n}\n\n.wui-modal-footer {\n    align-items: center;\n    display: flex;\n    justify-content: flex-end;\n    margin: 22px 14px 14px;\n}\n",
       "_esm": "async function unpack_models(model_ids, manager) {\n  return Promise.all(\n    model_ids.map(id => manager.get_model(id.slice(\"IPY_MODEL_\".length)))\n  );\n}\n\n\nexport async function render(view) {\n  let model = view.model;\n\n  let shouldShowDialog = () => model.get('value');\n  const modalRoot = view.el;\n  const modalDialogContainer = document.createElement('div');\n  const modalDialog = document.createElement('div');\n  modalRoot.className += ' wui-modal-root';\n  modalRoot.setAttribute('data-state', shouldShowDialog() ? 'open' : 'close');\n  modalDialogContainer.className += ' wui-modal-dialog-container';\n  modalDialog.className += ' wui-modal-dialog';\n  const modalDialogWidth = model.get(\"width\", '50%');\n  if (modalDialogWidth) {\n    modalDialog.style.width = modalDialogWidth;\n  }\n  modalRoot.appendChild(modalDialogContainer);\n  modalDialogContainer.appendChild(modalDialog);\n\n  const modalTitle = document.createElement('div');\n  modalTitle.className += ' wui-modal-header';\n  modalTitle.innerText = model.get('title');\n  const modalBody = document.createElement('div');\n  modalBody.className += ' wui-modal-body';\n  const modalFooter = document.createElement('div');\n  modalFooter.className += ' wui-modal-footer';\n  modalDialog.appendChild(modalTitle);\n  modalDialog.appendChild(modalBody);\n  modalDialog.appendChild(modalFooter);\n\n  let model_ids = model.get(\"body\"); // [\"IPY_MODEL_<model_id>\", ...]\n  let body_models = await unpack_models(model_ids, model.widget_manager);\n  for (let model of body_models) {\n    let child_view = await model.widget_manager.create_view(model);\n    modalBody.appendChild(child_view.el);\n  }\n  model_ids = model.get(\"footer\"); // [\"IPY_MODEL_<model_id>\", ...]\n  let footer_models = await unpack_models(model_ids, model.widget_manager);\n  for (let model of footer_models) {\n    let child_view = await model.widget_manager.create_view(model);\n    modalFooter.appendChild(child_view.el);\n  }\n  const emit = (evt, payload) => {\n    model.set(\"event\", {\"event\": evt, \"payload\": payload});\n    model.save_changes();\n  }\n  const openDialog = () => {\n    modalRoot.setAttribute('data-state', 'open');\n    emit(\"open\");\n  }\n  const closeDialog = () => {\n    modalRoot.setAttribute('data-state', 'close');\n    emit(\"close\");\n  }\n  modalDialogContainer.addEventListener('click', () => {\n    console.info('click')\n    model.set(\"value\", false);\n    model.save_changes()\n  })\n  modalDialog.addEventListener('click', (ev) => {\n    ev.stopPropagation();\n  })\n  model.on(\"change:value\", () => {\n    console.info('change value')\n    shouldShowDialog() ? openDialog() : closeDialog();\n  })\n}\n",
       "_model_module": "anywidget",
       "_model_module_version": "0.9.3",
       "_model_name": "AnyModel",
       "_view_module": "anywidget",
       "_view_module_version": "0.9.3",
       "_view_name": "AnyView",
       "body": [],
       "event": {
        "event": "close"
       },
       "footer": [],
       "layout": "IPY_MODEL_cb53a483c72e4543b4c0cd107db1357c",
       "title": "test",
       "value": false,
       "width": "50%"
      }
     },
     "676db8a75a4141cf81b6b78390e31013": {
      "model_module": "@jupyter-widgets/base",
      "model_module_version": "2.0.0",
      "model_name": "LayoutModel",
      "state": {}
     },
     "685a9ae8bb014f95a74c0be8160490cd": {
      "model_module": "@jupyter-widgets/controls",
      "model_module_version": "2.0.0",
      "model_name": "HBoxModel",
      "state": {
       "children": [
        "IPY_MODEL_31e1076bd57e407c86b48873b4a33e2c",
        "IPY_MODEL_46c4f00cbb0d402597043c9958e8349e",
        "IPY_MODEL_6c4ddaba257b4af19fb8688c9fe3c48c",
        "IPY_MODEL_597ec59cbc544bce9b3cc1b7c4f08a7a"
       ],
       "layout": "IPY_MODEL_00d8ce8cf479414dab489f4d1212dbe5"
      }
     },
     "686a197072154c08a04fe9e10a7abf13": {
      "model_module": "@jupyter-widgets/base",
      "model_module_version": "2.0.0",
      "model_name": "LayoutModel",
      "state": {}
     },
     "689221af5b6749b9ba1144b5767f89b7": {
      "model_module": "@jupyter-widgets/controls",
      "model_module_version": "2.0.0",
      "model_name": "TextStyleModel",
      "state": {
       "description_width": "",
       "font_size": null,
       "text_color": null
      }
     },
     "690eb015382740728d6a7bd703651ce1": {
      "model_module": "@jupyter-widgets/controls",
      "model_module_version": "2.0.0",
      "model_name": "HBoxModel",
      "state": {
       "children": [
        "IPY_MODEL_1ec68cb1fc7c4627a672aa38c8d7b87e",
        "IPY_MODEL_26e3a9af9b0f4fd1a23177d3a67f6901",
        "IPY_MODEL_02fd434ceaea4e0bb1db3a94cbec39f7",
        "IPY_MODEL_d0c73e756e5b490ebc0c106e74b5cfe5",
        "IPY_MODEL_f368d1d9d9e14e419b94e39a780220a7"
       ],
       "layout": "IPY_MODEL_f3cea1d6380645b591a95fcaedb783cf"
      }
     },
     "69298d86ccc549dc87d8e22ef2801ae8": {
      "model_module": "@jupyter-widgets/controls",
      "model_module_version": "2.0.0",
      "model_name": "VBoxModel",
      "state": {
       "children": [
        "IPY_MODEL_9fe0ff62204d4d82b05f4ec770ea0d3f",
        "IPY_MODEL_0f645f98d7334db0af27edb41555497f"
       ],
       "layout": "IPY_MODEL_62aa136be25b4899aed3f9867245e81d"
      }
     },
     "6a0c70453e4b44039de2feb0610dcecd": {
      "model_module": "@jupyter-widgets/base",
      "model_module_version": "2.0.0",
      "model_name": "LayoutModel",
      "state": {
       "width": "40px"
      }
     },
     "6a496d2a960549638600bf93a5755fd8": {
      "model_module": "@jupyter-widgets/controls",
      "model_module_version": "2.0.0",
      "model_name": "HBoxModel",
      "state": {
       "children": [
        "IPY_MODEL_7a6fd52635d44e78b23b04f6cc043b89",
        "IPY_MODEL_63d2c039f96f4feda350131a735e1737",
        "IPY_MODEL_a858da5d93774af28b4f0ae4d64c7d27",
        "IPY_MODEL_1a4d6ad63e2243be9a962e962214c7fd"
       ],
       "layout": "IPY_MODEL_3f82453a8d164cda8d741e53630191cc"
      }
     },
     "6b573a9fd25a4612946c3aef19b57585": {
      "model_module": "@jupyter-widgets/controls",
      "model_module_version": "2.0.0",
      "model_name": "ButtonStyleModel",
      "state": {
       "font_family": null,
       "font_size": null,
       "font_style": null,
       "font_variant": null,
       "font_weight": null,
       "text_color": null,
       "text_decoration": null
      }
     },
     "6c4ddaba257b4af19fb8688c9fe3c48c": {
      "model_module": "@jupyter-widgets/controls",
      "model_module_version": "2.0.0",
      "model_name": "ButtonModel",
      "state": {
       "button_style": "info",
       "icon": "edit",
       "layout": "IPY_MODEL_733499f43d824985a475260d7f25a642",
       "style": "IPY_MODEL_cdc32ef9a7ee49dfb8cffa88134c5ae3",
       "tooltip": null
      }
     },
     "6c6143bdf10e4d6e8c10a024026f86c8": {
      "model_module": "@jupyter-widgets/controls",
      "model_module_version": "2.0.0",
      "model_name": "HTMLModel",
      "state": {
       "layout": "IPY_MODEL_5c1bb718cf7a4a609ba0e1c19f103cfc",
       "style": "IPY_MODEL_945920395d11492cbc3c7f917df76704",
       "value": "<style>pre { line-height: 125%; }\ntd.linenos .normal { color: inherit; background-color: transparent; padding-left: 5px; padding-right: 5px; }\nspan.linenos { color: inherit; background-color: transparent; padding-left: 5px; padding-right: 5px; }\ntd.linenos .special { color: #000000; background-color: #ffffc0; padding-left: 5px; padding-right: 5px; }\nspan.linenos.special { color: #000000; background-color: #ffffc0; padding-left: 5px; padding-right: 5px; }\n.codehilite .hll { background-color: #ffffcc }\n.codehilite { background: #f8f8f8; }\n.codehilite .c { color: #3D7B7B; font-style: italic } /* Comment */\n.codehilite .err { border: 1px solid #FF0000 } /* Error */\n.codehilite .k { color: #008000; font-weight: bold } /* Keyword */\n.codehilite .o { color: #666666 } /* Operator */\n.codehilite .ch { color: #3D7B7B; font-style: italic } /* Comment.Hashbang */\n.codehilite .cm { color: #3D7B7B; font-style: italic } /* Comment.Multiline */\n.codehilite .cp { color: #9C6500 } /* Comment.Preproc */\n.codehilite .cpf { color: #3D7B7B; font-style: italic } /* Comment.PreprocFile */\n.codehilite .c1 { color: #3D7B7B; font-style: italic } /* Comment.Single */\n.codehilite .cs { color: #3D7B7B; font-style: italic } /* Comment.Special */\n.codehilite .gd { color: #A00000 } /* Generic.Deleted */\n.codehilite .ge { font-style: italic } /* Generic.Emph */\n.codehilite .ges { font-weight: bold; font-style: italic } /* Generic.EmphStrong */\n.codehilite .gr { color: #E40000 } /* Generic.Error */\n.codehilite .gh { color: #000080; font-weight: bold } /* Generic.Heading */\n.codehilite .gi { color: #008400 } /* Generic.Inserted */\n.codehilite .go { color: #717171 } /* Generic.Output */\n.codehilite .gp { color: #000080; font-weight: bold } /* Generic.Prompt */\n.codehilite .gs { font-weight: bold } /* Generic.Strong */\n.codehilite .gu { color: #800080; font-weight: bold } /* Generic.Subheading */\n.codehilite .gt { color: #0044DD } /* Generic.Traceback */\n.codehilite .kc { color: #008000; font-weight: bold } /* Keyword.Constant */\n.codehilite .kd { color: #008000; font-weight: bold } /* Keyword.Declaration */\n.codehilite .kn { color: #008000; font-weight: bold } /* Keyword.Namespace */\n.codehilite .kp { color: #008000 } /* Keyword.Pseudo */\n.codehilite .kr { color: #008000; font-weight: bold } /* Keyword.Reserved */\n.codehilite .kt { color: #B00040 } /* Keyword.Type */\n.codehilite .m { color: #666666 } /* Literal.Number */\n.codehilite .s { color: #BA2121 } /* Literal.String */\n.codehilite .na { color: #687822 } /* Name.Attribute */\n.codehilite .nb { color: #008000 } /* Name.Builtin */\n.codehilite .nc { color: #0000FF; font-weight: bold } /* Name.Class */\n.codehilite .no { color: #880000 } /* Name.Constant */\n.codehilite .nd { color: #AA22FF } /* Name.Decorator */\n.codehilite .ni { color: #717171; font-weight: bold } /* Name.Entity */\n.codehilite .ne { color: #CB3F38; font-weight: bold } /* Name.Exception */\n.codehilite .nf { color: #0000FF } /* Name.Function */\n.codehilite .nl { color: #767600 } /* Name.Label */\n.codehilite .nn { color: #0000FF; font-weight: bold } /* Name.Namespace */\n.codehilite .nt { color: #008000; font-weight: bold } /* Name.Tag */\n.codehilite .nv { color: #19177C } /* Name.Variable */\n.codehilite .ow { color: #AA22FF; font-weight: bold } /* Operator.Word */\n.codehilite .w { color: #bbbbbb } /* Text.Whitespace */\n.codehilite .mb { color: #666666 } /* Literal.Number.Bin */\n.codehilite .mf { color: #666666 } /* Literal.Number.Float */\n.codehilite .mh { color: #666666 } /* Literal.Number.Hex */\n.codehilite .mi { color: #666666 } /* Literal.Number.Integer */\n.codehilite .mo { color: #666666 } /* Literal.Number.Oct */\n.codehilite .sa { color: #BA2121 } /* Literal.String.Affix */\n.codehilite .sb { color: #BA2121 } /* Literal.String.Backtick */\n.codehilite .sc { color: #BA2121 } /* Literal.String.Char */\n.codehilite .dl { color: #BA2121 } /* Literal.String.Delimiter */\n.codehilite .sd { color: #BA2121; font-style: italic } /* Literal.String.Doc */\n.codehilite .s2 { color: #BA2121 } /* Literal.String.Double */\n.codehilite .se { color: #AA5D1F; font-weight: bold } /* Literal.String.Escape */\n.codehilite .sh { color: #BA2121 } /* Literal.String.Heredoc */\n.codehilite .si { color: #A45A77; font-weight: bold } /* Literal.String.Interpol */\n.codehilite .sx { color: #008000 } /* Literal.String.Other */\n.codehilite .sr { color: #A45A77 } /* Literal.String.Regex */\n.codehilite .s1 { color: #BA2121 } /* Literal.String.Single */\n.codehilite .ss { color: #19177C } /* Literal.String.Symbol */\n.codehilite .bp { color: #008000 } /* Name.Builtin.Pseudo */\n.codehilite .fm { color: #0000FF } /* Name.Function.Magic */\n.codehilite .vc { color: #19177C } /* Name.Variable.Class */\n.codehilite .vg { color: #19177C } /* Name.Variable.Global */\n.codehilite .vi { color: #19177C } /* Name.Variable.Instance */\n.codehilite .vm { color: #19177C } /* Name.Variable.Magic */\n.codehilite .il { color: #666666 } /* Literal.Number.Integer.Long */\n</style><h2>h2</h2>\n<p>hello user</p>"
      }
     },
     "6d6209c7fa2e4b64b54f17cf0cd2467a": {
      "model_module": "@jupyter-widgets/controls",
      "model_module_version": "2.0.0",
      "model_name": "HTMLStyleModel",
      "state": {
       "description_width": "",
       "font_size": null,
       "text_color": null
      }
     },
     "6ee1c548e2884b75bb730d584530f9a3": {
      "model_module": "anywidget",
      "model_module_version": "0.9.3",
      "model_name": "AnyModel",
      "state": {
       "_anywidget_id": "ipywui.widgets.custom.message.MessageWidget",
       "_css": ".wui-message-root {\n    display: flex;\n    position: absolute;\n    left: 0;\n    right: 0;\n    top: 0;\n}\n\n.wui-message-container {\n    align-items: center;\n    display: flex;\n    flex-direction: column-reverse;\n    justify-content: center;\n    min-height: 100%;\n    outline: none;\n    width: 100%;\n\n    -webkit-tap-highlight-color: rgba(0,0,0,0);\n    bottom: 0;\n    left: 0;\n    right: 0;\n    top: 0;\n}\n\n.wui-message--success {\n    --wui-message-bg-color: #f0f9eb;\n    --wui-message-border-color: #e1f3d8;\n    --wui-message-text-color: #67c23a;\n}\n.wui-message--warning {\n    --wui-message-bg-color: #fdf6ec;\n    --wui-message-border-color: #faecd8;\n    --wui-message-text-color: #e6a23c;\n}\n.wui-message--info {\n    --wui-message-bg-color: #f4f4f5;\n    --wui-message-border-color: #e9e9eb;\n    --wui-message-text-color: #909399;\n}\n.wui-message--error {\n    --wui-message-bg-color: #fef0f0;\n    --wui-message-border-color: #fde2e2;\n    --wui-message-text-color: #f56c6c;\n}\n\n@keyframes msg-open {\n    0% {\n        opacity: 0;\n        -webkit-transform: translateY(-120%);\n        transform: translateY(-120%)\n    }\n    to {\n        -webkit-transform: translateY(0);\n        transform: translateY(0)\n    }\n}\n\n@keyframes msg-close {\n    0% {\n        opacity: 1;\n        -webkit-transform: scale(1);\n        transform: scale(1)\n    }\n    to {\n        opacity: 0;\n        -webkit-transform: scale(.9);\n        transform: scale(.9)\n    }\n}\n.wui-message[data-state=entered],.wui-message[data-state=entering] {\n    -webkit-animation: msg-open .24s cubic-bezier(.175,.885,.32,1.175) both;\n    animation: msg-open .24s cubic-bezier(.175,.885,.32,1.175) both\n}\n\n.wui-message[data-state=exiting] {\n    -webkit-animation: msg-close .12s cubic-bezier(.4,0,1,1) both;\n    animation: msg-close .12s cubic-bezier(.4,0,1,1) both\n}\n\n.wui-message {\n    width: -webkit-fit-content;\n    width: -moz-fit-content;\n    width: fit-content;\n    z-index: 2004;\n    max-width: calc(100% - 32px);\n    margin-top: 8px;\n    box-sizing: border-box;\n    /*border-radius: var(--wui-border-radius-base);*/\n    /*border-width: var(--wui-border-width);*/\n    /*border-style: var(--wui-border-style);*/\n    border-color: var(--wui-message-border-color);\n    /*left: 50%;*/\n    /*top: 20px;*/\n    /*transform: translateX(-50%);*/\n    background-color: var(--wui-message-bg-color);\n    /*transition: opacity var(--wui-transition-duration),transform .4s,top .4s;*/\n    /*padding: var(--wui-message-padding);*/\n    display: flex;\n    align-items: center;\n}\n\n/*.wui-message--success */\n.wui-message__content {\n    color: var(--wui-message-text-color);\n    font-size: 14px;\n    line-height: 18px;\n    margin: 10px 14px 10px 14px;\n    overflow-wrap: break-word;\n}\n\n.wui-message__closeBtn {\n    /*cursor: pointer;*/\n    font-style: normal;\n    /*color: gray;*/\n    padding-right: 14px;\n    /*font-size: 13px;*/\n    user-select: none;\n\n    background: transparent;\n    border: none;\n    color: gray;\n    cursor: pointer;\n    font-size: 13px;\n    font-weight: 400;\n    line-height: 1;\n    outline: none;\n    /*padding: 4px;*/\n    text-align: center;\n    transition: opacity .3s;\n    /*width: 100%;*/\n}",
       "_esm": "function closeMsg(msgDom) {\n  if (!msgDom) {\n    return;\n  }\n  msgDom.setAttribute('data-state', 'exiting');\n  msgDom.remove();\n}\n\nfunction createMsg(options) {\n  const {message, msg_id, type = 'info', show_close = false} = options;\n  const msgDom = document.createElement('div');\n  msgDom.className += ` wui-message--${type} wui-message`;\n  msgDom.setAttribute('data-state', 'entered');\n  msgDom.setAttribute('id', msg_id);\n  const msgContent = document.createElement('p');\n  msgContent.className += ` wui-message--${type} wui-message__content`;\n  msgContent.innerText = message;\n  msgDom.appendChild(msgContent);\n  if (show_close) {\n    const closeBtn = document.createElement('i');\n    closeBtn.className += 'wui-message__closeBtn';\n    closeBtn.innerText = 'x';\n    closeBtn.addEventListener('click', (ev) => {\n      closeMsg(msgDom);\n    })\n    msgDom.appendChild(closeBtn);\n  }\n  return msgDom;\n}\n\nexport async function render(view) {\n  let model = view.model;\n  const msgRoot = view.el;\n  msgRoot.className += ' wui-message-root'\n\n  const msgContainer = document.createElement('div');\n  msgContainer.className += ' wui-message-container';\n  msgRoot.appendChild(msgContainer)\n\n  model.on(\"change:message_options\", () => {\n    const options = model.get(\"message_options\");\n    const msg = createMsg(options);\n    msgContainer.appendChild(msg);\n    const {duration = 3000} = options;\n    if (duration > 0) {\n      setTimeout(() => {\n        closeMsg(msg)\n      }, duration);\n    }\n  })\n\n  model.on(\"change:close_msg_id\", () => {\n    const msg_id = model.get(\"close_msg_id\");\n    const msgDom = document.getElementById(msg_id);\n    closeMsg(msgDom);\n  })\n}\n",
       "_model_module": "anywidget",
       "_model_module_version": "0.9.3",
       "_model_name": "AnyModel",
       "_view_module": "anywidget",
       "_view_module_version": "0.9.3",
       "_view_name": "AnyView",
       "close_msg_id": "",
       "layout": "IPY_MODEL_54cf9dae92de462fbbfc55c302c08e68",
       "message_options": {
        "duration": 3000,
        "message": "",
        "show_close": false,
        "type": "info"
       }
      }
     },
     "6fc2ac043387406f8f15b7351c1f8a8a": {
      "model_module": "@jupyter-widgets/controls",
      "model_module_version": "2.0.0",
      "model_name": "ButtonStyleModel",
      "state": {
       "font_family": null,
       "font_size": null,
       "font_style": null,
       "font_variant": null,
       "font_weight": null,
       "text_color": null,
       "text_decoration": null
      }
     },
     "7012321edb004ce9a21600731872005a": {
      "model_module": "@jupyter-widgets/base",
      "model_module_version": "2.0.0",
      "model_name": "LayoutModel",
      "state": {
       "width": "200px"
      }
     },
     "701c0496bd5849c1853ea00afa6f786f": {
      "model_module": "@jupyter-widgets/base",
      "model_module_version": "2.0.0",
      "model_name": "LayoutModel",
      "state": {}
     },
     "7098505f6be04bdf899d4c58ea66c044": {
      "model_module": "@jupyter-widgets/base",
      "model_module_version": "2.0.0",
      "model_name": "LayoutModel",
      "state": {}
     },
     "70aa3353b93347ff8c0642a953b1ce83": {
      "model_module": "@jupyter-widgets/base",
      "model_module_version": "2.0.0",
      "model_name": "LayoutModel",
      "state": {}
     },
     "733499f43d824985a475260d7f25a642": {
      "model_module": "@jupyter-widgets/base",
      "model_module_version": "2.0.0",
      "model_name": "LayoutModel",
      "state": {
       "width": "40px"
      }
     },
     "7761315bbd09490291f1def76744c749": {
      "model_module": "@jupyter-widgets/controls",
      "model_module_version": "2.0.0",
      "model_name": "DropdownModel",
      "state": {
       "_options_labels": [
        "op1",
        "op2"
       ],
       "description": "options",
       "index": 1,
       "layout": "IPY_MODEL_9c2081de4cc54e3eaa5ba617daf29d45",
       "style": "IPY_MODEL_5e7752e11b014476b97df628c4722b21"
      }
     },
     "7896394d74ee46db9225bfe28cf309ff": {
      "model_module": "@jupyter-widgets/controls",
      "model_module_version": "2.0.0",
      "model_name": "ButtonStyleModel",
      "state": {
       "font_family": null,
       "font_size": null,
       "font_style": null,
       "font_variant": null,
       "font_weight": null,
       "text_color": null,
       "text_decoration": null
      }
     },
     "78c41d25fe6640bbb52c92fe4abe055c": {
      "model_module": "@jupyter-widgets/controls",
      "model_module_version": "2.0.0",
      "model_name": "HTMLStyleModel",
      "state": {
       "description_width": "",
       "font_size": null,
       "text_color": null
      }
     },
     "78f62641fa074db499094e5f5d84be50": {
      "model_module": "@jupyter-widgets/base",
      "model_module_version": "2.0.0",
      "model_name": "LayoutModel",
      "state": {}
     },
     "798731ee8e2b42b988c6d8ecc2391226": {
      "model_module": "@jupyter-widgets/controls",
      "model_module_version": "2.0.0",
      "model_name": "TextareaModel",
      "state": {
       "continuous_update": false,
       "layout": "IPY_MODEL_8f439841b5e34efbaeec45a887c65820",
       "style": "IPY_MODEL_283112367fbf431daa8e140d43355784",
       "value": "## h2 \nhello user"
      }
     },
     "79e23dca55c6457c96e0ad9672cb673f": {
      "model_module": "@jupyter-widgets/base",
      "model_module_version": "2.0.0",
      "model_name": "LayoutModel",
      "state": {
       "grid_area": "center"
      }
     },
     "79f3c48936e94718a6834f4c0f056072": {
      "model_module": "@jupyter-widgets/controls",
      "model_module_version": "2.0.0",
      "model_name": "HBoxModel",
      "state": {
       "children": [
        "IPY_MODEL_cd93cc22261344e29cc10190bb82d2c3",
        "IPY_MODEL_c1ff56351e62445aa9a83e42e525c258"
       ],
       "layout": "IPY_MODEL_d654d35d2ae74eac960a46c82cded5a2"
      }
     },
     "7a647b78a82c4450a508c252c7bcdc9f": {
      "model_module": "@jupyter-widgets/controls",
      "model_module_version": "2.0.0",
      "model_name": "ButtonModel",
      "state": {
       "description": "USER",
       "layout": "IPY_MODEL_c6ff8cbf3e04429090e29e2b7070a9a6",
       "style": "IPY_MODEL_478ee294a82d4d44989df25cf801abb3",
       "tooltip": null
      }
     },
     "7a6fd52635d44e78b23b04f6cc043b89": {
      "model_module": "@jupyter-widgets/controls",
      "model_module_version": "2.0.0",
      "model_name": "ButtonModel",
      "state": {
       "description": "USER",
       "layout": "IPY_MODEL_0cb645587ee7492b82f30c1b8b60c8c9",
       "style": "IPY_MODEL_fb35f603c4344f3394911f0ccb33f857",
       "tooltip": null
      }
     },
     "7b05084792964a279bb75286f55c1b8c": {
      "model_module": "@jupyter-widgets/controls",
      "model_module_version": "2.0.0",
      "model_name": "ButtonStyleModel",
      "state": {
       "font_family": null,
       "font_size": null,
       "font_style": null,
       "font_variant": null,
       "font_weight": null,
       "text_color": null,
       "text_decoration": null
      }
     },
     "7b38a9e203f14f23a18b4c88c5026c1f": {
      "model_module": "@jupyter-widgets/base",
      "model_module_version": "2.0.0",
      "model_name": "LayoutModel",
      "state": {
       "width": "60px"
      }
     },
     "7bc812b5f9ca4c0b95c69b25b20cf446": {
      "model_module": "@jupyter-widgets/controls",
      "model_module_version": "2.0.0",
      "model_name": "TextStyleModel",
      "state": {
       "description_width": "",
       "font_size": null,
       "text_color": null
      }
     },
     "7c61872b76f9402b89e83de751cb3428": {
      "model_module": "@jupyter-widgets/base",
      "model_module_version": "2.0.0",
      "model_name": "LayoutModel",
      "state": {}
     },
     "7d16d12d174b40bb8adfcdb57ae64d2e": {
      "model_module": "@jupyter-widgets/controls",
      "model_module_version": "2.0.0",
      "model_name": "HTMLStyleModel",
      "state": {
       "description_width": "",
       "font_size": null,
       "text_color": null
      }
     },
     "7d967ebe86b84856b580b3414386b262": {
      "model_module": "@jupyter-widgets/controls",
      "model_module_version": "2.0.0",
      "model_name": "HTMLModel",
      "state": {
       "layout": "IPY_MODEL_85c34abf95bb4f03a7e847abdcb81e2f",
       "style": "IPY_MODEL_f4d39dad8bfd4b17adc9edcd8ed3aa30",
       "value": "<span >model: llama, top_p: 0.68 USER</span>"
      }
     },
     "7f7773c14e8c4533b5a630111f4fce13": {
      "model_module": "@jupyter-widgets/base",
      "model_module_version": "2.0.0",
      "model_name": "LayoutModel",
      "state": {}
     },
     "8070815218f24bd9be5779996dd4588f": {
      "model_module": "@jupyter-widgets/base",
      "model_module_version": "2.0.0",
      "model_name": "LayoutModel",
      "state": {
       "width": "60px"
      }
     },
     "80e3ade8477c41fdaddd35226c4d73f5": {
      "model_module": "@jupyter-widgets/controls",
      "model_module_version": "2.0.0",
      "model_name": "HTMLStyleModel",
      "state": {
       "description_width": "",
       "font_size": null,
       "text_color": null
      }
     },
     "81ae574dc2e5443d934b5a9f4a8b299b": {
      "model_module": "@jupyter-widgets/controls",
      "model_module_version": "2.0.0",
      "model_name": "HTMLModel",
      "state": {
       "layout": "IPY_MODEL_99f55da3ae6c4c4eadb5713143c3d2b9",
       "style": "IPY_MODEL_a5abf640579a476f9b1836df9826003d"
      }
     },
     "83cb88c4222e41feb230445f7ed871a3": {
      "model_module": "@jupyter-widgets/controls",
      "model_module_version": "2.0.0",
      "model_name": "GridBoxModel",
      "state": {
       "children": [
        "IPY_MODEL_3d911f592eb54a009a7cfde2e7adc71d",
        "IPY_MODEL_5986ca9a952245c7a90a832285f43d09"
       ],
       "layout": "IPY_MODEL_9fbee751eae449f79baece60b8456994"
      }
     },
     "84396be7693447a08746d1fcd27e24db": {
      "model_module": "@jupyter-widgets/controls",
      "model_module_version": "2.0.0",
      "model_name": "ButtonModel",
      "state": {
       "button_style": "info",
       "description": "dialog",
       "layout": "IPY_MODEL_4b11753001604785aa3f8f282abdfe14",
       "style": "IPY_MODEL_8ac8e4e8d9b744b4b24c9a3b0c1cb03d",
       "tooltip": null
      }
     },
     "8480b91d948b4047ab7aeec97b57b18b": {
      "model_module": "@jupyter-widgets/base",
      "model_module_version": "2.0.0",
      "model_name": "LayoutModel",
      "state": {}
     },
     "84ffb8fac3464002b7d35f014e3885f7": {
      "model_module": "@jupyter-widgets/base",
      "model_module_version": "2.0.0",
      "model_name": "LayoutModel",
      "state": {}
     },
     "85c34abf95bb4f03a7e847abdcb81e2f": {
      "model_module": "@jupyter-widgets/base",
      "model_module_version": "2.0.0",
      "model_name": "LayoutModel",
      "state": {}
     },
     "87667cd435294b1d9fa74c5bc3dad353": {
      "model_module": "@jupyter-widgets/controls",
      "model_module_version": "2.0.0",
      "model_name": "HTMLStyleModel",
      "state": {
       "description_width": "",
       "font_size": null,
       "text_color": null
      }
     },
     "88a3702fffe64ad489f7acbb160ccf97": {
      "model_module": "@jupyter-widgets/controls",
      "model_module_version": "2.0.0",
      "model_name": "HTMLModel",
      "state": {
       "layout": "IPY_MODEL_1295dc4106e4499ebb0470d5b365b313",
       "style": "IPY_MODEL_c55ef9b371834061b9e633c05b909d02"
      }
     },
     "897c9564eafc43cd90ca3d7a44b64635": {
      "model_module": "@jupyter-widgets/controls",
      "model_module_version": "2.0.0",
      "model_name": "HTMLModel",
      "state": {
       "layout": "IPY_MODEL_2e154d7c326140309dad8eb9edd4ce6e",
       "style": "IPY_MODEL_f80214cfdd1f40f5b6497617c3cd0d73"
      }
     },
     "8a3714fd490643e99c50d79f70faaff0": {
      "model_module": "@jupyter-widgets/controls",
      "model_module_version": "2.0.0",
      "model_name": "ButtonModel",
      "state": {
       "button_style": "info",
       "icon": "edit",
       "layout": "IPY_MODEL_e4aecd74c01448e697e9efe6153a079a",
       "style": "IPY_MODEL_b94af4b772eb41708b35675de262ed3b",
       "tooltip": null
      }
     },
     "8aa630ca50b3403ca7823735c2600bd7": {
      "model_module": "@jupyter-widgets/controls",
      "model_module_version": "2.0.0",
      "model_name": "ButtonModel",
      "state": {
       "button_style": "danger",
       "icon": "minus-circle",
       "layout": "IPY_MODEL_6a0c70453e4b44039de2feb0610dcecd",
       "style": "IPY_MODEL_32a301b16aaf40a5be24bc0edf7c0efa",
       "tooltip": null
      }
     },
     "8ac8e4e8d9b744b4b24c9a3b0c1cb03d": {
      "model_module": "@jupyter-widgets/controls",
      "model_module_version": "2.0.0",
      "model_name": "ButtonStyleModel",
      "state": {
       "font_family": null,
       "font_size": null,
       "font_style": null,
       "font_variant": null,
       "font_weight": null,
       "text_color": null,
       "text_decoration": null
      }
     },
     "8b0db1319fd24768a481eb2c168a96b2": {
      "model_module": "@jupyter-widgets/controls",
      "model_module_version": "2.0.0",
      "model_name": "VBoxModel",
      "state": {
       "children": [
        "IPY_MODEL_6a496d2a960549638600bf93a5755fd8",
        "IPY_MODEL_88a3702fffe64ad489f7acbb160ccf97"
       ],
       "layout": "IPY_MODEL_1ccec9f3659a470892dfae013793204a"
      }
     },
     "8b7048173ac341d79118ee6a5e0d99ec": {
      "model_module": "@jupyter-widgets/controls",
      "model_module_version": "2.0.0",
      "model_name": "HTMLStyleModel",
      "state": {
       "description_width": "",
       "font_size": null,
       "text_color": null
      }
     },
     "8bb9903cc308490693997f344813d60e": {
      "model_module": "@jupyter-widgets/controls",
      "model_module_version": "2.0.0",
      "model_name": "HTMLStyleModel",
      "state": {
       "description_width": "",
       "font_size": null,
       "text_color": null
      }
     },
     "8c82564ba7e74163936f1877bd82932a": {
      "model_module": "@jupyter-widgets/controls",
      "model_module_version": "2.0.0",
      "model_name": "ButtonModel",
      "state": {
       "button_style": "info",
       "description": "show/edit",
       "icon": "edit",
       "layout": "IPY_MODEL_609762f0d48d403bb5c4b4857e43bfa0",
       "style": "IPY_MODEL_db784627a2954c1484443384a58bc0e1",
       "tooltip": null
      }
     },
     "8d50acf576e54da78d9905ccdb34be46": {
      "model_module": "@jupyter-widgets/controls",
      "model_module_version": "2.0.0",
      "model_name": "HTMLModel",
      "state": {
       "layout": "IPY_MODEL_94d74eb7743041cf8185a1b262c7cdff",
       "style": "IPY_MODEL_5421b1b6ed284a83b320b9eeb02e8a8c",
       "value": "<span >model: llama, top_p: 1 BOT</span>"
      }
     },
     "8d63773cf0b442f3ab036117e138bc6b": {
      "model_module": "@jupyter-widgets/base",
      "model_module_version": "2.0.0",
      "model_name": "LayoutModel",
      "state": {}
     },
     "8e450f3f0659461687149534ff003edb": {
      "model_module": "@jupyter-widgets/controls",
      "model_module_version": "2.0.0",
      "model_name": "DescriptionStyleModel",
      "state": {
       "description_width": ""
      }
     },
     "8ede1ba5575c48baa9dce22c939509ac": {
      "model_module": "@jupyter-widgets/controls",
      "model_module_version": "2.0.0",
      "model_name": "ButtonStyleModel",
      "state": {
       "font_family": null,
       "font_size": null,
       "font_style": null,
       "font_variant": null,
       "font_weight": null,
       "text_color": null,
       "text_decoration": null
      }
     },
     "8f439841b5e34efbaeec45a887c65820": {
      "model_module": "@jupyter-widgets/base",
      "model_module_version": "2.0.0",
      "model_name": "LayoutModel",
      "state": {
       "width": "450px"
      }
     },
     "8fb7031494c84c1c8c48e86969fad5f3": {
      "model_module": "@jupyter-widgets/base",
      "model_module_version": "2.0.0",
      "model_name": "LayoutModel",
      "state": {
       "border_bottom": "1px solid #cccccc",
       "border_left": "1px solid #cccccc",
       "border_right": "1px solid #cccccc",
       "border_top": "1px solid #cccccc",
       "grid_template_areas": "\"center center right-sidebar\"",
       "grid_template_columns": "0fr 3fr 1.5fr",
       "grid_template_rows": "3fr",
       "padding": "10px"
      }
     },
     "900410c9410b453a96b6d565daeb099e": {
      "model_module": "@jupyter-widgets/controls",
      "model_module_version": "2.0.0",
      "model_name": "ButtonStyleModel",
      "state": {
       "font_family": null,
       "font_size": null,
       "font_style": null,
       "font_variant": null,
       "font_weight": null,
       "text_color": null,
       "text_decoration": null
      }
     },
     "915a50d0a2614c10905afad04f1fa22c": {
      "model_module": "@jupyter-widgets/base",
      "model_module_version": "2.0.0",
      "model_name": "LayoutModel",
      "state": {
       "width": "200px"
      }
     },
     "9174a9853d614b94987a592acea83f2d": {
      "model_module": "@jupyter-widgets/controls",
      "model_module_version": "2.0.0",
      "model_name": "HTMLStyleModel",
      "state": {
       "description_width": "",
       "font_size": null,
       "text_color": null
      }
     },
     "9194df25772e47faa06f9830a230bd66": {
      "model_module": "@jupyter-widgets/controls",
      "model_module_version": "2.0.0",
      "model_name": "ButtonModel",
      "state": {
       "button_style": "info",
       "icon": "edit",
       "layout": "IPY_MODEL_f4dc0d18d4cc451ea9a51a5b7bab10c4",
       "style": "IPY_MODEL_f2e9c0375a244e699439c126dd19ae71",
       "tooltip": null
      }
     },
     "92b63720f93d40ff90f1eac21aaee331": {
      "model_module": "@jupyter-widgets/controls",
      "model_module_version": "2.0.0",
      "model_name": "HTMLModel",
      "state": {
       "layout": "IPY_MODEL_27d5be22a4954cd49e29dda881ae622a",
       "style": "IPY_MODEL_59252d15b7c54c6983f329b34fc6f6ad"
      }
     },
     "93d28546a8d541748af1c356677064e0": {
      "model_module": "@jupyter-widgets/controls",
      "model_module_version": "2.0.0",
      "model_name": "ButtonModel",
      "state": {
       "button_style": "info",
       "icon": "edit",
       "layout": "IPY_MODEL_5672baa8f6004056bf8098a62f9e50ba",
       "style": "IPY_MODEL_aa6cc509a2f24b2da0436f1c61ac1008",
       "tooltip": null
      }
     },
     "945920395d11492cbc3c7f917df76704": {
      "model_module": "@jupyter-widgets/controls",
      "model_module_version": "2.0.0",
      "model_name": "HTMLStyleModel",
      "state": {
       "description_width": "",
       "font_size": null,
       "text_color": null
      }
     },
     "94d74eb7743041cf8185a1b262c7cdff": {
      "model_module": "@jupyter-widgets/base",
      "model_module_version": "2.0.0",
      "model_name": "LayoutModel",
      "state": {}
     },
     "9501214630f04b5eb20a81ed04c38f19": {
      "model_module": "@jupyter-widgets/controls",
      "model_module_version": "2.0.0",
      "model_name": "ButtonModel",
      "state": {
       "description": "USER",
       "layout": "IPY_MODEL_9f90b858ef09430a8499009a84803b2d",
       "style": "IPY_MODEL_6fc2ac043387406f8f15b7351c1f8a8a",
       "tooltip": null
      }
     },
     "957e6554b86f493cb19c2bde58f04da2": {
      "model_module": "@jupyter-widgets/base",
      "model_module_version": "2.0.0",
      "model_name": "LayoutModel",
      "state": {}
     },
     "96f6cb1290b0401ab856434a0db97121": {
      "model_module": "@jupyter-widgets/controls",
      "model_module_version": "2.0.0",
      "model_name": "ButtonStyleModel",
      "state": {
       "font_family": null,
       "font_size": null,
       "font_style": null,
       "font_variant": null,
       "font_weight": null,
       "text_color": null,
       "text_decoration": null
      }
     },
     "97126763e4894b74821fd38114f329b8": {
      "model_module": "@jupyter-widgets/base",
      "model_module_version": "2.0.0",
      "model_name": "LayoutModel",
      "state": {}
     },
     "9718b8b883084c06802b309b4d35a7cf": {
      "model_module": "@jupyter-widgets/base",
      "model_module_version": "2.0.0",
      "model_name": "LayoutModel",
      "state": {}
     },
     "97887ed329c24c91a18c4300bd89efe5": {
      "model_module": "@jupyter-widgets/controls",
      "model_module_version": "2.0.0",
      "model_name": "HTMLStyleModel",
      "state": {
       "description_width": "",
       "font_size": null,
       "text_color": null
      }
     },
     "97afcd95d8e64bcab70746af2b9cb5ad": {
      "model_module": "@jupyter-widgets/controls",
      "model_module_version": "2.0.0",
      "model_name": "HTMLModel",
      "state": {
       "layout": "IPY_MODEL_fe2f1db822cc4472b344734c7c5b0295",
       "style": "IPY_MODEL_87667cd435294b1d9fa74c5bc3dad353",
       "value": "<p style='background: #ffaa00'>\n         <span >model: llama, top_p: 0.68 USER</span> \n      </p>"
      }
     },
     "9917da998612475ea8b1fafbc5080f0f": {
      "model_module": "@jupyter-widgets/base",
      "model_module_version": "2.0.0",
      "model_name": "LayoutModel",
      "state": {}
     },
     "999a69d0b0844cde93e416eec82abe28": {
      "model_module": "@jupyter-widgets/base",
      "model_module_version": "2.0.0",
      "model_name": "LayoutModel",
      "state": {
       "width": "40px"
      }
     },
     "99de1cdc193c45fbaf3e8abaa4787a7e": {
      "model_module": "@jupyter-widgets/base",
      "model_module_version": "2.0.0",
      "model_name": "LayoutModel",
      "state": {}
     },
     "99f55da3ae6c4c4eadb5713143c3d2b9": {
      "model_module": "@jupyter-widgets/base",
      "model_module_version": "2.0.0",
      "model_name": "LayoutModel",
      "state": {}
     },
     "9a7cc815f50f49dd8f5530d92d0f482b": {
      "model_module": "@jupyter-widgets/controls",
      "model_module_version": "2.0.0",
      "model_name": "HTMLStyleModel",
      "state": {
       "description_width": "",
       "font_size": null,
       "text_color": null
      }
     },
     "9b50a9e158bc43538d20a01bed36f0f9": {
      "model_module": "@jupyter-widgets/controls",
      "model_module_version": "2.0.0",
      "model_name": "HTMLModel",
      "state": {
       "layout": "IPY_MODEL_a8b0f9b472cb4fac89e94841d96177c7",
       "style": "IPY_MODEL_9a7cc815f50f49dd8f5530d92d0f482b",
       "value": "<p style='background: #ffaa00'>\n         <span >model: llama, top_p: 0.68 USER</span> \n      </p>"
      }
     },
     "9bb0ccd09f8d4c408546aa5658dbba74": {
      "model_module": "@jupyter-widgets/controls",
      "model_module_version": "2.0.0",
      "model_name": "FloatSliderModel",
      "state": {
       "behavior": "drag-tap",
       "continuous_update": false,
       "description": "top_p",
       "layout": "IPY_MODEL_99de1cdc193c45fbaf3e8abaa4787a7e",
       "max": 1,
       "orientation": "vertical",
       "step": 0.01,
       "style": "IPY_MODEL_c8f5003e91ab4c4ea9c26827aedc230c",
       "value": 1
      }
     },
     "9c0c7553b11d4f75bfe60db1bb76bb94": {
      "model_module": "@jupyter-widgets/controls",
      "model_module_version": "2.0.0",
      "model_name": "TextareaModel",
      "state": {
       "continuous_update": false,
       "layout": "IPY_MODEL_c039808cf3844989b6e08c1430d13e5c",
       "style": "IPY_MODEL_d34be618b4524c73a74e28d89d90e91a",
       "value": "hello bot"
      }
     },
     "9c2081de4cc54e3eaa5ba617daf29d45": {
      "model_module": "@jupyter-widgets/base",
      "model_module_version": "2.0.0",
      "model_name": "LayoutModel",
      "state": {
       "width": "200px"
      }
     },
     "9ca3a17939c547d0b30cb3bca1468c01": {
      "model_module": "@jupyter-widgets/base",
      "model_module_version": "2.0.0",
      "model_name": "LayoutModel",
      "state": {}
     },
     "9ce35626298a4d8f9e81e4031c301ab3": {
      "model_module": "@jupyter-widgets/controls",
      "model_module_version": "2.0.0",
      "model_name": "ButtonModel",
      "state": {
       "description": "USER",
       "layout": "IPY_MODEL_8070815218f24bd9be5779996dd4588f",
       "style": "IPY_MODEL_526eb81e508a46a7ab0c381b283ef291",
       "tooltip": null
      }
     },
     "9dc1580a0a0648448a55597ac6056759": {
      "model_module": "@jupyter-widgets/controls",
      "model_module_version": "2.0.0",
      "model_name": "HTMLModel",
      "state": {
       "layout": "IPY_MODEL_ff24b3868c8b4a77a131b24dae82fca3",
       "style": "IPY_MODEL_6d6209c7fa2e4b64b54f17cf0cd2467a",
       "value": "<p style='background: #ffaa00'>\n         <span >model: llama, top_p: 1 BOT</span> \n      </p>"
      }
     },
     "9e84080d588841ff852e1338c4667fdf": {
      "model_module": "@jupyter-widgets/base",
      "model_module_version": "2.0.0",
      "model_name": "LayoutModel",
      "state": {}
     },
     "9f90b858ef09430a8499009a84803b2d": {
      "model_module": "@jupyter-widgets/base",
      "model_module_version": "2.0.0",
      "model_name": "LayoutModel",
      "state": {
       "width": "60px"
      }
     },
     "9fa0d7f180334f36a71c78bc9ae22dbf": {
      "model_module": "anywidget",
      "model_module_version": "0.9.3",
      "model_name": "AnyModel",
      "state": {
       "_anywidget_id": "ipywui.widgets.custom.message.MessageWidget",
       "_css": ".wui-message-root {\n    display: flex;\n    position: absolute;\n    left: 0;\n    right: 0;\n    top: 0;\n}\n\n.wui-message-container {\n    align-items: center;\n    display: flex;\n    flex-direction: column-reverse;\n    justify-content: center;\n    min-height: 100%;\n    outline: none;\n    width: 100%;\n\n    -webkit-tap-highlight-color: rgba(0,0,0,0);\n    bottom: 0;\n    left: 0;\n    right: 0;\n    top: 0;\n}\n\n.wui-message--success {\n    --wui-message-bg-color: #f0f9eb;\n    --wui-message-border-color: #e1f3d8;\n    --wui-message-text-color: #67c23a;\n}\n.wui-message--warning {\n    --wui-message-bg-color: #fdf6ec;\n    --wui-message-border-color: #faecd8;\n    --wui-message-text-color: #e6a23c;\n}\n.wui-message--info {\n    --wui-message-bg-color: #f4f4f5;\n    --wui-message-border-color: #e9e9eb;\n    --wui-message-text-color: #909399;\n}\n.wui-message--error {\n    --wui-message-bg-color: #fef0f0;\n    --wui-message-border-color: #fde2e2;\n    --wui-message-text-color: #f56c6c;\n}\n\n@keyframes msg-open {\n    0% {\n        opacity: 0;\n        -webkit-transform: translateY(-120%);\n        transform: translateY(-120%)\n    }\n    to {\n        -webkit-transform: translateY(0);\n        transform: translateY(0)\n    }\n}\n\n@keyframes msg-close {\n    0% {\n        opacity: 1;\n        -webkit-transform: scale(1);\n        transform: scale(1)\n    }\n    to {\n        opacity: 0;\n        -webkit-transform: scale(.9);\n        transform: scale(.9)\n    }\n}\n.wui-message[data-state=entered],.wui-message[data-state=entering] {\n    -webkit-animation: msg-open .24s cubic-bezier(.175,.885,.32,1.175) both;\n    animation: msg-open .24s cubic-bezier(.175,.885,.32,1.175) both\n}\n\n.wui-message[data-state=exiting] {\n    -webkit-animation: msg-close .12s cubic-bezier(.4,0,1,1) both;\n    animation: msg-close .12s cubic-bezier(.4,0,1,1) both\n}\n\n.wui-message {\n    width: -webkit-fit-content;\n    width: -moz-fit-content;\n    width: fit-content;\n    z-index: 2004;\n    max-width: calc(100% - 32px);\n    margin-top: 8px;\n    box-sizing: border-box;\n    /*border-radius: var(--wui-border-radius-base);*/\n    /*border-width: var(--wui-border-width);*/\n    /*border-style: var(--wui-border-style);*/\n    border-color: var(--wui-message-border-color);\n    /*left: 50%;*/\n    /*top: 20px;*/\n    /*transform: translateX(-50%);*/\n    background-color: var(--wui-message-bg-color);\n    /*transition: opacity var(--wui-transition-duration),transform .4s,top .4s;*/\n    /*padding: var(--wui-message-padding);*/\n    display: flex;\n    align-items: center;\n}\n\n/*.wui-message--success */\n.wui-message__content {\n    color: var(--wui-message-text-color);\n    font-size: 14px;\n    line-height: 18px;\n    margin: 10px 14px 10px 14px;\n    overflow-wrap: break-word;\n}\n\n.wui-message__closeBtn {\n    /*cursor: pointer;*/\n    font-style: normal;\n    /*color: gray;*/\n    padding-right: 14px;\n    /*font-size: 13px;*/\n    user-select: none;\n\n    background: transparent;\n    border: none;\n    color: gray;\n    cursor: pointer;\n    font-size: 13px;\n    font-weight: 400;\n    line-height: 1;\n    outline: none;\n    /*padding: 4px;*/\n    text-align: center;\n    transition: opacity .3s;\n    /*width: 100%;*/\n}",
       "_esm": "function closeMsg(msgDom) {\n  if (!msgDom) {\n    return;\n  }\n  msgDom.setAttribute('data-state', 'exiting');\n  msgDom.remove();\n}\n\nfunction createMsg(options) {\n  const {message, msg_id, type = 'info', show_close = false} = options;\n  const msgDom = document.createElement('div');\n  msgDom.className += ` wui-message--${type} wui-message`;\n  msgDom.setAttribute('data-state', 'entered');\n  msgDom.setAttribute('id', msg_id);\n  const msgContent = document.createElement('p');\n  msgContent.className += ` wui-message--${type} wui-message__content`;\n  msgContent.innerText = message;\n  msgDom.appendChild(msgContent);\n  if (show_close) {\n    const closeBtn = document.createElement('i');\n    closeBtn.className += 'wui-message__closeBtn';\n    closeBtn.innerText = 'x';\n    closeBtn.addEventListener('click', (ev) => {\n      closeMsg(msgDom);\n    })\n    msgDom.appendChild(closeBtn);\n  }\n  return msgDom;\n}\n\nexport async function render(view) {\n  let model = view.model;\n  const msgRoot = view.el;\n  msgRoot.className += ' wui-message-root'\n\n  const msgContainer = document.createElement('div');\n  msgContainer.className += ' wui-message-container';\n  msgRoot.appendChild(msgContainer)\n\n  model.on(\"change:message_options\", () => {\n    const options = model.get(\"message_options\");\n    const msg = createMsg(options);\n    msgContainer.appendChild(msg);\n    const {duration = 3000} = options;\n    if (duration > 0) {\n      setTimeout(() => {\n        closeMsg(msg)\n      }, duration);\n    }\n  })\n\n  model.on(\"change:close_msg_id\", () => {\n    const msg_id = model.get(\"close_msg_id\");\n    const msgDom = document.getElementById(msg_id);\n    closeMsg(msgDom);\n  })\n}\n",
       "_model_module": "anywidget",
       "_model_module_version": "0.9.3",
       "_model_name": "AnyModel",
       "_view_module": "anywidget",
       "_view_module_version": "0.9.3",
       "_view_name": "AnyView",
       "close_msg_id": "",
       "layout": "IPY_MODEL_e96917ce9ac046d9a3796d095a1ca05f",
       "message_options": {
        "duration": 3000,
        "message": "",
        "show_close": false,
        "type": "info"
       }
      }
     },
     "9fbee751eae449f79baece60b8456994": {
      "model_module": "@jupyter-widgets/base",
      "model_module_version": "2.0.0",
      "model_name": "LayoutModel",
      "state": {
       "border_bottom": "1px solid #cccccc",
       "border_left": "1px solid #cccccc",
       "border_right": "1px solid #cccccc",
       "border_top": "1px solid #cccccc",
       "grid_template_areas": "\"center center right-sidebar\"",
       "grid_template_columns": "0fr 3fr 1.5fr",
       "grid_template_rows": "3fr",
       "padding": "10px"
      }
     },
     "9fe0ff62204d4d82b05f4ec770ea0d3f": {
      "model_module": "@jupyter-widgets/controls",
      "model_module_version": "2.0.0",
      "model_name": "DropdownModel",
      "state": {
       "_options_labels": [
        "llama",
        "llama2",
        "llama2-chat"
       ],
       "description": "model",
       "index": 0,
       "layout": "IPY_MODEL_7012321edb004ce9a21600731872005a",
       "style": "IPY_MODEL_e574665911f04a10b0d6968f3c241b02"
      }
     },
     "9ff0a134066440d790aab5e1c24ba8fa": {
      "model_module": "@jupyter-widgets/base",
      "model_module_version": "2.0.0",
      "model_name": "LayoutModel",
      "state": {}
     },
     "a065efd123e14708a60a4474e06a7218": {
      "model_module": "@jupyter-widgets/base",
      "model_module_version": "2.0.0",
      "model_name": "LayoutModel",
      "state": {
       "width": "40px"
      }
     },
     "a176cbb0fad645ff96c992dbac54e333": {
      "model_module": "@jupyter-widgets/controls",
      "model_module_version": "2.0.0",
      "model_name": "FloatSliderModel",
      "state": {
       "behavior": "drag-tap",
       "continuous_update": false,
       "description": "top_p",
       "layout": "IPY_MODEL_9e84080d588841ff852e1338c4667fdf",
       "max": 1,
       "orientation": "vertical",
       "step": 0.01,
       "style": "IPY_MODEL_0fc09bebf064486abb3a8c698509c75e",
       "value": 0.68
      }
     },
     "a1bda76abd0c4377a97696d9a18c533e": {
      "model_module": "@jupyter-widgets/controls",
      "model_module_version": "2.0.0",
      "model_name": "GridBoxModel",
      "state": {
       "children": [
        "IPY_MODEL_69298d86ccc549dc87d8e22ef2801ae8",
        "IPY_MODEL_08d1b5e4ade5410293aef5162ed555c5"
       ],
       "layout": "IPY_MODEL_d5210ef5176c4792a3246f2939b07289"
      }
     },
     "a405b75fc52e47bfbfd2f2181ac0d811": {
      "model_module": "@jupyter-widgets/controls",
      "model_module_version": "2.0.0",
      "model_name": "ButtonModel",
      "state": {
       "button_style": "danger",
       "icon": "minus-circle",
       "layout": "IPY_MODEL_453e8193cb17446abd82cd17c6548f1d",
       "style": "IPY_MODEL_900410c9410b453a96b6d565daeb099e",
       "tooltip": null
      }
     },
     "a5abf640579a476f9b1836df9826003d": {
      "model_module": "@jupyter-widgets/controls",
      "model_module_version": "2.0.0",
      "model_name": "HTMLStyleModel",
      "state": {
       "description_width": "",
       "font_size": null,
       "text_color": null
      }
     },
     "a62448d12c164e169ca87bcd9f395209": {
      "model_module": "@jupyter-widgets/controls",
      "model_module_version": "2.0.0",
      "model_name": "ButtonModel",
      "state": {
       "description": "USER",
       "layout": "IPY_MODEL_7b38a9e203f14f23a18b4c88c5026c1f",
       "style": "IPY_MODEL_8ede1ba5575c48baa9dce22c939509ac",
       "tooltip": null
      }
     },
     "a6391bd6ec2d43339906dc79d8ea1475": {
      "model_module": "@jupyter-widgets/base",
      "model_module_version": "2.0.0",
      "model_name": "LayoutModel",
      "state": {}
     },
     "a659a331910d487293359c415d08b92a": {
      "model_module": "@jupyter-widgets/controls",
      "model_module_version": "2.0.0",
      "model_name": "ButtonStyleModel",
      "state": {
       "font_family": null,
       "font_size": null,
       "font_style": null,
       "font_variant": null,
       "font_weight": null,
       "text_color": null,
       "text_decoration": null
      }
     },
     "a71283e7511a4aeba28c4f100b7d1c8a": {
      "model_module": "@jupyter-widgets/controls",
      "model_module_version": "2.0.0",
      "model_name": "HTMLModel",
      "state": {
       "layout": "IPY_MODEL_7098505f6be04bdf899d4c58ea66c044",
       "style": "IPY_MODEL_5ddd3472795e43769609b481b547ca2b",
       "value": "<hr ></hr>"
      }
     },
     "a8449c452d9649c391d3c8ed6ad5539a": {
      "model_module": "@jupyter-widgets/base",
      "model_module_version": "2.0.0",
      "model_name": "LayoutModel",
      "state": {
       "width": "60px"
      }
     },
     "a858da5d93774af28b4f0ae4d64c7d27": {
      "model_module": "@jupyter-widgets/controls",
      "model_module_version": "2.0.0",
      "model_name": "ButtonModel",
      "state": {
       "button_style": "info",
       "icon": "edit",
       "layout": "IPY_MODEL_174408ea0f224136922a6479518c9881",
       "style": "IPY_MODEL_d41ae18fb35f441393ecefb8702ab1c3",
       "tooltip": null
      }
     },
     "a8b0f9b472cb4fac89e94841d96177c7": {
      "model_module": "@jupyter-widgets/base",
      "model_module_version": "2.0.0",
      "model_name": "LayoutModel",
      "state": {}
     },
     "a8e2b21c885b4d748f35992faf6f408c": {
      "model_module": "@jupyter-widgets/base",
      "model_module_version": "2.0.0",
      "model_name": "LayoutModel",
      "state": {
       "width": "450px"
      }
     },
     "a958a87f34534bbf98e21a9fb6f5c356": {
      "model_module": "@jupyter-widgets/controls",
      "model_module_version": "2.0.0",
      "model_name": "ButtonStyleModel",
      "state": {
       "font_family": null,
       "font_size": null,
       "font_style": null,
       "font_variant": null,
       "font_weight": null,
       "text_color": null,
       "text_decoration": null
      }
     },
     "a99dcd11a48e46ea9fe2453a3e2d5273": {
      "model_module": "@jupyter-widgets/base",
      "model_module_version": "2.0.0",
      "model_name": "LayoutModel",
      "state": {}
     },
     "aa6cc509a2f24b2da0436f1c61ac1008": {
      "model_module": "@jupyter-widgets/controls",
      "model_module_version": "2.0.0",
      "model_name": "ButtonStyleModel",
      "state": {
       "font_family": null,
       "font_size": null,
       "font_style": null,
       "font_variant": null,
       "font_weight": null,
       "text_color": null,
       "text_decoration": null
      }
     },
     "aaeb682c5fd14b63b4f6c852f2e1c6b3": {
      "model_module": "@jupyter-widgets/controls",
      "model_module_version": "2.0.0",
      "model_name": "DropdownModel",
      "state": {
       "_options_labels": [
        "llama",
        "llama2",
        "llama2-chat"
       ],
       "description": "model",
       "index": 0,
       "layout": "IPY_MODEL_915a50d0a2614c10905afad04f1fa22c",
       "style": "IPY_MODEL_4473bee1a21c42838295de93b0e72ce2"
      }
     },
     "ae4a1585d2b0426da1fd255d33cdc011": {
      "model_module": "@jupyter-widgets/controls",
      "model_module_version": "2.0.0",
      "model_name": "HTMLModel",
      "state": {
       "layout": "IPY_MODEL_53c87d3b1fb24764a9e58993525f0446",
       "style": "IPY_MODEL_fcb6bbadb8574f74bfa6c41c927b4fec",
       "value": "<p style='background: #ffaa00'>\n         <span >model: llama, top_p: 0.68 BOT</span> \n      </p>"
      }
     },
     "aeb879277edb4082a0fe66b1df785f95": {
      "model_module": "@jupyter-widgets/base",
      "model_module_version": "2.0.0",
      "model_name": "LayoutModel",
      "state": {}
     },
     "b047463bc7234eadb4e36db0649b8583": {
      "model_module": "@jupyter-widgets/controls",
      "model_module_version": "2.0.0",
      "model_name": "HTMLModel",
      "state": {
       "layout": "IPY_MODEL_d769d545efd3420b83e318fe526987ba",
       "style": "IPY_MODEL_4fb3c8700ee24294a21ae32526427a36"
      }
     },
     "b33d3d285a5746cbbd5f2c3429093b0e": {
      "model_module": "@jupyter-widgets/base",
      "model_module_version": "2.0.0",
      "model_name": "LayoutModel",
      "state": {}
     },
     "b35dbe9d487c44d2b3ea59d987f7430f": {
      "model_module": "@jupyter-widgets/controls",
      "model_module_version": "2.0.0",
      "model_name": "TextStyleModel",
      "state": {
       "description_width": "",
       "font_size": null,
       "text_color": null
      }
     },
     "b376fce1d27d4aa8a4462ddafbd89295": {
      "model_module": "@jupyter-widgets/controls",
      "model_module_version": "2.0.0",
      "model_name": "ButtonModel",
      "state": {
       "button_style": "info",
       "icon": "edit",
       "layout": "IPY_MODEL_e729b8620f134f3b8267146e09b0468e",
       "style": "IPY_MODEL_e1b6e3bad99e48b6b2ddb46fec15bcb6",
       "tooltip": null
      }
     },
     "b3cba41b2e184a3baa022e348a5110cb": {
      "model_module": "@jupyter-widgets/base",
      "model_module_version": "2.0.0",
      "model_name": "LayoutModel",
      "state": {
       "border_bottom": "1px solid #cccccc",
       "border_left": "1px solid #cccccc",
       "border_right": "1px solid #cccccc",
       "border_top": "1px solid #cccccc",
       "padding": "10px"
      }
     },
     "b4453c2b17134bbf82b31c59fac94b48": {
      "model_module": "@jupyter-widgets/base",
      "model_module_version": "2.0.0",
      "model_name": "LayoutModel",
      "state": {}
     },
     "b4e6f8e32cbe4050a7682f31d9e02145": {
      "model_module": "@jupyter-widgets/controls",
      "model_module_version": "2.0.0",
      "model_name": "ButtonStyleModel",
      "state": {
       "font_family": null,
       "font_size": null,
       "font_style": null,
       "font_variant": null,
       "font_weight": null,
       "text_color": null,
       "text_decoration": null
      }
     },
     "b55f017f662d4befa3e872c1fd9404a4": {
      "model_module": "@jupyter-widgets/base",
      "model_module_version": "2.0.0",
      "model_name": "LayoutModel",
      "state": {}
     },
     "b5f2b73e689d42bcb36588b1874ad8f8": {
      "model_module": "@jupyter-widgets/controls",
      "model_module_version": "2.0.0",
      "model_name": "HTMLModel",
      "state": {
       "layout": "IPY_MODEL_54faf988d5d548cf8eb7d2e1ee33905c",
       "style": "IPY_MODEL_78c41d25fe6640bbb52c92fe4abe055c",
       "value": "<span >model: llama, top_p: 1 USER</span>"
      }
     },
     "b61ae0f1147a4d7e9417bc0b0dde4f4f": {
      "model_module": "@jupyter-widgets/base",
      "model_module_version": "2.0.0",
      "model_name": "LayoutModel",
      "state": {}
     },
     "b6d29cda4d3541c990d6f3930420e6d2": {
      "model_module": "@jupyter-widgets/controls",
      "model_module_version": "2.0.0",
      "model_name": "VBoxModel",
      "state": {
       "children": [
        "IPY_MODEL_83cb88c4222e41feb230445f7ed871a3",
        "IPY_MODEL_672c4418df084e44a9bc7b28783015c3"
       ],
       "layout": "IPY_MODEL_4c81f0a418dd406c970506ea65147b8c"
      }
     },
     "b72eb36adb384e9d91cff8e7ab025d52": {
      "model_module": "@jupyter-widgets/controls",
      "model_module_version": "2.0.0",
      "model_name": "ButtonStyleModel",
      "state": {
       "font_family": null,
       "font_size": null,
       "font_style": null,
       "font_variant": null,
       "font_weight": null,
       "text_color": null,
       "text_decoration": null
      }
     },
     "b8445b5aad114b28bd199d418a8c7fe0": {
      "model_module": "@jupyter-widgets/controls",
      "model_module_version": "2.0.0",
      "model_name": "VBoxModel",
      "state": {
       "children": [
        "IPY_MODEL_685a9ae8bb014f95a74c0be8160490cd",
        "IPY_MODEL_6c6143bdf10e4d6e8c10a024026f86c8"
       ],
       "layout": "IPY_MODEL_957e6554b86f493cb19c2bde58f04da2"
      }
     },
     "b8e213e3daf3473bb3bd1b26e8ed2c7e": {
      "model_module": "@jupyter-widgets/controls",
      "model_module_version": "2.0.0",
      "model_name": "HTMLStyleModel",
      "state": {
       "description_width": "",
       "font_size": null,
       "text_color": null
      }
     },
     "b94af4b772eb41708b35675de262ed3b": {
      "model_module": "@jupyter-widgets/controls",
      "model_module_version": "2.0.0",
      "model_name": "ButtonStyleModel",
      "state": {
       "font_family": null,
       "font_size": null,
       "font_style": null,
       "font_variant": null,
       "font_weight": null,
       "text_color": null,
       "text_decoration": null
      }
     },
     "ba4a6017926245998a31b48233fd8640": {
      "model_module": "@jupyter-widgets/base",
      "model_module_version": "2.0.0",
      "model_name": "LayoutModel",
      "state": {}
     },
     "ba6f25d0a8ac44cfbad3e67559af9f3c": {
      "model_module": "@jupyter-widgets/base",
      "model_module_version": "2.0.0",
      "model_name": "LayoutModel",
      "state": {}
     },
     "bb6634e8dd3e46098f08a670deeba674": {
      "model_module": "@jupyter-widgets/base",
      "model_module_version": "2.0.0",
      "model_name": "LayoutModel",
      "state": {
       "width": "450px"
      }
     },
     "bb9fef883f8d4be39712c9dfcf906f9a": {
      "model_module": "@jupyter-widgets/base",
      "model_module_version": "2.0.0",
      "model_name": "LayoutModel",
      "state": {}
     },
     "bc7938cadf7041b49dd4f04a6ed2b6e6": {
      "model_module": "@jupyter-widgets/base",
      "model_module_version": "2.0.0",
      "model_name": "LayoutModel",
      "state": {
       "width": "40px"
      }
     },
     "bcb46601f6994df38537d256969e2a81": {
      "model_module": "@jupyter-widgets/base",
      "model_module_version": "2.0.0",
      "model_name": "LayoutModel",
      "state": {
       "grid_area": "center"
      }
     },
     "bcfd7c0072bf4b8bace9b5dc17291168": {
      "model_module": "@jupyter-widgets/controls",
      "model_module_version": "2.0.0",
      "model_name": "HTMLModel",
      "state": {
       "layout": "IPY_MODEL_45f38a1ea4124ad187667c58e77c548d",
       "style": "IPY_MODEL_d5295b7122fc4c6cb5af9872acde9f29",
       "value": "<hr ></hr>"
      }
     },
     "bdac85f9007b40acbf0e56acc6d188a7": {
      "model_module": "@jupyter-widgets/controls",
      "model_module_version": "2.0.0",
      "model_name": "HTMLStyleModel",
      "state": {
       "description_width": "",
       "font_size": null,
       "text_color": null
      }
     },
     "be552d63dc3949b391d6d97736eb765d": {
      "model_module": "@jupyter-widgets/controls",
      "model_module_version": "2.0.0",
      "model_name": "ButtonModel",
      "state": {
       "description": "USER",
       "layout": "IPY_MODEL_a8449c452d9649c391d3c8ed6ad5539a",
       "style": "IPY_MODEL_cac99ab6a9834c6aad7a908db2b755a1",
       "tooltip": null
      }
     },
     "bf1bf2451a7147f38a33a3a94856a95d": {
      "model_module": "@jupyter-widgets/base",
      "model_module_version": "2.0.0",
      "model_name": "LayoutModel",
      "state": {}
     },
     "bf997cf5e4584f3d9ef37140e8b1aad3": {
      "model_module": "@jupyter-widgets/controls",
      "model_module_version": "2.0.0",
      "model_name": "ButtonModel",
      "state": {
       "button_style": "info",
       "description": "Add message",
       "icon": "plus-circle",
       "layout": "IPY_MODEL_075c471260de4a6f81cdffb78d5189f6",
       "style": "IPY_MODEL_a958a87f34534bbf98e21a9fb6f5c356",
       "tooltip": null
      }
     },
     "c0299892f807485f89606a2093e5aed0": {
      "model_module": "@jupyter-widgets/controls",
      "model_module_version": "2.0.0",
      "model_name": "ButtonStyleModel",
      "state": {
       "font_family": null,
       "font_size": null,
       "font_style": null,
       "font_variant": null,
       "font_weight": null,
       "text_color": null,
       "text_decoration": null
      }
     },
     "c039808cf3844989b6e08c1430d13e5c": {
      "model_module": "@jupyter-widgets/base",
      "model_module_version": "2.0.0",
      "model_name": "LayoutModel",
      "state": {
       "width": "450px"
      }
     },
     "c0e041ca422948e1a570dfd836ded066": {
      "model_module": "@jupyter-widgets/controls",
      "model_module_version": "2.0.0",
      "model_name": "HBoxModel",
      "state": {
       "children": [
        "IPY_MODEL_9501214630f04b5eb20a81ed04c38f19",
        "IPY_MODEL_406e5a6e0bde465582f8907a96ab4342",
        "IPY_MODEL_9194df25772e47faa06f9830a230bd66",
        "IPY_MODEL_d433ed14c868498395da7249595bf866"
       ],
       "layout": "IPY_MODEL_63d1b9ed2b104ad3bc9887c9f4992687"
      }
     },
     "c136d96c555747ecbf1c42b43c235e43": {
      "model_module": "@jupyter-widgets/controls",
      "model_module_version": "2.0.0",
      "model_name": "VBoxModel",
      "state": {
       "children": [
        "IPY_MODEL_a1bda76abd0c4377a97696d9a18c533e",
        "IPY_MODEL_1159235cf3084860b75748008d8fc9ad"
       ],
       "layout": "IPY_MODEL_ba6f25d0a8ac44cfbad3e67559af9f3c"
      }
     },
     "c14aae4727ac4f6d9c9056bd2519dcc9": {
      "model_module": "@jupyter-widgets/controls",
      "model_module_version": "2.0.0",
      "model_name": "TextStyleModel",
      "state": {
       "description_width": "",
       "font_size": null,
       "text_color": null
      }
     },
     "c1ff56351e62445aa9a83e42e525c258": {
      "model_module": "@jupyter-widgets/controls",
      "model_module_version": "2.0.0",
      "model_name": "HTMLModel",
      "state": {
       "layout": "IPY_MODEL_a6391bd6ec2d43339906dc79d8ea1475",
       "style": "IPY_MODEL_4cd614d6901648a4a09c1647d4011844",
       "value": "<span >{'name': 'l2', 'in': [5, 6, 7]}</span>"
      }
     },
     "c55ef9b371834061b9e633c05b909d02": {
      "model_module": "@jupyter-widgets/controls",
      "model_module_version": "2.0.0",
      "model_name": "HTMLStyleModel",
      "state": {
       "description_width": "",
       "font_size": null,
       "text_color": null
      }
     },
     "c6ff8cbf3e04429090e29e2b7070a9a6": {
      "model_module": "@jupyter-widgets/base",
      "model_module_version": "2.0.0",
      "model_name": "LayoutModel",
      "state": {
       "width": "60px"
      }
     },
     "c76f49992d9f47c98ac1cb31b9e47c26": {
      "model_module": "@jupyter-widgets/controls",
      "model_module_version": "2.0.0",
      "model_name": "HBoxModel",
      "state": {
       "children": [
        "IPY_MODEL_be552d63dc3949b391d6d97736eb765d",
        "IPY_MODEL_e46cff6b13a3473c934c829adfec71a7",
        "IPY_MODEL_29aeaaeee4c949678207407906013d6a",
        "IPY_MODEL_ebd66715f8404dcf9e1648af12bd19f0"
       ],
       "layout": "IPY_MODEL_41ba113e8a5b4707a67d2bc58b553fcd"
      }
     },
     "c8f5003e91ab4c4ea9c26827aedc230c": {
      "model_module": "@jupyter-widgets/controls",
      "model_module_version": "2.0.0",
      "model_name": "SliderStyleModel",
      "state": {
       "description_width": ""
      }
     },
     "cac99ab6a9834c6aad7a908db2b755a1": {
      "model_module": "@jupyter-widgets/controls",
      "model_module_version": "2.0.0",
      "model_name": "ButtonStyleModel",
      "state": {
       "font_family": null,
       "font_size": null,
       "font_style": null,
       "font_variant": null,
       "font_weight": null,
       "text_color": null,
       "text_decoration": null
      }
     },
     "cb1f58d5d9dc4d26ab41858cb2398a48": {
      "model_module": "@jupyter-widgets/controls",
      "model_module_version": "2.0.0",
      "model_name": "HBoxModel",
      "state": {
       "children": [
        "IPY_MODEL_bf997cf5e4584f3d9ef37140e8b1aad3",
        "IPY_MODEL_35818d2f52fc4f72b5254af2a1b5df41",
        "IPY_MODEL_39ea225180b5476bad4543739d7ad864",
        "IPY_MODEL_1b9f2cc2a69b4981a4a8458b7d25ce79",
        "IPY_MODEL_d2552e0137d94f9198ffe414943f6b95"
       ],
       "layout": "IPY_MODEL_7f7773c14e8c4533b5a630111f4fce13"
      }
     },
     "cb412024f4b246e09085cd0b072fe257": {
      "model_module": "@jupyter-widgets/base",
      "model_module_version": "2.0.0",
      "model_name": "LayoutModel",
      "state": {
       "width": "200px"
      }
     },
     "cb53a483c72e4543b4c0cd107db1357c": {
      "model_module": "@jupyter-widgets/base",
      "model_module_version": "2.0.0",
      "model_name": "LayoutModel",
      "state": {}
     },
     "cd3c792d9ebd4d0f80ca685758e1d1ed": {
      "model_module": "@jupyter-widgets/controls",
      "model_module_version": "2.0.0",
      "model_name": "VBoxModel",
      "state": {
       "children": [
        "IPY_MODEL_1377c4bcab254b7099299d120996501c",
        "IPY_MODEL_03f12795d8594f5bafb58313b65514c6"
       ],
       "layout": "IPY_MODEL_03bc99db564f4b118d6b7b24a97504c3"
      }
     },
     "cd93cc22261344e29cc10190bb82d2c3": {
      "model_module": "@jupyter-widgets/controls",
      "model_module_version": "2.0.0",
      "model_name": "DropdownModel",
      "state": {
       "_options_labels": [
        "op1",
        "op2"
       ],
       "description": "options",
       "index": 1,
       "layout": "IPY_MODEL_20700d7f1864422e90b93429215c92f5",
       "style": "IPY_MODEL_4b95cd2acc8946b89edf891c749c2f8c"
      }
     },
     "cdc32ef9a7ee49dfb8cffa88134c5ae3": {
      "model_module": "@jupyter-widgets/controls",
      "model_module_version": "2.0.0",
      "model_name": "ButtonStyleModel",
      "state": {
       "font_family": null,
       "font_size": null,
       "font_style": null,
       "font_variant": null,
       "font_weight": null,
       "text_color": null,
       "text_decoration": null
      }
     },
     "cddd47262691440f8c372f038fa388a9": {
      "model_module": "@jupyter-widgets/controls",
      "model_module_version": "2.0.0",
      "model_name": "HTMLStyleModel",
      "state": {
       "description_width": "",
       "font_size": null,
       "text_color": null
      }
     },
     "ce16a0ce94fb4eceb6caa3595408af78": {
      "model_module": "@jupyter-widgets/controls",
      "model_module_version": "2.0.0",
      "model_name": "HTMLStyleModel",
      "state": {
       "description_width": "",
       "font_size": null,
       "text_color": null
      }
     },
     "cf2fdccc0e9c4186bb9def3a4e47c69c": {
      "model_module": "@jupyter-widgets/output",
      "model_module_version": "1.0.0",
      "model_name": "OutputModel",
      "state": {
       "layout": "IPY_MODEL_25e9501a8f4f445eb483d1ab119ab7db",
       "outputs": [
        {
         "data": {
          "application/vnd.jupyter.widget-view+json": {
           "model_id": "d8e895daae1244ec906f33aecf5ef85a",
           "version_major": 2,
           "version_minor": 0
          },
          "text/plain": "sfc_container(children=(VBox(children=(AppLayout(children=(VBox(children=(Dropdown(description='model', layout…"
         },
         "metadata": {},
         "output_type": "display_data"
        }
       ]
      }
     },
     "d0c73e756e5b490ebc0c106e74b5cfe5": {
      "model_module": "@jupyter-widgets/controls",
      "model_module_version": "2.0.0",
      "model_name": "ButtonModel",
      "state": {
       "button_style": "info",
       "description": "message",
       "layout": "IPY_MODEL_1e316d753639407faa95cf8522674985",
       "style": "IPY_MODEL_4cf064ff3bdc4f9493a959b9a2751245",
       "tooltip": null
      }
     },
     "d17ca4c0ef5b45a1b074b2fe7baeb5b7": {
      "model_module": "@jupyter-widgets/controls",
      "model_module_version": "2.0.0",
      "model_name": "HTMLModel",
      "state": {
       "layout": "IPY_MODEL_e841f8e6b65f4fbba1c4360465fab51b",
       "style": "IPY_MODEL_7d16d12d174b40bb8adfcdb57ae64d2e"
      }
     },
     "d2552e0137d94f9198ffe414943f6b95": {
      "model_module": "@jupyter-widgets/controls",
      "model_module_version": "2.0.0",
      "model_name": "ButtonModel",
      "state": {
       "button_style": "info",
       "description": "dialog",
       "layout": "IPY_MODEL_686a197072154c08a04fe9e10a7abf13",
       "style": "IPY_MODEL_7896394d74ee46db9225bfe28cf309ff",
       "tooltip": null
      }
     },
     "d34be618b4524c73a74e28d89d90e91a": {
      "model_module": "@jupyter-widgets/controls",
      "model_module_version": "2.0.0",
      "model_name": "TextStyleModel",
      "state": {
       "description_width": "",
       "font_size": null,
       "text_color": null
      }
     },
     "d369bdbd2e544128a59582edb516265d": {
      "model_module": "@jupyter-widgets/controls",
      "model_module_version": "2.0.0",
      "model_name": "TextStyleModel",
      "state": {
       "description_width": "",
       "font_size": null,
       "text_color": null
      }
     },
     "d41ae18fb35f441393ecefb8702ab1c3": {
      "model_module": "@jupyter-widgets/controls",
      "model_module_version": "2.0.0",
      "model_name": "ButtonStyleModel",
      "state": {
       "font_family": null,
       "font_size": null,
       "font_style": null,
       "font_variant": null,
       "font_weight": null,
       "text_color": null,
       "text_decoration": null
      }
     },
     "d433ed14c868498395da7249595bf866": {
      "model_module": "@jupyter-widgets/controls",
      "model_module_version": "2.0.0",
      "model_name": "ButtonModel",
      "state": {
       "button_style": "danger",
       "icon": "minus-circle",
       "layout": "IPY_MODEL_bc7938cadf7041b49dd4f04a6ed2b6e6",
       "style": "IPY_MODEL_b72eb36adb384e9d91cff8e7ab025d52",
       "tooltip": null
      }
     },
     "d4853bd02e9a40f6a3e9a1a702454a8e": {
      "model_module": "@jupyter-widgets/controls",
      "model_module_version": "2.0.0",
      "model_name": "TextStyleModel",
      "state": {
       "description_width": "",
       "font_size": null,
       "text_color": null
      }
     },
     "d4de6e5c0599435b91e57c6c6676a832": {
      "model_module": "@jupyter-widgets/controls",
      "model_module_version": "2.0.0",
      "model_name": "ButtonStyleModel",
      "state": {
       "font_family": null,
       "font_size": null,
       "font_style": null,
       "font_variant": null,
       "font_weight": null,
       "text_color": null,
       "text_decoration": null
      }
     },
     "d5210ef5176c4792a3246f2939b07289": {
      "model_module": "@jupyter-widgets/base",
      "model_module_version": "2.0.0",
      "model_name": "LayoutModel",
      "state": {
       "border_bottom": "1px solid #cccccc",
       "border_left": "1px solid #cccccc",
       "border_right": "1px solid #cccccc",
       "border_top": "1px solid #cccccc",
       "grid_template_areas": "\"center center right-sidebar\"",
       "grid_template_columns": "0fr 3fr 1.5fr",
       "grid_template_rows": "3fr",
       "padding": "10px"
      }
     },
     "d5295b7122fc4c6cb5af9872acde9f29": {
      "model_module": "@jupyter-widgets/controls",
      "model_module_version": "2.0.0",
      "model_name": "HTMLStyleModel",
      "state": {
       "description_width": "",
       "font_size": null,
       "text_color": null
      }
     },
     "d654d35d2ae74eac960a46c82cded5a2": {
      "model_module": "@jupyter-widgets/base",
      "model_module_version": "2.0.0",
      "model_name": "LayoutModel",
      "state": {}
     },
     "d6c2dd54fb934979b0430479fe6e0976": {
      "model_module": "@jupyter-widgets/controls",
      "model_module_version": "2.0.0",
      "model_name": "HTMLStyleModel",
      "state": {
       "description_width": "",
       "font_size": null,
       "text_color": null
      }
     },
     "d769d545efd3420b83e318fe526987ba": {
      "model_module": "@jupyter-widgets/base",
      "model_module_version": "2.0.0",
      "model_name": "LayoutModel",
      "state": {}
     },
     "d794941e36cb4e67a0bf19e966be106b": {
      "model_module": "@jupyter-widgets/base",
      "model_module_version": "2.0.0",
      "model_name": "LayoutModel",
      "state": {}
     },
     "d80aa354203144999490b356b654e71f": {
      "model_module": "@jupyter-widgets/controls",
      "model_module_version": "2.0.0",
      "model_name": "ButtonStyleModel",
      "state": {
       "font_family": null,
       "font_size": null,
       "font_style": null,
       "font_variant": null,
       "font_weight": null,
       "text_color": null,
       "text_decoration": null
      }
     },
     "d86c5bab60c14ab3a4c6916f30a9de3f": {
      "model_module": "@jupyter-widgets/base",
      "model_module_version": "2.0.0",
      "model_name": "LayoutModel",
      "state": {}
     },
     "d8e895daae1244ec906f33aecf5ef85a": {
      "model_module": "@jupyter-widgets/controls",
      "model_module_version": "2.0.0",
      "model_name": "VBoxModel",
      "state": {
       "children": [
        "IPY_MODEL_c136d96c555747ecbf1c42b43c235e43"
       ],
       "layout": "IPY_MODEL_4faedd29f4f34b77b96b1dd84f977e2e"
      }
     },
     "db038b7ba2be482b8c7d2824ad5d5356": {
      "model_module": "@jupyter-widgets/controls",
      "model_module_version": "2.0.0",
      "model_name": "ButtonStyleModel",
      "state": {
       "font_family": null,
       "font_size": null,
       "font_style": null,
       "font_variant": null,
       "font_weight": null,
       "text_color": null,
       "text_decoration": null
      }
     },
     "db784627a2954c1484443384a58bc0e1": {
      "model_module": "@jupyter-widgets/controls",
      "model_module_version": "2.0.0",
      "model_name": "ButtonStyleModel",
      "state": {
       "font_family": null,
       "font_size": null,
       "font_style": null,
       "font_variant": null,
       "font_weight": null,
       "text_color": null,
       "text_decoration": null
      }
     },
     "dcffecd1e9384277b8bbb554020a0a68": {
      "model_module": "@jupyter-widgets/controls",
      "model_module_version": "2.0.0",
      "model_name": "HBoxModel",
      "state": {
       "children": [
        "IPY_MODEL_7a647b78a82c4450a508c252c7bcdc9f",
        "IPY_MODEL_9c0c7553b11d4f75bfe60db1bb76bb94",
        "IPY_MODEL_93d28546a8d541748af1c356677064e0",
        "IPY_MODEL_0925f4d55c9e4db88e6d7b57faeface4"
       ],
       "layout": "IPY_MODEL_a99dcd11a48e46ea9fe2453a3e2d5273"
      }
     },
     "e07b939be906491aa394cf582893d742": {
      "model_module": "@jupyter-widgets/base",
      "model_module_version": "2.0.0",
      "model_name": "LayoutModel",
      "state": {}
     },
     "e0d286a9782843e3adfe051e9889b18b": {
      "model_module": "@jupyter-widgets/controls",
      "model_module_version": "2.0.0",
      "model_name": "ButtonStyleModel",
      "state": {
       "font_family": null,
       "font_size": null,
       "font_style": null,
       "font_variant": null,
       "font_weight": null,
       "text_color": null,
       "text_decoration": null
      }
     },
     "e1b6e3bad99e48b6b2ddb46fec15bcb6": {
      "model_module": "@jupyter-widgets/controls",
      "model_module_version": "2.0.0",
      "model_name": "ButtonStyleModel",
      "state": {
       "font_family": null,
       "font_size": null,
       "font_style": null,
       "font_variant": null,
       "font_weight": null,
       "text_color": null,
       "text_decoration": null
      }
     },
     "e1e30ea1d7a640d59a881373a7963ae4": {
      "model_module": "@jupyter-widgets/controls",
      "model_module_version": "2.0.0",
      "model_name": "HTMLModel",
      "state": {
       "layout": "IPY_MODEL_bf1bf2451a7147f38a33a3a94856a95d",
       "style": "IPY_MODEL_b8e213e3daf3473bb3bd1b26e8ed2c7e",
       "value": "<p style='background: #ffaa00'>\n         <span >model: llama, top_p: 1 USER</span> \n      </p>"
      }
     },
     "e3a157cd0d1a412594a2f58c2e39815d": {
      "model_module": "@jupyter-widgets/controls",
      "model_module_version": "2.0.0",
      "model_name": "ButtonStyleModel",
      "state": {
       "font_family": null,
       "font_size": null,
       "font_style": null,
       "font_variant": null,
       "font_weight": null,
       "text_color": null,
       "text_decoration": null
      }
     },
     "e3e84b2d6da04bb1b233f6a027441702": {
      "model_module": "@jupyter-widgets/controls",
      "model_module_version": "2.0.0",
      "model_name": "HTMLStyleModel",
      "state": {
       "description_width": "",
       "font_size": null,
       "text_color": null
      }
     },
     "e46cff6b13a3473c934c829adfec71a7": {
      "model_module": "@jupyter-widgets/controls",
      "model_module_version": "2.0.0",
      "model_name": "TextareaModel",
      "state": {
       "continuous_update": false,
       "layout": "IPY_MODEL_5c83c4ed1a2a4514811136d056a91d8f",
       "style": "IPY_MODEL_7bc812b5f9ca4c0b95c69b25b20cf446",
       "value": "hello bot"
      }
     },
     "e48e5e040d8142358e4fd068f953ff64": {
      "model_module": "@jupyter-widgets/base",
      "model_module_version": "2.0.0",
      "model_name": "LayoutModel",
      "state": {}
     },
     "e4aecd74c01448e697e9efe6153a079a": {
      "model_module": "@jupyter-widgets/base",
      "model_module_version": "2.0.0",
      "model_name": "LayoutModel",
      "state": {
       "width": "40px"
      }
     },
     "e574665911f04a10b0d6968f3c241b02": {
      "model_module": "@jupyter-widgets/controls",
      "model_module_version": "2.0.0",
      "model_name": "DescriptionStyleModel",
      "state": {
       "description_width": ""
      }
     },
     "e7117236eea440389e1a28c112538eab": {
      "model_module": "@jupyter-widgets/controls",
      "model_module_version": "2.0.0",
      "model_name": "ButtonModel",
      "state": {
       "button_style": "success",
       "description": "Submit",
       "layout": "IPY_MODEL_676db8a75a4141cf81b6b78390e31013",
       "style": "IPY_MODEL_a659a331910d487293359c415d08b92a",
       "tooltip": null
      }
     },
     "e7144c5e42954e75b00490669191437c": {
      "model_module": "@jupyter-widgets/base",
      "model_module_version": "2.0.0",
      "model_name": "LayoutModel",
      "state": {}
     },
     "e729b8620f134f3b8267146e09b0468e": {
      "model_module": "@jupyter-widgets/base",
      "model_module_version": "2.0.0",
      "model_name": "LayoutModel",
      "state": {
       "width": "40px"
      }
     },
     "e841f8e6b65f4fbba1c4360465fab51b": {
      "model_module": "@jupyter-widgets/base",
      "model_module_version": "2.0.0",
      "model_name": "LayoutModel",
      "state": {}
     },
     "e8d487d567474033a1540e67057562c6": {
      "model_module": "@jupyter-widgets/base",
      "model_module_version": "2.0.0",
      "model_name": "LayoutModel",
      "state": {}
     },
     "e96917ce9ac046d9a3796d095a1ca05f": {
      "model_module": "@jupyter-widgets/base",
      "model_module_version": "2.0.0",
      "model_name": "LayoutModel",
      "state": {}
     },
     "eaf8e940c875493f9490fb48e82812b5": {
      "model_module": "@jupyter-widgets/controls",
      "model_module_version": "2.0.0",
      "model_name": "HTMLModel",
      "state": {
       "layout": "IPY_MODEL_3c234186a11f469e9910f26078dad28c",
       "style": "IPY_MODEL_d6c2dd54fb934979b0430479fe6e0976",
       "value": "<span >model: llama, top_p: 1 USER</span>"
      }
     },
     "eb1af431bf0a47c691bf576345b8a381": {
      "model_module": "@jupyter-widgets/base",
      "model_module_version": "2.0.0",
      "model_name": "LayoutModel",
      "state": {}
     },
     "ebd66715f8404dcf9e1648af12bd19f0": {
      "model_module": "@jupyter-widgets/controls",
      "model_module_version": "2.0.0",
      "model_name": "ButtonModel",
      "state": {
       "button_style": "danger",
       "icon": "minus-circle",
       "layout": "IPY_MODEL_a065efd123e14708a60a4474e06a7218",
       "style": "IPY_MODEL_b4e6f8e32cbe4050a7682f31d9e02145",
       "tooltip": null
      }
     },
     "ed9da143b83e493983007e546fad6af3": {
      "model_module": "@jupyter-widgets/controls",
      "model_module_version": "2.0.0",
      "model_name": "HTMLModel",
      "state": {
       "layout": "IPY_MODEL_0b2a7906ee7b45b38c9b0eb54f5e0432",
       "style": "IPY_MODEL_bdac85f9007b40acbf0e56acc6d188a7",
       "value": "<p v-if='True'>v-if=True for html</p>"
      }
     },
     "ee6dd0009a0e47ada743b83a99ce525e": {
      "model_module": "@jupyter-widgets/controls",
      "model_module_version": "2.0.0",
      "model_name": "HTMLStyleModel",
      "state": {
       "description_width": "",
       "font_size": null,
       "text_color": null
      }
     },
     "ef2ca0de4df34e0b8b7d0ba3f89d7219": {
      "model_module": "@jupyter-widgets/base",
      "model_module_version": "2.0.0",
      "model_name": "LayoutModel",
      "state": {
       "width": "60px"
      }
     },
     "f1dce3269b7b40e8a8f8ed70913ee202": {
      "model_module": "@jupyter-widgets/controls",
      "model_module_version": "2.0.0",
      "model_name": "HTMLModel",
      "state": {
       "layout": "IPY_MODEL_8d63773cf0b442f3ab036117e138bc6b",
       "style": "IPY_MODEL_4b7580aaaea64ba28d5139010299ddf8",
       "value": "<hr ></hr>"
      }
     },
     "f27f482721bc49848e8802bdca0f489f": {
      "model_module": "@jupyter-widgets/controls",
      "model_module_version": "2.0.0",
      "model_name": "HTMLModel",
      "state": {
       "layout": "IPY_MODEL_0657f94641794df5857174603d44ab82",
       "style": "IPY_MODEL_8b7048173ac341d79118ee6a5e0d99ec",
       "value": "<p v-if='True'>v-if=True for html</p>"
      }
     },
     "f2e9c0375a244e699439c126dd19ae71": {
      "model_module": "@jupyter-widgets/controls",
      "model_module_version": "2.0.0",
      "model_name": "ButtonStyleModel",
      "state": {
       "font_family": null,
       "font_size": null,
       "font_style": null,
       "font_variant": null,
       "font_weight": null,
       "text_color": null,
       "text_decoration": null
      }
     },
     "f368d1d9d9e14e419b94e39a780220a7": {
      "model_module": "@jupyter-widgets/controls",
      "model_module_version": "2.0.0",
      "model_name": "ButtonModel",
      "state": {
       "button_style": "info",
       "description": "dialog",
       "layout": "IPY_MODEL_aeb879277edb4082a0fe66b1df785f95",
       "style": "IPY_MODEL_0f7407d602174f68a08d3145bde0724b",
       "tooltip": null
      }
     },
     "f3b0bf2e67c344eea06cabb74da99532": {
      "model_module": "@jupyter-widgets/controls",
      "model_module_version": "2.0.0",
      "model_name": "HTMLModel",
      "state": {
       "layout": "IPY_MODEL_2bdf7b42cf1146148f06aa22e4b478cd",
       "style": "IPY_MODEL_cddd47262691440f8c372f038fa388a9",
       "value": "<span >model: llama, top_p: 0.68 USER</span>"
      }
     },
     "f3cea1d6380645b591a95fcaedb783cf": {
      "model_module": "@jupyter-widgets/base",
      "model_module_version": "2.0.0",
      "model_name": "LayoutModel",
      "state": {}
     },
     "f4d39dad8bfd4b17adc9edcd8ed3aa30": {
      "model_module": "@jupyter-widgets/controls",
      "model_module_version": "2.0.0",
      "model_name": "HTMLStyleModel",
      "state": {
       "description_width": "",
       "font_size": null,
       "text_color": null
      }
     },
     "f4dc0d18d4cc451ea9a51a5b7bab10c4": {
      "model_module": "@jupyter-widgets/base",
      "model_module_version": "2.0.0",
      "model_name": "LayoutModel",
      "state": {
       "width": "40px"
      }
     },
     "f4ea3644e02849ed84756dfdd8d8a373": {
      "model_module": "@jupyter-widgets/base",
      "model_module_version": "2.0.0",
      "model_name": "LayoutModel",
      "state": {
       "grid_area": "center"
      }
     },
     "f80214cfdd1f40f5b6497617c3cd0d73": {
      "model_module": "@jupyter-widgets/controls",
      "model_module_version": "2.0.0",
      "model_name": "HTMLStyleModel",
      "state": {
       "description_width": "",
       "font_size": null,
       "text_color": null
      }
     },
     "f89f1562a0a7423c8c2c1604b099b61f": {
      "model_module": "@jupyter-widgets/base",
      "model_module_version": "2.0.0",
      "model_name": "LayoutModel",
      "state": {
       "width": "40px"
      }
     },
     "fb35f603c4344f3394911f0ccb33f857": {
      "model_module": "@jupyter-widgets/controls",
      "model_module_version": "2.0.0",
      "model_name": "ButtonStyleModel",
      "state": {
       "font_family": null,
       "font_size": null,
       "font_style": null,
       "font_variant": null,
       "font_weight": null,
       "text_color": null,
       "text_decoration": null
      }
     },
     "fbe31f6f13b94371b8ee9b1cabdce682": {
      "model_module": "@jupyter-widgets/base",
      "model_module_version": "2.0.0",
      "model_name": "LayoutModel",
      "state": {}
     },
     "fcb6bbadb8574f74bfa6c41c927b4fec": {
      "model_module": "@jupyter-widgets/controls",
      "model_module_version": "2.0.0",
      "model_name": "HTMLStyleModel",
      "state": {
       "description_width": "",
       "font_size": null,
       "text_color": null
      }
     },
     "fd15b3b87e4c4e8c88f452f155899f1c": {
      "model_module": "@jupyter-widgets/controls",
      "model_module_version": "2.0.0",
      "model_name": "HTMLModel",
      "state": {
       "layout": "IPY_MODEL_bb9fef883f8d4be39712c9dfcf906f9a",
       "style": "IPY_MODEL_9174a9853d614b94987a592acea83f2d",
       "value": "<span >model: llama, top_p: 0.68 BOT</span>"
      }
     },
     "fe25953fb060404fbd1645fa0777868b": {
      "model_module": "@jupyter-widgets/base",
      "model_module_version": "2.0.0",
      "model_name": "LayoutModel",
      "state": {
       "width": "40px"
      }
     },
     "fe2f1db822cc4472b344734c7c5b0295": {
      "model_module": "@jupyter-widgets/base",
      "model_module_version": "2.0.0",
      "model_name": "LayoutModel",
      "state": {}
     },
     "ff24b3868c8b4a77a131b24dae82fca3": {
      "model_module": "@jupyter-widgets/base",
      "model_module_version": "2.0.0",
      "model_name": "LayoutModel",
      "state": {}
     },
     "ffdd9dfef2f149dcbf90205e53ddb884": {
      "model_module": "@jupyter-widgets/controls",
      "model_module_version": "2.0.0",
      "model_name": "ButtonStyleModel",
      "state": {
       "font_family": null,
       "font_size": null,
       "font_style": null,
       "font_variant": null,
       "font_weight": null,
       "text_color": null,
       "text_decoration": null
      }
     }
    },
    "version_major": 2,
    "version_minor": 0
   }
  }
 },
 "nbformat": 4,
 "nbformat_minor": 5
}
