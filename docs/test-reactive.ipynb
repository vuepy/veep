{
 "cells": [
  {
   "cell_type": "code",
   "execution_count": 1,
   "id": "019830f1-5ca1-4e2a-ab85-08e1812ca72f",
   "metadata": {
    "jupyter": {
     "source_hidden": true
    }
   },
   "outputs": [
    {
     "data": {
      "application/vnd.jupyter.widget-view+json": {
       "model_id": "390f9d420627464ba98deddfd446e5d8",
       "version_major": 2,
       "version_minor": 0
      },
      "text/plain": [
       "Document(children=(Dom(children=(MessageWidget(message_options={'message': '', 'type': 'info', 'show_close': F…"
      ]
     },
     "execution_count": 1,
     "metadata": {},
     "output_type": "execute_result"
    }
   ],
   "source": [
    "from pathlib import Path\n",
    "import ipywidgets as widgets\n",
    "\n",
    "from vuepy import create_app, import_sfc\n",
    "from ipywui import wui\n",
    "\n",
    "App = import_sfc(Path().absolute().parent / 'examples' / 'vue_app'/ 'VueApp.vue')\n",
    "app = create_app(App, debug=True).use(wui)\n",
    "app.mount(widgets.Output())"
   ]
  },
  {
   "cell_type": "code",
   "execution_count": 2,
   "id": "e06fc4bf-1cf9-43cc-bd70-165daa4f454e",
   "metadata": {},
   "outputs": [
    {
     "data": {
      "application/vnd.jupyter.widget-view+json": {
       "model_id": "d059dfba028947a59e9824bfdabffdae",
       "version_major": 2,
       "version_minor": 0
      },
      "text/plain": [
       "Output(outputs=({'name': 'stdout', 'output_type': 'stream', 'text': '[INFO] api_create_app.py:render:118 - App…"
      ]
     },
     "execution_count": 2,
     "metadata": {},
     "output_type": "execute_result"
    }
   ],
   "source": [
    "from vuepy.utils import magic\n",
    "%vuepy_log clear"
   ]
  },
  {
   "cell_type": "code",
   "execution_count": null,
   "id": "9d1ff38b-0398-4fef-9984-24c7ecbf0768",
   "metadata": {},
   "outputs": [],
   "source": []
  }
 ],
 "metadata": {
  "kernelspec": {
   "display_name": "Python 3 (ipykernel)",
   "language": "python",
   "name": "python3"
  },
  "language_info": {
   "codemirror_mode": {
    "name": "ipython",
    "version": 3
   },
   "file_extension": ".py",
   "mimetype": "text/x-python",
   "name": "python",
   "nbconvert_exporter": "python",
   "pygments_lexer": "ipython3",
   "version": "3.10.12"
  },
  "widgets": {
   "application/vnd.jupyter.widget-state+json": {
    "state": {
     "016750d2ee864059b3d98f20d8b9d134": {
      "model_module": "@jupyter-widgets/base",
      "model_module_version": "2.0.0",
      "model_name": "LayoutModel",
      "state": {}
     },
     "041cebd3e452442593a1789a6ced1b13": {
      "model_module": "@jupyter-widgets/controls",
      "model_module_version": "2.0.0",
      "model_name": "HTMLStyleModel",
      "state": {
       "description_width": "",
       "font_size": null,
       "text_color": null
      }
     },
     "05e48ac0329a4674ad65ecd45599ad60": {
      "model_module": "@jupyter-widgets/controls",
      "model_module_version": "2.0.0",
      "model_name": "DropdownModel",
      "state": {
       "_options_labels": [
        "op1",
        "op2"
       ],
       "description": "options",
       "index": 0,
       "layout": "IPY_MODEL_47de3f3a260e4a51b8d8781f375bde1b",
       "style": "IPY_MODEL_78d169c3282f4e938a98f8c383f39240"
      }
     },
     "0732307265c5411bb602b2fa5942c818": {
      "model_module": "@jupyter-widgets/base",
      "model_module_version": "2.0.0",
      "model_name": "LayoutModel",
      "state": {
       "border_bottom": "1px solid #cccccc",
       "border_left": "1px solid #cccccc",
       "border_right": "1px solid #cccccc",
       "border_top": "1px solid #cccccc",
       "grid_template_areas": "\"center center right-sidebar\"",
       "grid_template_columns": "0fr 3fr 1.5fr",
       "grid_template_rows": "3fr",
       "padding": "10px"
      }
     },
     "0932df2128374ec1bbf834c1e08f0b71": {
      "model_module": "@jupyter-widgets/base",
      "model_module_version": "2.0.0",
      "model_name": "LayoutModel",
      "state": {}
     },
     "0bb8de6c1df64ce78f26a0e91c69de6f": {
      "model_module": "@jupyter-widgets/controls",
      "model_module_version": "2.0.0",
      "model_name": "HTMLModel",
      "state": {
       "layout": "IPY_MODEL_67cf19ce08384e7086c0d7ba17da7668",
       "style": "IPY_MODEL_be9575f017b8463782333a58e719337e",
       "value": "\n                <p style='background: #ffaa00'>\n                  \n                <span >\n                  model: llama, top_p: 1 BOT\n                </span>\n                </p>"
      }
     },
     "0d91a6067b984bac915ecd33fec9a511": {
      "model_module": "@jupyter-widgets/controls",
      "model_module_version": "2.0.0",
      "model_name": "HTMLModel",
      "state": {
       "layout": "IPY_MODEL_8ad146c2d89e4a72a6fa741f5689ea41",
       "style": "IPY_MODEL_c717530dd116402ca3c1b4d152b5d4cb",
       "value": "\n                <p style='background: #ffaa00'>\n                  \n                <span >\n                  model: llama, top_p: 1 USER\n                </span>\n                </p>"
      }
     },
     "1030b8d95bd04106a6ea57a8ebb14272": {
      "model_module": "@jupyter-widgets/controls",
      "model_module_version": "2.0.0",
      "model_name": "DescriptionStyleModel",
      "state": {
       "description_width": ""
      }
     },
     "106333193be64709ac85cbe4f53125cf": {
      "model_module": "@jupyter-widgets/base",
      "model_module_version": "2.0.0",
      "model_name": "LayoutModel",
      "state": {}
     },
     "11d1d15f3b1346f6962f752b0c7415ef": {
      "model_module": "@jupyter-widgets/base",
      "model_module_version": "2.0.0",
      "model_name": "LayoutModel",
      "state": {}
     },
     "139d490d01fc498684202f7cc443b084": {
      "model_module": "@jupyter-widgets/controls",
      "model_module_version": "2.0.0",
      "model_name": "VBoxModel",
      "state": {
       "children": [
        "IPY_MODEL_3e66f6a593d64d948bcf4f5b0c28eeb2",
        "IPY_MODEL_f25aa246e0f84a6b9bdda2db0788c0ae"
       ],
       "layout": "IPY_MODEL_1d5422c6a5d44bd3987325c8f9045fa8"
      }
     },
     "14e8f4418de943d996131d0575f8bf5c": {
      "model_module": "@jupyter-widgets/controls",
      "model_module_version": "2.0.0",
      "model_name": "ButtonModel",
      "state": {
       "button_style": "info",
       "description": "show/edit",
       "icon": "edit",
       "layout": "IPY_MODEL_cbb8de9c58434381936e3ddb102e7df6",
       "style": "IPY_MODEL_d97b8d742705404aa12a2709f282aebf",
       "tooltip": null
      }
     },
     "1c3892d160054f7ba2f1ca2a98ae7e27": {
      "model_module": "@jupyter-widgets/controls",
      "model_module_version": "2.0.0",
      "model_name": "ButtonStyleModel",
      "state": {
       "font_family": null,
       "font_size": null,
       "font_style": null,
       "font_variant": null,
       "font_weight": null,
       "text_color": null,
       "text_decoration": null
      }
     },
     "1cae2bfd0e8346a5a8d480e65c0c1d67": {
      "model_module": "@jupyter-widgets/base",
      "model_module_version": "2.0.0",
      "model_name": "LayoutModel",
      "state": {}
     },
     "1d5422c6a5d44bd3987325c8f9045fa8": {
      "model_module": "@jupyter-widgets/base",
      "model_module_version": "2.0.0",
      "model_name": "LayoutModel",
      "state": {}
     },
     "2000fa0156eb40d7b60dd965f0a8c897": {
      "model_module": "@jupyter-widgets/base",
      "model_module_version": "2.0.0",
      "model_name": "LayoutModel",
      "state": {
       "width": "40px"
      }
     },
     "23f5e60479204591a09c3ed55d81fc45": {
      "model_module": "@jupyter-widgets/base",
      "model_module_version": "2.0.0",
      "model_name": "LayoutModel",
      "state": {}
     },
     "24305ce8ba104be59375b7edcd697a07": {
      "model_module": "@jupyter-widgets/controls",
      "model_module_version": "2.0.0",
      "model_name": "VBoxModel",
      "state": {
       "children": [
        "IPY_MODEL_de776b6e5b9c43a6870aa28245f900f0",
        "IPY_MODEL_31cbe79d4d344ada98d7c69108e3b4bf"
       ],
       "layout": "IPY_MODEL_016750d2ee864059b3d98f20d8b9d134"
      }
     },
     "2f7c5834e6ff4219b94ddba15a6b5a86": {
      "model_module": "@jupyter-widgets/controls",
      "model_module_version": "2.0.0",
      "model_name": "ButtonModel",
      "state": {
       "button_style": "info",
       "description": "message",
       "layout": "IPY_MODEL_23f5e60479204591a09c3ed55d81fc45",
       "style": "IPY_MODEL_ee95b1f1c7c24853a6bcd2e2ccca8abd",
       "tooltip": null
      }
     },
     "31cbe79d4d344ada98d7c69108e3b4bf": {
      "model_module": "@jupyter-widgets/controls",
      "model_module_version": "2.0.0",
      "model_name": "VBoxModel",
      "state": {
       "children": [
        "IPY_MODEL_e837763a29da4d5ca2a5a90e95965f95"
       ],
       "layout": "IPY_MODEL_87176500e1b3493da6388c08bc9e729e"
      }
     },
     "350d6e365a3944699e65bbd2fc8cf0de": {
      "model_module": "@jupyter-widgets/controls",
      "model_module_version": "2.0.0",
      "model_name": "HTMLStyleModel",
      "state": {
       "description_width": "",
       "font_size": null,
       "text_color": null
      }
     },
     "365d0372706447809d600be4464b1b7a": {
      "model_module": "@jupyter-widgets/controls",
      "model_module_version": "2.0.0",
      "model_name": "TextStyleModel",
      "state": {
       "description_width": "",
       "font_size": null,
       "text_color": null
      }
     },
     "390f9d420627464ba98deddfd446e5d8": {
      "model_module": "@jupyter-widgets/controls",
      "model_module_version": "2.0.0",
      "model_name": "VBoxModel",
      "state": {
       "children": [
        "IPY_MODEL_a2d783c62f814b2ea0521d6cb6649d18"
       ],
       "layout": "IPY_MODEL_69a116de80164bb79d5de17c23ae7a20"
      }
     },
     "39db23c45b8543bf93dfb75f11158e52": {
      "model_module": "anywidget",
      "model_module_version": "0.9.3",
      "model_name": "AnyModel",
      "state": {
       "_anywidget_id": "ipywui.widgets.custom.dialog.DialogWidget",
       "_css": ".wui-modal-root {\n    position: absolute;\n    bottom: 0;\n    left: 0;\n    overflow: auto;\n    pointer-events: none;\n    right: 0;\n    top: 0;\n    z-index: 999;\n}\n.wui-modal-root[data-state=open] {\n    display: block;\n}\n.wui-modal-root[data-state=close] {\n    display: none;\n}\n\n.wui-modal-dialog-container {\n    align-items: center;\n    display: flex;\n    justify-content: center;\n    min-height: 100%;\n    outline: none;\n    pointer-events: auto;\n    width: 100%;\n\n    -webkit-tap-highlight-color: rgba(0,0,0,0);\n    background-color: rgba(0,0,0,.5);\n    bottom: 0;\n    left: 0;\n    /*opacity: 0;*/\n    right: 0;\n    top: 0;\n    transition: opacity .4s;\n    transition-timing-function: cubic-bezier(.2,.8,.4,1);\n}\n\n.wui-modal-dialog {\n    background: white;\n    border-radius: 5px;\n    /*color: var(--text-default);*/\n    margin: 20px 12px;\n    max-width: 100%;\n    width: 50%;\n    /*opacity: 0;*/\n    /*position: relative;*/\n    /*-webkit-transform: translateY(20px);*/\n    /*transform: translateY(20px);*/\n    transition: opacity .4s,-webkit-transform .4s;\n    transition: transform .4s,opacity .4s;\n    transition: transform .4s,opacity .4s,-webkit-transform .4s;\n    transition-timing-function: cubic-bezier(.2,.8,.4,1);\n    -webkit-user-select: text;\n    user-select: text;\n}\n\n.wui-modal-header {\n    font-size: 20px;\n    line-height: 28px;\n    margin: 10px 14px 6px 14px;\n}\n\n.wui-modal-body {\n    font-size: 14px;\n    margin: 6px 14px 14px 14px;\n}\n\n.wui-modal-footer {\n    align-items: center;\n    display: flex;\n    justify-content: flex-end;\n    margin: 22px 14px 14px;\n}\n",
       "_esm": "async function unpack_models(model_ids, manager) {\n  return Promise.all(\n    model_ids.map(id => manager.get_model(id.slice(\"IPY_MODEL_\".length)))\n  );\n}\n\n\nexport async function render(view) {\n  let model = view.model;\n\n  let shouldShowDialog = () => model.get('value');\n  const modalRoot = view.el;\n  const modalDialogContainer = document.createElement('div');\n  const modalDialog = document.createElement('div');\n  modalRoot.className += ' wui-modal-root';\n  modalRoot.setAttribute('data-state', shouldShowDialog() ? 'open' : 'close');\n  modalDialogContainer.className += ' wui-modal-dialog-container';\n  modalDialog.className += ' wui-modal-dialog';\n  const modalDialogWidth = model.get(\"width\", '50%');\n  if (modalDialogWidth) {\n    modalDialog.style.width = modalDialogWidth;\n  }\n  modalRoot.appendChild(modalDialogContainer);\n  modalDialogContainer.appendChild(modalDialog);\n\n  const modalTitle = document.createElement('div');\n  modalTitle.className += ' wui-modal-header';\n  modalTitle.innerText = model.get('title');\n  const modalBody = document.createElement('div');\n  modalBody.className += ' wui-modal-body';\n  const modalFooter = document.createElement('div');\n  modalFooter.className += ' wui-modal-footer';\n  modalDialog.appendChild(modalTitle);\n  modalDialog.appendChild(modalBody);\n  modalDialog.appendChild(modalFooter);\n\n  let model_ids = model.get(\"body\"); // [\"IPY_MODEL_<model_id>\", ...]\n  let body_models = await unpack_models(model_ids, model.widget_manager);\n  for (let model of body_models) {\n    let child_view = await model.widget_manager.create_view(model);\n    modalBody.appendChild(child_view.el);\n  }\n  model_ids = model.get(\"footer\"); // [\"IPY_MODEL_<model_id>\", ...]\n  let footer_models = await unpack_models(model_ids, model.widget_manager);\n  for (let model of footer_models) {\n    let child_view = await model.widget_manager.create_view(model);\n    modalFooter.appendChild(child_view.el);\n  }\n  const emit = (evt, payload) => {\n    model.set(\"event\", {\"event\": evt, \"payload\": payload});\n    model.save_changes();\n  }\n  const openDialog = () => {\n    modalRoot.setAttribute('data-state', 'open');\n    emit(\"open\");\n  }\n  const closeDialog = () => {\n    modalRoot.setAttribute('data-state', 'close');\n    emit(\"close\");\n  }\n  modalDialogContainer.addEventListener('click', () => {\n    console.info('click')\n    model.set(\"value\", false);\n    model.save_changes()\n  })\n  modalDialog.addEventListener('click', (ev) => {\n    ev.stopPropagation();\n  })\n  model.on(\"change:value\", () => {\n    console.info('change value')\n    shouldShowDialog() ? openDialog() : closeDialog();\n  })\n}\n",
       "_model_module": "anywidget",
       "_model_module_version": "0.9.3",
       "_model_name": "AnyModel",
       "_view_module": "anywidget",
       "_view_module_version": "0.9.3",
       "_view_name": "AnyView",
       "body": [],
       "event": {
        "event": "close"
       },
       "footer": [],
       "layout": "IPY_MODEL_b6498bb9776d406ba6a2cb81c2a29445",
       "title": "test",
       "value": false,
       "width": "50%"
      }
     },
     "3b87fee4202c481c98590b4d666c0199": {
      "model_module": "@jupyter-widgets/base",
      "model_module_version": "2.0.0",
      "model_name": "LayoutModel",
      "state": {}
     },
     "3ba86408087849cb911ef96e33e3c181": {
      "model_module": "@jupyter-widgets/base",
      "model_module_version": "2.0.0",
      "model_name": "LayoutModel",
      "state": {
       "width": "450px"
      }
     },
     "3c5d15958ff147a0a5541dc225945ece": {
      "model_module": "@jupyter-widgets/controls",
      "model_module_version": "2.0.0",
      "model_name": "ButtonStyleModel",
      "state": {
       "font_family": null,
       "font_size": null,
       "font_style": null,
       "font_variant": null,
       "font_weight": null,
       "text_color": null,
       "text_decoration": null
      }
     },
     "3e66f6a593d64d948bcf4f5b0c28eeb2": {
      "model_module": "@jupyter-widgets/controls",
      "model_module_version": "2.0.0",
      "model_name": "HBoxModel",
      "state": {
       "children": [
        "IPY_MODEL_d2077a06e0074c2184871901af7f5c02",
        "IPY_MODEL_af7d015f3d7642f5a98f4ded4e02304d",
        "IPY_MODEL_cde416fd2785480f8360faf92b5c1606",
        "IPY_MODEL_ab1e685247cf4d3fb6e8274e4013b517"
       ],
       "layout": "IPY_MODEL_a7725cb8830f447f8591cc73403699b3"
      }
     },
     "435a609f5c09450cb01004816b31ad75": {
      "model_module": "@jupyter-widgets/base",
      "model_module_version": "2.0.0",
      "model_name": "LayoutModel",
      "state": {}
     },
     "43730be93d744ef5add80b8174958aec": {
      "model_module": "@jupyter-widgets/base",
      "model_module_version": "2.0.0",
      "model_name": "LayoutModel",
      "state": {}
     },
     "4423cdba51a14792bd9583bce3b699c3": {
      "model_module": "@jupyter-widgets/base",
      "model_module_version": "2.0.0",
      "model_name": "LayoutModel",
      "state": {}
     },
     "4586e97cf2924693910eddf5646d6168": {
      "model_module": "@jupyter-widgets/controls",
      "model_module_version": "2.0.0",
      "model_name": "ButtonModel",
      "state": {
       "button_style": "danger",
       "icon": "minus-circle",
       "layout": "IPY_MODEL_2000fa0156eb40d7b60dd965f0a8c897",
       "style": "IPY_MODEL_cebd23240c484593b2d3008a0129c6b9",
       "tooltip": null
      }
     },
     "47415b86811a4d2bb1c459b3b2fa9e57": {
      "model_module": "@jupyter-widgets/base",
      "model_module_version": "2.0.0",
      "model_name": "LayoutModel",
      "state": {
       "width": "40px"
      }
     },
     "47d7a253c1304f76b1f8e0b434ffa14d": {
      "model_module": "@jupyter-widgets/base",
      "model_module_version": "2.0.0",
      "model_name": "LayoutModel",
      "state": {}
     },
     "47de3f3a260e4a51b8d8781f375bde1b": {
      "model_module": "@jupyter-widgets/base",
      "model_module_version": "2.0.0",
      "model_name": "LayoutModel",
      "state": {
       "width": "200px"
      }
     },
     "4e9ef328c59641259c028056566f0bd0": {
      "model_module": "@jupyter-widgets/controls",
      "model_module_version": "2.0.0",
      "model_name": "HTMLModel",
      "state": {
       "layout": "IPY_MODEL_959d2145281e49d0ad0e41b2b729b22a",
       "style": "IPY_MODEL_cdf6f4e730b5496d868f53fce0fe5f3a"
      }
     },
     "4eb6f938af41470a97929d159dd3cd1a": {
      "model_module": "@jupyter-widgets/base",
      "model_module_version": "2.0.0",
      "model_name": "LayoutModel",
      "state": {}
     },
     "4f11a6249a13475383c785b435da62eb": {
      "model_module": "@jupyter-widgets/controls",
      "model_module_version": "2.0.0",
      "model_name": "HTMLStyleModel",
      "state": {
       "description_width": "",
       "font_size": null,
       "text_color": null
      }
     },
     "50006d26f160451bb6bc00cdadca84f7": {
      "model_module": "@jupyter-widgets/controls",
      "model_module_version": "2.0.0",
      "model_name": "TextareaModel",
      "state": {
       "continuous_update": false,
       "layout": "IPY_MODEL_a29a3a914ab442e898ca3d0a64b7b26f",
       "style": "IPY_MODEL_99be93584af6482280d052f71c93fac6",
       "value": "## h2 \nhello user"
      }
     },
     "53acc6e038f64a1bba537b016bcfa818": {
      "model_module": "@jupyter-widgets/base",
      "model_module_version": "2.0.0",
      "model_name": "LayoutModel",
      "state": {}
     },
     "54304fcc8dee4bbc8939691dfb9dd7b0": {
      "model_module": "@jupyter-widgets/controls",
      "model_module_version": "2.0.0",
      "model_name": "ButtonStyleModel",
      "state": {
       "font_family": null,
       "font_size": null,
       "font_style": null,
       "font_variant": null,
       "font_weight": null,
       "text_color": null,
       "text_decoration": null
      }
     },
     "59342f0a68cd457992f83d80eccb9e52": {
      "model_module": "@jupyter-widgets/controls",
      "model_module_version": "2.0.0",
      "model_name": "ButtonStyleModel",
      "state": {
       "font_family": null,
       "font_size": null,
       "font_style": null,
       "font_variant": null,
       "font_weight": null,
       "text_color": null,
       "text_decoration": null
      }
     },
     "59f7c0d550e24044af4c7a3ea0387fb0": {
      "model_module": "@jupyter-widgets/base",
      "model_module_version": "2.0.0",
      "model_name": "LayoutModel",
      "state": {}
     },
     "61444253b3574e96931ed0f861ed2d5c": {
      "model_module": "@jupyter-widgets/controls",
      "model_module_version": "2.0.0",
      "model_name": "ButtonStyleModel",
      "state": {
       "font_family": null,
       "font_size": null,
       "font_style": null,
       "font_variant": null,
       "font_weight": null,
       "text_color": null,
       "text_decoration": null
      }
     },
     "67cf19ce08384e7086c0d7ba17da7668": {
      "model_module": "@jupyter-widgets/base",
      "model_module_version": "2.0.0",
      "model_name": "LayoutModel",
      "state": {}
     },
     "69a116de80164bb79d5de17c23ae7a20": {
      "model_module": "@jupyter-widgets/base",
      "model_module_version": "2.0.0",
      "model_name": "LayoutModel",
      "state": {}
     },
     "78133146db2a4851b99261200d3aa52d": {
      "model_module": "anywidget",
      "model_module_version": "0.9.3",
      "model_name": "AnyModel",
      "state": {
       "_anywidget_id": "ipywui.widgets.custom.message.MessageWidget",
       "_css": ".wui-message-root {\n    display: flex;\n    position: absolute;\n    left: 0;\n    right: 0;\n    top: 0;\n}\n\n.wui-message-container {\n    align-items: center;\n    display: flex;\n    flex-direction: column-reverse;\n    justify-content: center;\n    min-height: 100%;\n    outline: none;\n    width: 100%;\n\n    -webkit-tap-highlight-color: rgba(0,0,0,0);\n    bottom: 0;\n    left: 0;\n    right: 0;\n    top: 0;\n}\n\n.wui-message--success {\n    --wui-message-bg-color: #f0f9eb;\n    --wui-message-border-color: #e1f3d8;\n    --wui-message-text-color: #67c23a;\n}\n.wui-message--warning {\n    --wui-message-bg-color: #fdf6ec;\n    --wui-message-border-color: #faecd8;\n    --wui-message-text-color: #e6a23c;\n}\n.wui-message--info {\n    --wui-message-bg-color: #f4f4f5;\n    --wui-message-border-color: #e9e9eb;\n    --wui-message-text-color: #909399;\n}\n.wui-message--error {\n    --wui-message-bg-color: #fef0f0;\n    --wui-message-border-color: #fde2e2;\n    --wui-message-text-color: #f56c6c;\n}\n\n@keyframes msg-open {\n    0% {\n        opacity: 0;\n        -webkit-transform: translateY(-120%);\n        transform: translateY(-120%)\n    }\n    to {\n        -webkit-transform: translateY(0);\n        transform: translateY(0)\n    }\n}\n\n@keyframes msg-close {\n    0% {\n        opacity: 1;\n        -webkit-transform: scale(1);\n        transform: scale(1)\n    }\n    to {\n        opacity: 0;\n        -webkit-transform: scale(.9);\n        transform: scale(.9)\n    }\n}\n.wui-message[data-state=entered],.wui-message[data-state=entering] {\n    -webkit-animation: msg-open .24s cubic-bezier(.175,.885,.32,1.175) both;\n    animation: msg-open .24s cubic-bezier(.175,.885,.32,1.175) both\n}\n\n.wui-message[data-state=exiting] {\n    -webkit-animation: msg-close .12s cubic-bezier(.4,0,1,1) both;\n    animation: msg-close .12s cubic-bezier(.4,0,1,1) both\n}\n\n.wui-message {\n    width: -webkit-fit-content;\n    width: -moz-fit-content;\n    width: fit-content;\n    z-index: 2004;\n    max-width: calc(100% - 32px);\n    margin-top: 8px;\n    box-sizing: border-box;\n    /*border-radius: var(--wui-border-radius-base);*/\n    /*border-width: var(--wui-border-width);*/\n    /*border-style: var(--wui-border-style);*/\n    border-color: var(--wui-message-border-color);\n    /*left: 50%;*/\n    /*top: 20px;*/\n    /*transform: translateX(-50%);*/\n    background-color: var(--wui-message-bg-color);\n    /*transition: opacity var(--wui-transition-duration),transform .4s,top .4s;*/\n    /*padding: var(--wui-message-padding);*/\n    display: flex;\n    align-items: center;\n}\n\n/*.wui-message--success */\n.wui-message__content {\n    color: var(--wui-message-text-color);\n    font-size: 14px;\n    line-height: 18px;\n    margin: 10px 14px 10px 14px;\n    overflow-wrap: break-word;\n}\n\n.wui-message__closeBtn {\n    /*cursor: pointer;*/\n    font-style: normal;\n    /*color: gray;*/\n    padding-right: 14px;\n    /*font-size: 13px;*/\n    user-select: none;\n\n    background: transparent;\n    border: none;\n    color: gray;\n    cursor: pointer;\n    font-size: 13px;\n    font-weight: 400;\n    line-height: 1;\n    outline: none;\n    /*padding: 4px;*/\n    text-align: center;\n    transition: opacity .3s;\n    /*width: 100%;*/\n}",
       "_esm": "function closeMsg(msgDom) {\n  if (!msgDom) {\n    return;\n  }\n  msgDom.setAttribute('data-state', 'exiting');\n  msgDom.remove();\n}\n\nfunction createMsg(options) {\n  const {message, msg_id, type = 'info', show_close = false} = options;\n  const msgDom = document.createElement('div');\n  msgDom.className += ` wui-message--${type} wui-message`;\n  msgDom.setAttribute('data-state', 'entered');\n  msgDom.setAttribute('id', msg_id);\n  const msgContent = document.createElement('p');\n  msgContent.className += ` wui-message--${type} wui-message__content`;\n  msgContent.innerText = message;\n  msgDom.appendChild(msgContent);\n  if (show_close) {\n    const closeBtn = document.createElement('i');\n    closeBtn.className += 'wui-message__closeBtn';\n    closeBtn.innerText = 'x';\n    closeBtn.addEventListener('click', (ev) => {\n      closeMsg(msgDom);\n    })\n    msgDom.appendChild(closeBtn);\n  }\n  return msgDom;\n}\n\nexport async function render(view) {\n  let model = view.model;\n  const msgRoot = view.el;\n  msgRoot.className += ' wui-message-root'\n\n  const msgContainer = document.createElement('div');\n  msgContainer.className += ' wui-message-container';\n  msgRoot.appendChild(msgContainer)\n\n  model.on(\"change:message_options\", () => {\n    const options = model.get(\"message_options\");\n    const msg = createMsg(options);\n    msgContainer.appendChild(msg);\n    const {duration = 3000} = options;\n    if (duration > 0) {\n      setTimeout(() => {\n        closeMsg(msg)\n      }, duration);\n    }\n  })\n\n  model.on(\"change:close_msg_id\", () => {\n    const msg_id = model.get(\"close_msg_id\");\n    const msgDom = document.getElementById(msg_id);\n    closeMsg(msgDom);\n  })\n}\n",
       "_model_module": "anywidget",
       "_model_module_version": "0.9.3",
       "_model_name": "AnyModel",
       "_view_module": "anywidget",
       "_view_module_version": "0.9.3",
       "_view_name": "AnyView",
       "close_msg_id": "",
       "layout": "IPY_MODEL_bc6a5d31df4246408112248c873823b1",
       "message_options": {
        "duration": 3000,
        "message": "",
        "show_close": false,
        "type": "info"
       }
      }
     },
     "78d169c3282f4e938a98f8c383f39240": {
      "model_module": "@jupyter-widgets/controls",
      "model_module_version": "2.0.0",
      "model_name": "DescriptionStyleModel",
      "state": {
       "description_width": ""
      }
     },
     "7941b9777e5b4e3cbfaf886cc8653629": {
      "model_module": "@jupyter-widgets/controls",
      "model_module_version": "2.0.0",
      "model_name": "HBoxModel",
      "state": {
       "children": [
        "IPY_MODEL_aade278e3216437cb52a6653cb8feb6e",
        "IPY_MODEL_c81181c8df0748d19823380672789e5e",
        "IPY_MODEL_a23ece4da91b4cee92ea3e3926f578d0",
        "IPY_MODEL_c7fa4e4b578c4575bcfb514e18691185"
       ],
       "layout": "IPY_MODEL_47d7a253c1304f76b1f8e0b434ffa14d"
      }
     },
     "7bb302abfb3748709ae4b270760d99e1": {
      "model_module": "@jupyter-widgets/controls",
      "model_module_version": "2.0.0",
      "model_name": "ButtonModel",
      "state": {
       "button_style": "info",
       "description": "dialog",
       "layout": "IPY_MODEL_4eb6f938af41470a97929d159dd3cd1a",
       "style": "IPY_MODEL_c50d2cd4a16847ff91d8d7529898adaa",
       "tooltip": null
      }
     },
     "7bd2e7335bf9457d956b55e934beeed0": {
      "model_module": "@jupyter-widgets/controls",
      "model_module_version": "2.0.0",
      "model_name": "HTMLStyleModel",
      "state": {
       "description_width": "",
       "font_size": null,
       "text_color": null
      }
     },
     "7ea9f3fb3ce84893ac95f3ffe7829c00": {
      "model_module": "@jupyter-widgets/controls",
      "model_module_version": "2.0.0",
      "model_name": "HTMLModel",
      "state": {
       "layout": "IPY_MODEL_435a609f5c09450cb01004816b31ad75",
       "style": "IPY_MODEL_041cebd3e452442593a1789a6ced1b13",
       "value": "\n                <hr >\n                  \n                </hr>"
      }
     },
     "815f9e232dac4756aeb78c66d17f546e": {
      "model_module": "@jupyter-widgets/controls",
      "model_module_version": "2.0.0",
      "model_name": "HTMLModel",
      "state": {
       "layout": "IPY_MODEL_c3f1c9a885694177ac960eedd3b1d5a1",
       "style": "IPY_MODEL_7bd2e7335bf9457d956b55e934beeed0",
       "value": "\n                <span >\n                  {'name': 'l1', 'in': [1, 2, 4]}\n                </span>"
      }
     },
     "8330b8b940084d299bb13bb9a3833c9a": {
      "model_module": "@jupyter-widgets/base",
      "model_module_version": "2.0.0",
      "model_name": "LayoutModel",
      "state": {
       "width": "60px"
      }
     },
     "83de772713fb40d59c9a4383bd40e309": {
      "model_module": "@jupyter-widgets/base",
      "model_module_version": "2.0.0",
      "model_name": "LayoutModel",
      "state": {}
     },
     "87176500e1b3493da6388c08bc9e729e": {
      "model_module": "@jupyter-widgets/base",
      "model_module_version": "2.0.0",
      "model_name": "LayoutModel",
      "state": {}
     },
     "8ad146c2d89e4a72a6fa741f5689ea41": {
      "model_module": "@jupyter-widgets/base",
      "model_module_version": "2.0.0",
      "model_name": "LayoutModel",
      "state": {}
     },
     "8aefae82b812463b922ad378253c9c39": {
      "model_module": "@jupyter-widgets/controls",
      "model_module_version": "2.0.0",
      "model_name": "VBoxModel",
      "state": {
       "children": [
        "IPY_MODEL_7941b9777e5b4e3cbfaf886cc8653629",
        "IPY_MODEL_ab08c041301d4d54a37b99d675b3ae42"
       ],
       "layout": "IPY_MODEL_bca26a664b4648a3ae5c1af5a205fd9b"
      }
     },
     "8e7bee6a5e674e628eedc7a439185792": {
      "model_module": "@jupyter-widgets/base",
      "model_module_version": "2.0.0",
      "model_name": "LayoutModel",
      "state": {
       "width": "60px"
      }
     },
     "90800d92fa994f8cb17509e704b2565f": {
      "model_module": "@jupyter-widgets/controls",
      "model_module_version": "2.0.0",
      "model_name": "ButtonModel",
      "state": {
       "description": "BOT",
       "layout": "IPY_MODEL_8330b8b940084d299bb13bb9a3833c9a",
       "style": "IPY_MODEL_f38f7c6bed6e49aba681cbfcdd9549e7",
       "tooltip": null
      }
     },
     "909e9a2092d54ce8a480e4eac5396f46": {
      "model_module": "@jupyter-widgets/controls",
      "model_module_version": "2.0.0",
      "model_name": "TextStyleModel",
      "state": {
       "description_width": "",
       "font_size": null,
       "text_color": null
      }
     },
     "959d2145281e49d0ad0e41b2b729b22a": {
      "model_module": "@jupyter-widgets/base",
      "model_module_version": "2.0.0",
      "model_name": "LayoutModel",
      "state": {}
     },
     "97ad9739698a4c10817618fc93c4057f": {
      "model_module": "@jupyter-widgets/controls",
      "model_module_version": "2.0.0",
      "model_name": "HTMLModel",
      "state": {
       "layout": "IPY_MODEL_11d1d15f3b1346f6962f752b0c7415ef",
       "style": "IPY_MODEL_4f11a6249a13475383c785b435da62eb",
       "value": "\n                <p style='background: #ffaa00'>\n                  \n                <span >\n                  model: llama, top_p: 1 USER\n                </span>\n                </p>"
      }
     },
     "99be93584af6482280d052f71c93fac6": {
      "model_module": "@jupyter-widgets/controls",
      "model_module_version": "2.0.0",
      "model_name": "TextStyleModel",
      "state": {
       "description_width": "",
       "font_size": null,
       "text_color": null
      }
     },
     "9c844f180e0b498bb07bfcca94ed4d9f": {
      "model_module": "@jupyter-widgets/output",
      "model_module_version": "1.0.0",
      "model_name": "OutputModel",
      "state": {
       "layout": "IPY_MODEL_a318ab74b0504eebabbd5b88a58321d1",
       "outputs": [
        {
         "data": {
          "application/vnd.jupyter.widget-view+json": {
           "model_id": "f5833e60c3a8453ab5c5d087347534fc",
           "version_major": 2,
           "version_minor": 0
          },
          "text/plain": "sfc_container(children=(VBox(children=(AppLayout(children=(VBox(children=(Dropdown(description='model', layout…"
         },
         "metadata": {},
         "output_type": "display_data"
        }
       ]
      }
     },
     "9e30b2f1ba1c438d86c28701d1cb45c1": {
      "model_module": "@jupyter-widgets/base",
      "model_module_version": "2.0.0",
      "model_name": "LayoutModel",
      "state": {
       "grid_area": "right-sidebar"
      }
     },
     "a23ece4da91b4cee92ea3e3926f578d0": {
      "model_module": "@jupyter-widgets/controls",
      "model_module_version": "2.0.0",
      "model_name": "ButtonModel",
      "state": {
       "button_style": "info",
       "icon": "edit",
       "layout": "IPY_MODEL_d19e3b2150d04b988c9d14de40dc6a50",
       "style": "IPY_MODEL_61444253b3574e96931ed0f861ed2d5c",
       "tooltip": null
      }
     },
     "a29a3a914ab442e898ca3d0a64b7b26f": {
      "model_module": "@jupyter-widgets/base",
      "model_module_version": "2.0.0",
      "model_name": "LayoutModel",
      "state": {
       "width": "450px"
      }
     },
     "a2d783c62f814b2ea0521d6cb6649d18": {
      "model_module": "@jupyter-widgets/controls",
      "model_module_version": "2.0.0",
      "model_name": "VBoxModel",
      "state": {
       "children": [
        "IPY_MODEL_e4d319fcd980458f8e954a4b41134bdf",
        "IPY_MODEL_e4d319fcd980458f8e954a4b41134bdf",
        "IPY_MODEL_9c844f180e0b498bb07bfcca94ed4d9f"
       ],
       "layout": "IPY_MODEL_4423cdba51a14792bd9583bce3b699c3"
      }
     },
     "a318ab74b0504eebabbd5b88a58321d1": {
      "model_module": "@jupyter-widgets/base",
      "model_module_version": "2.0.0",
      "model_name": "LayoutModel",
      "state": {}
     },
     "a7725cb8830f447f8591cc73403699b3": {
      "model_module": "@jupyter-widgets/base",
      "model_module_version": "2.0.0",
      "model_name": "LayoutModel",
      "state": {}
     },
     "a9f73cff5b0f46d18a0360e2b047937d": {
      "model_module": "@jupyter-widgets/controls",
      "model_module_version": "2.0.0",
      "model_name": "HBoxModel",
      "state": {
       "children": [
        "IPY_MODEL_05e48ac0329a4674ad65ecd45599ad60",
        "IPY_MODEL_815f9e232dac4756aeb78c66d17f546e"
       ],
       "layout": "IPY_MODEL_efcbed3b3f504cf3b6ce7e05f2c27c1f"
      }
     },
     "aade278e3216437cb52a6653cb8feb6e": {
      "model_module": "@jupyter-widgets/controls",
      "model_module_version": "2.0.0",
      "model_name": "ButtonModel",
      "state": {
       "description": "USER",
       "layout": "IPY_MODEL_8e7bee6a5e674e628eedc7a439185792",
       "style": "IPY_MODEL_c1f8f3a29dab47e0bf06a6f5cf34aec6",
       "tooltip": null
      }
     },
     "ab08c041301d4d54a37b99d675b3ae42": {
      "model_module": "@jupyter-widgets/controls",
      "model_module_version": "2.0.0",
      "model_name": "VBoxModel",
      "state": {
       "layout": "IPY_MODEL_d3fbdc6c59194494939ec5f4d881c37f"
      }
     },
     "ab1e685247cf4d3fb6e8274e4013b517": {
      "model_module": "@jupyter-widgets/controls",
      "model_module_version": "2.0.0",
      "model_name": "ButtonModel",
      "state": {
       "button_style": "danger",
       "icon": "minus-circle",
       "layout": "IPY_MODEL_d50f621a69ac49cf9db2e5dcc2f542b3",
       "style": "IPY_MODEL_54304fcc8dee4bbc8939691dfb9dd7b0",
       "tooltip": null
      }
     },
     "af7d015f3d7642f5a98f4ded4e02304d": {
      "model_module": "@jupyter-widgets/controls",
      "model_module_version": "2.0.0",
      "model_name": "TextareaModel",
      "state": {
       "continuous_update": false,
       "layout": "IPY_MODEL_c2082cf06b6e4ee5aea4bdfddba9da52",
       "style": "IPY_MODEL_365d0372706447809d600be4464b1b7a",
       "value": "world bot"
      }
     },
     "afe3cba6c312490f9bce0b8653ffa287": {
      "model_module": "@jupyter-widgets/base",
      "model_module_version": "2.0.0",
      "model_name": "LayoutModel",
      "state": {
       "width": "40px"
      }
     },
     "b16e20340d1d4b0b80639458d0232e02": {
      "model_module": "@jupyter-widgets/controls",
      "model_module_version": "2.0.0",
      "model_name": "ButtonModel",
      "state": {
       "button_style": "info",
       "icon": "edit",
       "layout": "IPY_MODEL_afe3cba6c312490f9bce0b8653ffa287",
       "style": "IPY_MODEL_ce16aaac0aa848cea1495176b8ce7a08",
       "tooltip": null
      }
     },
     "b209a94a019d4723a083fa4afe9c452c": {
      "model_module": "@jupyter-widgets/controls",
      "model_module_version": "2.0.0",
      "model_name": "DropdownModel",
      "state": {
       "_options_labels": [
        "llama",
        "llama2",
        "llama2-chat"
       ],
       "description": "model",
       "index": 0,
       "layout": "IPY_MODEL_bc46b7aa65654a45acb73597a6799311",
       "style": "IPY_MODEL_1030b8d95bd04106a6ea57a8ebb14272"
      }
     },
     "b6498bb9776d406ba6a2cb81c2a29445": {
      "model_module": "@jupyter-widgets/base",
      "model_module_version": "2.0.0",
      "model_name": "LayoutModel",
      "state": {}
     },
     "b798ab24c4c7413d8b9d7a883427c712": {
      "model_module": "@jupyter-widgets/controls",
      "model_module_version": "2.0.0",
      "model_name": "SliderStyleModel",
      "state": {
       "description_width": ""
      }
     },
     "b9dc125aa84047338cdd054727aaac6e": {
      "model_module": "@jupyter-widgets/controls",
      "model_module_version": "2.0.0",
      "model_name": "FloatSliderModel",
      "state": {
       "behavior": "drag-tap",
       "continuous_update": false,
       "description": "top_p",
       "layout": "IPY_MODEL_53acc6e038f64a1bba537b016bcfa818",
       "max": 1,
       "orientation": "vertical",
       "step": 0.01,
       "style": "IPY_MODEL_b798ab24c4c7413d8b9d7a883427c712",
       "value": 1
      }
     },
     "bc46b7aa65654a45acb73597a6799311": {
      "model_module": "@jupyter-widgets/base",
      "model_module_version": "2.0.0",
      "model_name": "LayoutModel",
      "state": {
       "width": "200px"
      }
     },
     "bc6a5d31df4246408112248c873823b1": {
      "model_module": "@jupyter-widgets/base",
      "model_module_version": "2.0.0",
      "model_name": "LayoutModel",
      "state": {}
     },
     "bca26a664b4648a3ae5c1af5a205fd9b": {
      "model_module": "@jupyter-widgets/base",
      "model_module_version": "2.0.0",
      "model_name": "LayoutModel",
      "state": {}
     },
     "be9575f017b8463782333a58e719337e": {
      "model_module": "@jupyter-widgets/controls",
      "model_module_version": "2.0.0",
      "model_name": "HTMLStyleModel",
      "state": {
       "description_width": "",
       "font_size": null,
       "text_color": null
      }
     },
     "c1f8f3a29dab47e0bf06a6f5cf34aec6": {
      "model_module": "@jupyter-widgets/controls",
      "model_module_version": "2.0.0",
      "model_name": "ButtonStyleModel",
      "state": {
       "font_family": null,
       "font_size": null,
       "font_style": null,
       "font_variant": null,
       "font_weight": null,
       "text_color": null,
       "text_decoration": null
      }
     },
     "c2082cf06b6e4ee5aea4bdfddba9da52": {
      "model_module": "@jupyter-widgets/base",
      "model_module_version": "2.0.0",
      "model_name": "LayoutModel",
      "state": {
       "width": "450px"
      }
     },
     "c3f1c9a885694177ac960eedd3b1d5a1": {
      "model_module": "@jupyter-widgets/base",
      "model_module_version": "2.0.0",
      "model_name": "LayoutModel",
      "state": {}
     },
     "c50d2cd4a16847ff91d8d7529898adaa": {
      "model_module": "@jupyter-widgets/controls",
      "model_module_version": "2.0.0",
      "model_name": "ButtonStyleModel",
      "state": {
       "font_family": null,
       "font_size": null,
       "font_style": null,
       "font_variant": null,
       "font_weight": null,
       "text_color": null,
       "text_decoration": null
      }
     },
     "c717530dd116402ca3c1b4d152b5d4cb": {
      "model_module": "@jupyter-widgets/controls",
      "model_module_version": "2.0.0",
      "model_name": "HTMLStyleModel",
      "state": {
       "description_width": "",
       "font_size": null,
       "text_color": null
      }
     },
     "c7fa4e4b578c4575bcfb514e18691185": {
      "model_module": "@jupyter-widgets/controls",
      "model_module_version": "2.0.0",
      "model_name": "ButtonModel",
      "state": {
       "button_style": "danger",
       "icon": "minus-circle",
       "layout": "IPY_MODEL_47415b86811a4d2bb1c459b3b2fa9e57",
       "style": "IPY_MODEL_1c3892d160054f7ba2f1ca2a98ae7e27",
       "tooltip": null
      }
     },
     "c81181c8df0748d19823380672789e5e": {
      "model_module": "@jupyter-widgets/controls",
      "model_module_version": "2.0.0",
      "model_name": "TextareaModel",
      "state": {
       "continuous_update": false,
       "layout": "IPY_MODEL_3ba86408087849cb911ef96e33e3c181",
       "style": "IPY_MODEL_909e9a2092d54ce8a480e4eac5396f46",
       "value": "hello bot"
      }
     },
     "cbb8de9c58434381936e3ddb102e7df6": {
      "model_module": "@jupyter-widgets/base",
      "model_module_version": "2.0.0",
      "model_name": "LayoutModel",
      "state": {}
     },
     "cc54e88cdfad4dfd8a534ed837f13666": {
      "model_module": "@jupyter-widgets/controls",
      "model_module_version": "2.0.0",
      "model_name": "HBoxModel",
      "state": {
       "children": [
        "IPY_MODEL_db6bccdc034d40c7861ca7c54529d175",
        "IPY_MODEL_14e8f4418de943d996131d0575f8bf5c",
        "IPY_MODEL_f313bdd289a44a638bacdc7a3305ef0c",
        "IPY_MODEL_2f7c5834e6ff4219b94ddba15a6b5a86",
        "IPY_MODEL_7bb302abfb3748709ae4b270760d99e1"
       ],
       "layout": "IPY_MODEL_e2ab65b6ffeb42b79f9599dd97663f6f"
      }
     },
     "cc93502915e646c39e639389caca44e7": {
      "model_module": "@jupyter-widgets/base",
      "model_module_version": "2.0.0",
      "model_name": "LayoutModel",
      "state": {
       "width": "60px"
      }
     },
     "cca4eb33eae54d61968c584691e1a815": {
      "model_module": "@jupyter-widgets/base",
      "model_module_version": "2.0.0",
      "model_name": "LayoutModel",
      "state": {}
     },
     "cde416fd2785480f8360faf92b5c1606": {
      "model_module": "@jupyter-widgets/controls",
      "model_module_version": "2.0.0",
      "model_name": "ButtonModel",
      "state": {
       "button_style": "info",
       "icon": "edit",
       "layout": "IPY_MODEL_cf9a12f4d0be47749e42576d38bb31f8",
       "style": "IPY_MODEL_3c5d15958ff147a0a5541dc225945ece",
       "tooltip": null
      }
     },
     "cdf6f4e730b5496d868f53fce0fe5f3a": {
      "model_module": "@jupyter-widgets/controls",
      "model_module_version": "2.0.0",
      "model_name": "HTMLStyleModel",
      "state": {
       "description_width": "",
       "font_size": null,
       "text_color": null
      }
     },
     "ce16aaac0aa848cea1495176b8ce7a08": {
      "model_module": "@jupyter-widgets/controls",
      "model_module_version": "2.0.0",
      "model_name": "ButtonStyleModel",
      "state": {
       "font_family": null,
       "font_size": null,
       "font_style": null,
       "font_variant": null,
       "font_weight": null,
       "text_color": null,
       "text_decoration": null
      }
     },
     "cebd23240c484593b2d3008a0129c6b9": {
      "model_module": "@jupyter-widgets/controls",
      "model_module_version": "2.0.0",
      "model_name": "ButtonStyleModel",
      "state": {
       "font_family": null,
       "font_size": null,
       "font_style": null,
       "font_variant": null,
       "font_weight": null,
       "text_color": null,
       "text_decoration": null
      }
     },
     "cf9a12f4d0be47749e42576d38bb31f8": {
      "model_module": "@jupyter-widgets/base",
      "model_module_version": "2.0.0",
      "model_name": "LayoutModel",
      "state": {
       "width": "40px"
      }
     },
     "d059dfba028947a59e9824bfdabffdae": {
      "model_module": "@jupyter-widgets/output",
      "model_module_version": "1.0.0",
      "model_name": "OutputModel",
      "state": {
       "layout": "IPY_MODEL_43730be93d744ef5add80b8174958aec"
      }
     },
     "d19e3b2150d04b988c9d14de40dc6a50": {
      "model_module": "@jupyter-widgets/base",
      "model_module_version": "2.0.0",
      "model_name": "LayoutModel",
      "state": {
       "width": "40px"
      }
     },
     "d2077a06e0074c2184871901af7f5c02": {
      "model_module": "@jupyter-widgets/controls",
      "model_module_version": "2.0.0",
      "model_name": "ButtonModel",
      "state": {
       "description": "USER",
       "layout": "IPY_MODEL_cc93502915e646c39e639389caca44e7",
       "style": "IPY_MODEL_59342f0a68cd457992f83d80eccb9e52",
       "tooltip": null
      }
     },
     "d36925788dbd43b3ba98359fb8ca9c33": {
      "model_module": "@jupyter-widgets/controls",
      "model_module_version": "2.0.0",
      "model_name": "VBoxModel",
      "state": {
       "children": [
        "IPY_MODEL_b209a94a019d4723a083fa4afe9c452c",
        "IPY_MODEL_b9dc125aa84047338cdd054727aaac6e"
       ],
       "layout": "IPY_MODEL_9e30b2f1ba1c438d86c28701d1cb45c1"
      }
     },
     "d3fbdc6c59194494939ec5f4d881c37f": {
      "model_module": "@jupyter-widgets/base",
      "model_module_version": "2.0.0",
      "model_name": "LayoutModel",
      "state": {}
     },
     "d50f621a69ac49cf9db2e5dcc2f542b3": {
      "model_module": "@jupyter-widgets/base",
      "model_module_version": "2.0.0",
      "model_name": "LayoutModel",
      "state": {
       "width": "40px"
      }
     },
     "d950461bb8cc44169a34f4b13bf512da": {
      "model_module": "@jupyter-widgets/controls",
      "model_module_version": "2.0.0",
      "model_name": "ButtonStyleModel",
      "state": {
       "font_family": null,
       "font_size": null,
       "font_style": null,
       "font_variant": null,
       "font_weight": null,
       "text_color": null,
       "text_decoration": null
      }
     },
     "d97b8d742705404aa12a2709f282aebf": {
      "model_module": "@jupyter-widgets/controls",
      "model_module_version": "2.0.0",
      "model_name": "ButtonStyleModel",
      "state": {
       "font_family": null,
       "font_size": null,
       "font_style": null,
       "font_variant": null,
       "font_weight": null,
       "text_color": null,
       "text_decoration": null
      }
     },
     "db6bccdc034d40c7861ca7c54529d175": {
      "model_module": "@jupyter-widgets/controls",
      "model_module_version": "2.0.0",
      "model_name": "ButtonModel",
      "state": {
       "button_style": "info",
       "description": "Add message",
       "icon": "plus-circle",
       "layout": "IPY_MODEL_1cae2bfd0e8346a5a8d480e65c0c1d67",
       "style": "IPY_MODEL_d950461bb8cc44169a34f4b13bf512da",
       "tooltip": null
      }
     },
     "dcd3a14797a24692ad635acda797cfe3": {
      "model_module": "@jupyter-widgets/controls",
      "model_module_version": "2.0.0",
      "model_name": "VBoxModel",
      "state": {
       "children": [
        "IPY_MODEL_a9f73cff5b0f46d18a0360e2b047937d",
        "IPY_MODEL_8aefae82b812463b922ad378253c9c39",
        "IPY_MODEL_24305ce8ba104be59375b7edcd697a07",
        "IPY_MODEL_139d490d01fc498684202f7cc443b084",
        "IPY_MODEL_7ea9f3fb3ce84893ac95f3ffe7829c00",
        "IPY_MODEL_4e9ef328c59641259c028056566f0bd0",
        "IPY_MODEL_f192a82d57744e79bd5772bd6c9b4684",
        "IPY_MODEL_cc54e88cdfad4dfd8a534ed837f13666",
        "IPY_MODEL_0d91a6067b984bac915ecd33fec9a511",
        "IPY_MODEL_0bb8de6c1df64ce78f26a0e91c69de6f",
        "IPY_MODEL_97ad9739698a4c10817618fc93c4057f"
       ],
       "layout": "IPY_MODEL_fc83fdb96c2048089847deeaa673fcc5"
      }
     },
     "de776b6e5b9c43a6870aa28245f900f0": {
      "model_module": "@jupyter-widgets/controls",
      "model_module_version": "2.0.0",
      "model_name": "HBoxModel",
      "state": {
       "children": [
        "IPY_MODEL_90800d92fa994f8cb17509e704b2565f",
        "IPY_MODEL_50006d26f160451bb6bc00cdadca84f7",
        "IPY_MODEL_b16e20340d1d4b0b80639458d0232e02",
        "IPY_MODEL_4586e97cf2924693910eddf5646d6168"
       ],
       "layout": "IPY_MODEL_106333193be64709ac85cbe4f53125cf"
      }
     },
     "df262316c7d94330b4e8d3217dd39d4e": {
      "model_module": "@jupyter-widgets/controls",
      "model_module_version": "2.0.0",
      "model_name": "HTMLStyleModel",
      "state": {
       "description_width": "",
       "font_size": null,
       "text_color": null
      }
     },
     "df4b7e3fda8f4d56925f418832e21d0b": {
      "model_module": "@jupyter-widgets/controls",
      "model_module_version": "2.0.0",
      "model_name": "ButtonStyleModel",
      "state": {
       "font_family": null,
       "font_size": null,
       "font_style": null,
       "font_variant": null,
       "font_weight": null,
       "text_color": null,
       "text_decoration": null
      }
     },
     "e2ab65b6ffeb42b79f9599dd97663f6f": {
      "model_module": "@jupyter-widgets/base",
      "model_module_version": "2.0.0",
      "model_name": "LayoutModel",
      "state": {}
     },
     "e4d319fcd980458f8e954a4b41134bdf": {
      "model_module": "anywidget",
      "model_module_version": "0.9.3",
      "model_name": "AnyModel",
      "state": {
       "_anywidget_id": "ipywui.widgets.custom.message.MessageWidget",
       "_css": ".wui-message-root {\n    display: flex;\n    position: absolute;\n    left: 0;\n    right: 0;\n    top: 0;\n}\n\n.wui-message-container {\n    align-items: center;\n    display: flex;\n    flex-direction: column-reverse;\n    justify-content: center;\n    min-height: 100%;\n    outline: none;\n    width: 100%;\n\n    -webkit-tap-highlight-color: rgba(0,0,0,0);\n    bottom: 0;\n    left: 0;\n    right: 0;\n    top: 0;\n}\n\n.wui-message--success {\n    --wui-message-bg-color: #f0f9eb;\n    --wui-message-border-color: #e1f3d8;\n    --wui-message-text-color: #67c23a;\n}\n.wui-message--warning {\n    --wui-message-bg-color: #fdf6ec;\n    --wui-message-border-color: #faecd8;\n    --wui-message-text-color: #e6a23c;\n}\n.wui-message--info {\n    --wui-message-bg-color: #f4f4f5;\n    --wui-message-border-color: #e9e9eb;\n    --wui-message-text-color: #909399;\n}\n.wui-message--error {\n    --wui-message-bg-color: #fef0f0;\n    --wui-message-border-color: #fde2e2;\n    --wui-message-text-color: #f56c6c;\n}\n\n@keyframes msg-open {\n    0% {\n        opacity: 0;\n        -webkit-transform: translateY(-120%);\n        transform: translateY(-120%)\n    }\n    to {\n        -webkit-transform: translateY(0);\n        transform: translateY(0)\n    }\n}\n\n@keyframes msg-close {\n    0% {\n        opacity: 1;\n        -webkit-transform: scale(1);\n        transform: scale(1)\n    }\n    to {\n        opacity: 0;\n        -webkit-transform: scale(.9);\n        transform: scale(.9)\n    }\n}\n.wui-message[data-state=entered],.wui-message[data-state=entering] {\n    -webkit-animation: msg-open .24s cubic-bezier(.175,.885,.32,1.175) both;\n    animation: msg-open .24s cubic-bezier(.175,.885,.32,1.175) both\n}\n\n.wui-message[data-state=exiting] {\n    -webkit-animation: msg-close .12s cubic-bezier(.4,0,1,1) both;\n    animation: msg-close .12s cubic-bezier(.4,0,1,1) both\n}\n\n.wui-message {\n    width: -webkit-fit-content;\n    width: -moz-fit-content;\n    width: fit-content;\n    z-index: 2004;\n    max-width: calc(100% - 32px);\n    margin-top: 8px;\n    box-sizing: border-box;\n    /*border-radius: var(--wui-border-radius-base);*/\n    /*border-width: var(--wui-border-width);*/\n    /*border-style: var(--wui-border-style);*/\n    border-color: var(--wui-message-border-color);\n    /*left: 50%;*/\n    /*top: 20px;*/\n    /*transform: translateX(-50%);*/\n    background-color: var(--wui-message-bg-color);\n    /*transition: opacity var(--wui-transition-duration),transform .4s,top .4s;*/\n    /*padding: var(--wui-message-padding);*/\n    display: flex;\n    align-items: center;\n}\n\n/*.wui-message--success */\n.wui-message__content {\n    color: var(--wui-message-text-color);\n    font-size: 14px;\n    line-height: 18px;\n    margin: 10px 14px 10px 14px;\n    overflow-wrap: break-word;\n}\n\n.wui-message__closeBtn {\n    /*cursor: pointer;*/\n    font-style: normal;\n    /*color: gray;*/\n    padding-right: 14px;\n    /*font-size: 13px;*/\n    user-select: none;\n\n    background: transparent;\n    border: none;\n    color: gray;\n    cursor: pointer;\n    font-size: 13px;\n    font-weight: 400;\n    line-height: 1;\n    outline: none;\n    /*padding: 4px;*/\n    text-align: center;\n    transition: opacity .3s;\n    /*width: 100%;*/\n}",
       "_esm": "function closeMsg(msgDom) {\n  if (!msgDom) {\n    return;\n  }\n  msgDom.setAttribute('data-state', 'exiting');\n  msgDom.remove();\n}\n\nfunction createMsg(options) {\n  const {message, msg_id, type = 'info', show_close = false} = options;\n  const msgDom = document.createElement('div');\n  msgDom.className += ` wui-message--${type} wui-message`;\n  msgDom.setAttribute('data-state', 'entered');\n  msgDom.setAttribute('id', msg_id);\n  const msgContent = document.createElement('p');\n  msgContent.className += ` wui-message--${type} wui-message__content`;\n  msgContent.innerText = message;\n  msgDom.appendChild(msgContent);\n  if (show_close) {\n    const closeBtn = document.createElement('i');\n    closeBtn.className += 'wui-message__closeBtn';\n    closeBtn.innerText = 'x';\n    closeBtn.addEventListener('click', (ev) => {\n      closeMsg(msgDom);\n    })\n    msgDom.appendChild(closeBtn);\n  }\n  return msgDom;\n}\n\nexport async function render(view) {\n  let model = view.model;\n  const msgRoot = view.el;\n  msgRoot.className += ' wui-message-root'\n\n  const msgContainer = document.createElement('div');\n  msgContainer.className += ' wui-message-container';\n  msgRoot.appendChild(msgContainer)\n\n  model.on(\"change:message_options\", () => {\n    const options = model.get(\"message_options\");\n    const msg = createMsg(options);\n    msgContainer.appendChild(msg);\n    const {duration = 3000} = options;\n    if (duration > 0) {\n      setTimeout(() => {\n        closeMsg(msg)\n      }, duration);\n    }\n  })\n\n  model.on(\"change:close_msg_id\", () => {\n    const msg_id = model.get(\"close_msg_id\");\n    const msgDom = document.getElementById(msg_id);\n    closeMsg(msgDom);\n  })\n}\n",
       "_model_module": "anywidget",
       "_model_module_version": "0.9.3",
       "_model_name": "AnyModel",
       "_view_module": "anywidget",
       "_view_module_version": "0.9.3",
       "_view_name": "AnyView",
       "close_msg_id": "",
       "layout": "IPY_MODEL_3b87fee4202c481c98590b4d666c0199",
       "message_options": {
        "duration": 3000,
        "message": "",
        "show_close": false,
        "type": "info"
       }
      }
     },
     "e6b294d204fb4f4494cf8373f4289acf": {
      "model_module": "@jupyter-widgets/controls",
      "model_module_version": "2.0.0",
      "model_name": "VBoxModel",
      "state": {
       "children": [
        "IPY_MODEL_fda283f628ea426189e869a7cdb23d46",
        "IPY_MODEL_39db23c45b8543bf93dfb75f11158e52"
       ],
       "layout": "IPY_MODEL_0932df2128374ec1bbf834c1e08f0b71"
      }
     },
     "e72bd575eb95439aa07790caa33a7ef4": {
      "model_module": "@jupyter-widgets/base",
      "model_module_version": "2.0.0",
      "model_name": "LayoutModel",
      "state": {
       "border_bottom": "1px solid #cccccc",
       "border_left": "1px solid #cccccc",
       "border_right": "1px solid #cccccc",
       "border_top": "1px solid #cccccc",
       "padding": "10px"
      }
     },
     "e837763a29da4d5ca2a5a90e95965f95": {
      "model_module": "@jupyter-widgets/controls",
      "model_module_version": "2.0.0",
      "model_name": "HTMLModel",
      "state": {
       "layout": "IPY_MODEL_e72bd575eb95439aa07790caa33a7ef4",
       "style": "IPY_MODEL_df262316c7d94330b4e8d3217dd39d4e",
       "value": "<style>pre { line-height: 125%; }\ntd.linenos .normal { color: inherit; background-color: transparent; padding-left: 5px; padding-right: 5px; }\nspan.linenos { color: inherit; background-color: transparent; padding-left: 5px; padding-right: 5px; }\ntd.linenos .special { color: #000000; background-color: #ffffc0; padding-left: 5px; padding-right: 5px; }\nspan.linenos.special { color: #000000; background-color: #ffffc0; padding-left: 5px; padding-right: 5px; }\n.codehilite .hll { background-color: #ffffcc }\n.codehilite { background: #f8f8f8; }\n.codehilite .c { color: #3D7B7B; font-style: italic } /* Comment */\n.codehilite .err { border: 1px solid #FF0000 } /* Error */\n.codehilite .k { color: #008000; font-weight: bold } /* Keyword */\n.codehilite .o { color: #666666 } /* Operator */\n.codehilite .ch { color: #3D7B7B; font-style: italic } /* Comment.Hashbang */\n.codehilite .cm { color: #3D7B7B; font-style: italic } /* Comment.Multiline */\n.codehilite .cp { color: #9C6500 } /* Comment.Preproc */\n.codehilite .cpf { color: #3D7B7B; font-style: italic } /* Comment.PreprocFile */\n.codehilite .c1 { color: #3D7B7B; font-style: italic } /* Comment.Single */\n.codehilite .cs { color: #3D7B7B; font-style: italic } /* Comment.Special */\n.codehilite .gd { color: #A00000 } /* Generic.Deleted */\n.codehilite .ge { font-style: italic } /* Generic.Emph */\n.codehilite .ges { font-weight: bold; font-style: italic } /* Generic.EmphStrong */\n.codehilite .gr { color: #E40000 } /* Generic.Error */\n.codehilite .gh { color: #000080; font-weight: bold } /* Generic.Heading */\n.codehilite .gi { color: #008400 } /* Generic.Inserted */\n.codehilite .go { color: #717171 } /* Generic.Output */\n.codehilite .gp { color: #000080; font-weight: bold } /* Generic.Prompt */\n.codehilite .gs { font-weight: bold } /* Generic.Strong */\n.codehilite .gu { color: #800080; font-weight: bold } /* Generic.Subheading */\n.codehilite .gt { color: #0044DD } /* Generic.Traceback */\n.codehilite .kc { color: #008000; font-weight: bold } /* Keyword.Constant */\n.codehilite .kd { color: #008000; font-weight: bold } /* Keyword.Declaration */\n.codehilite .kn { color: #008000; font-weight: bold } /* Keyword.Namespace */\n.codehilite .kp { color: #008000 } /* Keyword.Pseudo */\n.codehilite .kr { color: #008000; font-weight: bold } /* Keyword.Reserved */\n.codehilite .kt { color: #B00040 } /* Keyword.Type */\n.codehilite .m { color: #666666 } /* Literal.Number */\n.codehilite .s { color: #BA2121 } /* Literal.String */\n.codehilite .na { color: #687822 } /* Name.Attribute */\n.codehilite .nb { color: #008000 } /* Name.Builtin */\n.codehilite .nc { color: #0000FF; font-weight: bold } /* Name.Class */\n.codehilite .no { color: #880000 } /* Name.Constant */\n.codehilite .nd { color: #AA22FF } /* Name.Decorator */\n.codehilite .ni { color: #717171; font-weight: bold } /* Name.Entity */\n.codehilite .ne { color: #CB3F38; font-weight: bold } /* Name.Exception */\n.codehilite .nf { color: #0000FF } /* Name.Function */\n.codehilite .nl { color: #767600 } /* Name.Label */\n.codehilite .nn { color: #0000FF; font-weight: bold } /* Name.Namespace */\n.codehilite .nt { color: #008000; font-weight: bold } /* Name.Tag */\n.codehilite .nv { color: #19177C } /* Name.Variable */\n.codehilite .ow { color: #AA22FF; font-weight: bold } /* Operator.Word */\n.codehilite .w { color: #bbbbbb } /* Text.Whitespace */\n.codehilite .mb { color: #666666 } /* Literal.Number.Bin */\n.codehilite .mf { color: #666666 } /* Literal.Number.Float */\n.codehilite .mh { color: #666666 } /* Literal.Number.Hex */\n.codehilite .mi { color: #666666 } /* Literal.Number.Integer */\n.codehilite .mo { color: #666666 } /* Literal.Number.Oct */\n.codehilite .sa { color: #BA2121 } /* Literal.String.Affix */\n.codehilite .sb { color: #BA2121 } /* Literal.String.Backtick */\n.codehilite .sc { color: #BA2121 } /* Literal.String.Char */\n.codehilite .dl { color: #BA2121 } /* Literal.String.Delimiter */\n.codehilite .sd { color: #BA2121; font-style: italic } /* Literal.String.Doc */\n.codehilite .s2 { color: #BA2121 } /* Literal.String.Double */\n.codehilite .se { color: #AA5D1F; font-weight: bold } /* Literal.String.Escape */\n.codehilite .sh { color: #BA2121 } /* Literal.String.Heredoc */\n.codehilite .si { color: #A45A77; font-weight: bold } /* Literal.String.Interpol */\n.codehilite .sx { color: #008000 } /* Literal.String.Other */\n.codehilite .sr { color: #A45A77 } /* Literal.String.Regex */\n.codehilite .s1 { color: #BA2121 } /* Literal.String.Single */\n.codehilite .ss { color: #19177C } /* Literal.String.Symbol */\n.codehilite .bp { color: #008000 } /* Name.Builtin.Pseudo */\n.codehilite .fm { color: #0000FF } /* Name.Function.Magic */\n.codehilite .vc { color: #19177C } /* Name.Variable.Class */\n.codehilite .vg { color: #19177C } /* Name.Variable.Global */\n.codehilite .vi { color: #19177C } /* Name.Variable.Instance */\n.codehilite .vm { color: #19177C } /* Name.Variable.Magic */\n.codehilite .il { color: #666666 } /* Literal.Number.Integer.Long */\n</style><h2>h2</h2>\n<p>hello user</p>"
      }
     },
     "ee95b1f1c7c24853a6bcd2e2ccca8abd": {
      "model_module": "@jupyter-widgets/controls",
      "model_module_version": "2.0.0",
      "model_name": "ButtonStyleModel",
      "state": {
       "font_family": null,
       "font_size": null,
       "font_style": null,
       "font_variant": null,
       "font_weight": null,
       "text_color": null,
       "text_decoration": null
      }
     },
     "efcbed3b3f504cf3b6ce7e05f2c27c1f": {
      "model_module": "@jupyter-widgets/base",
      "model_module_version": "2.0.0",
      "model_name": "LayoutModel",
      "state": {}
     },
     "f192a82d57744e79bd5772bd6c9b4684": {
      "model_module": "@jupyter-widgets/controls",
      "model_module_version": "2.0.0",
      "model_name": "HTMLModel",
      "state": {
       "layout": "IPY_MODEL_cca4eb33eae54d61968c584691e1a815",
       "style": "IPY_MODEL_350d6e365a3944699e65bbd2fc8cf0de",
       "value": "\n                <p >\n                  v-if=True for html\n                </p>"
      }
     },
     "f25aa246e0f84a6b9bdda2db0788c0ae": {
      "model_module": "@jupyter-widgets/controls",
      "model_module_version": "2.0.0",
      "model_name": "VBoxModel",
      "state": {
       "layout": "IPY_MODEL_83de772713fb40d59c9a4383bd40e309"
      }
     },
     "f313bdd289a44a638bacdc7a3305ef0c": {
      "model_module": "@jupyter-widgets/controls",
      "model_module_version": "2.0.0",
      "model_name": "ButtonModel",
      "state": {
       "button_style": "success",
       "description": "Submit",
       "layout": "IPY_MODEL_f5ba1dfb32c3409c9f28d55b9dbf7c57",
       "style": "IPY_MODEL_df4b7e3fda8f4d56925f418832e21d0b",
       "tooltip": null
      }
     },
     "f38f7c6bed6e49aba681cbfcdd9549e7": {
      "model_module": "@jupyter-widgets/controls",
      "model_module_version": "2.0.0",
      "model_name": "ButtonStyleModel",
      "state": {
       "font_family": null,
       "font_size": null,
       "font_style": null,
       "font_variant": null,
       "font_weight": null,
       "text_color": null,
       "text_decoration": null
      }
     },
     "f5833e60c3a8453ab5c5d087347534fc": {
      "model_module": "@jupyter-widgets/controls",
      "model_module_version": "2.0.0",
      "model_name": "VBoxModel",
      "state": {
       "children": [
        "IPY_MODEL_e6b294d204fb4f4494cf8373f4289acf"
       ],
       "layout": "IPY_MODEL_59f7c0d550e24044af4c7a3ea0387fb0"
      }
     },
     "f5ba1dfb32c3409c9f28d55b9dbf7c57": {
      "model_module": "@jupyter-widgets/base",
      "model_module_version": "2.0.0",
      "model_name": "LayoutModel",
      "state": {}
     },
     "fc83fdb96c2048089847deeaa673fcc5": {
      "model_module": "@jupyter-widgets/base",
      "model_module_version": "2.0.0",
      "model_name": "LayoutModel",
      "state": {
       "grid_area": "center"
      }
     },
     "fda283f628ea426189e869a7cdb23d46": {
      "model_module": "@jupyter-widgets/controls",
      "model_module_version": "2.0.0",
      "model_name": "GridBoxModel",
      "state": {
       "children": [
        "IPY_MODEL_d36925788dbd43b3ba98359fb8ca9c33",
        "IPY_MODEL_dcd3a14797a24692ad635acda797cfe3"
       ],
       "layout": "IPY_MODEL_0732307265c5411bb602b2fa5942c818"
      }
     }
    },
    "version_major": 2,
    "version_minor": 0
   }
  }
 },
 "nbformat": 4,
 "nbformat_minor": 5
}
